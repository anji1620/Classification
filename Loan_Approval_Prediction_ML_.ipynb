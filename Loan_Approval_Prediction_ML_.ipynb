{
  "cells": [
    {
      "cell_type": "code",
      "execution_count": 1,
      "metadata": {
        "id": "0NnUXDxBVyyQ"
      },
      "outputs": [],
      "source": [
        "import numpy as np\n",
        "import pandas as pd\n",
        "import seaborn as sns\n",
        "import matplotlib.pyplot as plt\n",
        "import plotly.express as px\n",
        "from sklearn.metrics import accuracy_score, precision_score, recall_score, f1_score, roc_auc_score, confusion_matrix\n",
        "from sklearn.linear_model import LogisticRegression\n",
        "from sklearn.model_selection import train_test_split\n",
        "from sklearn.preprocessing import LabelEncoder\n",
        "from sklearn.ensemble import RandomForestClassifier\n",
        "from sklearn.naive_bayes import GaussianNB\n",
        "from imblearn.over_sampling import SMOTE\n",
        "from imblearn.over_sampling import RandomOverSampler\n",
        "from imblearn.under_sampling import RandomUnderSampler\n",
        "import statsmodels.api as sm\n",
        "from sklearn.feature_selection import RFE\n",
        "from sklearn.inspection import permutation_importance\n",
        "from tabulate import tabulate\n"
      ]
    },
    {
      "cell_type": "code",
      "execution_count": 5,
      "metadata": {
        "id": "N7pXU51RVyyU"
      },
      "outputs": [],
      "source": [
        "df = pd.read_csv('Loan Approval Dataset .csv')\n"
      ]
    },
    {
      "cell_type": "code",
      "source": [
        "df.info()"
      ],
      "metadata": {
        "id": "bULT8IlYsP8P",
        "outputId": "ed1d1522-857a-4e44-967e-1697042c2f31",
        "colab": {
          "base_uri": "https://localhost:8080/"
        }
      },
      "execution_count": null,
      "outputs": [
        {
          "output_type": "stream",
          "name": "stdout",
          "text": [
            "<class 'pandas.core.frame.DataFrame'>\n",
            "RangeIndex: 1029 entries, 0 to 1028\n",
            "Data columns (total 14 columns):\n",
            " #   Column             Non-Null Count  Dtype  \n",
            "---  ------             --------------  -----  \n",
            " 0   Loan_ID            1029 non-null   object \n",
            " 1   Gender             1007 non-null   object \n",
            " 2   Married            1026 non-null   object \n",
            " 3   ROI                1029 non-null   int64  \n",
            " 4   Dependents         1014 non-null   object \n",
            " 5   Education          1029 non-null   object \n",
            " 6   Self_Employed      976 non-null    object \n",
            " 7   ApplicantIncome    1029 non-null   int64  \n",
            " 8   CoapplicantIncome  1029 non-null   float64\n",
            " 9   LoanAmount         994 non-null    float64\n",
            " 10  Loan_Amount_Term   1009 non-null   float64\n",
            " 11  Credit_History     945 non-null    float64\n",
            " 12  Property_Area      1029 non-null   object \n",
            " 13  Loan_Status        1029 non-null   object \n",
            "dtypes: float64(4), int64(2), object(8)\n",
            "memory usage: 112.7+ KB\n"
          ]
        }
      ]
    },
    {
      "cell_type": "markdown",
      "metadata": {
        "id": "ahuIqx12VyyV"
      },
      "source": [
        "# EXPLORATORY DATA ANALYSIS"
      ]
    },
    {
      "cell_type": "code",
      "execution_count": null,
      "metadata": {
        "colab": {
          "base_uri": "https://localhost:8080/",
          "height": 287
        },
        "id": "G0zxa35vVyyX",
        "outputId": "9d51a1a0-988c-4539-8a22-02228ee4b251"
      },
      "outputs": [
        {
          "output_type": "execute_result",
          "data": {
            "text/plain": [
              "    Loan_ID Gender Married  ROI Dependents     Education Self_Employed  \\\n",
              "0  LP001002   Male      No    6          0      Graduate            No   \n",
              "1  LP001003   Male     Yes    6          1      Graduate            No   \n",
              "2  LP001005   Male     Yes    6          0      Graduate           Yes   \n",
              "3  LP001006   Male     Yes    6          0  Not Graduate            No   \n",
              "4  LP001008   Male      No    6          0      Graduate            No   \n",
              "\n",
              "   ApplicantIncome  CoapplicantIncome  LoanAmount  Loan_Amount_Term  \\\n",
              "0             5849                0.0         NaN             360.0   \n",
              "1             4583             1508.0    128000.0             360.0   \n",
              "2             3000                0.0     66000.0             360.0   \n",
              "3             2583             2358.0    120000.0             360.0   \n",
              "4             6000                0.0    141000.0             360.0   \n",
              "\n",
              "   Credit_History Property_Area Loan_Status  \n",
              "0             1.0         Urban           Y  \n",
              "1             1.0         Rural           N  \n",
              "2             1.0         Urban           Y  \n",
              "3             1.0         Urban           Y  \n",
              "4             1.0         Urban           Y  "
            ],
            "text/html": [
              "\n",
              "  <div id=\"df-3687bbc1-c998-467a-8d9b-eac494e86817\">\n",
              "    <div class=\"colab-df-container\">\n",
              "      <div>\n",
              "<style scoped>\n",
              "    .dataframe tbody tr th:only-of-type {\n",
              "        vertical-align: middle;\n",
              "    }\n",
              "\n",
              "    .dataframe tbody tr th {\n",
              "        vertical-align: top;\n",
              "    }\n",
              "\n",
              "    .dataframe thead th {\n",
              "        text-align: right;\n",
              "    }\n",
              "</style>\n",
              "<table border=\"1\" class=\"dataframe\">\n",
              "  <thead>\n",
              "    <tr style=\"text-align: right;\">\n",
              "      <th></th>\n",
              "      <th>Loan_ID</th>\n",
              "      <th>Gender</th>\n",
              "      <th>Married</th>\n",
              "      <th>ROI</th>\n",
              "      <th>Dependents</th>\n",
              "      <th>Education</th>\n",
              "      <th>Self_Employed</th>\n",
              "      <th>ApplicantIncome</th>\n",
              "      <th>CoapplicantIncome</th>\n",
              "      <th>LoanAmount</th>\n",
              "      <th>Loan_Amount_Term</th>\n",
              "      <th>Credit_History</th>\n",
              "      <th>Property_Area</th>\n",
              "      <th>Loan_Status</th>\n",
              "    </tr>\n",
              "  </thead>\n",
              "  <tbody>\n",
              "    <tr>\n",
              "      <th>0</th>\n",
              "      <td>LP001002</td>\n",
              "      <td>Male</td>\n",
              "      <td>No</td>\n",
              "      <td>6</td>\n",
              "      <td>0</td>\n",
              "      <td>Graduate</td>\n",
              "      <td>No</td>\n",
              "      <td>5849</td>\n",
              "      <td>0.0</td>\n",
              "      <td>NaN</td>\n",
              "      <td>360.0</td>\n",
              "      <td>1.0</td>\n",
              "      <td>Urban</td>\n",
              "      <td>Y</td>\n",
              "    </tr>\n",
              "    <tr>\n",
              "      <th>1</th>\n",
              "      <td>LP001003</td>\n",
              "      <td>Male</td>\n",
              "      <td>Yes</td>\n",
              "      <td>6</td>\n",
              "      <td>1</td>\n",
              "      <td>Graduate</td>\n",
              "      <td>No</td>\n",
              "      <td>4583</td>\n",
              "      <td>1508.0</td>\n",
              "      <td>128000.0</td>\n",
              "      <td>360.0</td>\n",
              "      <td>1.0</td>\n",
              "      <td>Rural</td>\n",
              "      <td>N</td>\n",
              "    </tr>\n",
              "    <tr>\n",
              "      <th>2</th>\n",
              "      <td>LP001005</td>\n",
              "      <td>Male</td>\n",
              "      <td>Yes</td>\n",
              "      <td>6</td>\n",
              "      <td>0</td>\n",
              "      <td>Graduate</td>\n",
              "      <td>Yes</td>\n",
              "      <td>3000</td>\n",
              "      <td>0.0</td>\n",
              "      <td>66000.0</td>\n",
              "      <td>360.0</td>\n",
              "      <td>1.0</td>\n",
              "      <td>Urban</td>\n",
              "      <td>Y</td>\n",
              "    </tr>\n",
              "    <tr>\n",
              "      <th>3</th>\n",
              "      <td>LP001006</td>\n",
              "      <td>Male</td>\n",
              "      <td>Yes</td>\n",
              "      <td>6</td>\n",
              "      <td>0</td>\n",
              "      <td>Not Graduate</td>\n",
              "      <td>No</td>\n",
              "      <td>2583</td>\n",
              "      <td>2358.0</td>\n",
              "      <td>120000.0</td>\n",
              "      <td>360.0</td>\n",
              "      <td>1.0</td>\n",
              "      <td>Urban</td>\n",
              "      <td>Y</td>\n",
              "    </tr>\n",
              "    <tr>\n",
              "      <th>4</th>\n",
              "      <td>LP001008</td>\n",
              "      <td>Male</td>\n",
              "      <td>No</td>\n",
              "      <td>6</td>\n",
              "      <td>0</td>\n",
              "      <td>Graduate</td>\n",
              "      <td>No</td>\n",
              "      <td>6000</td>\n",
              "      <td>0.0</td>\n",
              "      <td>141000.0</td>\n",
              "      <td>360.0</td>\n",
              "      <td>1.0</td>\n",
              "      <td>Urban</td>\n",
              "      <td>Y</td>\n",
              "    </tr>\n",
              "  </tbody>\n",
              "</table>\n",
              "</div>\n",
              "      <button class=\"colab-df-convert\" onclick=\"convertToInteractive('df-3687bbc1-c998-467a-8d9b-eac494e86817')\"\n",
              "              title=\"Convert this dataframe to an interactive table.\"\n",
              "              style=\"display:none;\">\n",
              "        \n",
              "  <svg xmlns=\"http://www.w3.org/2000/svg\" height=\"24px\"viewBox=\"0 0 24 24\"\n",
              "       width=\"24px\">\n",
              "    <path d=\"M0 0h24v24H0V0z\" fill=\"none\"/>\n",
              "    <path d=\"M18.56 5.44l.94 2.06.94-2.06 2.06-.94-2.06-.94-.94-2.06-.94 2.06-2.06.94zm-11 1L8.5 8.5l.94-2.06 2.06-.94-2.06-.94L8.5 2.5l-.94 2.06-2.06.94zm10 10l.94 2.06.94-2.06 2.06-.94-2.06-.94-.94-2.06-.94 2.06-2.06.94z\"/><path d=\"M17.41 7.96l-1.37-1.37c-.4-.4-.92-.59-1.43-.59-.52 0-1.04.2-1.43.59L10.3 9.45l-7.72 7.72c-.78.78-.78 2.05 0 2.83L4 21.41c.39.39.9.59 1.41.59.51 0 1.02-.2 1.41-.59l7.78-7.78 2.81-2.81c.8-.78.8-2.07 0-2.86zM5.41 20L4 18.59l7.72-7.72 1.47 1.35L5.41 20z\"/>\n",
              "  </svg>\n",
              "      </button>\n",
              "      \n",
              "  <style>\n",
              "    .colab-df-container {\n",
              "      display:flex;\n",
              "      flex-wrap:wrap;\n",
              "      gap: 12px;\n",
              "    }\n",
              "\n",
              "    .colab-df-convert {\n",
              "      background-color: #E8F0FE;\n",
              "      border: none;\n",
              "      border-radius: 50%;\n",
              "      cursor: pointer;\n",
              "      display: none;\n",
              "      fill: #1967D2;\n",
              "      height: 32px;\n",
              "      padding: 0 0 0 0;\n",
              "      width: 32px;\n",
              "    }\n",
              "\n",
              "    .colab-df-convert:hover {\n",
              "      background-color: #E2EBFA;\n",
              "      box-shadow: 0px 1px 2px rgba(60, 64, 67, 0.3), 0px 1px 3px 1px rgba(60, 64, 67, 0.15);\n",
              "      fill: #174EA6;\n",
              "    }\n",
              "\n",
              "    [theme=dark] .colab-df-convert {\n",
              "      background-color: #3B4455;\n",
              "      fill: #D2E3FC;\n",
              "    }\n",
              "\n",
              "    [theme=dark] .colab-df-convert:hover {\n",
              "      background-color: #434B5C;\n",
              "      box-shadow: 0px 1px 3px 1px rgba(0, 0, 0, 0.15);\n",
              "      filter: drop-shadow(0px 1px 2px rgba(0, 0, 0, 0.3));\n",
              "      fill: #FFFFFF;\n",
              "    }\n",
              "  </style>\n",
              "\n",
              "      <script>\n",
              "        const buttonEl =\n",
              "          document.querySelector('#df-3687bbc1-c998-467a-8d9b-eac494e86817 button.colab-df-convert');\n",
              "        buttonEl.style.display =\n",
              "          google.colab.kernel.accessAllowed ? 'block' : 'none';\n",
              "\n",
              "        async function convertToInteractive(key) {\n",
              "          const element = document.querySelector('#df-3687bbc1-c998-467a-8d9b-eac494e86817');\n",
              "          const dataTable =\n",
              "            await google.colab.kernel.invokeFunction('convertToInteractive',\n",
              "                                                     [key], {});\n",
              "          if (!dataTable) return;\n",
              "\n",
              "          const docLinkHtml = 'Like what you see? Visit the ' +\n",
              "            '<a target=\"_blank\" href=https://colab.research.google.com/notebooks/data_table.ipynb>data table notebook</a>'\n",
              "            + ' to learn more about interactive tables.';\n",
              "          element.innerHTML = '';\n",
              "          dataTable['output_type'] = 'display_data';\n",
              "          await google.colab.output.renderOutput(dataTable, element);\n",
              "          const docLink = document.createElement('div');\n",
              "          docLink.innerHTML = docLinkHtml;\n",
              "          element.appendChild(docLink);\n",
              "        }\n",
              "      </script>\n",
              "    </div>\n",
              "  </div>\n",
              "  "
            ]
          },
          "metadata": {},
          "execution_count": 4
        }
      ],
      "source": [
        "df.head()"
      ]
    },
    {
      "cell_type": "code",
      "execution_count": null,
      "metadata": {
        "id": "Z-FpFOcdVyyZ"
      },
      "outputs": [],
      "source": [
        "df.columns=df.columns.str.lower()\n",
        "#To ensure consistency in the naming convention throughout the DataFrame. It helps avoid confusion and makes it\n",
        "#easier to reference columns consistently in our code."
      ]
    },
    {
      "cell_type": "code",
      "execution_count": null,
      "metadata": {
        "colab": {
          "base_uri": "https://localhost:8080/",
          "height": 287
        },
        "id": "xPKEPhaEVyyZ",
        "outputId": "6524dcec-4219-4955-cac1-9e0cc5e3d552"
      },
      "outputs": [
        {
          "output_type": "execute_result",
          "data": {
            "text/plain": [
              "    loan_id gender married  roi dependents     education self_employed  \\\n",
              "0  LP001002   Male      No    6          0      Graduate            No   \n",
              "1  LP001003   Male     Yes    6          1      Graduate            No   \n",
              "2  LP001005   Male     Yes    6          0      Graduate           Yes   \n",
              "3  LP001006   Male     Yes    6          0  Not Graduate            No   \n",
              "4  LP001008   Male      No    6          0      Graduate            No   \n",
              "\n",
              "   applicantincome  coapplicantincome  loanamount  loan_amount_term  \\\n",
              "0             5849                0.0         NaN             360.0   \n",
              "1             4583             1508.0    128000.0             360.0   \n",
              "2             3000                0.0     66000.0             360.0   \n",
              "3             2583             2358.0    120000.0             360.0   \n",
              "4             6000                0.0    141000.0             360.0   \n",
              "\n",
              "   credit_history property_area loan_status  \n",
              "0             1.0         Urban           Y  \n",
              "1             1.0         Rural           N  \n",
              "2             1.0         Urban           Y  \n",
              "3             1.0         Urban           Y  \n",
              "4             1.0         Urban           Y  "
            ],
            "text/html": [
              "\n",
              "  <div id=\"df-1758740e-79fc-46c0-bf45-8d8c3c9cc55b\">\n",
              "    <div class=\"colab-df-container\">\n",
              "      <div>\n",
              "<style scoped>\n",
              "    .dataframe tbody tr th:only-of-type {\n",
              "        vertical-align: middle;\n",
              "    }\n",
              "\n",
              "    .dataframe tbody tr th {\n",
              "        vertical-align: top;\n",
              "    }\n",
              "\n",
              "    .dataframe thead th {\n",
              "        text-align: right;\n",
              "    }\n",
              "</style>\n",
              "<table border=\"1\" class=\"dataframe\">\n",
              "  <thead>\n",
              "    <tr style=\"text-align: right;\">\n",
              "      <th></th>\n",
              "      <th>loan_id</th>\n",
              "      <th>gender</th>\n",
              "      <th>married</th>\n",
              "      <th>roi</th>\n",
              "      <th>dependents</th>\n",
              "      <th>education</th>\n",
              "      <th>self_employed</th>\n",
              "      <th>applicantincome</th>\n",
              "      <th>coapplicantincome</th>\n",
              "      <th>loanamount</th>\n",
              "      <th>loan_amount_term</th>\n",
              "      <th>credit_history</th>\n",
              "      <th>property_area</th>\n",
              "      <th>loan_status</th>\n",
              "    </tr>\n",
              "  </thead>\n",
              "  <tbody>\n",
              "    <tr>\n",
              "      <th>0</th>\n",
              "      <td>LP001002</td>\n",
              "      <td>Male</td>\n",
              "      <td>No</td>\n",
              "      <td>6</td>\n",
              "      <td>0</td>\n",
              "      <td>Graduate</td>\n",
              "      <td>No</td>\n",
              "      <td>5849</td>\n",
              "      <td>0.0</td>\n",
              "      <td>NaN</td>\n",
              "      <td>360.0</td>\n",
              "      <td>1.0</td>\n",
              "      <td>Urban</td>\n",
              "      <td>Y</td>\n",
              "    </tr>\n",
              "    <tr>\n",
              "      <th>1</th>\n",
              "      <td>LP001003</td>\n",
              "      <td>Male</td>\n",
              "      <td>Yes</td>\n",
              "      <td>6</td>\n",
              "      <td>1</td>\n",
              "      <td>Graduate</td>\n",
              "      <td>No</td>\n",
              "      <td>4583</td>\n",
              "      <td>1508.0</td>\n",
              "      <td>128000.0</td>\n",
              "      <td>360.0</td>\n",
              "      <td>1.0</td>\n",
              "      <td>Rural</td>\n",
              "      <td>N</td>\n",
              "    </tr>\n",
              "    <tr>\n",
              "      <th>2</th>\n",
              "      <td>LP001005</td>\n",
              "      <td>Male</td>\n",
              "      <td>Yes</td>\n",
              "      <td>6</td>\n",
              "      <td>0</td>\n",
              "      <td>Graduate</td>\n",
              "      <td>Yes</td>\n",
              "      <td>3000</td>\n",
              "      <td>0.0</td>\n",
              "      <td>66000.0</td>\n",
              "      <td>360.0</td>\n",
              "      <td>1.0</td>\n",
              "      <td>Urban</td>\n",
              "      <td>Y</td>\n",
              "    </tr>\n",
              "    <tr>\n",
              "      <th>3</th>\n",
              "      <td>LP001006</td>\n",
              "      <td>Male</td>\n",
              "      <td>Yes</td>\n",
              "      <td>6</td>\n",
              "      <td>0</td>\n",
              "      <td>Not Graduate</td>\n",
              "      <td>No</td>\n",
              "      <td>2583</td>\n",
              "      <td>2358.0</td>\n",
              "      <td>120000.0</td>\n",
              "      <td>360.0</td>\n",
              "      <td>1.0</td>\n",
              "      <td>Urban</td>\n",
              "      <td>Y</td>\n",
              "    </tr>\n",
              "    <tr>\n",
              "      <th>4</th>\n",
              "      <td>LP001008</td>\n",
              "      <td>Male</td>\n",
              "      <td>No</td>\n",
              "      <td>6</td>\n",
              "      <td>0</td>\n",
              "      <td>Graduate</td>\n",
              "      <td>No</td>\n",
              "      <td>6000</td>\n",
              "      <td>0.0</td>\n",
              "      <td>141000.0</td>\n",
              "      <td>360.0</td>\n",
              "      <td>1.0</td>\n",
              "      <td>Urban</td>\n",
              "      <td>Y</td>\n",
              "    </tr>\n",
              "  </tbody>\n",
              "</table>\n",
              "</div>\n",
              "      <button class=\"colab-df-convert\" onclick=\"convertToInteractive('df-1758740e-79fc-46c0-bf45-8d8c3c9cc55b')\"\n",
              "              title=\"Convert this dataframe to an interactive table.\"\n",
              "              style=\"display:none;\">\n",
              "        \n",
              "  <svg xmlns=\"http://www.w3.org/2000/svg\" height=\"24px\"viewBox=\"0 0 24 24\"\n",
              "       width=\"24px\">\n",
              "    <path d=\"M0 0h24v24H0V0z\" fill=\"none\"/>\n",
              "    <path d=\"M18.56 5.44l.94 2.06.94-2.06 2.06-.94-2.06-.94-.94-2.06-.94 2.06-2.06.94zm-11 1L8.5 8.5l.94-2.06 2.06-.94-2.06-.94L8.5 2.5l-.94 2.06-2.06.94zm10 10l.94 2.06.94-2.06 2.06-.94-2.06-.94-.94-2.06-.94 2.06-2.06.94z\"/><path d=\"M17.41 7.96l-1.37-1.37c-.4-.4-.92-.59-1.43-.59-.52 0-1.04.2-1.43.59L10.3 9.45l-7.72 7.72c-.78.78-.78 2.05 0 2.83L4 21.41c.39.39.9.59 1.41.59.51 0 1.02-.2 1.41-.59l7.78-7.78 2.81-2.81c.8-.78.8-2.07 0-2.86zM5.41 20L4 18.59l7.72-7.72 1.47 1.35L5.41 20z\"/>\n",
              "  </svg>\n",
              "      </button>\n",
              "      \n",
              "  <style>\n",
              "    .colab-df-container {\n",
              "      display:flex;\n",
              "      flex-wrap:wrap;\n",
              "      gap: 12px;\n",
              "    }\n",
              "\n",
              "    .colab-df-convert {\n",
              "      background-color: #E8F0FE;\n",
              "      border: none;\n",
              "      border-radius: 50%;\n",
              "      cursor: pointer;\n",
              "      display: none;\n",
              "      fill: #1967D2;\n",
              "      height: 32px;\n",
              "      padding: 0 0 0 0;\n",
              "      width: 32px;\n",
              "    }\n",
              "\n",
              "    .colab-df-convert:hover {\n",
              "      background-color: #E2EBFA;\n",
              "      box-shadow: 0px 1px 2px rgba(60, 64, 67, 0.3), 0px 1px 3px 1px rgba(60, 64, 67, 0.15);\n",
              "      fill: #174EA6;\n",
              "    }\n",
              "\n",
              "    [theme=dark] .colab-df-convert {\n",
              "      background-color: #3B4455;\n",
              "      fill: #D2E3FC;\n",
              "    }\n",
              "\n",
              "    [theme=dark] .colab-df-convert:hover {\n",
              "      background-color: #434B5C;\n",
              "      box-shadow: 0px 1px 3px 1px rgba(0, 0, 0, 0.15);\n",
              "      filter: drop-shadow(0px 1px 2px rgba(0, 0, 0, 0.3));\n",
              "      fill: #FFFFFF;\n",
              "    }\n",
              "  </style>\n",
              "\n",
              "      <script>\n",
              "        const buttonEl =\n",
              "          document.querySelector('#df-1758740e-79fc-46c0-bf45-8d8c3c9cc55b button.colab-df-convert');\n",
              "        buttonEl.style.display =\n",
              "          google.colab.kernel.accessAllowed ? 'block' : 'none';\n",
              "\n",
              "        async function convertToInteractive(key) {\n",
              "          const element = document.querySelector('#df-1758740e-79fc-46c0-bf45-8d8c3c9cc55b');\n",
              "          const dataTable =\n",
              "            await google.colab.kernel.invokeFunction('convertToInteractive',\n",
              "                                                     [key], {});\n",
              "          if (!dataTable) return;\n",
              "\n",
              "          const docLinkHtml = 'Like what you see? Visit the ' +\n",
              "            '<a target=\"_blank\" href=https://colab.research.google.com/notebooks/data_table.ipynb>data table notebook</a>'\n",
              "            + ' to learn more about interactive tables.';\n",
              "          element.innerHTML = '';\n",
              "          dataTable['output_type'] = 'display_data';\n",
              "          await google.colab.output.renderOutput(dataTable, element);\n",
              "          const docLink = document.createElement('div');\n",
              "          docLink.innerHTML = docLinkHtml;\n",
              "          element.appendChild(docLink);\n",
              "        }\n",
              "      </script>\n",
              "    </div>\n",
              "  </div>\n",
              "  "
            ]
          },
          "metadata": {},
          "execution_count": 6
        }
      ],
      "source": [
        "df.head()"
      ]
    },
    {
      "cell_type": "code",
      "execution_count": null,
      "metadata": {
        "colab": {
          "base_uri": "https://localhost:8080/"
        },
        "id": "LzsnkmsQVyya",
        "outputId": "ab185df1-d030-44ca-85d8-991ab609ee5c"
      },
      "outputs": [
        {
          "output_type": "execute_result",
          "data": {
            "text/plain": [
              "(1029, 14)"
            ]
          },
          "metadata": {},
          "execution_count": 7
        }
      ],
      "source": [
        "df.shape"
      ]
    },
    {
      "cell_type": "markdown",
      "metadata": {
        "id": "1HPl05PhVyyb"
      },
      "source": [
        "# Value count for categorical data."
      ]
    },
    {
      "cell_type": "code",
      "execution_count": null,
      "metadata": {
        "colab": {
          "base_uri": "https://localhost:8080/"
        },
        "id": "EWGY-qL-Vyyb",
        "outputId": "ce1fa290-21b0-4b06-cebd-4e008419a43b"
      },
      "outputs": [
        {
          "output_type": "stream",
          "name": "stdout",
          "text": [
            "Male      813\n",
            "Female    194\n",
            "Name: gender, dtype: int64\n"
          ]
        }
      ],
      "source": [
        "value_counts = df['gender'].value_counts()\n",
        "print(value_counts)\n"
      ]
    },
    {
      "cell_type": "code",
      "execution_count": null,
      "metadata": {
        "colab": {
          "base_uri": "https://localhost:8080/"
        },
        "id": "SUgyZHlvVyyc",
        "outputId": "6806ca2a-a5d1-466f-ed4c-82f4ee7da9e8"
      },
      "outputs": [
        {
          "output_type": "stream",
          "name": "stdout",
          "text": [
            "Yes    549\n",
            "No     475\n",
            "0        2\n",
            "Name: married, dtype: int64\n"
          ]
        }
      ],
      "source": [
        "value_counts = df['married'].value_counts()\n",
        "print(value_counts)\n"
      ]
    },
    {
      "cell_type": "code",
      "execution_count": null,
      "metadata": {
        "colab": {
          "base_uri": "https://localhost:8080/"
        },
        "id": "YTWF-kqCVyyc",
        "outputId": "35361c48-149c-4b4b-94ee-a20f15523d09"
      },
      "outputs": [
        {
          "output_type": "stream",
          "name": "stdout",
          "text": [
            "0     345\n",
            "1     337\n",
            "2     245\n",
            "3+     87\n",
            "Name: dependents, dtype: int64\n"
          ]
        }
      ],
      "source": [
        "value_counts = df['dependents'].value_counts()\n",
        "print(value_counts)\n"
      ]
    },
    {
      "cell_type": "code",
      "execution_count": null,
      "metadata": {
        "colab": {
          "base_uri": "https://localhost:8080/"
        },
        "id": "sfZ0aKBdVyyd",
        "outputId": "98c48a53-bb3c-4f4e-cc8f-eab2457ea1dc"
      },
      "outputs": [
        {
          "output_type": "stream",
          "name": "stdout",
          "text": [
            "Graduate        576\n",
            "Not Graduate    453\n",
            "Name: education, dtype: int64\n"
          ]
        }
      ],
      "source": [
        "value_counts = df['education'].value_counts()\n",
        "print(value_counts)\n"
      ]
    },
    {
      "cell_type": "code",
      "execution_count": null,
      "metadata": {
        "colab": {
          "base_uri": "https://localhost:8080/"
        },
        "id": "8evLBzW-Vyyd",
        "outputId": "b7415661-c863-44f9-8f81-a4f9a35d3c7e"
      },
      "outputs": [
        {
          "output_type": "stream",
          "name": "stdout",
          "text": [
            "No     836\n",
            "Yes    140\n",
            "Name: self_employed, dtype: int64\n"
          ]
        }
      ],
      "source": [
        "value_counts = df['self_employed'].value_counts()\n",
        "print(value_counts)\n"
      ]
    },
    {
      "cell_type": "code",
      "execution_count": null,
      "metadata": {
        "colab": {
          "base_uri": "https://localhost:8080/"
        },
        "id": "sfjAcB1dVyyd",
        "outputId": "c10d0ff1-6a26-4869-8f6e-bc82eab9cc6e"
      },
      "outputs": [
        {
          "output_type": "stream",
          "name": "stdout",
          "text": [
            "Semiurban    368\n",
            "Rural        334\n",
            "Urban        327\n",
            "Name: property_area, dtype: int64\n"
          ]
        }
      ],
      "source": [
        "value_counts = df['property_area'].value_counts()\n",
        "print(value_counts)\n"
      ]
    },
    {
      "cell_type": "code",
      "execution_count": null,
      "metadata": {
        "colab": {
          "base_uri": "https://localhost:8080/"
        },
        "id": "iaEW2f1zVyye",
        "outputId": "b9ce264c-610c-45c1-da9b-7184d3767fce"
      },
      "outputs": [
        {
          "output_type": "stream",
          "name": "stdout",
          "text": [
            "Y    711\n",
            "N    318\n",
            "Name: loan_status, dtype: int64\n"
          ]
        }
      ],
      "source": [
        "value_counts = df['loan_status'].value_counts()\n",
        "print(value_counts)\n"
      ]
    },
    {
      "cell_type": "code",
      "execution_count": null,
      "metadata": {
        "colab": {
          "base_uri": "https://localhost:8080/"
        },
        "id": "FTdJ_weWVyye",
        "outputId": "ff1f6d7c-fe10-42be-c69c-994fbed71dff"
      },
      "outputs": [
        {
          "output_type": "execute_result",
          "data": {
            "text/plain": [
              "loan_id               object\n",
              "gender                object\n",
              "married               object\n",
              "roi                    int64\n",
              "dependents            object\n",
              "education             object\n",
              "self_employed         object\n",
              "applicantincome        int64\n",
              "coapplicantincome    float64\n",
              "loanamount           float64\n",
              "loan_amount_term     float64\n",
              "credit_history       float64\n",
              "property_area         object\n",
              "loan_status           object\n",
              "dtype: object"
            ]
          },
          "metadata": {},
          "execution_count": 15
        }
      ],
      "source": [
        "df.dtypes"
      ]
    },
    {
      "cell_type": "code",
      "execution_count": null,
      "metadata": {
        "colab": {
          "base_uri": "https://localhost:8080/",
          "height": 300
        },
        "id": "MdnvW9cpVyye",
        "outputId": "239caa5b-051e-4774-e40b-d20f7296306c"
      },
      "outputs": [
        {
          "output_type": "execute_result",
          "data": {
            "text/plain": [
              "          roi  applicantincome  coapplicantincome     loanamount  \\\n",
              "count  1029.0      1029.000000        1029.000000     994.000000   \n",
              "mean      6.0      5380.814383        1612.823946  146357.142857   \n",
              "std       0.0      6101.944084        3064.272166   84056.664664   \n",
              "min       6.0       150.000000           0.000000    9000.000000   \n",
              "25%       6.0      2876.000000           0.000000  100000.000000   \n",
              "50%       6.0      3812.000000        1131.000000  128000.000000   \n",
              "75%       6.0      5815.000000        2250.000000  165000.000000   \n",
              "max       6.0     81000.000000       41667.000000  700000.000000   \n",
              "\n",
              "       loan_amount_term  credit_history  \n",
              "count       1009.000000      945.000000  \n",
              "mean         342.124876        0.841270  \n",
              "std           64.743605        0.365618  \n",
              "min           36.000000        0.000000  \n",
              "25%          360.000000        1.000000  \n",
              "50%          360.000000        1.000000  \n",
              "75%          360.000000        1.000000  \n",
              "max          480.000000        1.000000  "
            ],
            "text/html": [
              "\n",
              "  <div id=\"df-c8ce3ef0-0433-49d3-b321-6a169172dd3b\">\n",
              "    <div class=\"colab-df-container\">\n",
              "      <div>\n",
              "<style scoped>\n",
              "    .dataframe tbody tr th:only-of-type {\n",
              "        vertical-align: middle;\n",
              "    }\n",
              "\n",
              "    .dataframe tbody tr th {\n",
              "        vertical-align: top;\n",
              "    }\n",
              "\n",
              "    .dataframe thead th {\n",
              "        text-align: right;\n",
              "    }\n",
              "</style>\n",
              "<table border=\"1\" class=\"dataframe\">\n",
              "  <thead>\n",
              "    <tr style=\"text-align: right;\">\n",
              "      <th></th>\n",
              "      <th>roi</th>\n",
              "      <th>applicantincome</th>\n",
              "      <th>coapplicantincome</th>\n",
              "      <th>loanamount</th>\n",
              "      <th>loan_amount_term</th>\n",
              "      <th>credit_history</th>\n",
              "    </tr>\n",
              "  </thead>\n",
              "  <tbody>\n",
              "    <tr>\n",
              "      <th>count</th>\n",
              "      <td>1029.0</td>\n",
              "      <td>1029.000000</td>\n",
              "      <td>1029.000000</td>\n",
              "      <td>994.000000</td>\n",
              "      <td>1009.000000</td>\n",
              "      <td>945.000000</td>\n",
              "    </tr>\n",
              "    <tr>\n",
              "      <th>mean</th>\n",
              "      <td>6.0</td>\n",
              "      <td>5380.814383</td>\n",
              "      <td>1612.823946</td>\n",
              "      <td>146357.142857</td>\n",
              "      <td>342.124876</td>\n",
              "      <td>0.841270</td>\n",
              "    </tr>\n",
              "    <tr>\n",
              "      <th>std</th>\n",
              "      <td>0.0</td>\n",
              "      <td>6101.944084</td>\n",
              "      <td>3064.272166</td>\n",
              "      <td>84056.664664</td>\n",
              "      <td>64.743605</td>\n",
              "      <td>0.365618</td>\n",
              "    </tr>\n",
              "    <tr>\n",
              "      <th>min</th>\n",
              "      <td>6.0</td>\n",
              "      <td>150.000000</td>\n",
              "      <td>0.000000</td>\n",
              "      <td>9000.000000</td>\n",
              "      <td>36.000000</td>\n",
              "      <td>0.000000</td>\n",
              "    </tr>\n",
              "    <tr>\n",
              "      <th>25%</th>\n",
              "      <td>6.0</td>\n",
              "      <td>2876.000000</td>\n",
              "      <td>0.000000</td>\n",
              "      <td>100000.000000</td>\n",
              "      <td>360.000000</td>\n",
              "      <td>1.000000</td>\n",
              "    </tr>\n",
              "    <tr>\n",
              "      <th>50%</th>\n",
              "      <td>6.0</td>\n",
              "      <td>3812.000000</td>\n",
              "      <td>1131.000000</td>\n",
              "      <td>128000.000000</td>\n",
              "      <td>360.000000</td>\n",
              "      <td>1.000000</td>\n",
              "    </tr>\n",
              "    <tr>\n",
              "      <th>75%</th>\n",
              "      <td>6.0</td>\n",
              "      <td>5815.000000</td>\n",
              "      <td>2250.000000</td>\n",
              "      <td>165000.000000</td>\n",
              "      <td>360.000000</td>\n",
              "      <td>1.000000</td>\n",
              "    </tr>\n",
              "    <tr>\n",
              "      <th>max</th>\n",
              "      <td>6.0</td>\n",
              "      <td>81000.000000</td>\n",
              "      <td>41667.000000</td>\n",
              "      <td>700000.000000</td>\n",
              "      <td>480.000000</td>\n",
              "      <td>1.000000</td>\n",
              "    </tr>\n",
              "  </tbody>\n",
              "</table>\n",
              "</div>\n",
              "      <button class=\"colab-df-convert\" onclick=\"convertToInteractive('df-c8ce3ef0-0433-49d3-b321-6a169172dd3b')\"\n",
              "              title=\"Convert this dataframe to an interactive table.\"\n",
              "              style=\"display:none;\">\n",
              "        \n",
              "  <svg xmlns=\"http://www.w3.org/2000/svg\" height=\"24px\"viewBox=\"0 0 24 24\"\n",
              "       width=\"24px\">\n",
              "    <path d=\"M0 0h24v24H0V0z\" fill=\"none\"/>\n",
              "    <path d=\"M18.56 5.44l.94 2.06.94-2.06 2.06-.94-2.06-.94-.94-2.06-.94 2.06-2.06.94zm-11 1L8.5 8.5l.94-2.06 2.06-.94-2.06-.94L8.5 2.5l-.94 2.06-2.06.94zm10 10l.94 2.06.94-2.06 2.06-.94-2.06-.94-.94-2.06-.94 2.06-2.06.94z\"/><path d=\"M17.41 7.96l-1.37-1.37c-.4-.4-.92-.59-1.43-.59-.52 0-1.04.2-1.43.59L10.3 9.45l-7.72 7.72c-.78.78-.78 2.05 0 2.83L4 21.41c.39.39.9.59 1.41.59.51 0 1.02-.2 1.41-.59l7.78-7.78 2.81-2.81c.8-.78.8-2.07 0-2.86zM5.41 20L4 18.59l7.72-7.72 1.47 1.35L5.41 20z\"/>\n",
              "  </svg>\n",
              "      </button>\n",
              "      \n",
              "  <style>\n",
              "    .colab-df-container {\n",
              "      display:flex;\n",
              "      flex-wrap:wrap;\n",
              "      gap: 12px;\n",
              "    }\n",
              "\n",
              "    .colab-df-convert {\n",
              "      background-color: #E8F0FE;\n",
              "      border: none;\n",
              "      border-radius: 50%;\n",
              "      cursor: pointer;\n",
              "      display: none;\n",
              "      fill: #1967D2;\n",
              "      height: 32px;\n",
              "      padding: 0 0 0 0;\n",
              "      width: 32px;\n",
              "    }\n",
              "\n",
              "    .colab-df-convert:hover {\n",
              "      background-color: #E2EBFA;\n",
              "      box-shadow: 0px 1px 2px rgba(60, 64, 67, 0.3), 0px 1px 3px 1px rgba(60, 64, 67, 0.15);\n",
              "      fill: #174EA6;\n",
              "    }\n",
              "\n",
              "    [theme=dark] .colab-df-convert {\n",
              "      background-color: #3B4455;\n",
              "      fill: #D2E3FC;\n",
              "    }\n",
              "\n",
              "    [theme=dark] .colab-df-convert:hover {\n",
              "      background-color: #434B5C;\n",
              "      box-shadow: 0px 1px 3px 1px rgba(0, 0, 0, 0.15);\n",
              "      filter: drop-shadow(0px 1px 2px rgba(0, 0, 0, 0.3));\n",
              "      fill: #FFFFFF;\n",
              "    }\n",
              "  </style>\n",
              "\n",
              "      <script>\n",
              "        const buttonEl =\n",
              "          document.querySelector('#df-c8ce3ef0-0433-49d3-b321-6a169172dd3b button.colab-df-convert');\n",
              "        buttonEl.style.display =\n",
              "          google.colab.kernel.accessAllowed ? 'block' : 'none';\n",
              "\n",
              "        async function convertToInteractive(key) {\n",
              "          const element = document.querySelector('#df-c8ce3ef0-0433-49d3-b321-6a169172dd3b');\n",
              "          const dataTable =\n",
              "            await google.colab.kernel.invokeFunction('convertToInteractive',\n",
              "                                                     [key], {});\n",
              "          if (!dataTable) return;\n",
              "\n",
              "          const docLinkHtml = 'Like what you see? Visit the ' +\n",
              "            '<a target=\"_blank\" href=https://colab.research.google.com/notebooks/data_table.ipynb>data table notebook</a>'\n",
              "            + ' to learn more about interactive tables.';\n",
              "          element.innerHTML = '';\n",
              "          dataTable['output_type'] = 'display_data';\n",
              "          await google.colab.output.renderOutput(dataTable, element);\n",
              "          const docLink = document.createElement('div');\n",
              "          docLink.innerHTML = docLinkHtml;\n",
              "          element.appendChild(docLink);\n",
              "        }\n",
              "      </script>\n",
              "    </div>\n",
              "  </div>\n",
              "  "
            ]
          },
          "metadata": {},
          "execution_count": 16
        }
      ],
      "source": [
        "df.describe()"
      ]
    },
    {
      "cell_type": "markdown",
      "metadata": {
        "id": "rJvmrynWVyye"
      },
      "source": [
        "## Visualization of Numerical Variables using Histogram"
      ]
    },
    {
      "cell_type": "code",
      "execution_count": null,
      "metadata": {
        "colab": {
          "base_uri": "https://localhost:8080/",
          "height": 472
        },
        "id": "nHSRlf45Vyyf",
        "outputId": "eb697ce3-2806-42cf-abc8-1dc3896f171b"
      },
      "outputs": [
        {
          "output_type": "display_data",
          "data": {
            "text/plain": [
              "<Figure size 640x480 with 1 Axes>"
            ],
            "image/png": "[encoded data removed]"
          },
          "metadata": {}
        }
      ],
      "source": [
        "sns.histplot(data=df, x='applicantincome', kde=True)\n",
        "\n",
        "# To set plot title and labels\n",
        "plt.title('Histogram Plot for Applicant Income')\n",
        "plt.xlabel('Applicant Income')\n",
        "plt.ylabel('Count')\n",
        "\n",
        "# To display the plot\n",
        "plt.show()"
      ]
    },
    {
      "cell_type": "code",
      "execution_count": null,
      "metadata": {
        "colab": {
          "base_uri": "https://localhost:8080/",
          "height": 472
        },
        "id": "dp2XSWq2Vyyf",
        "outputId": "b331f403-622a-4f36-e5c2-236176f7130f"
      },
      "outputs": [
        {
          "output_type": "display_data",
          "data": {
            "text/plain": [
              "<Figure size 640x480 with 1 Axes>"
            ],
            "image/png": "[encoded data removed]"
          },
          "metadata": {}
        }
      ],
      "source": [
        "sns.histplot(data=df, x='coapplicantincome', kde=True)\n",
        "\n",
        "# To set plot title and labels\n",
        "plt.title('Histogram Plot for Coapplicant Income')\n",
        "plt.xlabel('Coapplicant Income')\n",
        "plt.ylabel('Count')\n",
        "\n",
        "# To display the plot\n",
        "plt.show()"
      ]
    },
    {
      "cell_type": "code",
      "execution_count": null,
      "metadata": {
        "colab": {
          "base_uri": "https://localhost:8080/",
          "height": 472
        },
        "id": "WXyAP7hEVyyf",
        "outputId": "787e675f-696b-487a-b0e5-0d1ba9f70634"
      },
      "outputs": [
        {
          "output_type": "display_data",
          "data": {
            "text/plain": [
              "<Figure size 640x480 with 1 Axes>"
            ],
            "image/png": "[encoded data removed]"
          },
          "metadata": {}
        }
      ],
      "source": [
        "sns.histplot(data=df, x='loanamount', kde=True)\n",
        "\n",
        "# To set plot title and labels\n",
        "plt.title('Histogram Plot for Loan Amount')\n",
        "plt.xlabel('Loan Amount')\n",
        "plt.ylabel('Count')\n",
        "\n",
        "# To display the plot\n",
        "plt.show()"
      ]
    },
    {
      "cell_type": "code",
      "execution_count": null,
      "metadata": {
        "colab": {
          "base_uri": "https://localhost:8080/",
          "height": 472
        },
        "id": "cEjgR2KpVyyf",
        "outputId": "74b61296-449a-40eb-9a13-4e1df400f576"
      },
      "outputs": [
        {
          "output_type": "display_data",
          "data": {
            "text/plain": [
              "<Figure size 640x480 with 1 Axes>"
            ],
            "image/png": "[encoded data removed]"
          },
          "metadata": {}
        }
      ],
      "source": [
        "sns.histplot(data=df, x='loan_amount_term', kde=True)\n",
        "\n",
        "# To set plot title and labels\n",
        "plt.title('Histogram Plot for Loan amount term')\n",
        "plt.xlabel('Loan amount term')\n",
        "plt.ylabel('Count')\n",
        "\n",
        "# To display the plot\n",
        "plt.show()"
      ]
    },
    {
      "cell_type": "markdown",
      "metadata": {
        "id": "PNfS7FYZVyyg"
      },
      "source": [
        "# Outliers Treatment in Numerical variables"
      ]
    },
    {
      "cell_type": "code",
      "execution_count": null,
      "metadata": {
        "colab": {
          "base_uri": "https://localhost:8080/",
          "height": 458
        },
        "id": "DEBtOVOnVyyg",
        "outputId": "a7325f76-7d4d-4c4c-f608-419c59ab3670"
      },
      "outputs": [
        {
          "output_type": "display_data",
          "data": {
            "text/plain": [
              "<Figure size 640x480 with 1 Axes>"
            ],
            "image/png": "[encoded data removed]"
          },
          "metadata": {}
        }
      ],
      "source": [
        "# Box plot for Applicant Income\n",
        "sns.boxplot(data=df, y='applicantincome')\n",
        "\n",
        "# To set plot title and labels\n",
        "plt.title('Box Plot for Applicant income')\n",
        "plt.xlabel('Applicant income')\n",
        "plt.ylabel('Value')\n",
        "\n",
        "# To display the plot\n",
        "plt.show()"
      ]
    },
    {
      "cell_type": "code",
      "execution_count": null,
      "metadata": {
        "colab": {
          "base_uri": "https://localhost:8080/"
        },
        "id": "KIL_RmlAVyyh",
        "outputId": "673fb0c9-c496-4182-f926-82eb1a372306"
      },
      "outputs": [
        {
          "output_type": "stream",
          "name": "stdout",
          "text": [
            "Quartile 1 (Q1): 2876.0\n",
            "Quartile 3 (Q3): 5815.0\n",
            "Interquartile Range (IQR): 2939.0\n",
            "Lower Bound for Outliers: -1532.5\n",
            "Upper Bound for Outliers: 10223.5\n",
            "Number of Outliers: 81\n"
          ]
        }
      ],
      "source": [
        "# Outlier detection for Applicant Income.\n",
        "q1 = df['applicantincome'].quantile(0.25)\n",
        "q3 = df['applicantincome'].quantile(0.75)\n",
        "\n",
        "# Calculate interquartile range (IQR)\n",
        "iqr = q3 - q1\n",
        "\n",
        "# Calculate lower and upper bounds for outliers\n",
        "lower_bound = q1 - 1.5 * iqr\n",
        "upper_bound = q3 + 1.5 * iqr\n",
        "\n",
        "# Identify outliers and number of them.\n",
        "outliers = df[(df['applicantincome'] < lower_bound) | (df['applicantincome'] > upper_bound)]\n",
        "\n",
        "# Print the results\n",
        "print(\"Quartile 1 (Q1):\", q1)\n",
        "print(\"Quartile 3 (Q3):\", q3)\n",
        "print(\"Interquartile Range (IQR):\", iqr)\n",
        "print(\"Lower Bound for Outliers:\", lower_bound)\n",
        "print(\"Upper Bound for Outliers:\", upper_bound)\n",
        "print(\"Number of Outliers:\", len(outliers))\n"
      ]
    },
    {
      "cell_type": "code",
      "execution_count": null,
      "metadata": {
        "colab": {
          "base_uri": "https://localhost:8080/"
        },
        "id": "dWboX8rHVyyh",
        "outputId": "bed03d7d-d132-4b5a-8200-11c138731bfb"
      },
      "outputs": [
        {
          "output_type": "stream",
          "name": "stdout",
          "text": [
            "9       12841\n",
            "34      12500\n",
            "54      11500\n",
            "67      10750\n",
            "102     13650\n",
            "        ...  \n",
            "949     18165\n",
            "976     19484\n",
            "987     16666\n",
            "1009    16120\n",
            "1019    12000\n",
            "Name: applicantincome, Length: 81, dtype: int64\n"
          ]
        }
      ],
      "source": [
        "print(outliers['applicantincome'])\n"
      ]
    },
    {
      "cell_type": "code",
      "execution_count": null,
      "metadata": {
        "id": "j2N8ahH6Vyyh"
      },
      "outputs": [],
      "source": [
        "df['applicantincome']=df['applicantincome'].clip(150,10223)\n",
        "##The clip() function is a convenient method in pandas that limits the values of a Series or DataFrame column\n",
        "##to a specified range. In this case, it is applied to the 'loanamount' column.\n",
        "##Any values in the 'loanamount' column that are less than 150 (lowest value in dataset) will be set to 150, and any values greater than\n",
        "##10223(upper bound) will be set to 10223. This operation ensures that all values in the 'loanamount' column fall within the\n",
        "##specified range."
      ]
    },
    {
      "cell_type": "code",
      "execution_count": null,
      "metadata": {
        "colab": {
          "base_uri": "https://localhost:8080/",
          "height": 458
        },
        "id": "Cdk4eF3ZVyyh",
        "outputId": "b2f4e064-2fff-453c-e9c1-7580da6331fe"
      },
      "outputs": [
        {
          "output_type": "display_data",
          "data": {
            "text/plain": [
              "<Figure size 640x480 with 1 Axes>"
            ],
            "image/png": "[encoded data removed]"
          },
          "metadata": {}
        }
      ],
      "source": [
        "sns.boxplot(data=df, y='applicantincome')\n",
        "\n",
        "# To set plot title and labels\n",
        "plt.title('Box Plot for Applicant income')\n",
        "plt.xlabel('Applicant income')\n",
        "plt.ylabel('Value')\n",
        "# To display the plot\n",
        "plt.show()\n",
        "## No more outliers"
      ]
    },
    {
      "cell_type": "code",
      "execution_count": null,
      "metadata": {
        "colab": {
          "base_uri": "https://localhost:8080/",
          "height": 458
        },
        "id": "QVg6p5n_Vyyi",
        "outputId": "d445ee70-f32d-4155-8bfb-f009d98408bf"
      },
      "outputs": [
        {
          "output_type": "display_data",
          "data": {
            "text/plain": [
              "<Figure size 640x480 with 1 Axes>"
            ],
            "image/png": "[encoded data removed]"
          },
          "metadata": {}
        }
      ],
      "source": [
        "# Box plot for Coapplicant Income\n",
        "sns.boxplot(data=df, y='coapplicantincome')\n",
        "\n",
        "# To set plot title and labels\n",
        "plt.title('Box Plot for Co-applicant income')\n",
        "plt.xlabel('Co-applicant income')\n",
        "plt.ylabel('Value')\n",
        "\n",
        "# To display the plot\n",
        "plt.show()"
      ]
    },
    {
      "cell_type": "code",
      "execution_count": null,
      "metadata": {
        "colab": {
          "base_uri": "https://localhost:8080/"
        },
        "id": "NIPEfNGGVyyi",
        "outputId": "2155db16-64f7-486e-f1fb-695047e5ae9d"
      },
      "outputs": [
        {
          "output_type": "stream",
          "name": "stdout",
          "text": [
            "Quartile 1 (Q1): 0.0\n",
            "Quartile 3 (Q3): 2250.0\n",
            "Interquartile Range (IQR): 2250.0\n",
            "Lower Bound for Outliers: -3375.0\n",
            "Upper Bound for Outliers: 5625.0\n",
            "Number of Outliers: 32\n"
          ]
        }
      ],
      "source": [
        "# Outlier detection for Coapplicant Income.\n",
        "q1 = df['coapplicantincome'].quantile(0.25)\n",
        "q3 = df['coapplicantincome'].quantile(0.75)\n",
        "\n",
        "# Calculate interquartile range (IQR)\n",
        "iqr = q3 - q1\n",
        "\n",
        "# Calculate lower and upper bounds for outliers\n",
        "lower_bound = q1 - 1.5 * iqr\n",
        "upper_bound = q3 + 1.5 * iqr\n",
        "\n",
        "# Identify outliers and number of them.\n",
        "outliers = df[(df['coapplicantincome'] < lower_bound) | (df['coapplicantincome'] > upper_bound)]\n",
        "\n",
        "# Print the results\n",
        "print(\"Quartile 1 (Q1):\", q1)\n",
        "print(\"Quartile 3 (Q3):\", q3)\n",
        "print(\"Interquartile Range (IQR):\", iqr)\n",
        "print(\"Lower Bound for Outliers:\", lower_bound)\n",
        "print(\"Upper Bound for Outliers:\", upper_bound)\n",
        "print(\"Number of Outliers:\", len(outliers))"
      ]
    },
    {
      "cell_type": "code",
      "execution_count": null,
      "metadata": {
        "id": "HRRbPKhiVyyi"
      },
      "outputs": [],
      "source": [
        "df['coapplicantincome']=df['coapplicantincome'].clip(0,5625)"
      ]
    },
    {
      "cell_type": "code",
      "execution_count": null,
      "metadata": {
        "colab": {
          "base_uri": "https://localhost:8080/",
          "height": 458
        },
        "id": "dSREdCJKVyyj",
        "outputId": "de8714fd-ed76-41ec-98e4-0618d3bdb69c"
      },
      "outputs": [
        {
          "output_type": "display_data",
          "data": {
            "text/plain": [
              "<Figure size 640x480 with 1 Axes>"
            ],
            "image/png": "[encoded data removed]"
          },
          "metadata": {}
        }
      ],
      "source": [
        "sns.boxplot(data=df, y='coapplicantincome')\n",
        "\n",
        "# To set plot title and labels\n",
        "plt.title('Box Plot for Co-applicant income')\n",
        "plt.xlabel('Co-applicant income')\n",
        "plt.ylabel('Value')\n",
        "\n",
        "# To display the plot\n",
        "plt.show()\n",
        "# No outliers anymore."
      ]
    },
    {
      "cell_type": "code",
      "execution_count": null,
      "metadata": {
        "colab": {
          "base_uri": "https://localhost:8080/",
          "height": 458
        },
        "id": "qbaTfE36Vyyj",
        "outputId": "4881e2e4-b361-4a85-c3f4-6d0f466f78a6"
      },
      "outputs": [
        {
          "output_type": "display_data",
          "data": {
            "text/plain": [
              "<Figure size 640x480 with 1 Axes>"
            ],
            "image/png": "[encoded data removed]"
          },
          "metadata": {}
        }
      ],
      "source": [
        "# Box plot for Loan amount.\n",
        "sns.boxplot(data=df, y='loanamount')\n",
        "\n",
        "# To set plot title and labels\n",
        "plt.title('Box Plot for Loan amount income')\n",
        "plt.xlabel('Loan amount')\n",
        "plt.ylabel('Value')\n",
        "\n",
        "# To display the plot\n",
        "plt.show()"
      ]
    },
    {
      "cell_type": "code",
      "execution_count": null,
      "metadata": {
        "colab": {
          "base_uri": "https://localhost:8080/"
        },
        "id": "oCrEbZcwVyyj",
        "outputId": "729da04b-fcca-46fa-fa0d-103310296e79"
      },
      "outputs": [
        {
          "output_type": "stream",
          "name": "stdout",
          "text": [
            "Quartile 1 (Q1): 100000.0\n",
            "Quartile 3 (Q3): 165000.0\n",
            "Interquartile Range (IQR): 65000.0\n",
            "Lower Bound for Outliers: 2500.0\n",
            "Upper Bound for Outliers: 262500.0\n",
            "Number of Outliers: 68\n"
          ]
        }
      ],
      "source": [
        "# Outlier detection for Loan amount.\n",
        "q1 = df['loanamount'].quantile(0.25)\n",
        "q3 = df['loanamount'].quantile(0.75)\n",
        "\n",
        "# Calculate interquartile range (IQR)\n",
        "iqr = q3 - q1\n",
        "\n",
        "# Calculate lower and upper bounds for outliers\n",
        "lower_bound = q1 - 1.5 * iqr\n",
        "upper_bound = q3 + 1.5 * iqr\n",
        "\n",
        "# Identify outliers and number of them.\n",
        "outliers = df[(df['loanamount'] < lower_bound) | (df['loanamount'] > upper_bound)]\n",
        "\n",
        "# Print the results\n",
        "print(\"Quartile 1 (Q1):\", q1)\n",
        "print(\"Quartile 3 (Q3):\", q3)\n",
        "print(\"Interquartile Range (IQR):\", iqr)\n",
        "print(\"Lower Bound for Outliers:\", lower_bound)\n",
        "print(\"Upper Bound for Outliers:\", upper_bound)\n",
        "print(\"Number of Outliers:\", len(outliers))"
      ]
    },
    {
      "cell_type": "code",
      "execution_count": null,
      "metadata": {
        "id": "LQ7soEB1Vyyk"
      },
      "outputs": [],
      "source": [
        "df['loanamount']=df['loanamount'].clip(9000,265000)"
      ]
    },
    {
      "cell_type": "code",
      "execution_count": null,
      "metadata": {
        "colab": {
          "base_uri": "https://localhost:8080/",
          "height": 458
        },
        "id": "GEht2DZWVyyk",
        "outputId": "26e1280e-e16e-40e8-e8a6-ed94b80b41ca"
      },
      "outputs": [
        {
          "output_type": "display_data",
          "data": {
            "text/plain": [
              "<Figure size 640x480 with 1 Axes>"
            ],
            "image/png": "[encoded data removed]"
          },
          "metadata": {}
        }
      ],
      "source": [
        "sns.boxplot(data=df, y='loanamount')\n",
        "\n",
        "# To set plot title and labels\n",
        "plt.title('Box Plot for Loan amount income')\n",
        "plt.xlabel('Loan amount')\n",
        "plt.ylabel('Value')\n",
        "\n",
        "# To display the plot\n",
        "plt.show()\n",
        "# No outliers anymore."
      ]
    },
    {
      "cell_type": "code",
      "execution_count": null,
      "metadata": {
        "colab": {
          "base_uri": "https://localhost:8080/",
          "height": 458
        },
        "id": "_QCsGnJNVyyk",
        "outputId": "b0f6f8cc-4542-4ada-dbcd-0bcb7419f6fb"
      },
      "outputs": [
        {
          "output_type": "display_data",
          "data": {
            "text/plain": [
              "<Figure size 640x480 with 1 Axes>"
            ],
            "image/png": "[encoded data removed]"
          },
          "metadata": {}
        }
      ],
      "source": [
        "# Box plot for Loan amount term.\n",
        "sns.boxplot(data=df, y='loan_amount_term')\n",
        "\n",
        "# To set plot title and labels\n",
        "plt.title('Box Plot for Loan amount term')\n",
        "plt.xlabel('Loan amount term')\n",
        "plt.ylabel('Value')\n",
        "\n",
        "# To display the plot\n",
        "plt.show()"
      ]
    },
    {
      "cell_type": "code",
      "execution_count": null,
      "metadata": {
        "colab": {
          "base_uri": "https://localhost:8080/"
        },
        "id": "Csq0yQJgVyyk",
        "outputId": "200a3b56-2de8-4b17-a8a2-5ad6b59cbb34"
      },
      "outputs": [
        {
          "output_type": "stream",
          "name": "stdout",
          "text": [
            "Quartile 1 (Q1): 360.0\n",
            "Quartile 3 (Q3): 360.0\n",
            "Interquartile Range (IQR): 0.0\n",
            "Lower Bound for Outliers: 360.0\n",
            "Upper Bound for Outliers: 360.0\n",
            "Number of Outliers: 147\n"
          ]
        }
      ],
      "source": [
        "# Outlier detection for Loan amount term.\n",
        "q1 = df['loan_amount_term'].quantile(0.25)\n",
        "q3 = df['loan_amount_term'].quantile(0.75)\n",
        "\n",
        "# Calculate interquartile range (IQR)\n",
        "iqr = q3 - q1\n",
        "\n",
        "# Calculate lower and upper bounds for outliers\n",
        "lower_bound = q1 - 1.5 * iqr\n",
        "upper_bound = q3 + 1.5 * iqr\n",
        "\n",
        "# Identify outliers and number of them.\n",
        "outliers = df[(df['loan_amount_term'] < lower_bound) | (df['loan_amount_term'] > upper_bound)]\n",
        "\n",
        "# Print the results\n",
        "print(\"Quartile 1 (Q1):\", q1)\n",
        "print(\"Quartile 3 (Q3):\", q3)\n",
        "print(\"Interquartile Range (IQR):\", iqr)\n",
        "print(\"Lower Bound for Outliers:\", lower_bound)\n",
        "print(\"Upper Bound for Outliers:\", upper_bound)\n",
        "print(\"Number of Outliers:\", len(outliers))"
      ]
    },
    {
      "cell_type": "code",
      "execution_count": null,
      "metadata": {
        "id": "TZ5nfY2uVyyk"
      },
      "outputs": [],
      "source": [
        "df['loan_amount_term']=df['loan_amount_term'].clip(36,360)\n",
        "# Because 36 is the lowest value in data."
      ]
    },
    {
      "cell_type": "code",
      "execution_count": null,
      "metadata": {
        "colab": {
          "base_uri": "https://localhost:8080/",
          "height": 458
        },
        "id": "L2AWwLP4Vyyp",
        "outputId": "b0252be0-fe2c-4c9d-a565-5c91de98c969"
      },
      "outputs": [
        {
          "output_type": "display_data",
          "data": {
            "text/plain": [
              "<Figure size 640x480 with 1 Axes>"
            ],
            "image/png": "[encoded data removed]"
          },
          "metadata": {}
        }
      ],
      "source": [
        "sns.boxplot(data=df, y='loan_amount_term')\n",
        "\n",
        "# To set plot title and labels\n",
        "plt.title('Box Plot for Loan amount term')\n",
        "plt.xlabel('Loan amount term')\n",
        "plt.ylabel('Value')\n",
        "\n",
        "# To display the plot\n",
        "plt.show()\n"
      ]
    },
    {
      "cell_type": "code",
      "execution_count": null,
      "metadata": {
        "colab": {
          "base_uri": "https://localhost:8080/"
        },
        "id": "bIa5IXONVyyp",
        "outputId": "e9bb4fca-5b10-4995-f970-8a9b03057be2"
      },
      "outputs": [
        {
          "output_type": "execute_result",
          "data": {
            "text/plain": [
              "loan_id               object\n",
              "gender                object\n",
              "married               object\n",
              "roi                    int64\n",
              "dependents            object\n",
              "education             object\n",
              "self_employed         object\n",
              "applicantincome        int64\n",
              "coapplicantincome    float64\n",
              "loanamount           float64\n",
              "loan_amount_term     float64\n",
              "credit_history       float64\n",
              "property_area         object\n",
              "loan_status           object\n",
              "dtype: object"
            ]
          },
          "metadata": {},
          "execution_count": 38
        }
      ],
      "source": [
        "df.dtypes"
      ]
    },
    {
      "cell_type": "markdown",
      "metadata": {
        "id": "EQOOI3fDVyyp"
      },
      "source": [
        "# Correlation analysis."
      ]
    },
    {
      "cell_type": "code",
      "execution_count": null,
      "metadata": {
        "scrolled": true,
        "colab": {
          "base_uri": "https://localhost:8080/",
          "height": 292
        },
        "id": "fzOMeSVoVyyp",
        "outputId": "ef5451a3-9558-46e6-f53e-e593ef0be6be"
      },
      "outputs": [
        {
          "output_type": "stream",
          "name": "stderr",
          "text": [
            "<ipython-input-39-2f6f6606aa2c>:1: FutureWarning: The default value of numeric_only in DataFrame.corr is deprecated. In a future version, it will default to False. Select only valid columns or specify the value of numeric_only to silence this warning.\n",
            "  df.corr()\n"
          ]
        },
        {
          "output_type": "execute_result",
          "data": {
            "text/plain": [
              "                   roi  applicantincome  coapplicantincome  loanamount  \\\n",
              "roi                NaN              NaN                NaN         NaN   \n",
              "applicantincome    NaN         1.000000          -0.236206    0.561049   \n",
              "coapplicantincome  NaN        -0.236206           1.000000    0.253857   \n",
              "loanamount         NaN         0.561049           0.253857    1.000000   \n",
              "loan_amount_term   NaN         0.021292          -0.046188    0.077423   \n",
              "credit_history     NaN         0.050178           0.001151    0.011805   \n",
              "\n",
              "                   loan_amount_term  credit_history  \n",
              "roi                             NaN             NaN  \n",
              "applicantincome            0.021292        0.050178  \n",
              "coapplicantincome         -0.046188        0.001151  \n",
              "loanamount                 0.077423        0.011805  \n",
              "loan_amount_term           1.000000        0.010424  \n",
              "credit_history             0.010424        1.000000  "
            ],
            "text/html": [
              "\n",
              "  <div id=\"df-8e44d565-a16e-41be-9d37-49ecffd41be2\">\n",
              "    <div class=\"colab-df-container\">\n",
              "      <div>\n",
              "<style scoped>\n",
              "    .dataframe tbody tr th:only-of-type {\n",
              "        vertical-align: middle;\n",
              "    }\n",
              "\n",
              "    .dataframe tbody tr th {\n",
              "        vertical-align: top;\n",
              "    }\n",
              "\n",
              "    .dataframe thead th {\n",
              "        text-align: right;\n",
              "    }\n",
              "</style>\n",
              "<table border=\"1\" class=\"dataframe\">\n",
              "  <thead>\n",
              "    <tr style=\"text-align: right;\">\n",
              "      <th></th>\n",
              "      <th>roi</th>\n",
              "      <th>applicantincome</th>\n",
              "      <th>coapplicantincome</th>\n",
              "      <th>loanamount</th>\n",
              "      <th>loan_amount_term</th>\n",
              "      <th>credit_history</th>\n",
              "    </tr>\n",
              "  </thead>\n",
              "  <tbody>\n",
              "    <tr>\n",
              "      <th>roi</th>\n",
              "      <td>NaN</td>\n",
              "      <td>NaN</td>\n",
              "      <td>NaN</td>\n",
              "      <td>NaN</td>\n",
              "      <td>NaN</td>\n",
              "      <td>NaN</td>\n",
              "    </tr>\n",
              "    <tr>\n",
              "      <th>applicantincome</th>\n",
              "      <td>NaN</td>\n",
              "      <td>1.000000</td>\n",
              "      <td>-0.236206</td>\n",
              "      <td>0.561049</td>\n",
              "      <td>0.021292</td>\n",
              "      <td>0.050178</td>\n",
              "    </tr>\n",
              "    <tr>\n",
              "      <th>coapplicantincome</th>\n",
              "      <td>NaN</td>\n",
              "      <td>-0.236206</td>\n",
              "      <td>1.000000</td>\n",
              "      <td>0.253857</td>\n",
              "      <td>-0.046188</td>\n",
              "      <td>0.001151</td>\n",
              "    </tr>\n",
              "    <tr>\n",
              "      <th>loanamount</th>\n",
              "      <td>NaN</td>\n",
              "      <td>0.561049</td>\n",
              "      <td>0.253857</td>\n",
              "      <td>1.000000</td>\n",
              "      <td>0.077423</td>\n",
              "      <td>0.011805</td>\n",
              "    </tr>\n",
              "    <tr>\n",
              "      <th>loan_amount_term</th>\n",
              "      <td>NaN</td>\n",
              "      <td>0.021292</td>\n",
              "      <td>-0.046188</td>\n",
              "      <td>0.077423</td>\n",
              "      <td>1.000000</td>\n",
              "      <td>0.010424</td>\n",
              "    </tr>\n",
              "    <tr>\n",
              "      <th>credit_history</th>\n",
              "      <td>NaN</td>\n",
              "      <td>0.050178</td>\n",
              "      <td>0.001151</td>\n",
              "      <td>0.011805</td>\n",
              "      <td>0.010424</td>\n",
              "      <td>1.000000</td>\n",
              "    </tr>\n",
              "  </tbody>\n",
              "</table>\n",
              "</div>\n",
              "      <button class=\"colab-df-convert\" onclick=\"convertToInteractive('df-8e44d565-a16e-41be-9d37-49ecffd41be2')\"\n",
              "              title=\"Convert this dataframe to an interactive table.\"\n",
              "              style=\"display:none;\">\n",
              "        \n",
              "  <svg xmlns=\"http://www.w3.org/2000/svg\" height=\"24px\"viewBox=\"0 0 24 24\"\n",
              "       width=\"24px\">\n",
              "    <path d=\"M0 0h24v24H0V0z\" fill=\"none\"/>\n",
              "    <path d=\"M18.56 5.44l.94 2.06.94-2.06 2.06-.94-2.06-.94-.94-2.06-.94 2.06-2.06.94zm-11 1L8.5 8.5l.94-2.06 2.06-.94-2.06-.94L8.5 2.5l-.94 2.06-2.06.94zm10 10l.94 2.06.94-2.06 2.06-.94-2.06-.94-.94-2.06-.94 2.06-2.06.94z\"/><path d=\"M17.41 7.96l-1.37-1.37c-.4-.4-.92-.59-1.43-.59-.52 0-1.04.2-1.43.59L10.3 9.45l-7.72 7.72c-.78.78-.78 2.05 0 2.83L4 21.41c.39.39.9.59 1.41.59.51 0 1.02-.2 1.41-.59l7.78-7.78 2.81-2.81c.8-.78.8-2.07 0-2.86zM5.41 20L4 18.59l7.72-7.72 1.47 1.35L5.41 20z\"/>\n",
              "  </svg>\n",
              "      </button>\n",
              "      \n",
              "  <style>\n",
              "    .colab-df-container {\n",
              "      display:flex;\n",
              "      flex-wrap:wrap;\n",
              "      gap: 12px;\n",
              "    }\n",
              "\n",
              "    .colab-df-convert {\n",
              "      background-color: #E8F0FE;\n",
              "      border: none;\n",
              "      border-radius: 50%;\n",
              "      cursor: pointer;\n",
              "      display: none;\n",
              "      fill: #1967D2;\n",
              "      height: 32px;\n",
              "      padding: 0 0 0 0;\n",
              "      width: 32px;\n",
              "    }\n",
              "\n",
              "    .colab-df-convert:hover {\n",
              "      background-color: #E2EBFA;\n",
              "      box-shadow: 0px 1px 2px rgba(60, 64, 67, 0.3), 0px 1px 3px 1px rgba(60, 64, 67, 0.15);\n",
              "      fill: #174EA6;\n",
              "    }\n",
              "\n",
              "    [theme=dark] .colab-df-convert {\n",
              "      background-color: #3B4455;\n",
              "      fill: #D2E3FC;\n",
              "    }\n",
              "\n",
              "    [theme=dark] .colab-df-convert:hover {\n",
              "      background-color: #434B5C;\n",
              "      box-shadow: 0px 1px 3px 1px rgba(0, 0, 0, 0.15);\n",
              "      filter: drop-shadow(0px 1px 2px rgba(0, 0, 0, 0.3));\n",
              "      fill: #FFFFFF;\n",
              "    }\n",
              "  </style>\n",
              "\n",
              "      <script>\n",
              "        const buttonEl =\n",
              "          document.querySelector('#df-8e44d565-a16e-41be-9d37-49ecffd41be2 button.colab-df-convert');\n",
              "        buttonEl.style.display =\n",
              "          google.colab.kernel.accessAllowed ? 'block' : 'none';\n",
              "\n",
              "        async function convertToInteractive(key) {\n",
              "          const element = document.querySelector('#df-8e44d565-a16e-41be-9d37-49ecffd41be2');\n",
              "          const dataTable =\n",
              "            await google.colab.kernel.invokeFunction('convertToInteractive',\n",
              "                                                     [key], {});\n",
              "          if (!dataTable) return;\n",
              "\n",
              "          const docLinkHtml = 'Like what you see? Visit the ' +\n",
              "            '<a target=\"_blank\" href=https://colab.research.google.com/notebooks/data_table.ipynb>data table notebook</a>'\n",
              "            + ' to learn more about interactive tables.';\n",
              "          element.innerHTML = '';\n",
              "          dataTable['output_type'] = 'display_data';\n",
              "          await google.colab.output.renderOutput(dataTable, element);\n",
              "          const docLink = document.createElement('div');\n",
              "          docLink.innerHTML = docLinkHtml;\n",
              "          element.appendChild(docLink);\n",
              "        }\n",
              "      </script>\n",
              "    </div>\n",
              "  </div>\n",
              "  "
            ]
          },
          "metadata": {},
          "execution_count": 39
        }
      ],
      "source": [
        "df.corr()"
      ]
    },
    {
      "cell_type": "code",
      "execution_count": null,
      "metadata": {
        "colab": {
          "base_uri": "https://localhost:8080/",
          "height": 625
        },
        "id": "tRV4Wd07Vyyq",
        "outputId": "9d8aae6f-e9f3-4354-b858-dee051b7428f"
      },
      "outputs": [
        {
          "output_type": "stream",
          "name": "stderr",
          "text": [
            "<ipython-input-40-b0493f6bb69d>:2: FutureWarning: The default value of numeric_only in DataFrame.corr is deprecated. In a future version, it will default to False. Select only valid columns or specify the value of numeric_only to silence this warning.\n",
            "  corr_matrix = df.corr()\n"
          ]
        },
        {
          "output_type": "display_data",
          "data": {
            "text/plain": [
              "<Figure size 640x480 with 2 Axes>"
            ],
            "image/png": "[encoded data removed]"
          },
          "metadata": {}
        }
      ],
      "source": [
        "# Creating a correlation matrix heatmap\n",
        "corr_matrix = df.corr()\n",
        "sns.heatmap(corr_matrix, annot=True, cmap='coolwarm')\n",
        "plt.title('Correlation Matrix')\n",
        "plt.show()\n"
      ]
    },
    {
      "cell_type": "code",
      "execution_count": null,
      "metadata": {
        "colab": {
          "base_uri": "https://localhost:8080/"
        },
        "id": "cxUfhIgaVyyq",
        "outputId": "9ce0db2a-0970-4a22-f7a1-01c22826a5de"
      },
      "outputs": [
        {
          "output_type": "execute_result",
          "data": {
            "text/plain": [
              "Index(['loan_id', 'gender', 'married', 'roi', 'dependents', 'education',\n",
              "       'self_employed', 'applicantincome', 'coapplicantincome', 'loanamount',\n",
              "       'loan_amount_term', 'credit_history', 'property_area', 'loan_status'],\n",
              "      dtype='object')"
            ]
          },
          "metadata": {},
          "execution_count": 41
        }
      ],
      "source": [
        "df.columns"
      ]
    },
    {
      "cell_type": "markdown",
      "metadata": {
        "id": "yvLa1p8EVyyq"
      },
      "source": [
        "## Null value imputation"
      ]
    },
    {
      "cell_type": "code",
      "execution_count": null,
      "metadata": {
        "colab": {
          "base_uri": "https://localhost:8080/"
        },
        "id": "era2yZZ6Vyyq",
        "outputId": "a703d571-a8ea-40cf-9f8f-9d6ac4f57626"
      },
      "outputs": [
        {
          "output_type": "execute_result",
          "data": {
            "text/plain": [
              "loan_id               0\n",
              "gender               22\n",
              "married               3\n",
              "roi                   0\n",
              "dependents           15\n",
              "education             0\n",
              "self_employed        53\n",
              "applicantincome       0\n",
              "coapplicantincome     0\n",
              "loanamount           35\n",
              "loan_amount_term     20\n",
              "credit_history       84\n",
              "property_area         0\n",
              "loan_status           0\n",
              "dtype: int64"
            ]
          },
          "metadata": {},
          "execution_count": 42
        }
      ],
      "source": [
        "df.isna().sum()"
      ]
    },
    {
      "cell_type": "code",
      "execution_count": null,
      "metadata": {
        "colab": {
          "base_uri": "https://localhost:8080/"
        },
        "id": "KULY1JGBVyyq",
        "outputId": "7b7f4897-3019-4a60-9f94-e323e264d1df"
      },
      "outputs": [
        {
          "output_type": "execute_result",
          "data": {
            "text/plain": [
              "Male      813\n",
              "Female    194\n",
              "Name: gender, dtype: int64"
            ]
          },
          "metadata": {},
          "execution_count": 43
        }
      ],
      "source": [
        "df['gender'].value_counts()"
      ]
    },
    {
      "cell_type": "code",
      "execution_count": null,
      "metadata": {
        "id": "0XN3myrLVyyr"
      },
      "outputs": [],
      "source": [
        "# Filling NA's in gender column with its modal value\n",
        "df['gender']=df['gender'].fillna('Male')"
      ]
    },
    {
      "cell_type": "code",
      "execution_count": null,
      "metadata": {
        "colab": {
          "base_uri": "https://localhost:8080/"
        },
        "id": "GCECulmZVyyr",
        "outputId": "8d99c7fe-aac2-43a9-c2d5-aaacdbf313b5"
      },
      "outputs": [
        {
          "output_type": "execute_result",
          "data": {
            "text/plain": [
              "Yes    549\n",
              "No     475\n",
              "0        2\n",
              "Name: married, dtype: int64"
            ]
          },
          "metadata": {},
          "execution_count": 45
        }
      ],
      "source": [
        "df['married'].value_counts()"
      ]
    },
    {
      "cell_type": "code",
      "execution_count": null,
      "metadata": {
        "id": "Qyda7ehNVyyr"
      },
      "outputs": [],
      "source": [
        "# Filling NA's in married column with its modal value\n",
        "df['married']=df['married'].fillna('Yes')"
      ]
    },
    {
      "cell_type": "code",
      "execution_count": null,
      "metadata": {
        "colab": {
          "base_uri": "https://localhost:8080/"
        },
        "id": "zySswVi_Vyyr",
        "outputId": "fb96793c-156f-42c2-80d3-9e877868d3f7"
      },
      "outputs": [
        {
          "output_type": "execute_result",
          "data": {
            "text/plain": [
              "0     345\n",
              "1     337\n",
              "2     245\n",
              "3+     87\n",
              "Name: dependents, dtype: int64"
            ]
          },
          "metadata": {},
          "execution_count": 47
        }
      ],
      "source": [
        "# Imputing dependents column.\n",
        "value_counts = df['dependents'].value_counts()\n",
        "value_counts"
      ]
    },
    {
      "cell_type": "code",
      "execution_count": null,
      "metadata": {
        "id": "JHv-j-OoVyyr"
      },
      "outputs": [],
      "source": [
        "# Removing 3+ with 3.\n",
        "c = {'3+':'3','2':'2','1': '1','0': '0'}\n",
        "df['dependents']=df['dependents'].map(c)"
      ]
    },
    {
      "cell_type": "code",
      "execution_count": null,
      "metadata": {
        "colab": {
          "base_uri": "https://localhost:8080/"
        },
        "id": "zbMXcWcrVyys",
        "outputId": "80206344-e81b-4af5-e279-9164ca8dd2d7"
      },
      "outputs": [
        {
          "output_type": "execute_result",
          "data": {
            "text/plain": [
              "0    345\n",
              "1    337\n",
              "2    245\n",
              "3     87\n",
              "Name: dependents, dtype: int64"
            ]
          },
          "metadata": {},
          "execution_count": 49
        }
      ],
      "source": [
        "value_counts = df['dependents'].value_counts()\n",
        "value_counts"
      ]
    },
    {
      "cell_type": "code",
      "execution_count": null,
      "metadata": {
        "id": "06b2Qhq2Vyys"
      },
      "outputs": [],
      "source": [
        "# Filling NA's in dependents column with its modal value.\n",
        "df['dependents']=df['dependents'].fillna('0')"
      ]
    },
    {
      "cell_type": "code",
      "execution_count": null,
      "metadata": {
        "colab": {
          "base_uri": "https://localhost:8080/"
        },
        "id": "lxAxB-0eVyys",
        "outputId": "0a914cd3-2580-4199-b808-046c268259c1"
      },
      "outputs": [
        {
          "output_type": "execute_result",
          "data": {
            "text/plain": [
              "0    360\n",
              "1    337\n",
              "2    245\n",
              "3     87\n",
              "Name: dependents, dtype: int64"
            ]
          },
          "metadata": {},
          "execution_count": 51
        }
      ],
      "source": [
        "value_counts = df['dependents'].value_counts()\n",
        "value_counts"
      ]
    },
    {
      "cell_type": "code",
      "execution_count": null,
      "metadata": {
        "colab": {
          "base_uri": "https://localhost:8080/"
        },
        "id": "9d3kSAdFVyyt",
        "outputId": "4a5ff3e2-4bbd-4f09-a2d7-6d29cd4acf6a"
      },
      "outputs": [
        {
          "output_type": "execute_result",
          "data": {
            "text/plain": [
              "No     836\n",
              "Yes    140\n",
              "Name: self_employed, dtype: int64"
            ]
          },
          "metadata": {},
          "execution_count": 52
        }
      ],
      "source": [
        "# Imputation for self_employed column.\n",
        "df['self_employed'].value_counts()"
      ]
    },
    {
      "cell_type": "code",
      "execution_count": null,
      "metadata": {
        "id": "KDqJqYp0Vyyt"
      },
      "outputs": [],
      "source": [
        "# Filling NA's in self_employed column with its modal value.\n",
        "df['self_employed']=df['self_employed'].fillna('No')"
      ]
    },
    {
      "cell_type": "code",
      "execution_count": null,
      "metadata": {
        "id": "fwTI2GWfVyyt"
      },
      "outputs": [],
      "source": [
        "# Filling NA's in loanamount column with its mean value.\n",
        "df['loanamount']=df['loanamount'].fillna(df['loanamount'].mean())"
      ]
    },
    {
      "cell_type": "code",
      "execution_count": null,
      "metadata": {
        "colab": {
          "base_uri": "https://localhost:8080/"
        },
        "id": "46h5kkhZVyyt",
        "outputId": "cd46ddf1-3321-441b-d1ca-116ef7e96659"
      },
      "outputs": [
        {
          "output_type": "execute_result",
          "data": {
            "text/plain": [
              "360.0    887\n",
              "180.0     74\n",
              "300.0     22\n",
              "84.0      10\n",
              "240.0      6\n",
              "36.0       4\n",
              "120.0      3\n",
              "60.0       3\n",
              "Name: loan_amount_term, dtype: int64"
            ]
          },
          "metadata": {},
          "execution_count": 55
        }
      ],
      "source": [
        "value_counts = df['loan_amount_term'].value_counts()\n",
        "value_counts"
      ]
    },
    {
      "cell_type": "code",
      "execution_count": null,
      "metadata": {
        "id": "bliQqOCWVyyu"
      },
      "outputs": [],
      "source": [
        "# Filling NA's in loan_amount_term column with its modal value.\n",
        "df['loan_amount_term']=df['loan_amount_term'].fillna(360)"
      ]
    },
    {
      "cell_type": "code",
      "execution_count": null,
      "metadata": {
        "colab": {
          "base_uri": "https://localhost:8080/"
        },
        "id": "C9W0ddR_Vyyu",
        "outputId": "b68c2fc1-69fb-4bfb-b043-ab84bd23da82"
      },
      "outputs": [
        {
          "output_type": "execute_result",
          "data": {
            "text/plain": [
              "1.0    795\n",
              "0.0    150\n",
              "Name: credit_history, dtype: int64"
            ]
          },
          "metadata": {},
          "execution_count": 57
        }
      ],
      "source": [
        "# Imputation for credit_history.\n",
        "df['credit_history'].value_counts()"
      ]
    },
    {
      "cell_type": "code",
      "execution_count": null,
      "metadata": {
        "id": "tveIW5y0Vyyu"
      },
      "outputs": [],
      "source": [
        "df['credit_history']=df['credit_history'].fillna(1)"
      ]
    },
    {
      "cell_type": "code",
      "execution_count": null,
      "metadata": {
        "colab": {
          "base_uri": "https://localhost:8080/"
        },
        "id": "2POue7gwVyyv",
        "outputId": "ed022735-5bcc-4dda-b8d6-ec1b1aa11ff9"
      },
      "outputs": [
        {
          "output_type": "execute_result",
          "data": {
            "text/plain": [
              "loan_id              0\n",
              "gender               0\n",
              "married              0\n",
              "roi                  0\n",
              "dependents           0\n",
              "education            0\n",
              "self_employed        0\n",
              "applicantincome      0\n",
              "coapplicantincome    0\n",
              "loanamount           0\n",
              "loan_amount_term     0\n",
              "credit_history       0\n",
              "property_area        0\n",
              "loan_status          0\n",
              "dtype: int64"
            ]
          },
          "metadata": {},
          "execution_count": 59
        }
      ],
      "source": [
        "df.isna().sum()\n",
        "# All columns are having zero null values."
      ]
    },
    {
      "cell_type": "code",
      "execution_count": null,
      "metadata": {
        "colab": {
          "base_uri": "https://localhost:8080/"
        },
        "id": "w7NKYOsHVyyv",
        "outputId": "ef0b7c59-2fd3-4541-b78a-466cb307dcbc"
      },
      "outputs": [
        {
          "output_type": "execute_result",
          "data": {
            "text/plain": [
              "Index(['loan_id', 'gender', 'married', 'roi', 'dependents', 'education',\n",
              "       'self_employed', 'applicantincome', 'coapplicantincome', 'loanamount',\n",
              "       'loan_amount_term', 'credit_history', 'property_area', 'loan_status'],\n",
              "      dtype='object')"
            ]
          },
          "metadata": {},
          "execution_count": 60
        }
      ],
      "source": [
        "df.columns"
      ]
    },
    {
      "cell_type": "markdown",
      "metadata": {
        "id": "U-YAaYPCVyyv"
      },
      "source": [
        "## Feature construction."
      ]
    },
    {
      "cell_type": "code",
      "execution_count": null,
      "metadata": {
        "id": "TskKruzSVyyv"
      },
      "outputs": [],
      "source": [
        "# Creating sumofincome column which would be the combination of applicant's and coapplicant's income.\n",
        "df['sumofincome']=df['applicantincome']+df['coapplicantincome']"
      ]
    },
    {
      "cell_type": "code",
      "execution_count": null,
      "metadata": {
        "id": "248lI_11Vyyw"
      },
      "outputs": [],
      "source": [
        "# Removing columns applicantincome and coapplicantincome.\n",
        "delcolumns =['applicantincome','coapplicantincome']\n",
        "df.drop(delcolumns,axis=1,inplace=True)"
      ]
    },
    {
      "cell_type": "code",
      "execution_count": null,
      "metadata": {
        "colab": {
          "base_uri": "https://localhost:8080/"
        },
        "id": "mNSbV2exVyyx",
        "outputId": "e2b6d97d-5dc2-45eb-aabf-017277dc5ac9"
      },
      "outputs": [
        {
          "output_type": "stream",
          "name": "stdout",
          "text": [
            "Collecting numpy-financial\n",
            "  Downloading numpy_financial-1.0.0-py3-none-any.whl (14 kB)\n",
            "Requirement already satisfied: numpy>=1.15 in /usr/local/lib/python3.10/dist-packages (from numpy-financial) (1.22.4)\n",
            "Installing collected packages: numpy-financial\n",
            "Successfully installed numpy-financial-1.0.0\n"
          ]
        }
      ],
      "source": [
        "!pip install numpy-financial\n",
        "import numpy_financial as npf"
      ]
    },
    {
      "cell_type": "code",
      "execution_count": null,
      "metadata": {
        "id": "Lqe0-6XJVyyy"
      },
      "outputs": [],
      "source": [
        "#Creating and adding a new EMI column to the dataframe.\n",
        "emi = npf.pmt(df['roi'] / 1200, df['loan_amount_term'], -df['loanamount'])\n",
        "# Div by 1200 to calculate monthly interest rate i.e 12*100, division by 12 is for making it monthly and 100 is for rate\n",
        "\n",
        "# Adding the EMI column to the DataFrame\n",
        "df['EMI'] = emi"
      ]
    },
    {
      "cell_type": "code",
      "source": [
        "df.columns"
      ],
      "metadata": {
        "colab": {
          "base_uri": "https://localhost:8080/"
        },
        "id": "F2IZxFcXE7D6",
        "outputId": "83e5dd45-6474-4933-865e-a6337da9904a"
      },
      "execution_count": null,
      "outputs": [
        {
          "output_type": "execute_result",
          "data": {
            "text/plain": [
              "Index(['loan_id', 'gender', 'married', 'roi', 'dependents', 'education',\n",
              "       'self_employed', 'loanamount', 'loan_amount_term', 'credit_history',\n",
              "       'property_area', 'loan_status', 'sumofincome', 'EMI'],\n",
              "      dtype='object')"
            ]
          },
          "metadata": {},
          "execution_count": 65
        }
      ]
    },
    {
      "cell_type": "code",
      "execution_count": null,
      "metadata": {
        "colab": {
          "base_uri": "https://localhost:8080/"
        },
        "id": "ayILShqjVyyz",
        "outputId": "f33a08e8-0cf6-468e-df24-84867d1b16ef"
      },
      "outputs": [
        {
          "output_type": "stream",
          "name": "stdout",
          "text": [
            "       loan_id  gender married  roi dependents     education self_employed  \\\n",
            "0     LP001002    Male      No    6          0      Graduate            No   \n",
            "1     LP001003    Male     Yes    6          1      Graduate            No   \n",
            "2     LP001005    Male     Yes    6          0      Graduate           Yes   \n",
            "3     LP001006    Male     Yes    6          0  Not Graduate            No   \n",
            "4     LP001008    Male      No    6          0      Graduate            No   \n",
            "...        ...     ...     ...  ...        ...           ...           ...   \n",
            "1024  LP003410  Female     Yes    6          1  Not Graduate            No   \n",
            "1025  LP003411    Male      No    6          3  Not Graduate            No   \n",
            "1026  LP003412    Male      No    6          2  Not Graduate            No   \n",
            "1027  LP003413    Male      No    6          2  Not Graduate            No   \n",
            "1028  LP003414  Female     Yes    6          1  Not Graduate           Yes   \n",
            "\n",
            "         loanamount  loan_amount_term  credit_history property_area  \\\n",
            "0     138079.476861             360.0             1.0         Urban   \n",
            "1     128000.000000             360.0             1.0         Rural   \n",
            "2      66000.000000             360.0             1.0         Urban   \n",
            "3     120000.000000             360.0             1.0         Urban   \n",
            "4     141000.000000             360.0             1.0         Urban   \n",
            "...             ...               ...             ...           ...   \n",
            "1024   71000.000000             360.0             1.0     Semiurban   \n",
            "1025   40000.000000             180.0             1.0     Semiurban   \n",
            "1026  253000.000000             360.0             1.0         Urban   \n",
            "1027  187000.000000             360.0             1.0         Urban   \n",
            "1028  133000.000000             360.0             0.0         Rural   \n",
            "\n",
            "     loan_status  sumofincome          EMI   EMI/NMI  \n",
            "0              Y       5849.0   827.856229  0.141538  \n",
            "1              N       6091.0   767.424672  0.125993  \n",
            "2              Y       3000.0   395.703347  0.131901  \n",
            "3              Y       4941.0   719.460630  0.145610  \n",
            "4              Y       6000.0   845.366240  0.140894  \n",
            "...          ...          ...          ...       ...  \n",
            "1024           Y       2900.0   425.680873  0.146787  \n",
            "1025           Y       4106.0   337.542731  0.082207  \n",
            "1026           Y       8312.0  1516.862829  0.182491  \n",
            "1027           Y       7583.0  1121.159482  0.147852  \n",
            "1028           N       4583.0   797.402198  0.173991  \n",
            "\n",
            "[1029 rows x 15 columns]\n"
          ]
        }
      ],
      "source": [
        "# Creating and adding a new EMI/NMI(Net monthly income) ratio column.\n",
        "emi_column = df['EMI']\n",
        "income_column = df['sumofincome']\n",
        "\n",
        "emi_nmi_ratio = emi_column / income_column\n",
        "\n",
        "# Adding the EMI/NMI ratio as a new column\n",
        "df['EMI/NMI'] = emi_nmi_ratio\n",
        "print(df)"
      ]
    },
    {
      "cell_type": "code",
      "execution_count": null,
      "metadata": {
        "colab": {
          "base_uri": "https://localhost:8080/"
        },
        "id": "leWricH7Vyy0",
        "outputId": "204ec25f-9563-4d14-f265-313723e7c312"
      },
      "outputs": [
        {
          "output_type": "stream",
          "name": "stdout",
          "text": [
            "Minimum EMI/NMI for loan approval (status = 'Yes'):  0.023458887807992056\n"
          ]
        }
      ],
      "source": [
        "min_emi_nmi = df[df['loan_status'] == 'Y']['EMI/NMI'].min()\n",
        "print(\"Minimum EMI/NMI for loan approval (status = 'Yes'): \", min_emi_nmi)\n"
      ]
    },
    {
      "cell_type": "code",
      "execution_count": null,
      "metadata": {
        "colab": {
          "base_uri": "https://localhost:8080/"
        },
        "id": "5Yrjmx7FVyy0",
        "outputId": "d7e9f7c5-9854-45b0-95c8-9ff400405aaa"
      },
      "outputs": [
        {
          "output_type": "stream",
          "name": "stdout",
          "text": [
            "Maximum EMI/NMI for loan approval (status = 'Yes'):  0.49589809897487197\n"
          ]
        }
      ],
      "source": [
        "max_emi_nmi = df[df['loan_status'] == 'Y']['EMI/NMI'].max()\n",
        "print(\"Maximum EMI/NMI for loan approval (status = 'Yes'): \", max_emi_nmi)\n"
      ]
    },
    {
      "cell_type": "code",
      "execution_count": null,
      "metadata": {
        "colab": {
          "base_uri": "https://localhost:8080/"
        },
        "id": "YOxgGawFVyy0",
        "outputId": "b77d601e-76d3-4651-920e-888355fe9f05"
      },
      "outputs": [
        {
          "output_type": "execute_result",
          "data": {
            "text/plain": [
              "Index(['loan_id', 'gender', 'married', 'roi', 'dependents', 'education',\n",
              "       'self_employed', 'loanamount', 'loan_amount_term', 'credit_history',\n",
              "       'property_area', 'loan_status', 'sumofincome', 'EMI', 'EMI/NMI'],\n",
              "      dtype='object')"
            ]
          },
          "metadata": {},
          "execution_count": 69
        }
      ],
      "source": [
        "df.columns"
      ]
    },
    {
      "cell_type": "code",
      "execution_count": null,
      "metadata": {
        "colab": {
          "base_uri": "https://localhost:8080/"
        },
        "id": "39Vun_PyVyy1",
        "outputId": "c6bfdffc-53b4-4730-ee22-e5d50e707e6e"
      },
      "outputs": [
        {
          "output_type": "stream",
          "name": "stdout",
          "text": [
            "Number of NaN values in ' EMI/NMI ' column: 0\n"
          ]
        }
      ],
      "source": [
        "column_name = 'EMI/NMI'\n",
        "nan_count = df[column_name].isna().sum()\n",
        "\n",
        "# Print the count of NaN values\n",
        "print(\"Number of NaN values in '\", column_name, \"' column:\", nan_count)"
      ]
    },
    {
      "cell_type": "code",
      "execution_count": null,
      "metadata": {
        "id": "PJ3zYZ9MVyy1"
      },
      "outputs": [],
      "source": [
        "# Preparing to model.\n",
        "df.drop(columns='loan_id',axis=1,inplace=True)\n",
        "df.drop(columns='roi',axis=1,inplace=True)"
      ]
    },
    {
      "cell_type": "code",
      "execution_count": null,
      "metadata": {
        "scrolled": true,
        "colab": {
          "base_uri": "https://localhost:8080/",
          "height": 1000
        },
        "id": "Pxm7xTASVyy1",
        "outputId": "fffcab6e-f588-4258-a7d2-b0a1795ea139"
      },
      "outputs": [
        {
          "output_type": "display_data",
          "data": {
            "text/html": [
              "<html>\n",
              "<head><meta charset=\"utf-8\" /></head>\n",
              "<body>\n",
              "    <div>            <script src=\"https://cdnjs.cloudflare.com/ajax/libs/mathjax/2.7.5/MathJax.js?config=TeX-AMS-MML_SVG\"></script><script type=\"text/javascript\">if (window.MathJax && window.MathJax.Hub && window.MathJax.Hub.Config) {window.MathJax.Hub.Config({SVG: {font: \"STIX-Web\"}});}</script>                <script type=\"text/javascript\">window.PlotlyConfig = {MathJaxConfig: 'local'};</script>\n",
              "        <script src=\"https://cdn.plot.ly/plotly-2.18.2.min.js\"></script>                <div id=\"786c57b0-e2e0-4946-ae2b-72984ed3c4ff\" class=\"plotly-graph-div\" style=\"height:1000px; width:100%;\"></div>            <script type=\"text/javascript\">                                    window.PLOTLYENV=window.PLOTLYENV || {};                                    if (document.getElementById(\"786c57b0-e2e0-4946-ae2b-72984ed3c4ff\")) {                    Plotly.newPlot(                        \"786c57b0-e2e0-4946-ae2b-72984ed3c4ff\",                        [{\"dimensions\":[{\"axis\":{\"matches\":true},\"label\":\"gender\",\"values\":[\"Male\",\"Male\",\"Male\",\"Male\",\"Male\",\"Male\",\"Male\",\"Male\",\"Male\",\"Male\",\"Male\",\"Male\",\"Male\",\"Male\",\"Male\",\"Male\",\"Male\",\"Female\",\"Male\",\"Male\",\"Male\",\"Male\",\"Male\",\"Male\",\"Male\",\"Male\",\"Male\",\"Male\",\"Male\",\"Female\",\"Male\",\"Male\",\"Male\",\"Male\",\"Male\",\"Male\",\"Male\",\"Female\",\"Male\",\"Male\",\"Male\",\"Male\",\"Male\",\"Male\",\"Male\",\"Female\",\"Male\",\"Male\",\"Female\",\"Female\",\"Female\",\"Female\",\"Female\",\"Male\",\"Female\",\"Male\",\"Male\",\"Male\",\"Male\",\"Male\",\"Male\",\"Male\",\"Male\",\"Male\",\"Female\",\"Male\",\"Male\",\"Male\",\"Male\",\"Female\",\"Male\",\"Male\",\"Male\",\"Male\",\"Male\",\"Male\",\"Male\",\"Male\",\"Male\",\"Male\",\"Female\",\"Male\",\"Female\",\"Male\",\"Male\",\"Male\",\"Male\",\"Male\",\"Male\",\"Male\",\"Male\",\"Male\",\"Male\",\"Male\",\"Male\",\"Male\",\"Female\",\"Male\",\"Male\",\"Male\",\"Male\",\"Male\",\"Male\",\"Male\",\"Male\",\"Male\",\"Male\",\"Male\",\"Male\",\"Male\",\"Male\",\"Female\",\"Male\",\"Female\",\"Male\",\"Male\",\"Female\",\"Male\",\"Male\",\"Female\",\"Male\",\"Female\",\"Female\",\"Male\",\"Male\",\"Female\",\"Male\",\"Male\",\"Male\",\"Male\",\"Male\",\"Male\",\"Male\",\"Male\",\"Male\",\"Male\",\"Female\",\"Male\",\"Male\",\"Male\",\"Male\",\"Male\",\"Male\",\"Male\",\"Male\",\"Female\",\"Female\",\"Male\",\"Female\",\"Male\",\"Male\",\"Male\",\"Male\",\"Male\",\"Male\",\"Male\",\"Male\",\"Male\",\"Male\",\"Male\",\"Male\",\"Male\",\"Male\",\"Male\",\"Male\",\"Male\",\"Female\",\"Male\",\"Male\",\"Male\",\"Male\",\"Male\",\"Male\",\"Male\",\"Male\",\"Male\",\"Male\",\"Male\",\"Male\",\"Male\",\"Male\",\"Male\",\"Male\",\"Male\",\"Female\",\"Male\",\"Male\",\"Male\",\"Male\",\"Male\",\"Male\",\"Male\",\"Male\",\"Male\",\"Male\",\"Male\",\"Male\",\"Female\",\"Female\",\"Male\",\"Male\",\"Male\",\"Male\",\"Male\",\"Male\",\"Female\",\"Female\",\"Male\",\"Male\",\"Male\",\"Female\",\"Male\",\"Male\",\"Male\",\"Male\",\"Male\",\"Male\",\"Male\",\"Male\",\"Female\",\"Male\",\"Male\",\"Male\",\"Male\",\"Male\",\"Male\",\"Male\",\"Male\",\"Male\",\"Male\",\"Male\",\"Male\",\"Male\",\"Female\",\"Male\",\"Male\",\"Male\",\"Female\",\"Female\",\"Male\",\"Male\",\"Male\",\"Male\",\"Male\",\"Male\",\"Male\",\"Male\",\"Male\",\"Male\",\"Male\",\"Male\",\"Female\",\"Male\",\"Male\",\"Male\",\"Female\",\"Male\",\"Male\",\"Male\",\"Male\",\"Male\",\"Male\",\"Female\",\"Female\",\"Male\",\"Male\",\"Male\",\"Male\",\"Female\",\"Female\",\"Female\",\"Male\",\"Male\",\"Male\",\"Male\",\"Male\",\"Male\",\"Male\",\"Male\",\"Female\",\"Male\",\"Male\",\"Male\",\"Female\",\"Male\",\"Male\",\"Female\",\"Male\",\"Female\",\"Male\",\"Male\",\"Male\",\"Male\",\"Female\",\"Male\",\"Male\",\"Male\",\"Female\",\"Female\",\"Male\",\"Male\",\"Male\",\"Female\",\"Male\",\"Male\",\"Male\",\"Female\",\"Female\",\"Male\",\"Male\",\"Female\",\"Male\",\"Female\",\"Male\",\"Male\",\"Male\",\"Male\",\"Male\",\"Female\",\"Male\",\"Male\",\"Male\",\"Male\",\"Female\",\"Male\",\"Male\",\"Male\",\"Male\",\"Female\",\"Female\",\"Male\",\"Male\",\"Male\",\"Male\",\"Male\",\"Male\",\"Male\",\"Male\",\"Female\",\"Female\",\"Male\",\"Female\",\"Male\",\"Male\",\"Male\",\"Male\",\"Male\",\"Male\",\"Male\",\"Male\",\"Male\",\"Male\",\"Male\",\"Female\",\"Female\",\"Female\",\"Male\",\"Male\",\"Male\",\"Male\",\"Female\",\"Male\",\"Male\",\"Male\",\"Male\",\"Male\",\"Male\",\"Male\",\"Male\",\"Male\",\"Female\",\"Male\",\"Male\",\"Male\",\"Female\",\"Male\",\"Male\",\"Male\",\"Male\",\"Male\",\"Male\",\"Male\",\"Female\",\"Male\",\"Male\",\"Male\",\"Male\",\"Male\",\"Male\",\"Male\",\"Male\",\"Male\",\"Male\",\"Male\",\"Male\",\"Male\",\"Female\",\"Male\",\"Male\",\"Female\",\"Male\",\"Male\",\"Male\",\"Female\",\"Female\",\"Female\",\"Male\",\"Female\",\"Male\",\"Male\",\"Female\",\"Male\",\"Male\",\"Male\",\"Female\",\"Female\",\"Female\",\"Male\",\"Male\",\"Male\",\"Male\",\"Female\",\"Male\",\"Male\",\"Male\",\"Male\",\"Female\",\"Male\",\"Male\",\"Male\",\"Female\",\"Male\",\"Male\",\"Male\",\"Male\",\"Female\",\"Male\",\"Male\",\"Male\",\"Female\",\"Male\",\"Male\",\"Male\",\"Male\",\"Male\",\"Male\",\"Male\",\"Male\",\"Male\",\"Male\",\"Male\",\"Male\",\"Male\",\"Male\",\"Male\",\"Male\",\"Male\",\"Male\",\"Male\",\"Male\",\"Male\",\"Male\",\"Male\",\"Female\",\"Male\",\"Male\",\"Male\",\"Male\",\"Female\",\"Male\",\"Male\",\"Male\",\"Male\",\"Female\",\"Male\",\"Male\",\"Male\",\"Male\",\"Male\",\"Male\",\"Female\",\"Male\",\"Male\",\"Male\",\"Male\",\"Male\",\"Male\",\"Male\",\"Male\",\"Male\",\"Male\",\"Male\",\"Male\",\"Female\",\"Male\",\"Female\",\"Male\",\"Male\",\"Male\",\"Male\",\"Female\",\"Female\",\"Male\",\"Male\",\"Male\",\"Male\",\"Male\",\"Male\",\"Male\",\"Female\",\"Male\",\"Male\",\"Male\",\"Male\",\"Male\",\"Male\",\"Female\",\"Male\",\"Male\",\"Female\",\"Male\",\"Male\",\"Male\",\"Male\",\"Male\",\"Male\",\"Male\",\"Male\",\"Male\",\"Male\",\"Male\",\"Male\",\"Male\",\"Male\",\"Female\",\"Male\",\"Male\",\"Male\",\"Male\",\"Male\",\"Female\",\"Female\",\"Female\",\"Male\",\"Female\",\"Male\",\"Male\",\"Male\",\"Female\",\"Male\",\"Male\",\"Male\",\"Male\",\"Male\",\"Male\",\"Male\",\"Female\",\"Male\",\"Male\",\"Female\",\"Male\",\"Female\",\"Male\",\"Male\",\"Male\",\"Male\",\"Male\",\"Male\",\"Female\",\"Male\",\"Male\",\"Male\",\"Male\",\"Male\",\"Male\",\"Male\",\"Male\",\"Male\",\"Male\",\"Male\",\"Male\",\"Male\",\"Female\",\"Male\",\"Male\",\"Male\",\"Male\",\"Female\",\"Male\",\"Male\",\"Male\",\"Male\",\"Male\",\"Male\",\"Male\",\"Male\",\"Male\",\"Male\",\"Male\",\"Male\",\"Female\",\"Male\",\"Male\",\"Male\",\"Female\",\"Male\",\"Male\",\"Male\",\"Male\",\"Female\",\"Male\",\"Male\",\"Male\",\"Female\",\"Male\",\"Male\",\"Male\",\"Male\",\"Male\",\"Male\",\"Female\",\"Female\",\"Male\",\"Male\",\"Male\",\"Female\",\"Male\",\"Male\",\"Male\",\"Male\",\"Male\",\"Male\",\"Male\",\"Male\",\"Female\",\"Male\",\"Male\",\"Male\",\"Male\",\"Male\",\"Male\",\"Male\",\"Male\",\"Male\",\"Male\",\"Male\",\"Male\",\"Male\",\"Female\",\"Male\",\"Male\",\"Male\",\"Female\",\"Female\",\"Male\",\"Male\",\"Male\",\"Male\",\"Male\",\"Male\",\"Male\",\"Male\",\"Male\",\"Male\",\"Male\",\"Male\",\"Female\",\"Male\",\"Male\",\"Male\",\"Female\",\"Male\",\"Male\",\"Male\",\"Male\",\"Male\",\"Male\",\"Female\",\"Female\",\"Male\",\"Male\",\"Male\",\"Male\",\"Female\",\"Female\",\"Female\",\"Male\",\"Male\",\"Male\",\"Male\",\"Male\",\"Male\",\"Male\",\"Male\",\"Female\",\"Male\",\"Male\",\"Male\",\"Female\",\"Male\",\"Male\",\"Female\",\"Male\",\"Female\",\"Male\",\"Male\",\"Male\",\"Male\",\"Female\",\"Male\",\"Male\",\"Male\",\"Female\",\"Female\",\"Male\",\"Male\",\"Male\",\"Female\",\"Male\",\"Male\",\"Male\",\"Female\",\"Female\",\"Male\",\"Male\",\"Female\",\"Male\",\"Female\",\"Male\",\"Male\",\"Male\",\"Male\",\"Male\",\"Female\",\"Male\",\"Male\",\"Male\",\"Male\",\"Female\",\"Male\",\"Male\",\"Male\",\"Male\",\"Female\",\"Female\",\"Male\",\"Male\",\"Male\",\"Male\",\"Male\",\"Male\",\"Male\",\"Male\",\"Female\",\"Female\",\"Male\",\"Female\",\"Male\",\"Male\",\"Male\",\"Male\",\"Male\",\"Male\",\"Male\",\"Male\",\"Male\",\"Male\",\"Male\",\"Female\",\"Female\",\"Female\",\"Male\",\"Male\",\"Male\",\"Male\",\"Female\",\"Male\",\"Male\",\"Male\",\"Male\",\"Male\",\"Male\",\"Male\",\"Male\",\"Male\",\"Female\",\"Male\",\"Male\",\"Male\",\"Female\",\"Male\",\"Male\",\"Male\",\"Male\",\"Male\",\"Male\",\"Male\",\"Female\",\"Male\",\"Male\",\"Male\",\"Male\",\"Male\",\"Male\",\"Male\",\"Male\",\"Male\",\"Male\",\"Male\",\"Male\",\"Male\",\"Female\",\"Male\",\"Male\",\"Female\",\"Male\",\"Male\",\"Male\",\"Female\",\"Female\",\"Female\",\"Male\",\"Female\",\"Male\",\"Male\",\"Female\",\"Male\",\"Male\",\"Male\",\"Female\",\"Female\",\"Female\",\"Male\",\"Male\",\"Male\",\"Male\",\"Female\",\"Male\",\"Male\",\"Male\",\"Male\",\"Female\",\"Male\",\"Male\",\"Male\",\"Female\",\"Male\",\"Male\",\"Male\",\"Male\",\"Female\",\"Male\",\"Male\",\"Male\",\"Female\",\"Male\",\"Male\",\"Male\",\"Male\",\"Male\",\"Male\",\"Male\",\"Male\",\"Male\",\"Male\",\"Male\",\"Male\",\"Male\",\"Male\",\"Male\",\"Male\",\"Male\",\"Male\",\"Male\",\"Male\",\"Male\",\"Male\",\"Male\",\"Female\",\"Male\",\"Male\",\"Male\",\"Male\",\"Female\",\"Male\",\"Male\",\"Male\",\"Male\",\"Female\",\"Male\",\"Male\",\"Male\",\"Male\",\"Male\",\"Male\",\"Female\",\"Male\",\"Male\",\"Male\",\"Male\",\"Male\",\"Male\",\"Male\",\"Male\",\"Male\",\"Male\",\"Male\",\"Male\",\"Female\",\"Male\",\"Female\",\"Male\",\"Male\",\"Male\",\"Male\",\"Female\",\"Female\",\"Male\",\"Male\",\"Male\",\"Male\",\"Male\",\"Male\",\"Male\",\"Female\",\"Male\",\"Male\",\"Male\",\"Male\",\"Male\",\"Male\",\"Female\",\"Male\",\"Male\",\"Female\",\"Male\",\"Male\",\"Male\",\"Male\",\"Male\",\"Male\",\"Male\",\"Male\",\"Male\",\"Male\",\"Male\",\"Male\",\"Male\",\"Male\",\"Female\",\"Male\",\"Male\",\"Male\",\"Male\",\"Male\",\"Female\",\"Female\",\"Female\",\"Male\",\"Female\",\"Male\",\"Male\",\"Male\",\"Female\",\"Male\",\"Male\",\"Male\",\"Male\",\"Male\",\"Male\",\"Male\",\"Female\",\"Male\",\"Male\",\"Female\",\"Male\",\"Female\",\"Male\",\"Male\",\"Male\",\"Male\",\"Male\",\"Male\",\"Female\",\"Male\",\"Male\",\"Male\",\"Male\",\"Male\",\"Male\",\"Male\",\"Male\",\"Male\",\"Male\",\"Male\",\"Male\",\"Male\",\"Female\",\"Male\",\"Male\",\"Male\",\"Male\",\"Female\",\"Male\",\"Male\",\"Male\",\"Male\",\"Male\",\"Male\",\"Male\",\"Male\",\"Male\",\"Male\",\"Male\",\"Male\",\"Female\",\"Male\",\"Male\",\"Male\",\"Female\",\"Male\",\"Male\",\"Male\",\"Male\",\"Female\",\"Male\",\"Male\",\"Male\",\"Female\"]},{\"axis\":{\"matches\":true},\"label\":\"married\",\"values\":[\"No\",\"Yes\",\"Yes\",\"Yes\",\"No\",\"Yes\",\"Yes\",\"Yes\",\"Yes\",\"Yes\",\"Yes\",\"Yes\",\"Yes\",\"No\",\"Yes\",\"No\",\"No\",\"No\",\"Yes\",\"Yes\",\"Yes\",\"Yes\",\"Yes\",\"Yes\",\"Yes\",\"Yes\",\"Yes\",\"Yes\",\"No\",\"No\",\"Yes\",\"No\",\"No\",\"Yes\",\"No\",\"Yes\",\"Yes\",\"Yes\",\"No\",\"No\",\"No\",\"No\",\"Yes\",\"Yes\",\"Yes\",\"No\",\"Yes\",\"Yes\",\"Yes\",\"No\",\"Yes\",\"No\",\"No\",\"Yes\",\"Yes\",\"Yes\",\"Yes\",\"Yes\",\"Yes\",\"Yes\",\"Yes\",\"Yes\",\"Yes\",\"Yes\",\"No\",\"Yes\",\"No\",\"Yes\",\"Yes\",\"No\",\"Yes\",\"Yes\",\"No\",\"Yes\",\"Yes\",\"No\",\"No\",\"Yes\",\"Yes\",\"Yes\",\"No\",\"Yes\",\"Yes\",\"Yes\",\"Yes\",\"No\",\"Yes\",\"Yes\",\"No\",\"Yes\",\"Yes\",\"Yes\",\"Yes\",\"No\",\"No\",\"No\",\"Yes\",\"Yes\",\"Yes\",\"Yes\",\"Yes\",\"No\",\"Yes\",\"Yes\",\"Yes\",\"Yes\",\"Yes\",\"No\",\"Yes\",\"Yes\",\"No\",\"Yes\",\"Yes\",\"No\",\"No\",\"Yes\",\"Yes\",\"Yes\",\"Yes\",\"No\",\"Yes\",\"No\",\"No\",\"Yes\",\"Yes\",\"No\",\"Yes\",\"No\",\"Yes\",\"Yes\",\"No\",\"No\",\"No\",\"Yes\",\"No\",\"Yes\",\"Yes\",\"Yes\",\"No\",\"Yes\",\"Yes\",\"No\",\"No\",\"Yes\",\"Yes\",\"Yes\",\"Yes\",\"Yes\",\"No\",\"Yes\",\"No\",\"Yes\",\"No\",\"Yes\",\"No\",\"Yes\",\"Yes\",\"Yes\",\"No\",\"Yes\",\"Yes\",\"Yes\",\"Yes\",\"Yes\",\"Yes\",\"Yes\",\"Yes\",\"Yes\",\"No\",\"Yes\",\"Yes\",\"Yes\",\"Yes\",\"Yes\",\"Yes\",\"Yes\",\"Yes\",\"Yes\",\"Yes\",\"No\",\"Yes\",\"No\",\"Yes\",\"Yes\",\"Yes\",\"Yes\",\"Yes\",\"Yes\",\"Yes\",\"Yes\",\"No\",\"No\",\"Yes\",\"No\",\"No\",\"Yes\",\"No\",\"No\",\"Yes\",\"No\",\"Yes\",\"No\",\"Yes\",\"Yes\",\"Yes\",\"No\",\"No\",\"No\",\"No\",\"No\",\"No\",\"Yes\",\"Yes\",\"Yes\",\"Yes\",\"Yes\",\"Yes\",\"Yes\",\"Yes\",\"Yes\",\"Yes\",\"Yes\",\"No\",\"Yes\",\"Yes\",\"Yes\",\"Yes\",\"Yes\",\"Yes\",\"No\",\"Yes\",\"Yes\",\"No\",\"No\",\"Yes\",\"Yes\",\"Yes\",\"No\",\"No\",\"Yes\",\"Yes\",\"Yes\",\"No\",\"Yes\",\"Yes\",\"No\",\"Yes\",\"Yes\",\"Yes\",\"Yes\",\"Yes\",\"No\",\"No\",\"Yes\",\"No\",\"No\",\"No\",\"Yes\",\"Yes\",\"Yes\",\"Yes\",\"No\",\"No\",\"No\",\"No\",\"No\",\"Yes\",\"Yes\",\"No\",\"No\",\"No\",\"Yes\",\"No\",\"Yes\",\"Yes\",\"Yes\",\"Yes\",\"Yes\",\"Yes\",\"Yes\",\"No\",\"Yes\",\"Yes\",\"No\",\"Yes\",\"No\",\"No\",\"Yes\",\"No\",\"No\",\"Yes\",\"Yes\",\"Yes\",\"No\",\"Yes\",\"Yes\",\"Yes\",\"Yes\",\"No\",\"Yes\",\"Yes\",\"Yes\",\"No\",\"Yes\",\"No\",\"No\",\"No\",\"No\",\"No\",\"Yes\",\"No\",\"No\",\"No\",\"Yes\",\"Yes\",\"Yes\",\"Yes\",\"Yes\",\"No\",\"Yes\",\"Yes\",\"Yes\",\"Yes\",\"No\",\"Yes\",\"Yes\",\"No\",\"Yes\",\"Yes\",\"No\",\"No\",\"No\",\"No\",\"Yes\",\"Yes\",\"Yes\",\"Yes\",\"Yes\",\"No\",\"No\",\"Yes\",\"No\",\"Yes\",\"Yes\",\"Yes\",\"Yes\",\"Yes\",\"Yes\",\"Yes\",\"Yes\",\"Yes\",\"No\",\"Yes\",\"Yes\",\"Yes\",\"No\",\"Yes\",\"Yes\",\"Yes\",\"Yes\",\"No\",\"Yes\",\"Yes\",\"Yes\",\"No\",\"No\",\"No\",\"No\",\"Yes\",\"Yes\",\"No\",\"Yes\",\"Yes\",\"No\",\"No\",\"Yes\",\"Yes\",\"Yes\",\"No\",\"Yes\",\"Yes\",\"No\",\"No\",\"No\",\"Yes\",\"No\",\"No\",\"Yes\",\"Yes\",\"Yes\",\"No\",\"Yes\",\"Yes\",\"Yes\",\"Yes\",\"Yes\",\"No\",\"Yes\",\"No\",\"No\",\"Yes\",\"No\",\"No\",\"No\",\"No\",\"No\",\"Yes\",\"No\",\"Yes\",\"Yes\",\"No\",\"Yes\",\"Yes\",\"Yes\",\"Yes\",\"No\",\"No\",\"Yes\",\"Yes\",\"Yes\",\"Yes\",\"No\",\"Yes\",\"Yes\",\"Yes\",\"Yes\",\"No\",\"Yes\",\"Yes\",\"No\",\"No\",\"No\",\"No\",\"Yes\",\"No\",\"Yes\",\"No\",\"Yes\",\"No\",\"Yes\",\"No\",\"Yes\",\"No\",\"No\",\"Yes\",\"Yes\",\"Yes\",\"Yes\",\"Yes\",\"No\",\"Yes\",\"Yes\",\"Yes\",\"Yes\",\"No\",\"Yes\",\"Yes\",\"Yes\",\"No\",\"Yes\",\"Yes\",\"Yes\",\"Yes\",\"No\",\"No\",\"No\",\"Yes\",\"Yes\",\"Yes\",\"Yes\",\"Yes\",\"Yes\",\"Yes\",\"No\",\"No\",\"Yes\",\"Yes\",\"Yes\",\"Yes\",\"Yes\",\"No\",\"Yes\",\"Yes\",\"Yes\",\"Yes\",\"Yes\",\"No\",\"Yes\",\"Yes\",\"No\",\"No\",\"Yes\",\"No\",\"No\",\"Yes\",\"Yes\",\"Yes\",\"Yes\",\"Yes\",\"No\",\"No\",\"No\",\"Yes\",\"Yes\",\"Yes\",\"Yes\",\"Yes\",\"No\",\"Yes\",\"No\",\"No\",\"Yes\",\"Yes\",\"Yes\",\"No\",\"Yes\",\"Yes\",\"Yes\",\"No\",\"No\",\"Yes\",\"No\",\"Yes\",\"Yes\",\"No\",\"Yes\",\"Yes\",\"Yes\",\"No\",\"No\",\"Yes\",\"Yes\",\"No\",\"No\",\"No\",\"No\",\"Yes\",\"No\",\"Yes\",\"Yes\",\"Yes\",\"No\",\"No\",\"Yes\",\"Yes\",\"Yes\",\"No\",\"No\",\"No\",\"Yes\",\"Yes\",\"Yes\",\"Yes\",\"Yes\",\"Yes\",\"Yes\",\"No\",\"Yes\",\"Yes\",\"Yes\",\"Yes\",\"Yes\",\"Yes\",\"No\",\"Yes\",\"Yes\",\"No\",\"Yes\",\"No\",\"Yes\",\"Yes\",\"Yes\",\"Yes\",\"Yes\",\"Yes\",\"Yes\",\"Yes\",\"No\",\"Yes\",\"No\",\"Yes\",\"No\",\"Yes\",\"Yes\",\"Yes\",\"Yes\",\"Yes\",\"No\",\"No\",\"Yes\",\"Yes\",\"Yes\",\"No\",\"Yes\",\"Yes\",\"No\",\"Yes\",\"No\",\"Yes\",\"Yes\",\"No\",\"Yes\",\"Yes\",\"No\",\"Yes\",\"Yes\",\"Yes\",\"Yes\",\"Yes\",\"No\",\"Yes\",\"Yes\",\"Yes\",\"No\",\"Yes\",\"No\",\"Yes\",\"No\",\"No\",\"No\",\"Yes\",\"Yes\",\"Yes\",\"Yes\",\"Yes\",\"Yes\",\"No\",\"No\",\"No\",\"No\",\"No\",\"No\",\"No\",\"No\",\"No\",\"No\",\"No\",\"Yes\",\"No\",\"No\",\"No\",\"No\",\"No\",\"0\",\"Yes\",\"No\",\"No\",\"Yes\",\"Yes\",\"No\",\"No\",\"No\",\"Yes\",\"Yes\",\"No\",\"No\",\"No\",\"Yes\",\"No\",\"No\",\"Yes\",\"No\",\"No\",\"No\",\"No\",\"No\",\"Yes\",\"Yes\",\"No\",\"Yes\",\"Yes\",\"Yes\",\"No\",\"No\",\"No\",\"No\",\"Yes\",\"Yes\",\"Yes\",\"Yes\",\"Yes\",\"No\",\"No\",\"Yes\",\"Yes\",\"Yes\",\"No\",\"Yes\",\"No\",\"No\",\"No\",\"No\",\"No\",\"No\",\"No\",\"Yes\",\"No\",\"No\",\"Yes\",\"No\",\"Yes\",\"Yes\",\"No\",\"Yes\",\"Yes\",\"No\",\"No\",\"No\",\"Yes\",\"No\",\"No\",\"No\",\"No\",\"Yes\",\"No\",\"No\",\"No\",\"Yes\",\"No\",\"Yes\",\"Yes\",\"Yes\",\"Yes\",\"Yes\",\"No\",\"Yes\",\"Yes\",\"Yes\",\"No\",\"No\",\"No\",\"No\",\"No\",\"Yes\",\"No\",\"No\",\"No\",\"No\",\"Yes\",\"No\",\"No\",\"Yes\",\"No\",\"No\",\"Yes\",\"Yes\",\"Yes\",\"Yes\",\"No\",\"No\",\"No\",\"No\",\"No\",\"Yes\",\"Yes\",\"No\",\"Yes\",\"No\",\"No\",\"No\",\"No\",\"No\",\"No\",\"No\",\"No\",\"No\",\"Yes\",\"No\",\"No\",\"No\",\"Yes\",\"No\",\"No\",\"No\",\"No\",\"Yes\",\"No\",\"No\",\"No\",\"Yes\",\"Yes\",\"Yes\",\"Yes\",\"No\",\"No\",\"Yes\",\"No\",\"No\",\"Yes\",\"Yes\",\"No\",\"No\",\"No\",\"Yes\",\"No\",\"No\",\"Yes\",\"Yes\",\"Yes\",\"No\",\"Yes\",\"Yes\",\"No\",\"No\",\"No\",\"Yes\",\"No\",\"No\",\"No\",\"No\",\"No\",\"Yes\",\"No\",\"Yes\",\"Yes\",\"No\",\"Yes\",\"Yes\",\"Yes\",\"Yes\",\"Yes\",\"No\",\"Yes\",\"No\",\"No\",\"Yes\",\"No\",\"No\",\"No\",\"No\",\"Yes\",\"Yes\",\"No\",\"No\",\"No\",\"No\",\"Yes\",\"No\",\"No\",\"No\",\"No\",\"Yes\",\"No\",\"No\",\"Yes\",\"Yes\",\"Yes\",\"Yes\",\"No\",\"Yes\",\"0\",\"Yes\",\"No\",\"Yes\",\"No\",\"Yes\",\"No\",\"Yes\",\"Yes\",\"No\",\"No\",\"No\",\"No\",\"No\",\"Yes\",\"No\",\"No\",\"No\",\"No\",\"Yes\",\"No\",\"No\",\"No\",\"Yes\",\"No\",\"No\",\"No\",\"No\",\"Yes\",\"Yes\",\"Yes\",\"No\",\"No\",\"No\",\"No\",\"No\",\"No\",\"No\",\"Yes\",\"Yes\",\"No\",\"No\",\"No\",\"No\",\"No\",\"Yes\",\"No\",\"No\",\"No\",\"No\",\"No\",\"Yes\",\"No\",\"No\",\"Yes\",\"Yes\",\"No\",\"Yes\",\"Yes\",\"No\",\"No\",\"No\",\"No\",\"No\",\"Yes\",\"Yes\",\"Yes\",\"No\",\"No\",\"No\",\"No\",\"No\",\"Yes\",\"No\",\"Yes\",\"Yes\",\"No\",\"No\",\"No\",\"Yes\",\"No\",\"No\",\"No\",\"Yes\",\"Yes\",\"No\",\"Yes\",\"No\",\"No\",\"Yes\",\"No\",\"No\",\"No\",\"Yes\",\"Yes\",\"No\",\"No\",\"Yes\",\"Yes\",\"Yes\",\"Yes\",\"No\",\"Yes\",\"No\",\"No\",\"No\",\"Yes\",\"Yes\",\"No\",\"No\",\"No\",\"Yes\",\"Yes\",\"Yes\",\"No\",\"No\",\"No\",\"No\",\"No\",\"No\",\"No\",\"Yes\",\"No\",\"No\",\"No\",\"No\",\"No\",\"No\",\"Yes\",\"No\",\"No\",\"Yes\",\"No\",\"Yes\",\"No\",\"No\",\"No\",\"No\",\"No\",\"No\",\"No\",\"No\",\"Yes\",\"No\",\"Yes\",\"No\",\"Yes\",\"No\",\"No\",\"No\",\"No\",\"No\",\"Yes\",\"Yes\",\"No\",\"No\",\"No\",\"Yes\",\"No\",\"No\",\"Yes\",\"No\",\"Yes\",\"No\",\"No\",\"Yes\",\"No\",\"No\",\"Yes\",\"No\",\"No\",\"No\",\"No\",\"No\",\"Yes\",\"No\",\"No\",\"No\",\"Yes\"]},{\"axis\":{\"matches\":true},\"label\":\"dependents\",\"values\":[\"0\",\"1\",\"0\",\"0\",\"0\",\"2\",\"0\",\"3\",\"2\",\"1\",\"2\",\"2\",\"2\",\"0\",\"2\",\"0\",\"1\",\"0\",\"0\",\"0\",\"0\",\"1\",\"0\",\"2\",\"1\",\"0\",\"0\",\"2\",\"0\",\"2\",\"1\",\"0\",\"1\",\"0\",\"3\",\"0\",\"0\",\"0\",\"0\",\"0\",\"0\",\"0\",\"0\",\"0\",\"0\",\"0\",\"1\",\"0\",\"0\",\"0\",\"0\",\"0\",\"0\",\"2\",\"1\",\"2\",\"0\",\"0\",\"1\",\"2\",\"0\",\"3\",\"0\",\"1\",\"0\",\"0\",\"0\",\"1\",\"3\",\"0\",\"0\",\"2\",\"0\",\"3\",\"3\",\"0\",\"0\",\"1\",\"3\",\"3\",\"0\",\"1\",\"2\",\"0\",\"1\",\"0\",\"2\",\"0\",\"0\",\"0\",\"0\",\"2\",\"2\",\"0\",\"0\",\"0\",\"0\",\"0\",\"0\",\"0\",\"2\",\"0\",\"0\",\"0\",\"0\",\"1\",\"2\",\"0\",\"2\",\"3\",\"0\",\"0\",\"0\",\"1\",\"0\",\"1\",\"0\",\"1\",\"0\",\"0\",\"0\",\"0\",\"0\",\"2\",\"0\",\"0\",\"3\",\"0\",\"1\",\"0\",\"0\",\"0\",\"0\",\"0\",\"0\",\"3\",\"0\",\"2\",\"0\",\"2\",\"2\",\"0\",\"0\",\"0\",\"2\",\"0\",\"2\",\"1\",\"0\",\"0\",\"0\",\"0\",\"0\",\"2\",\"0\",\"3\",\"1\",\"1\",\"0\",\"0\",\"0\",\"0\",\"1\",\"2\",\"0\",\"0\",\"0\",\"0\",\"0\",\"2\",\"0\",\"3\",\"3\",\"0\",\"0\",\"0\",\"2\",\"3\",\"1\",\"0\",\"1\",\"0\",\"0\",\"1\",\"0\",\"0\",\"1\",\"0\",\"0\",\"0\",\"0\",\"0\",\"0\",\"0\",\"0\",\"1\",\"0\",\"0\",\"0\",\"0\",\"1\",\"2\",\"3\",\"1\",\"2\",\"0\",\"0\",\"0\",\"0\",\"0\",\"0\",\"3\",\"1\",\"3\",\"0\",\"3\",\"0\",\"0\",\"2\",\"2\",\"0\",\"2\",\"0\",\"0\",\"0\",\"0\",\"0\",\"2\",\"0\",\"0\",\"1\",\"0\",\"0\",\"0\",\"1\",\"1\",\"0\",\"0\",\"1\",\"1\",\"2\",\"1\",\"0\",\"2\",\"0\",\"0\",\"2\",\"1\",\"1\",\"0\",\"0\",\"2\",\"0\",\"1\",\"0\",\"3\",\"0\",\"3\",\"0\",\"3\",\"1\",\"0\",\"1\",\"0\",\"0\",\"0\",\"2\",\"3\",\"0\",\"1\",\"0\",\"0\",\"0\",\"0\",\"2\",\"1\",\"0\",\"0\",\"0\",\"0\",\"1\",\"0\",\"2\",\"0\",\"0\",\"0\",\"0\",\"0\",\"0\",\"0\",\"0\",\"2\",\"2\",\"0\",\"0\",\"3\",\"1\",\"1\",\"0\",\"1\",\"0\",\"0\",\"0\",\"1\",\"0\",\"0\",\"0\",\"0\",\"0\",\"2\",\"0\",\"0\",\"0\",\"2\",\"0\",\"1\",\"2\",\"0\",\"1\",\"1\",\"0\",\"3\",\"2\",\"0\",\"3\",\"1\",\"0\",\"0\",\"0\",\"0\",\"1\",\"0\",\"0\",\"0\",\"1\",\"0\",\"1\",\"2\",\"3\",\"0\",\"3\",\"0\",\"1\",\"3\",\"2\",\"0\",\"0\",\"2\",\"0\",\"0\",\"0\",\"0\",\"3\",\"0\",\"0\",\"0\",\"2\",\"1\",\"0\",\"3\",\"1\",\"2\",\"0\",\"0\",\"0\",\"0\",\"0\",\"0\",\"1\",\"0\",\"0\",\"2\",\"2\",\"1\",\"0\",\"0\",\"3\",\"0\",\"0\",\"2\",\"0\",\"0\",\"0\",\"0\",\"2\",\"1\",\"0\",\"0\",\"0\",\"0\",\"3\",\"3\",\"0\",\"2\",\"2\",\"2\",\"0\",\"0\",\"0\",\"0\",\"2\",\"0\",\"0\",\"0\",\"0\",\"0\",\"0\",\"0\",\"1\",\"3\",\"1\",\"0\",\"0\",\"0\",\"0\",\"0\",\"1\",\"2\",\"0\",\"0\",\"0\",\"0\",\"0\",\"1\",\"0\",\"0\",\"1\",\"2\",\"0\",\"0\",\"1\",\"0\",\"0\",\"0\",\"0\",\"0\",\"0\",\"0\",\"0\",\"0\",\"0\",\"0\",\"3\",\"1\",\"0\",\"1\",\"2\",\"0\",\"2\",\"1\",\"2\",\"2\",\"0\",\"0\",\"0\",\"2\",\"0\",\"0\",\"2\",\"0\",\"0\",\"3\",\"0\",\"1\",\"0\",\"0\",\"3\",\"0\",\"2\",\"0\",\"1\",\"1\",\"3\",\"0\",\"2\",\"2\",\"2\",\"2\",\"1\",\"2\",\"0\",\"3\",\"0\",\"0\",\"2\",\"1\",\"2\",\"1\",\"2\",\"0\",\"0\",\"1\",\"0\",\"0\",\"0\",\"1\",\"0\",\"0\",\"1\",\"0\",\"0\",\"0\",\"2\",\"1\",\"0\",\"2\",\"0\",\"0\",\"0\",\"1\",\"0\",\"1\",\"2\",\"0\",\"0\",\"3\",\"2\",\"0\",\"0\",\"0\",\"2\",\"0\",\"3\",\"2\",\"0\",\"2\",\"0\",\"1\",\"1\",\"0\",\"0\",\"3\",\"2\",\"1\",\"0\",\"0\",\"0\",\"2\",\"0\",\"3\",\"1\",\"0\",\"1\",\"1\",\"0\",\"0\",\"0\",\"0\",\"0\",\"0\",\"2\",\"1\",\"1\",\"0\",\"0\",\"1\",\"0\",\"3\",\"0\",\"0\",\"2\",\"1\",\"0\",\"0\",\"2\",\"0\",\"0\",\"3\",\"0\",\"0\",\"1\",\"0\",\"2\",\"2\",\"3\",\"2\",\"0\",\"0\",\"1\",\"0\",\"2\",\"0\",\"0\",\"1\",\"1\",\"1\",\"0\",\"0\",\"0\",\"2\",\"0\",\"2\",\"3\",\"0\",\"0\",\"0\",\"2\",\"0\",\"0\",\"2\",\"3\",\"0\",\"3\",\"0\",\"1\",\"0\",\"1\",\"2\",\"0\",\"0\",\"3\",\"1\",\"2\",\"0\",\"1\",\"2\",\"2\",\"3\",\"2\",\"2\",\"1\",\"1\",\"1\",\"1\",\"1\",\"1\",\"3\",\"2\",\"3\",\"1\",\"3\",\"1\",\"1\",\"2\",\"2\",\"1\",\"2\",\"1\",\"1\",\"1\",\"1\",\"1\",\"2\",\"1\",\"1\",\"2\",\"1\",\"1\",\"1\",\"2\",\"2\",\"1\",\"1\",\"2\",\"2\",\"2\",\"2\",\"1\",\"2\",\"1\",\"1\",\"2\",\"2\",\"2\",\"1\",\"1\",\"2\",\"1\",\"2\",\"1\",\"3\",\"1\",\"3\",\"1\",\"3\",\"2\",\"1\",\"2\",\"1\",\"1\",\"1\",\"2\",\"3\",\"1\",\"2\",\"1\",\"1\",\"1\",\"1\",\"2\",\"2\",\"1\",\"1\",\"1\",\"1\",\"2\",\"1\",\"2\",\"1\",\"1\",\"1\",\"1\",\"1\",\"1\",\"1\",\"1\",\"2\",\"2\",\"1\",\"1\",\"3\",\"2\",\"2\",\"1\",\"2\",\"1\",\"1\",\"1\",\"2\",\"1\",\"1\",\"1\",\"1\",\"1\",\"2\",\"1\",\"1\",\"1\",\"2\",\"1\",\"2\",\"2\",\"1\",\"2\",\"2\",\"1\",\"3\",\"2\",\"1\",\"3\",\"2\",\"1\",\"1\",\"1\",\"1\",\"2\",\"1\",\"1\",\"1\",\"2\",\"1\",\"2\",\"2\",\"3\",\"1\",\"3\",\"1\",\"2\",\"3\",\"2\",\"1\",\"1\",\"2\",\"1\",\"1\",\"1\",\"1\",\"3\",\"1\",\"1\",\"1\",\"2\",\"2\",\"1\",\"3\",\"2\",\"2\",\"1\",\"1\",\"1\",\"1\",\"1\",\"1\",\"2\",\"1\",\"1\",\"2\",\"2\",\"2\",\"1\",\"1\",\"3\",\"1\",\"1\",\"2\",\"1\",\"1\",\"1\",\"1\",\"2\",\"2\",\"1\",\"1\",\"1\",\"1\",\"3\",\"3\",\"1\",\"2\",\"2\",\"2\",\"1\",\"1\",\"1\",\"1\",\"2\",\"1\",\"1\",\"1\",\"1\",\"1\",\"1\",\"1\",\"2\",\"3\",\"2\",\"1\",\"1\",\"1\",\"1\",\"1\",\"2\",\"2\",\"1\",\"1\",\"1\",\"1\",\"1\",\"2\",\"1\",\"1\",\"2\",\"2\",\"1\",\"1\",\"2\",\"1\",\"1\",\"1\",\"1\",\"1\",\"1\",\"1\",\"1\",\"1\",\"1\",\"1\",\"3\",\"2\",\"1\",\"2\",\"2\",\"1\",\"2\",\"2\",\"2\",\"2\",\"1\",\"1\",\"1\",\"2\",\"1\",\"1\",\"2\",\"1\",\"1\",\"3\",\"1\",\"2\",\"1\",\"1\",\"3\",\"1\",\"2\",\"1\",\"2\",\"2\",\"3\",\"1\",\"2\",\"2\",\"2\",\"2\",\"2\",\"2\",\"1\",\"3\",\"1\",\"1\",\"2\",\"2\",\"2\",\"2\",\"2\",\"1\",\"1\",\"2\",\"1\",\"1\",\"1\",\"2\",\"1\",\"1\",\"2\",\"1\",\"1\",\"1\",\"2\",\"2\",\"1\",\"2\",\"1\",\"1\",\"1\",\"2\",\"1\",\"2\",\"2\",\"1\",\"1\",\"3\",\"2\",\"1\",\"1\",\"1\",\"2\",\"1\",\"3\",\"2\",\"1\",\"2\",\"1\",\"2\",\"2\",\"1\",\"1\",\"3\",\"2\",\"2\",\"1\",\"1\",\"1\",\"2\",\"1\",\"3\",\"2\",\"1\",\"2\",\"2\",\"1\",\"1\",\"1\",\"1\",\"1\",\"1\",\"2\",\"2\",\"2\",\"1\",\"1\",\"2\",\"1\",\"3\",\"1\",\"1\",\"2\",\"2\",\"1\",\"1\",\"2\",\"1\",\"1\",\"3\",\"1\",\"1\",\"2\",\"1\",\"2\",\"2\",\"3\",\"2\",\"1\",\"1\",\"2\",\"1\",\"2\",\"1\",\"1\",\"2\",\"2\",\"2\",\"1\",\"1\",\"1\",\"2\",\"1\",\"2\",\"3\",\"1\",\"1\",\"1\",\"2\",\"1\",\"1\",\"2\",\"3\",\"1\",\"3\",\"1\",\"2\",\"1\",\"2\",\"2\",\"1\",\"1\",\"3\",\"2\",\"2\",\"1\"]},{\"axis\":{\"matches\":true},\"label\":\"education\",\"values\":[\"Graduate\",\"Graduate\",\"Graduate\",\"Not Graduate\",\"Graduate\",\"Graduate\",\"Not Graduate\",\"Graduate\",\"Graduate\",\"Graduate\",\"Graduate\",\"Graduate\",\"Graduate\",\"Graduate\",\"Graduate\",\"Graduate\",\"Not Graduate\",\"Graduate\",\"Not Graduate\",\"Graduate\",\"Not Graduate\",\"Graduate\",\"Not Graduate\",\"Not Graduate\",\"Graduate\",\"Graduate\",\"Graduate\",\"Not Graduate\",\"Not Graduate\",\"Graduate\",\"Graduate\",\"Graduate\",\"Graduate\",\"Graduate\",\"Graduate\",\"Graduate\",\"Graduate\",\"Graduate\",\"Graduate\",\"Not Graduate\",\"Graduate\",\"Graduate\",\"Graduate\",\"Graduate\",\"Not Graduate\",\"Graduate\",\"Graduate\",\"Graduate\",\"Graduate\",\"Graduate\",\"Not Graduate\",\"Graduate\",\"Graduate\",\"Graduate\",\"Graduate\",\"Graduate\",\"Graduate\",\"Graduate\",\"Graduate\",\"Not Graduate\",\"Graduate\",\"Graduate\",\"Not Graduate\",\"Graduate\",\"Graduate\",\"Graduate\",\"Not Graduate\",\"Graduate\",\"Not Graduate\",\"Graduate\",\"Graduate\",\"Not Graduate\",\"Graduate\",\"Not Graduate\",\"Graduate\",\"Graduate\",\"Graduate\",\"Graduate\",\"Graduate\",\"Not Graduate\",\"Graduate\",\"Graduate\",\"Graduate\",\"Graduate\",\"Graduate\",\"Graduate\",\"Not Graduate\",\"Graduate\",\"Graduate\",\"Graduate\",\"Graduate\",\"Graduate\",\"Not Graduate\",\"Graduate\",\"Not Graduate\",\"Graduate\",\"Graduate\",\"Graduate\",\"Not Graduate\",\"Graduate\",\"Not Graduate\",\"Graduate\",\"Graduate\",\"Graduate\",\"Graduate\",\"Graduate\",\"Graduate\",\"Not Graduate\",\"Graduate\",\"Not Graduate\",\"Graduate\",\"Graduate\",\"Not Graduate\",\"Graduate\",\"Graduate\",\"Graduate\",\"Graduate\",\"Graduate\",\"Graduate\",\"Graduate\",\"Graduate\",\"Graduate\",\"Graduate\",\"Graduate\",\"Not Graduate\",\"Graduate\",\"Graduate\",\"Graduate\",\"Graduate\",\"Graduate\",\"Graduate\",\"Graduate\",\"Graduate\",\"Graduate\",\"Graduate\",\"Graduate\",\"Graduate\",\"Graduate\",\"Graduate\",\"Not Graduate\",\"Graduate\",\"Graduate\",\"Graduate\",\"Graduate\",\"Graduate\",\"Graduate\",\"Graduate\",\"Graduate\",\"Graduate\",\"Graduate\",\"Graduate\",\"Graduate\",\"Graduate\",\"Not Graduate\",\"Graduate\",\"Graduate\",\"Graduate\",\"Graduate\",\"Graduate\",\"Graduate\",\"Not Graduate\",\"Graduate\",\"Graduate\",\"Graduate\",\"Graduate\",\"Graduate\",\"Graduate\",\"Graduate\",\"Graduate\",\"Graduate\",\"Not Graduate\",\"Graduate\",\"Not Graduate\",\"Graduate\",\"Not Graduate\",\"Graduate\",\"Graduate\",\"Graduate\",\"Graduate\",\"Not Graduate\",\"Graduate\",\"Graduate\",\"Graduate\",\"Graduate\",\"Graduate\",\"Graduate\",\"Graduate\",\"Graduate\",\"Graduate\",\"Graduate\",\"Not Graduate\",\"Graduate\",\"Not Graduate\",\"Graduate\",\"Graduate\",\"Graduate\",\"Graduate\",\"Not Graduate\",\"Graduate\",\"Graduate\",\"Not Graduate\",\"Graduate\",\"Not Graduate\",\"Not Graduate\",\"Not Graduate\",\"Not Graduate\",\"Graduate\",\"Not Graduate\",\"Graduate\",\"Graduate\",\"Graduate\",\"Graduate\",\"Graduate\",\"Not Graduate\",\"Graduate\",\"Not Graduate\",\"Graduate\",\"Graduate\",\"Graduate\",\"Graduate\",\"Graduate\",\"Graduate\",\"Graduate\",\"Graduate\",\"Graduate\",\"Graduate\",\"Not Graduate\",\"Graduate\",\"Graduate\",\"Graduate\",\"Graduate\",\"Graduate\",\"Not Graduate\",\"Graduate\",\"Graduate\",\"Graduate\",\"Graduate\",\"Graduate\",\"Graduate\",\"Graduate\",\"Graduate\",\"Not Graduate\",\"Graduate\",\"Graduate\",\"Not Graduate\",\"Graduate\",\"Graduate\",\"Not Graduate\",\"Graduate\",\"Graduate\",\"Not Graduate\",\"Graduate\",\"Not Graduate\",\"Not Graduate\",\"Graduate\",\"Graduate\",\"Not Graduate\",\"Graduate\",\"Graduate\",\"Not Graduate\",\"Graduate\",\"Graduate\",\"Graduate\",\"Graduate\",\"Graduate\",\"Graduate\",\"Graduate\",\"Graduate\",\"Graduate\",\"Graduate\",\"Graduate\",\"Graduate\",\"Graduate\",\"Graduate\",\"Graduate\",\"Graduate\",\"Graduate\",\"Graduate\",\"Graduate\",\"Not Graduate\",\"Not Graduate\",\"Graduate\",\"Graduate\",\"Graduate\",\"Graduate\",\"Graduate\",\"Graduate\",\"Graduate\",\"Graduate\",\"Graduate\",\"Graduate\",\"Graduate\",\"Graduate\",\"Graduate\",\"Graduate\",\"Graduate\",\"Graduate\",\"Graduate\",\"Graduate\",\"Graduate\",\"Not Graduate\",\"Not Graduate\",\"Graduate\",\"Graduate\",\"Graduate\",\"Not Graduate\",\"Graduate\",\"Graduate\",\"Graduate\",\"Not Graduate\",\"Graduate\",\"Not Graduate\",\"Graduate\",\"Graduate\",\"Graduate\",\"Not Graduate\",\"Graduate\",\"Graduate\",\"Graduate\",\"Graduate\",\"Graduate\",\"Graduate\",\"Not Graduate\",\"Graduate\",\"Graduate\",\"Graduate\",\"Graduate\",\"Graduate\",\"Graduate\",\"Graduate\",\"Graduate\",\"Graduate\",\"Graduate\",\"Graduate\",\"Graduate\",\"Graduate\",\"Graduate\",\"Graduate\",\"Not Graduate\",\"Graduate\",\"Not Graduate\",\"Graduate\",\"Not Graduate\",\"Not Graduate\",\"Graduate\",\"Graduate\",\"Not Graduate\",\"Not Graduate\",\"Graduate\",\"Graduate\",\"Graduate\",\"Graduate\",\"Graduate\",\"Graduate\",\"Graduate\",\"Graduate\",\"Graduate\",\"Graduate\",\"Not Graduate\",\"Graduate\",\"Graduate\",\"Graduate\",\"Graduate\",\"Graduate\",\"Graduate\",\"Not Graduate\",\"Graduate\",\"Graduate\",\"Graduate\",\"Graduate\",\"Graduate\",\"Graduate\",\"Graduate\",\"Graduate\",\"Graduate\",\"Graduate\",\"Graduate\",\"Graduate\",\"Graduate\",\"Graduate\",\"Graduate\",\"Graduate\",\"Graduate\",\"Graduate\",\"Graduate\",\"Graduate\",\"Not Graduate\",\"Not Graduate\",\"Graduate\",\"Graduate\",\"Graduate\",\"Graduate\",\"Graduate\",\"Not Graduate\",\"Graduate\",\"Graduate\",\"Graduate\",\"Graduate\",\"Not Graduate\",\"Graduate\",\"Not Graduate\",\"Not Graduate\",\"Graduate\",\"Not Graduate\",\"Graduate\",\"Graduate\",\"Not Graduate\",\"Not Graduate\",\"Graduate\",\"Graduate\",\"Not Graduate\",\"Graduate\",\"Not Graduate\",\"Not Graduate\",\"Not Graduate\",\"Graduate\",\"Graduate\",\"Graduate\",\"Graduate\",\"Graduate\",\"Graduate\",\"Not Graduate\",\"Graduate\",\"Graduate\",\"Graduate\",\"Graduate\",\"Not Graduate\",\"Graduate\",\"Graduate\",\"Not Graduate\",\"Graduate\",\"Graduate\",\"Graduate\",\"Graduate\",\"Graduate\",\"Graduate\",\"Graduate\",\"Graduate\",\"Graduate\",\"Not Graduate\",\"Graduate\",\"Graduate\",\"Not Graduate\",\"Graduate\",\"Graduate\",\"Graduate\",\"Not Graduate\",\"Graduate\",\"Graduate\",\"Not Graduate\",\"Not Graduate\",\"Not Graduate\",\"Graduate\",\"Graduate\",\"Graduate\",\"Graduate\",\"Graduate\",\"Graduate\",\"Graduate\",\"Graduate\",\"Graduate\",\"Graduate\",\"Graduate\",\"Not Graduate\",\"Graduate\",\"Graduate\",\"Not Graduate\",\"Graduate\",\"Not Graduate\",\"Graduate\",\"Graduate\",\"Not Graduate\",\"Graduate\",\"Graduate\",\"Graduate\",\"Graduate\",\"Graduate\",\"Graduate\",\"Graduate\",\"Graduate\",\"Not Graduate\",\"Not Graduate\",\"Graduate\",\"Graduate\",\"Graduate\",\"Not Graduate\",\"Graduate\",\"Graduate\",\"Graduate\",\"Graduate\",\"Not Graduate\",\"Not Graduate\",\"Not Graduate\",\"Not Graduate\",\"Graduate\",\"Graduate\",\"Not Graduate\",\"Graduate\",\"Graduate\",\"Graduate\",\"Graduate\",\"Graduate\",\"Graduate\",\"Not Graduate\",\"Not Graduate\",\"Graduate\",\"Graduate\",\"Graduate\",\"Graduate\",\"Graduate\",\"Not Graduate\",\"Graduate\",\"Graduate\",\"Graduate\",\"Graduate\",\"Graduate\",\"Graduate\",\"Not Graduate\",\"Graduate\",\"Not Graduate\",\"Not Graduate\",\"Graduate\",\"Graduate\",\"Graduate\",\"Graduate\",\"Graduate\",\"Graduate\",\"Not Graduate\",\"Not Graduate\",\"Not Graduate\",\"Graduate\",\"Graduate\",\"Graduate\",\"Graduate\",\"Not Graduate\",\"Not Graduate\",\"Graduate\",\"Graduate\",\"Not Graduate\",\"Graduate\",\"Graduate\",\"Graduate\",\"Graduate\",\"Not Graduate\",\"Not Graduate\",\"Graduate\",\"Not Graduate\",\"Graduate\",\"Graduate\",\"Graduate\",\"Graduate\",\"Not Graduate\",\"Graduate\",\"Not Graduate\",\"Graduate\",\"Graduate\",\"Graduate\",\"Graduate\",\"Graduate\",\"Graduate\",\"Not Graduate\",\"Graduate\",\"Graduate\",\"Not Graduate\",\"Graduate\",\"Not Graduate\",\"Graduate\",\"Graduate\",\"Graduate\",\"Graduate\",\"Graduate\",\"Graduate\",\"Graduate\",\"Not Graduate\",\"Graduate\",\"Graduate\",\"Graduate\",\"Graduate\",\"Graduate\",\"Graduate\",\"Graduate\",\"Graduate\",\"Graduate\",\"Graduate\",\"Graduate\",\"Graduate\",\"Graduate\",\"Not Graduate\",\"Graduate\",\"Graduate\",\"Graduate\",\"Graduate\",\"Graduate\",\"Graduate\",\"Graduate\",\"Not Graduate\",\"Not Graduate\",\"Graduate\",\"Graduate\",\"Graduate\",\"Graduate\",\"Not Graduate\",\"Graduate\",\"Graduate\",\"Graduate\",\"Not Graduate\",\"Graduate\",\"Not Graduate\",\"Graduate\",\"Graduate\",\"Graduate\",\"Graduate\",\"Graduate\",\"Graduate\",\"Not Graduate\",\"Graduate\",\"Not Graduate\",\"Graduate\",\"Graduate\",\"Graduate\",\"Graduate\",\"Not Graduate\",\"Graduate\",\"Not Graduate\",\"Not Graduate\",\"Not Graduate\",\"Not Graduate\",\"Not Graduate\",\"Graduate\",\"Not Graduate\",\"Graduate\",\"Not Graduate\",\"Not Graduate\",\"Not Graduate\",\"Not Graduate\",\"Not Graduate\",\"Not Graduate\",\"Not Graduate\",\"Not Graduate\",\"Not Graduate\",\"Not Graduate\",\"Graduate\",\"Not Graduate\",\"Not Graduate\",\"Not Graduate\",\"Not Graduate\",\"Not Graduate\",\"Graduate\",\"Not Graduate\",\"Not Graduate\",\"Not Graduate\",\"Not Graduate\",\"Not Graduate\",\"Not Graduate\",\"Not Graduate\",\"Not Graduate\",\"Graduate\",\"Not Graduate\",\"Not Graduate\",\"Graduate\",\"Not Graduate\",\"Not Graduate\",\"Graduate\",\"Not Graduate\",\"Not Graduate\",\"Graduate\",\"Not Graduate\",\"Graduate\",\"Graduate\",\"Not Graduate\",\"Not Graduate\",\"Graduate\",\"Not Graduate\",\"Not Graduate\",\"Graduate\",\"Not Graduate\",\"Not Graduate\",\"Not Graduate\",\"Not Graduate\",\"Not Graduate\",\"Not Graduate\",\"Not Graduate\",\"Not Graduate\",\"Not Graduate\",\"Not Graduate\",\"Not Graduate\",\"Not Graduate\",\"Not Graduate\",\"Not Graduate\",\"Not Graduate\",\"Not Graduate\",\"Not Graduate\",\"Not Graduate\",\"Not Graduate\",\"Graduate\",\"Graduate\",\"Not Graduate\",\"Not Graduate\",\"Not Graduate\",\"Not Graduate\",\"Not Graduate\",\"Not Graduate\",\"Not Graduate\",\"Not Graduate\",\"Not Graduate\",\"Not Graduate\",\"Not Graduate\",\"Not Graduate\",\"Not Graduate\",\"Not Graduate\",\"Not Graduate\",\"Not Graduate\",\"Not Graduate\",\"Not Graduate\",\"Not Graduate\",\"Graduate\",\"Graduate\",\"Not Graduate\",\"Not Graduate\",\"Not Graduate\",\"Graduate\",\"Not Graduate\",\"Not Graduate\",\"Not Graduate\",\"Graduate\",\"Not Graduate\",\"Graduate\",\"Not Graduate\",\"Not Graduate\",\"Not Graduate\",\"Graduate\",\"Not Graduate\",\"Not Graduate\",\"Not Graduate\",\"Not Graduate\",\"Not Graduate\",\"Not Graduate\",\"Graduate\",\"Not Graduate\",\"Not Graduate\",\"Not Graduate\",\"Not Graduate\",\"Not Graduate\",\"Not Graduate\",\"Not Graduate\",\"Not Graduate\",\"Not Graduate\",\"Not Graduate\",\"Not Graduate\",\"Not Graduate\",\"Not Graduate\",\"Not Graduate\",\"Not Graduate\",\"Graduate\",\"Not Graduate\",\"Graduate\",\"Not Graduate\",\"Graduate\",\"Graduate\",\"Not Graduate\",\"Not Graduate\",\"Graduate\",\"Graduate\",\"Not Graduate\",\"Not Graduate\",\"Not Graduate\",\"Not Graduate\",\"Not Graduate\",\"Not Graduate\",\"Not Graduate\",\"Not Graduate\",\"Not Graduate\",\"Not Graduate\",\"Graduate\",\"Not Graduate\",\"Not Graduate\",\"Not Graduate\",\"Not Graduate\",\"Not Graduate\",\"Not Graduate\",\"Graduate\",\"Not Graduate\",\"Not Graduate\",\"Not Graduate\",\"Not Graduate\",\"Not Graduate\",\"Not Graduate\",\"Not Graduate\",\"Not Graduate\",\"Not Graduate\",\"Not Graduate\",\"Not Graduate\",\"Not Graduate\",\"Not Graduate\",\"Not Graduate\",\"Not Graduate\",\"Not Graduate\",\"Not Graduate\",\"Not Graduate\",\"Not Graduate\",\"Not Graduate\",\"Graduate\",\"Graduate\",\"Not Graduate\",\"Not Graduate\",\"Not Graduate\",\"Not Graduate\",\"Not Graduate\",\"Graduate\",\"Not Graduate\",\"Not Graduate\",\"Not Graduate\",\"Not Graduate\",\"Graduate\",\"Not Graduate\",\"Graduate\",\"Graduate\",\"Not Graduate\",\"Graduate\",\"Not Graduate\",\"Not Graduate\",\"Graduate\",\"Graduate\",\"Not Graduate\",\"Not Graduate\",\"Graduate\",\"Not Graduate\",\"Graduate\",\"Graduate\",\"Graduate\",\"Not Graduate\",\"Not Graduate\",\"Not Graduate\",\"Not Graduate\",\"Not Graduate\",\"Not Graduate\",\"Graduate\",\"Not Graduate\",\"Not Graduate\",\"Not Graduate\",\"Not Graduate\",\"Graduate\",\"Not Graduate\",\"Not Graduate\",\"Graduate\",\"Not Graduate\",\"Not Graduate\",\"Not Graduate\",\"Not Graduate\",\"Not Graduate\",\"Not Graduate\",\"Not Graduate\",\"Not Graduate\",\"Not Graduate\",\"Graduate\",\"Not Graduate\",\"Not Graduate\",\"Graduate\",\"Not Graduate\",\"Not Graduate\",\"Not Graduate\",\"Graduate\",\"Not Graduate\",\"Not Graduate\",\"Graduate\",\"Graduate\",\"Graduate\",\"Not Graduate\",\"Not Graduate\",\"Not Graduate\",\"Not Graduate\",\"Not Graduate\",\"Not Graduate\",\"Not Graduate\",\"Not Graduate\",\"Not Graduate\",\"Not Graduate\",\"Not Graduate\",\"Graduate\",\"Not Graduate\",\"Not Graduate\",\"Graduate\",\"Not Graduate\",\"Graduate\",\"Not Graduate\",\"Not Graduate\",\"Graduate\",\"Not Graduate\",\"Not Graduate\",\"Not Graduate\",\"Not Graduate\",\"Not Graduate\",\"Not Graduate\",\"Not Graduate\",\"Not Graduate\",\"Graduate\",\"Graduate\",\"Not Graduate\",\"Not Graduate\",\"Not Graduate\",\"Graduate\",\"Not Graduate\",\"Not Graduate\",\"Not Graduate\",\"Not Graduate\",\"Graduate\",\"Graduate\",\"Graduate\",\"Graduate\",\"Not Graduate\",\"Not Graduate\",\"Graduate\",\"Not Graduate\",\"Not Graduate\",\"Not Graduate\",\"Not Graduate\",\"Not Graduate\",\"Not Graduate\",\"Graduate\",\"Graduate\",\"Not Graduate\",\"Not Graduate\",\"Not Graduate\",\"Not Graduate\",\"Not Graduate\",\"Graduate\",\"Not Graduate\",\"Not Graduate\",\"Not Graduate\",\"Not Graduate\",\"Not Graduate\",\"Not Graduate\",\"Graduate\",\"Not Graduate\",\"Graduate\",\"Graduate\",\"Not Graduate\",\"Not Graduate\",\"Not Graduate\",\"Not Graduate\",\"Not Graduate\",\"Not Graduate\",\"Graduate\",\"Graduate\",\"Graduate\",\"Not Graduate\",\"Not Graduate\",\"Not Graduate\",\"Not Graduate\",\"Graduate\",\"Graduate\",\"Not Graduate\",\"Not Graduate\",\"Graduate\",\"Not Graduate\",\"Not Graduate\",\"Not Graduate\",\"Not Graduate\",\"Graduate\",\"Graduate\",\"Not Graduate\",\"Graduate\",\"Not Graduate\",\"Not Graduate\",\"Not Graduate\",\"Not Graduate\",\"Graduate\",\"Not Graduate\",\"Graduate\",\"Not Graduate\",\"Not Graduate\",\"Not Graduate\",\"Not Graduate\",\"Not Graduate\",\"Not Graduate\",\"Graduate\",\"Not Graduate\",\"Not Graduate\",\"Graduate\",\"Not Graduate\",\"Graduate\",\"Not Graduate\",\"Not Graduate\",\"Not Graduate\",\"Not Graduate\",\"Not Graduate\",\"Not Graduate\",\"Not Graduate\",\"Graduate\",\"Not Graduate\",\"Not Graduate\",\"Not Graduate\",\"Not Graduate\",\"Not Graduate\",\"Not Graduate\",\"Not Graduate\",\"Not Graduate\",\"Not Graduate\",\"Not Graduate\",\"Not Graduate\",\"Not Graduate\",\"Not Graduate\",\"Graduate\",\"Not Graduate\",\"Not Graduate\",\"Not Graduate\",\"Not Graduate\",\"Not Graduate\",\"Not Graduate\",\"Not Graduate\",\"Graduate\",\"Graduate\",\"Not Graduate\",\"Not Graduate\",\"Not Graduate\",\"Not Graduate\",\"Graduate\",\"Not Graduate\",\"Not Graduate\",\"Not Graduate\",\"Graduate\",\"Not Graduate\",\"Graduate\",\"Not Graduate\",\"Not Graduate\",\"Not Graduate\",\"Not Graduate\",\"Not Graduate\",\"Not Graduate\"]},{\"axis\":{\"matches\":true},\"label\":\"self_employed\",\"values\":[\"No\",\"No\",\"Yes\",\"No\",\"No\",\"Yes\",\"No\",\"No\",\"No\",\"No\",\"No\",\"No\",\"No\",\"No\",\"No\",\"No\",\"No\",\"No\",\"No\",\"No\",\"No\",\"No\",\"No\",\"No\",\"No\",\"Yes\",\"No\",\"No\",\"No\",\"No\",\"No\",\"No\",\"Yes\",\"No\",\"No\",\"No\",\"No\",\"No\",\"No\",\"No\",\"No\",\"No\",\"No\",\"No\",\"Yes\",\"No\",\"No\",\"No\",\"No\",\"No\",\"No\",\"No\",\"No\",\"No\",\"Yes\",\"No\",\"No\",\"No\",\"No\",\"No\",\"No\",\"No\",\"Yes\",\"No\",\"No\",\"No\",\"No\",\"No\",\"Yes\",\"No\",\"No\",\"Yes\",\"No\",\"No\",\"Yes\",\"No\",\"No\",\"Yes\",\"No\",\"Yes\",\"No\",\"Yes\",\"No\",\"No\",\"No\",\"No\",\"No\",\"No\",\"No\",\"No\",\"No\",\"No\",\"No\",\"No\",\"No\",\"No\",\"No\",\"No\",\"No\",\"No\",\"No\",\"No\",\"No\",\"No\",\"No\",\"No\",\"No\",\"No\",\"No\",\"No\",\"No\",\"No\",\"No\",\"Yes\",\"No\",\"No\",\"No\",\"No\",\"No\",\"No\",\"No\",\"No\",\"No\",\"No\",\"No\",\"No\",\"No\",\"No\",\"Yes\",\"No\",\"Yes\",\"No\",\"No\",\"Yes\",\"No\",\"No\",\"No\",\"Yes\",\"No\",\"No\",\"No\",\"No\",\"Yes\",\"No\",\"No\",\"No\",\"No\",\"No\",\"No\",\"No\",\"No\",\"Yes\",\"No\",\"No\",\"No\",\"No\",\"No\",\"No\",\"No\",\"No\",\"No\",\"No\",\"No\",\"No\",\"No\",\"No\",\"No\",\"No\",\"No\",\"No\",\"No\",\"No\",\"No\",\"No\",\"Yes\",\"No\",\"No\",\"No\",\"No\",\"No\",\"No\",\"No\",\"No\",\"No\",\"No\",\"Yes\",\"Yes\",\"No\",\"Yes\",\"No\",\"No\",\"No\",\"No\",\"No\",\"No\",\"No\",\"No\",\"No\",\"No\",\"Yes\",\"No\",\"No\",\"No\",\"No\",\"No\",\"No\",\"No\",\"No\",\"No\",\"No\",\"No\",\"No\",\"Yes\",\"Yes\",\"No\",\"No\",\"No\",\"No\",\"No\",\"No\",\"No\",\"No\",\"No\",\"No\",\"No\",\"No\",\"Yes\",\"No\",\"No\",\"Yes\",\"No\",\"No\",\"No\",\"No\",\"No\",\"No\",\"No\",\"Yes\",\"No\",\"No\",\"No\",\"No\",\"No\",\"Yes\",\"No\",\"Yes\",\"No\",\"No\",\"No\",\"No\",\"No\",\"No\",\"Yes\",\"No\",\"Yes\",\"No\",\"No\",\"No\",\"No\",\"No\",\"No\",\"No\",\"No\",\"No\",\"Yes\",\"No\",\"No\",\"No\",\"No\",\"No\",\"No\",\"No\",\"No\",\"No\",\"No\",\"No\",\"No\",\"No\",\"No\",\"No\",\"Yes\",\"No\",\"No\",\"No\",\"No\",\"No\",\"Yes\",\"No\",\"No\",\"No\",\"No\",\"No\",\"No\",\"No\",\"No\",\"No\",\"No\",\"No\",\"No\",\"No\",\"No\",\"No\",\"No\",\"No\",\"No\",\"No\",\"No\",\"No\",\"No\",\"No\",\"No\",\"No\",\"No\",\"Yes\",\"No\",\"No\",\"No\",\"No\",\"No\",\"Yes\",\"No\",\"No\",\"No\",\"No\",\"No\",\"Yes\",\"No\",\"Yes\",\"No\",\"No\",\"No\",\"No\",\"No\",\"No\",\"Yes\",\"Yes\",\"No\",\"Yes\",\"No\",\"No\",\"No\",\"No\",\"No\",\"No\",\"No\",\"No\",\"No\",\"No\",\"No\",\"No\",\"No\",\"No\",\"No\",\"Yes\",\"No\",\"No\",\"No\",\"No\",\"No\",\"No\",\"No\",\"No\",\"No\",\"No\",\"Yes\",\"No\",\"No\",\"No\",\"No\",\"No\",\"Yes\",\"No\",\"Yes\",\"No\",\"No\",\"No\",\"No\",\"No\",\"No\",\"No\",\"No\",\"No\",\"No\",\"Yes\",\"No\",\"No\",\"No\",\"No\",\"No\",\"No\",\"No\",\"No\",\"No\",\"No\",\"No\",\"No\",\"No\",\"No\",\"No\",\"No\",\"No\",\"No\",\"No\",\"No\",\"Yes\",\"No\",\"No\",\"No\",\"No\",\"No\",\"Yes\",\"No\",\"No\",\"No\",\"No\",\"No\",\"No\",\"Yes\",\"No\",\"No\",\"No\",\"No\",\"No\",\"No\",\"No\",\"No\",\"No\",\"No\",\"No\",\"No\",\"Yes\",\"No\",\"No\",\"No\",\"No\",\"No\",\"No\",\"No\",\"Yes\",\"Yes\",\"No\",\"No\",\"No\",\"No\",\"No\",\"Yes\",\"No\",\"No\",\"No\",\"Yes\",\"No\",\"No\",\"No\",\"No\",\"Yes\",\"No\",\"No\",\"No\",\"No\",\"No\",\"Yes\",\"No\",\"No\",\"No\",\"No\",\"No\",\"No\",\"No\",\"No\",\"No\",\"Yes\",\"No\",\"No\",\"Yes\",\"No\",\"Yes\",\"No\",\"No\",\"Yes\",\"No\",\"No\",\"No\",\"No\",\"No\",\"No\",\"No\",\"No\",\"No\",\"Yes\",\"No\",\"No\",\"No\",\"No\",\"Yes\",\"No\",\"No\",\"No\",\"No\",\"Yes\",\"No\",\"No\",\"No\",\"No\",\"No\",\"No\",\"No\",\"No\",\"No\",\"Yes\",\"No\",\"No\",\"No\",\"No\",\"No\",\"No\",\"No\",\"No\",\"No\",\"No\",\"No\",\"No\",\"No\",\"Yes\",\"Yes\",\"No\",\"Yes\",\"No\",\"No\",\"No\",\"No\",\"No\",\"No\",\"No\",\"No\",\"Yes\",\"No\",\"No\",\"No\",\"No\",\"No\",\"No\",\"No\",\"No\",\"No\",\"No\",\"No\",\"No\",\"No\",\"No\",\"No\",\"Yes\",\"No\",\"No\",\"No\",\"No\",\"No\",\"No\",\"Yes\",\"No\",\"No\",\"No\",\"Yes\",\"No\",\"Yes\",\"No\",\"No\",\"No\",\"No\",\"No\",\"No\",\"No\",\"No\",\"No\",\"No\",\"No\",\"No\",\"No\",\"No\",\"No\",\"No\",\"No\",\"No\",\"No\",\"No\",\"No\",\"No\",\"No\",\"No\",\"No\",\"Yes\",\"No\",\"Yes\",\"Yes\",\"No\",\"Yes\",\"No\",\"Yes\",\"No\",\"Yes\",\"No\",\"No\",\"No\",\"No\",\"No\",\"No\",\"No\",\"No\",\"No\",\"No\",\"No\",\"No\",\"No\",\"No\",\"Yes\",\"Yes\",\"No\",\"No\",\"No\",\"No\",\"No\",\"No\",\"No\",\"No\",\"No\",\"No\",\"No\",\"No\",\"Yes\",\"Yes\",\"No\",\"No\",\"No\",\"No\",\"No\",\"No\",\"No\",\"No\",\"No\",\"No\",\"No\",\"No\",\"Yes\",\"No\",\"No\",\"Yes\",\"No\",\"No\",\"No\",\"No\",\"No\",\"No\",\"No\",\"Yes\",\"No\",\"No\",\"No\",\"No\",\"No\",\"Yes\",\"No\",\"Yes\",\"No\",\"No\",\"No\",\"No\",\"No\",\"No\",\"Yes\",\"No\",\"Yes\",\"No\",\"No\",\"No\",\"No\",\"No\",\"No\",\"No\",\"No\",\"No\",\"Yes\",\"No\",\"No\",\"No\",\"No\",\"No\",\"No\",\"No\",\"No\",\"No\",\"No\",\"No\",\"No\",\"No\",\"No\",\"No\",\"Yes\",\"No\",\"No\",\"No\",\"No\",\"No\",\"Yes\",\"No\",\"No\",\"No\",\"No\",\"No\",\"No\",\"No\",\"No\",\"No\",\"No\",\"No\",\"No\",\"No\",\"No\",\"No\",\"No\",\"No\",\"No\",\"No\",\"No\",\"No\",\"No\",\"No\",\"No\",\"No\",\"No\",\"Yes\",\"No\",\"No\",\"No\",\"No\",\"No\",\"Yes\",\"No\",\"No\",\"No\",\"No\",\"No\",\"Yes\",\"No\",\"Yes\",\"No\",\"No\",\"No\",\"No\",\"No\",\"No\",\"Yes\",\"Yes\",\"No\",\"Yes\",\"No\",\"No\",\"No\",\"No\",\"No\",\"No\",\"No\",\"No\",\"No\",\"No\",\"No\",\"No\",\"No\",\"No\",\"No\",\"Yes\",\"No\",\"No\",\"No\",\"No\",\"No\",\"No\",\"No\",\"No\",\"No\",\"No\",\"Yes\",\"No\",\"No\",\"No\",\"No\",\"No\",\"Yes\",\"No\",\"Yes\",\"No\",\"No\",\"No\",\"No\",\"No\",\"No\",\"No\",\"No\",\"No\",\"No\",\"Yes\",\"No\",\"No\",\"No\",\"No\",\"No\",\"No\",\"No\",\"No\",\"No\",\"No\",\"No\",\"No\",\"No\",\"No\",\"No\",\"No\",\"No\",\"No\",\"No\",\"No\",\"Yes\",\"No\",\"No\",\"No\",\"No\",\"No\",\"Yes\",\"No\",\"No\",\"No\",\"No\",\"No\",\"No\",\"Yes\",\"No\",\"No\",\"No\",\"No\",\"No\",\"No\",\"No\",\"No\",\"No\",\"No\",\"No\",\"No\",\"Yes\",\"No\",\"No\",\"No\",\"No\",\"No\",\"No\",\"No\",\"Yes\",\"Yes\",\"No\",\"No\",\"No\",\"No\",\"No\",\"Yes\",\"No\",\"No\",\"No\",\"Yes\",\"No\",\"No\",\"No\",\"No\",\"Yes\",\"No\",\"No\",\"No\",\"No\",\"No\",\"Yes\",\"No\",\"No\",\"No\",\"No\",\"No\",\"No\",\"No\",\"No\",\"No\",\"Yes\",\"No\",\"No\",\"Yes\",\"No\",\"Yes\",\"No\",\"No\",\"Yes\",\"No\",\"No\",\"No\",\"No\",\"No\",\"No\",\"No\",\"No\",\"No\",\"Yes\",\"No\",\"No\",\"No\",\"No\",\"Yes\",\"No\",\"No\",\"No\",\"No\",\"Yes\",\"No\",\"No\",\"No\",\"No\",\"No\",\"No\",\"No\",\"No\",\"No\",\"Yes\",\"No\",\"No\",\"No\",\"No\",\"No\",\"No\",\"No\",\"No\",\"No\",\"No\",\"No\",\"No\",\"No\",\"Yes\",\"Yes\",\"No\",\"Yes\",\"No\",\"No\",\"No\",\"No\",\"No\",\"No\",\"No\",\"No\",\"Yes\",\"No\",\"No\",\"No\",\"No\",\"No\",\"No\",\"No\",\"No\",\"No\",\"No\",\"No\",\"No\",\"No\",\"No\",\"No\",\"Yes\",\"No\",\"No\",\"No\",\"No\",\"No\",\"No\",\"Yes\",\"No\",\"No\",\"No\",\"Yes\",\"No\",\"Yes\",\"No\",\"No\",\"No\",\"No\",\"No\",\"No\",\"No\",\"No\",\"No\",\"No\",\"No\",\"No\",\"No\",\"No\",\"No\",\"No\",\"No\",\"No\",\"No\",\"No\",\"No\",\"No\",\"No\",\"No\",\"No\",\"Yes\",\"No\",\"Yes\",\"Yes\",\"No\",\"Yes\",\"No\",\"Yes\",\"No\",\"Yes\",\"No\",\"No\",\"No\",\"No\",\"No\",\"No\",\"No\",\"No\",\"No\",\"No\",\"No\",\"No\",\"No\",\"No\",\"Yes\"]},{\"axis\":{\"matches\":true},\"label\":\"loanamount\",\"values\":[138079.476861167,128000.0,66000.0,120000.0,141000.0,265000.0,95000.0,158000.0,168000.0,265000.0,70000.0,109000.0,200000.0,114000.0,17000.0,125000.0,100000.0,76000.0,133000.0,115000.0,104000.0,265000.0,116000.0,112000.0,151000.0,191000.0,122000.0,110000.0,35000.0,120000.0,201000.0,74000.0,106000.0,114000.0,265000.0,138079.476861167,100000.0,144000.0,184000.0,110000.0,80000.0,47000.0,75000.0,134000.0,96000.0,88000.0,44000.0,144000.0,120000.0,144000.0,100000.0,120000.0,112000.0,134000.0,265000.0,97000.0,96000.0,135000.0,180000.0,144000.0,120000.0,99000.0,165000.0,138079.476861167,116000.0,258000.0,126000.0,265000.0,125000.0,136000.0,172000.0,97000.0,81000.0,95000.0,187000.0,113000.0,176000.0,110000.0,180000.0,130000.0,111000.0,138079.476861167,167000.0,265000.0,50000.0,136000.0,99000.0,104000.0,210000.0,175000.0,131000.0,188000.0,81000.0,122000.0,25000.0,138079.476861167,137000.0,50000.0,115000.0,131000.0,133000.0,151000.0,138079.476861167,138079.476861167,160000.0,100000.0,225000.0,120000.0,216000.0,94000.0,136000.0,139000.0,152000.0,138079.476861167,118000.0,185000.0,154000.0,85000.0,175000.0,259000.0,180000.0,44000.0,137000.0,81000.0,194000.0,93000.0,265000.0,138079.476861167,160000.0,182000.0,265000.0,74000.0,70000.0,25000.0,102000.0,265000.0,84000.0,88000.0,242000.0,129000.0,185000.0,168000.0,175000.0,122000.0,187000.0,100000.0,70000.0,30000.0,225000.0,125000.0,118000.0,152000.0,244000.0,113000.0,50000.0,265000.0,160000.0,187000.0,120000.0,255000.0,98000.0,265000.0,121000.0,158000.0,75000.0,182000.0,112000.0,129000.0,63000.0,200000.0,95000.0,265000.0,81000.0,187000.0,87000.0,116000.0,101000.0,265000.0,116000.0,102000.0,180000.0,67000.0,73000.0,260000.0,108000.0,120000.0,66000.0,58000.0,168000.0,188000.0,48000.0,164000.0,160000.0,76000.0,120000.0,170000.0,187000.0,120000.0,113000.0,83000.0,90000.0,166000.0,138079.476861167,135000.0,124000.0,120000.0,80000.0,55000.0,59000.0,127000.0,214000.0,128000.0,240000.0,130000.0,137000.0,100000.0,135000.0,131000.0,72000.0,127000.0,60000.0,116000.0,144000.0,175000.0,128000.0,170000.0,138000.0,210000.0,158000.0,200000.0,104000.0,42000.0,120000.0,265000.0,140000.0,170000.0,255000.0,122000.0,112000.0,96000.0,120000.0,140000.0,155000.0,108000.0,123000.0,120000.0,112000.0,137000.0,123000.0,90000.0,201000.0,138000.0,104000.0,265000.0,192000.0,255000.0,115000.0,94000.0,265000.0,128000.0,265000.0,134000.0,155000.0,120000.0,128000.0,151000.0,150000.0,160000.0,135000.0,90000.0,30000.0,136000.0,126000.0,150000.0,90000.0,115000.0,207000.0,80000.0,265000.0,124000.0,158000.0,112000.0,78000.0,54000.0,138079.476861167,89000.0,99000.0,120000.0,115000.0,187000.0,139000.0,127000.0,134000.0,143000.0,172000.0,110000.0,200000.0,135000.0,151000.0,113000.0,93000.0,105000.0,132000.0,96000.0,140000.0,138079.476861167,135000.0,104000.0,265000.0,185000.0,84000.0,111000.0,56000.0,144000.0,159000.0,111000.0,120000.0,88000.0,112000.0,155000.0,115000.0,124000.0,138079.476861167,132000.0,265000.0,265000.0,130000.0,184000.0,110000.0,67000.0,117000.0,98000.0,71000.0,265000.0,182000.0,70000.0,160000.0,176000.0,138079.476861167,71000.0,173000.0,46000.0,158000.0,74000.0,125000.0,160000.0,152000.0,126000.0,259000.0,187000.0,228000.0,265000.0,95000.0,105000.0,130000.0,116000.0,165000.0,67000.0,100000.0,200000.0,81000.0,236000.0,130000.0,95000.0,141000.0,133000.0,96000.0,124000.0,175000.0,265000.0,55000.0,155000.0,265000.0,111000.0,110000.0,120000.0,130000.0,130000.0,71000.0,130000.0,128000.0,265000.0,156000.0,128000.0,100000.0,113000.0,132000.0,138079.476861167,136000.0,125000.0,185000.0,265000.0,120000.0,113000.0,113000.0,135000.0,71000.0,95000.0,109000.0,103000.0,45000.0,65000.0,103000.0,53000.0,194000.0,115000.0,115000.0,66000.0,152000.0,265000.0,62000.0,160000.0,218000.0,110000.0,178000.0,60000.0,160000.0,239000.0,112000.0,138000.0,138000.0,80000.0,100000.0,110000.0,96000.0,121000.0,81000.0,133000.0,87000.0,60000.0,150000.0,105000.0,265000.0,143000.0,100000.0,138079.476861167,50000.0,138079.476861167,187000.0,138000.0,187000.0,180000.0,148000.0,152000.0,175000.0,130000.0,110000.0,55000.0,150000.0,190000.0,125000.0,60000.0,149000.0,90000.0,84000.0,96000.0,118000.0,173000.0,136000.0,160000.0,160000.0,128000.0,153000.0,132000.0,98000.0,140000.0,70000.0,110000.0,98000.0,110000.0,162000.0,113000.0,100000.0,93000.0,162000.0,150000.0,230000.0,132000.0,86000.0,138079.476861167,154000.0,113000.0,128000.0,234000.0,246000.0,131000.0,80000.0,265000.0,160000.0,75000.0,96000.0,186000.0,110000.0,225000.0,119000.0,105000.0,107000.0,111000.0,95000.0,209000.0,113000.0,100000.0,208000.0,138000.0,124000.0,243000.0,265000.0,96000.0,188000.0,40000.0,100000.0,250000.0,148000.0,70000.0,265000.0,150000.0,113000.0,123000.0,185000.0,95000.0,45000.0,55000.0,100000.0,265000.0,138079.476861167,265000.0,110000.0,161000.0,94000.0,130000.0,216000.0,100000.0,110000.0,196000.0,125000.0,126000.0,265000.0,107000.0,66000.0,157000.0,140000.0,99000.0,95000.0,128000.0,102000.0,155000.0,80000.0,145000.0,103000.0,110000.0,138079.476861167,138079.476861167,158000.0,181000.0,132000.0,26000.0,84000.0,260000.0,162000.0,182000.0,108000.0,265000.0,211000.0,132000.0,258000.0,120000.0,70000.0,123000.0,9000.0,104000.0,186000.0,165000.0,265000.0,187000.0,150000.0,108000.0,136000.0,110000.0,107000.0,161000.0,205000.0,90000.0,36000.0,61000.0,146000.0,172000.0,104000.0,70000.0,94000.0,106000.0,56000.0,205000.0,265000.0,142000.0,260000.0,110000.0,187000.0,88000.0,180000.0,192000.0,265000.0,155000.0,128000.0,172000.0,265000.0,138079.476861167,173000.0,157000.0,108000.0,71000.0,40000.0,253000.0,187000.0,133000.0,83000.0,90000.0,166000.0,138079.476861167,135000.0,124000.0,120000.0,80000.0,55000.0,59000.0,127000.0,214000.0,128000.0,240000.0,130000.0,137000.0,100000.0,135000.0,131000.0,72000.0,127000.0,60000.0,116000.0,144000.0,175000.0,128000.0,170000.0,138000.0,210000.0,158000.0,200000.0,104000.0,42000.0,120000.0,265000.0,140000.0,170000.0,255000.0,122000.0,112000.0,96000.0,120000.0,140000.0,155000.0,108000.0,123000.0,120000.0,112000.0,137000.0,123000.0,90000.0,201000.0,138000.0,104000.0,265000.0,192000.0,255000.0,115000.0,94000.0,265000.0,128000.0,265000.0,134000.0,155000.0,120000.0,128000.0,151000.0,150000.0,160000.0,135000.0,90000.0,30000.0,136000.0,126000.0,150000.0,90000.0,115000.0,207000.0,80000.0,265000.0,124000.0,158000.0,112000.0,78000.0,54000.0,138079.476861167,89000.0,99000.0,120000.0,115000.0,187000.0,139000.0,127000.0,134000.0,143000.0,172000.0,110000.0,200000.0,135000.0,151000.0,113000.0,93000.0,105000.0,132000.0,96000.0,140000.0,138079.476861167,135000.0,104000.0,265000.0,185000.0,84000.0,111000.0,56000.0,144000.0,159000.0,111000.0,120000.0,88000.0,112000.0,155000.0,115000.0,124000.0,138079.476861167,132000.0,265000.0,265000.0,130000.0,184000.0,110000.0,67000.0,117000.0,98000.0,71000.0,265000.0,182000.0,70000.0,160000.0,176000.0,138079.476861167,71000.0,173000.0,46000.0,158000.0,74000.0,125000.0,160000.0,152000.0,126000.0,259000.0,187000.0,228000.0,265000.0,95000.0,105000.0,130000.0,116000.0,165000.0,67000.0,100000.0,200000.0,81000.0,236000.0,130000.0,95000.0,141000.0,133000.0,96000.0,124000.0,175000.0,265000.0,55000.0,155000.0,265000.0,111000.0,110000.0,120000.0,130000.0,130000.0,71000.0,130000.0,128000.0,265000.0,156000.0,128000.0,100000.0,113000.0,132000.0,138079.476861167,136000.0,125000.0,185000.0,265000.0,120000.0,113000.0,113000.0,135000.0,71000.0,95000.0,109000.0,103000.0,45000.0,65000.0,103000.0,53000.0,194000.0,115000.0,115000.0,66000.0,152000.0,265000.0,62000.0,160000.0,218000.0,110000.0,178000.0,60000.0,160000.0,239000.0,112000.0,138000.0,138000.0,80000.0,100000.0,110000.0,96000.0,121000.0,81000.0,133000.0,87000.0,60000.0,150000.0,105000.0,265000.0,143000.0,100000.0,138079.476861167,50000.0,138079.476861167,187000.0,138000.0,187000.0,180000.0,148000.0,152000.0,175000.0,130000.0,110000.0,55000.0,150000.0,190000.0,125000.0,60000.0,149000.0,90000.0,84000.0,96000.0,118000.0,173000.0,136000.0,160000.0,160000.0,128000.0,153000.0,132000.0,98000.0,140000.0,70000.0,110000.0,98000.0,110000.0,162000.0,113000.0,100000.0,93000.0,162000.0,150000.0,230000.0,132000.0,86000.0,138079.476861167,154000.0,113000.0,128000.0,234000.0,246000.0,131000.0,80000.0,265000.0,160000.0,75000.0,96000.0,186000.0,110000.0,225000.0,119000.0,105000.0,107000.0,111000.0,95000.0,209000.0,113000.0,100000.0,208000.0,138000.0,124000.0,243000.0,265000.0,96000.0,188000.0,40000.0,100000.0,250000.0,148000.0,70000.0,265000.0,150000.0,113000.0,123000.0,185000.0,95000.0,45000.0,55000.0,100000.0,265000.0,138079.476861167,265000.0,110000.0,161000.0,94000.0,130000.0,216000.0,100000.0,110000.0,196000.0,125000.0,126000.0,265000.0,107000.0,66000.0,157000.0,140000.0,99000.0,95000.0,128000.0,102000.0,155000.0,80000.0,145000.0,103000.0,110000.0,138079.476861167,138079.476861167,158000.0,181000.0,132000.0,26000.0,84000.0,260000.0,162000.0,182000.0,108000.0,265000.0,211000.0,132000.0,258000.0,120000.0,70000.0,123000.0,9000.0,104000.0,186000.0,165000.0,265000.0,187000.0,150000.0,108000.0,136000.0,110000.0,107000.0,161000.0,205000.0,90000.0,36000.0,61000.0,146000.0,172000.0,104000.0,70000.0,94000.0,106000.0,56000.0,205000.0,265000.0,142000.0,260000.0,110000.0,187000.0,88000.0,180000.0,192000.0,265000.0,155000.0,128000.0,172000.0,265000.0,138079.476861167,173000.0,157000.0,108000.0,71000.0,40000.0,253000.0,187000.0,133000.0]},{\"axis\":{\"matches\":true},\"label\":\"loan_amount_term\",\"values\":[360.0,360.0,360.0,360.0,360.0,360.0,360.0,360.0,360.0,360.0,360.0,360.0,360.0,360.0,120.0,360.0,240.0,360.0,360.0,360.0,360.0,360.0,360.0,360.0,360.0,360.0,360.0,360.0,360.0,360.0,360.0,360.0,360.0,360.0,360.0,360.0,360.0,360.0,360.0,360.0,360.0,360.0,360.0,360.0,360.0,360.0,360.0,360.0,360.0,360.0,360.0,360.0,360.0,360.0,360.0,360.0,360.0,360.0,360.0,360.0,360.0,360.0,180.0,360.0,360.0,360.0,180.0,360.0,60.0,360.0,360.0,360.0,300.0,360.0,360.0,360.0,360.0,360.0,300.0,360.0,360.0,360.0,360.0,360.0,240.0,360.0,360.0,360.0,360.0,360.0,360.0,180.0,360.0,360.0,120.0,360.0,360.0,360.0,180.0,360.0,180.0,360.0,360.0,360.0,360.0,360.0,360.0,360.0,360.0,360.0,360.0,360.0,360.0,360.0,360.0,180.0,360.0,360.0,360.0,360.0,360.0,360.0,360.0,360.0,360.0,360.0,360.0,360.0,180.0,360.0,360.0,360.0,360.0,120.0,360.0,360.0,360.0,360.0,360.0,360.0,360.0,360.0,180.0,360.0,180.0,360.0,360.0,360.0,360.0,360.0,360.0,360.0,360.0,360.0,360.0,180.0,360.0,360.0,360.0,360.0,360.0,360.0,360.0,360.0,180.0,360.0,360.0,360.0,360.0,360.0,360.0,300.0,180.0,360.0,360.0,360.0,360.0,360.0,360.0,360.0,360.0,360.0,180.0,360.0,360.0,360.0,300.0,360.0,360.0,180.0,360.0,360.0,360.0,360.0,360.0,360.0,360.0,360.0,360.0,360.0,360.0,360.0,180.0,360.0,360.0,360.0,360.0,360.0,360.0,360.0,360.0,360.0,360.0,360.0,360.0,360.0,360.0,360.0,360.0,360.0,360.0,360.0,360.0,360.0,360.0,360.0,360.0,360.0,360.0,360.0,360.0,180.0,360.0,360.0,360.0,360.0,360.0,360.0,360.0,360.0,360.0,180.0,60.0,360.0,360.0,180.0,360.0,180.0,360.0,360.0,360.0,360.0,360.0,180.0,360.0,360.0,360.0,360.0,360.0,360.0,360.0,360.0,36.0,360.0,360.0,360.0,360.0,360.0,360.0,360.0,360.0,360.0,360.0,360.0,360.0,360.0,360.0,360.0,360.0,360.0,360.0,360.0,180.0,360.0,360.0,360.0,300.0,360.0,360.0,360.0,360.0,360.0,360.0,360.0,360.0,360.0,360.0,360.0,360.0,360.0,360.0,360.0,360.0,360.0,360.0,360.0,360.0,360.0,360.0,360.0,360.0,360.0,360.0,84.0,360.0,180.0,360.0,360.0,360.0,360.0,360.0,360.0,360.0,360.0,360.0,360.0,360.0,360.0,360.0,360.0,360.0,360.0,360.0,180.0,180.0,360.0,360.0,360.0,360.0,360.0,360.0,360.0,360.0,360.0,360.0,360.0,360.0,360.0,360.0,360.0,360.0,360.0,360.0,360.0,360.0,180.0,360.0,360.0,360.0,360.0,360.0,360.0,360.0,300.0,360.0,360.0,360.0,360.0,360.0,360.0,360.0,360.0,300.0,180.0,360.0,180.0,360.0,360.0,360.0,360.0,360.0,360.0,360.0,360.0,360.0,180.0,360.0,360.0,360.0,360.0,360.0,360.0,360.0,180.0,360.0,360.0,360.0,360.0,360.0,360.0,180.0,300.0,360.0,360.0,360.0,360.0,360.0,360.0,300.0,360.0,360.0,360.0,360.0,360.0,360.0,360.0,360.0,360.0,360.0,360.0,360.0,360.0,360.0,360.0,360.0,360.0,360.0,360.0,360.0,180.0,360.0,360.0,360.0,360.0,360.0,240.0,360.0,360.0,360.0,360.0,360.0,360.0,360.0,360.0,300.0,360.0,360.0,360.0,360.0,360.0,360.0,300.0,360.0,180.0,360.0,360.0,360.0,360.0,360.0,360.0,360.0,180.0,360.0,360.0,360.0,360.0,180.0,360.0,360.0,360.0,360.0,180.0,360.0,360.0,360.0,360.0,300.0,360.0,360.0,360.0,360.0,360.0,360.0,360.0,360.0,360.0,360.0,360.0,360.0,360.0,360.0,360.0,360.0,360.0,360.0,84.0,360.0,84.0,360.0,360.0,360.0,360.0,360.0,360.0,300.0,360.0,360.0,360.0,360.0,360.0,360.0,360.0,360.0,180.0,360.0,360.0,360.0,360.0,360.0,360.0,360.0,360.0,360.0,360.0,360.0,360.0,360.0,360.0,360.0,360.0,360.0,360.0,360.0,360.0,360.0,360.0,360.0,360.0,360.0,180.0,180.0,360.0,360.0,360.0,360.0,360.0,36.0,360.0,360.0,360.0,360.0,360.0,360.0,360.0,180.0,360.0,360.0,360.0,360.0,360.0,360.0,360.0,360.0,360.0,360.0,360.0,360.0,360.0,360.0,360.0,360.0,360.0,360.0,360.0,360.0,84.0,360.0,360.0,360.0,360.0,360.0,360.0,360.0,360.0,360.0,84.0,360.0,360.0,360.0,360.0,180.0,240.0,360.0,180.0,360.0,360.0,360.0,360.0,360.0,360.0,180.0,360.0,360.0,360.0,360.0,180.0,360.0,360.0,360.0,360.0,180.0,360.0,360.0,360.0,360.0,360.0,360.0,180.0,360.0,360.0,360.0,360.0,360.0,360.0,360.0,360.0,360.0,360.0,360.0,360.0,360.0,360.0,360.0,360.0,360.0,360.0,360.0,360.0,360.0,360.0,360.0,360.0,360.0,360.0,360.0,360.0,180.0,360.0,360.0,360.0,360.0,360.0,360.0,360.0,360.0,360.0,180.0,60.0,360.0,360.0,180.0,360.0,180.0,360.0,360.0,360.0,360.0,360.0,180.0,360.0,360.0,360.0,360.0,360.0,360.0,360.0,360.0,36.0,360.0,360.0,360.0,360.0,360.0,360.0,360.0,360.0,360.0,360.0,360.0,360.0,360.0,360.0,360.0,360.0,360.0,360.0,360.0,180.0,360.0,360.0,360.0,300.0,360.0,360.0,360.0,360.0,360.0,360.0,360.0,360.0,360.0,360.0,360.0,360.0,360.0,360.0,360.0,360.0,360.0,360.0,360.0,360.0,360.0,360.0,360.0,360.0,360.0,360.0,84.0,360.0,180.0,360.0,360.0,360.0,360.0,360.0,360.0,360.0,360.0,360.0,360.0,360.0,360.0,360.0,360.0,360.0,360.0,360.0,180.0,180.0,360.0,360.0,360.0,360.0,360.0,360.0,360.0,360.0,360.0,360.0,360.0,360.0,360.0,360.0,360.0,360.0,360.0,360.0,360.0,360.0,180.0,360.0,360.0,360.0,360.0,360.0,360.0,360.0,300.0,360.0,360.0,360.0,360.0,360.0,360.0,360.0,360.0,300.0,180.0,360.0,180.0,360.0,360.0,360.0,360.0,360.0,360.0,360.0,360.0,360.0,180.0,360.0,360.0,360.0,360.0,360.0,360.0,360.0,180.0,360.0,360.0,360.0,360.0,360.0,360.0,180.0,300.0,360.0,360.0,360.0,360.0,360.0,360.0,300.0,360.0,360.0,360.0,360.0,360.0,360.0,360.0,360.0,360.0,360.0,360.0,360.0,360.0,360.0,360.0,360.0,360.0,360.0,360.0,360.0,180.0,360.0,360.0,360.0,360.0,360.0,240.0,360.0,360.0,360.0,360.0,360.0,360.0,360.0,360.0,300.0,360.0,360.0,360.0,360.0,360.0,360.0,300.0,360.0,180.0,360.0,360.0,360.0,360.0,360.0,360.0,360.0,180.0,360.0,360.0,360.0,360.0,180.0,360.0,360.0,360.0,360.0,180.0,360.0,360.0,360.0,360.0,300.0,360.0,360.0,360.0,360.0,360.0,360.0,360.0,360.0,360.0,360.0,360.0,360.0,360.0,360.0,360.0,360.0,360.0,360.0,84.0,360.0,84.0,360.0,360.0,360.0,360.0,360.0,360.0,300.0,360.0,360.0,360.0,360.0,360.0,360.0,360.0,360.0,180.0,360.0,360.0,360.0,360.0,360.0,360.0,360.0,360.0,360.0,360.0,360.0,360.0,360.0,360.0,360.0,360.0,360.0,360.0,360.0,360.0,360.0,360.0,360.0,360.0,360.0,180.0,180.0,360.0,360.0,360.0,360.0,360.0,36.0,360.0,360.0,360.0,360.0,360.0,360.0,360.0,180.0,360.0,360.0,360.0,360.0,360.0,360.0,360.0,360.0,360.0,360.0,360.0,360.0,360.0,360.0,360.0,360.0,360.0,360.0,360.0,360.0,84.0,360.0,360.0,360.0,360.0,360.0,360.0,360.0,360.0,360.0,84.0,360.0,360.0,360.0,360.0,180.0,240.0,360.0,180.0,360.0,360.0,360.0,360.0,360.0,360.0,180.0,360.0,360.0,360.0,360.0,180.0,360.0,360.0,360.0,360.0,180.0,360.0,360.0,360.0]},{\"axis\":{\"matches\":true},\"label\":\"credit_history\",\"values\":[1.0,1.0,1.0,1.0,1.0,1.0,1.0,0.0,1.0,1.0,1.0,1.0,1.0,1.0,1.0,1.0,1.0,0.0,1.0,1.0,0.0,1.0,0.0,0.0,1.0,1.0,1.0,1.0,1.0,1.0,1.0,1.0,1.0,1.0,1.0,1.0,0.0,1.0,1.0,1.0,1.0,1.0,1.0,1.0,1.0,1.0,1.0,1.0,0.0,1.0,1.0,1.0,1.0,1.0,0.0,1.0,1.0,1.0,1.0,1.0,1.0,1.0,0.0,0.0,0.0,1.0,0.0,1.0,1.0,0.0,1.0,1.0,1.0,0.0,1.0,1.0,1.0,1.0,0.0,1.0,1.0,1.0,1.0,1.0,1.0,1.0,1.0,1.0,1.0,1.0,1.0,1.0,1.0,1.0,1.0,1.0,1.0,1.0,1.0,1.0,1.0,1.0,1.0,1.0,1.0,1.0,1.0,1.0,0.0,1.0,1.0,1.0,0.0,1.0,1.0,1.0,1.0,1.0,1.0,1.0,1.0,1.0,0.0,1.0,1.0,1.0,1.0,1.0,0.0,1.0,1.0,1.0,1.0,1.0,1.0,1.0,1.0,1.0,0.0,1.0,1.0,1.0,1.0,1.0,1.0,1.0,1.0,1.0,1.0,1.0,0.0,1.0,1.0,1.0,1.0,0.0,1.0,1.0,1.0,1.0,1.0,1.0,0.0,1.0,1.0,1.0,1.0,1.0,0.0,1.0,1.0,1.0,1.0,1.0,1.0,1.0,1.0,0.0,1.0,0.0,0.0,1.0,1.0,1.0,1.0,1.0,0.0,1.0,1.0,1.0,1.0,1.0,1.0,1.0,1.0,1.0,1.0,1.0,1.0,1.0,1.0,0.0,1.0,1.0,1.0,1.0,1.0,1.0,1.0,1.0,1.0,0.0,1.0,1.0,1.0,1.0,1.0,1.0,0.0,1.0,0.0,1.0,1.0,1.0,1.0,1.0,1.0,1.0,1.0,1.0,1.0,1.0,1.0,1.0,1.0,1.0,1.0,1.0,1.0,1.0,1.0,1.0,1.0,1.0,1.0,1.0,1.0,1.0,1.0,1.0,0.0,1.0,1.0,1.0,0.0,1.0,0.0,1.0,1.0,1.0,1.0,1.0,1.0,1.0,1.0,1.0,1.0,0.0,1.0,1.0,1.0,1.0,1.0,1.0,1.0,1.0,1.0,1.0,1.0,1.0,0.0,1.0,1.0,1.0,1.0,1.0,1.0,1.0,1.0,1.0,1.0,0.0,1.0,0.0,1.0,1.0,1.0,1.0,1.0,1.0,0.0,1.0,1.0,1.0,1.0,1.0,1.0,0.0,1.0,1.0,1.0,1.0,1.0,1.0,1.0,1.0,1.0,1.0,1.0,1.0,1.0,1.0,1.0,1.0,1.0,0.0,0.0,1.0,1.0,1.0,1.0,1.0,1.0,1.0,1.0,1.0,1.0,1.0,0.0,1.0,1.0,1.0,1.0,1.0,1.0,1.0,0.0,1.0,1.0,1.0,1.0,1.0,1.0,0.0,1.0,1.0,1.0,1.0,0.0,1.0,1.0,1.0,1.0,1.0,1.0,1.0,1.0,0.0,1.0,1.0,1.0,1.0,1.0,0.0,1.0,1.0,1.0,1.0,1.0,1.0,1.0,1.0,1.0,1.0,1.0,1.0,1.0,0.0,1.0,1.0,1.0,1.0,1.0,1.0,1.0,1.0,0.0,1.0,1.0,0.0,0.0,1.0,1.0,1.0,1.0,1.0,1.0,1.0,0.0,0.0,1.0,1.0,0.0,1.0,0.0,1.0,1.0,1.0,1.0,1.0,1.0,0.0,1.0,0.0,1.0,1.0,1.0,1.0,1.0,1.0,1.0,0.0,1.0,1.0,1.0,1.0,1.0,1.0,0.0,1.0,1.0,1.0,1.0,1.0,1.0,1.0,1.0,1.0,0.0,1.0,0.0,1.0,0.0,0.0,1.0,1.0,1.0,1.0,1.0,1.0,1.0,1.0,1.0,1.0,0.0,1.0,0.0,1.0,1.0,1.0,1.0,0.0,1.0,1.0,1.0,1.0,1.0,0.0,1.0,1.0,1.0,1.0,1.0,1.0,1.0,1.0,0.0,1.0,1.0,1.0,1.0,1.0,1.0,1.0,0.0,1.0,1.0,1.0,1.0,0.0,1.0,1.0,1.0,1.0,1.0,1.0,1.0,1.0,1.0,1.0,1.0,1.0,1.0,1.0,1.0,1.0,1.0,0.0,1.0,1.0,1.0,1.0,1.0,1.0,1.0,1.0,1.0,0.0,1.0,1.0,1.0,1.0,0.0,1.0,1.0,1.0,1.0,1.0,1.0,1.0,1.0,0.0,1.0,1.0,1.0,1.0,1.0,1.0,0.0,1.0,0.0,1.0,1.0,0.0,0.0,1.0,1.0,1.0,1.0,1.0,1.0,1.0,1.0,1.0,0.0,1.0,1.0,0.0,1.0,0.0,1.0,0.0,1.0,1.0,1.0,1.0,0.0,1.0,1.0,1.0,1.0,1.0,1.0,1.0,0.0,1.0,1.0,1.0,1.0,0.0,1.0,1.0,1.0,1.0,1.0,1.0,1.0,0.0,1.0,1.0,1.0,1.0,1.0,1.0,1.0,1.0,1.0,1.0,1.0,1.0,1.0,1.0,1.0,0.0,1.0,1.0,0.0,1.0,1.0,1.0,1.0,1.0,1.0,1.0,1.0,1.0,0.0,1.0,1.0,1.0,1.0,1.0,1.0,0.0,1.0,0.0,1.0,1.0,1.0,1.0,1.0,1.0,1.0,1.0,1.0,1.0,1.0,1.0,1.0,1.0,1.0,1.0,1.0,1.0,1.0,1.0,1.0,1.0,1.0,1.0,1.0,1.0,1.0,1.0,1.0,0.0,1.0,1.0,1.0,0.0,1.0,0.0,1.0,1.0,1.0,1.0,1.0,1.0,1.0,1.0,1.0,1.0,0.0,1.0,1.0,1.0,1.0,1.0,1.0,1.0,1.0,1.0,1.0,1.0,1.0,0.0,1.0,1.0,1.0,1.0,1.0,1.0,1.0,1.0,1.0,1.0,0.0,1.0,0.0,1.0,1.0,1.0,1.0,1.0,1.0,0.0,1.0,1.0,1.0,1.0,1.0,1.0,0.0,1.0,1.0,1.0,1.0,1.0,1.0,1.0,1.0,1.0,1.0,1.0,1.0,1.0,1.0,1.0,1.0,1.0,0.0,0.0,1.0,1.0,1.0,1.0,1.0,1.0,1.0,1.0,1.0,1.0,1.0,0.0,1.0,1.0,1.0,1.0,1.0,1.0,1.0,0.0,1.0,1.0,1.0,1.0,1.0,1.0,0.0,1.0,1.0,1.0,1.0,0.0,1.0,1.0,1.0,1.0,1.0,1.0,1.0,1.0,0.0,1.0,1.0,1.0,1.0,1.0,0.0,1.0,1.0,1.0,1.0,1.0,1.0,1.0,1.0,1.0,1.0,1.0,1.0,1.0,0.0,1.0,1.0,1.0,1.0,1.0,1.0,1.0,1.0,0.0,1.0,1.0,0.0,0.0,1.0,1.0,1.0,1.0,1.0,1.0,1.0,0.0,0.0,1.0,1.0,0.0,1.0,0.0,1.0,1.0,1.0,1.0,1.0,1.0,0.0,1.0,0.0,1.0,1.0,1.0,1.0,1.0,1.0,1.0,0.0,1.0,1.0,1.0,1.0,1.0,1.0,0.0,1.0,1.0,1.0,1.0,1.0,1.0,1.0,1.0,1.0,0.0,1.0,0.0,1.0,0.0,0.0,1.0,1.0,1.0,1.0,1.0,1.0,1.0,1.0,1.0,1.0,0.0,1.0,0.0,1.0,1.0,1.0,1.0,0.0,1.0,1.0,1.0,1.0,1.0,0.0,1.0,1.0,1.0,1.0,1.0,1.0,1.0,1.0,0.0,1.0,1.0,1.0,1.0,1.0,1.0,1.0,0.0,1.0,1.0,1.0,1.0,0.0,1.0,1.0,1.0,1.0,1.0,1.0,1.0,1.0,1.0,1.0,1.0,1.0,1.0,1.0,1.0,1.0,1.0,0.0,1.0,1.0,1.0,1.0,1.0,1.0,1.0,1.0,1.0,0.0,1.0,1.0,1.0,1.0,0.0,1.0,1.0,1.0,1.0,1.0,1.0,1.0,1.0,0.0,1.0,1.0,1.0,1.0,1.0,1.0,0.0,1.0,0.0,1.0,1.0,0.0,0.0,1.0,1.0,1.0,1.0,1.0,1.0,1.0,1.0,1.0,0.0,1.0,1.0,0.0,1.0,0.0,1.0,0.0,1.0,1.0,1.0,1.0,0.0,1.0,1.0,1.0,1.0,1.0,1.0,1.0,0.0,1.0,1.0,1.0,1.0,0.0,1.0,1.0,1.0,1.0,1.0,1.0,1.0,0.0,1.0,1.0,1.0,1.0,1.0,1.0,1.0,1.0,1.0,1.0,1.0,1.0,1.0,1.0,1.0,0.0]},{\"axis\":{\"matches\":true},\"label\":\"property_area\",\"values\":[\"Urban\",\"Rural\",\"Urban\",\"Urban\",\"Urban\",\"Urban\",\"Urban\",\"Semiurban\",\"Urban\",\"Semiurban\",\"Urban\",\"Urban\",\"Urban\",\"Rural\",\"Urban\",\"Urban\",\"Urban\",\"Urban\",\"Rural\",\"Urban\",\"Urban\",\"Urban\",\"Semiurban\",\"Rural\",\"Semiurban\",\"Semiurban\",\"Semiurban\",\"Urban\",\"Urban\",\"Semiurban\",\"Urban\",\"Urban\",\"Rural\",\"Semiurban\",\"Rural\",\"Urban\",\"Urban\",\"Semiurban\",\"Urban\",\"Semiurban\",\"Urban\",\"Urban\",\"Urban\",\"Semiurban\",\"Urban\",\"Urban\",\"Urban\",\"Urban\",\"Urban\",\"Semiurban\",\"Semiurban\",\"Semiurban\",\"Semiurban\",\"Urban\",\"Urban\",\"Semiurban\",\"Semiurban\",\"Rural\",\"Urban\",\"Urban\",\"Urban\",\"Urban\",\"Rural\",\"Rural\",\"Semiurban\",\"Semiurban\",\"Urban\",\"Urban\",\"Urban\",\"Semiurban\",\"Urban\",\"Semiurban\",\"Semiurban\",\"Semiurban\",\"Semiurban\",\"Urban\",\"Urban\",\"Urban\",\"Semiurban\",\"Semiurban\",\"Semiurban\",\"Semiurban\",\"Urban\",\"Semiurban\",\"Urban\",\"Semiurban\",\"Semiurban\",\"Semiurban\",\"Urban\",\"Semiurban\",\"Semiurban\",\"Semiurban\",\"Urban\",\"Semiurban\",\"Semiurban\",\"Urban\",\"Semiurban\",\"Semiurban\",\"Semiurban\",\"Semiurban\",\"Urban\",\"Semiurban\",\"Urban\",\"Semiurban\",\"Urban\",\"Urban\",\"Urban\",\"Rural\",\"Urban\",\"Semiurban\",\"Urban\",\"Semiurban\",\"Rural\",\"Semiurban\",\"Semiurban\",\"Rural\",\"Semiurban\",\"Urban\",\"Rural\",\"Urban\",\"Rural\",\"Semiurban\",\"Semiurban\",\"Semiurban\",\"Rural\",\"Rural\",\"Rural\",\"Rural\",\"Urban\",\"Rural\",\"Urban\",\"Urban\",\"Semiurban\",\"Semiurban\",\"Semiurban\",\"Semiurban\",\"Rural\",\"Urban\",\"Semiurban\",\"Rural\",\"Rural\",\"Urban\",\"Semiurban\",\"Semiurban\",\"Urban\",\"Semiurban\",\"Urban\",\"Urban\",\"Rural\",\"Semiurban\",\"Rural\",\"Rural\",\"Urban\",\"Rural\",\"Urban\",\"Semiurban\",\"Rural\",\"Urban\",\"Rural\",\"Semiurban\",\"Semiurban\",\"Urban\",\"Semiurban\",\"Rural\",\"Urban\",\"Rural\",\"Rural\",\"Rural\",\"Semiurban\",\"Semiurban\",\"Rural\",\"Urban\",\"Rural\",\"Semiurban\",\"Semiurban\",\"Rural\",\"Rural\",\"Semiurban\",\"Semiurban\",\"Urban\",\"Urban\",\"Rural\",\"Semiurban\",\"Semiurban\",\"Semiurban\",\"Semiurban\",\"Rural\",\"Rural\",\"Rural\",\"Rural\",\"Rural\",\"Semiurban\",\"Urban\",\"Semiurban\",\"Rural\",\"Semiurban\",\"Rural\",\"Urban\",\"Semiurban\",\"Urban\",\"Semiurban\",\"Semiurban\",\"Urban\",\"Urban\",\"Semiurban\",\"Semiurban\",\"Urban\",\"Rural\",\"Urban\",\"Semiurban\",\"Semiurban\",\"Semiurban\",\"Urban\",\"Rural\",\"Urban\",\"Semiurban\",\"Rural\",\"Semiurban\",\"Semiurban\",\"Semiurban\",\"Urban\",\"Semiurban\",\"Semiurban\",\"Semiurban\",\"Semiurban\",\"Rural\",\"Urban\",\"Semiurban\",\"Semiurban\",\"Rural\",\"Semiurban\",\"Rural\",\"Rural\",\"Semiurban\",\"Semiurban\",\"Rural\",\"Urban\",\"Urban\",\"Rural\",\"Semiurban\",\"Rural\",\"Urban\",\"Urban\",\"Rural\",\"Semiurban\",\"Urban\",\"Urban\",\"Urban\",\"Semiurban\",\"Urban\",\"Semiurban\",\"Urban\",\"Rural\",\"Semiurban\",\"Urban\",\"Rural\",\"Rural\",\"Urban\",\"Rural\",\"Semiurban\",\"Urban\",\"Semiurban\",\"Semiurban\",\"Rural\",\"Semiurban\",\"Rural\",\"Semiurban\",\"Urban\",\"Rural\",\"Urban\",\"Urban\",\"Urban\",\"Rural\",\"Semiurban\",\"Semiurban\",\"Semiurban\",\"Semiurban\",\"Urban\",\"Semiurban\",\"Rural\",\"Urban\",\"Semiurban\",\"Urban\",\"Urban\",\"Rural\",\"Rural\",\"Semiurban\",\"Rural\",\"Semiurban\",\"Rural\",\"Rural\",\"Semiurban\",\"Urban\",\"Urban\",\"Semiurban\",\"Urban\",\"Semiurban\",\"Urban\",\"Rural\",\"Urban\",\"Urban\",\"Semiurban\",\"Rural\",\"Urban\",\"Rural\",\"Urban\",\"Rural\",\"Urban\",\"Rural\",\"Rural\",\"Semiurban\",\"Semiurban\",\"Rural\",\"Rural\",\"Rural\",\"Urban\",\"Semiurban\",\"Urban\",\"Semiurban\",\"Rural\",\"Semiurban\",\"Semiurban\",\"Rural\",\"Rural\",\"Rural\",\"Rural\",\"Rural\",\"Semiurban\",\"Urban\",\"Urban\",\"Urban\",\"Semiurban\",\"Urban\",\"Urban\",\"Urban\",\"Semiurban\",\"Rural\",\"Rural\",\"Urban\",\"Semiurban\",\"Rural\",\"Rural\",\"Urban\",\"Semiurban\",\"Rural\",\"Semiurban\",\"Rural\",\"Urban\",\"Semiurban\",\"Rural\",\"Semiurban\",\"Rural\",\"Rural\",\"Rural\",\"Semiurban\",\"Urban\",\"Rural\",\"Urban\",\"Urban\",\"Semiurban\",\"Semiurban\",\"Semiurban\",\"Urban\",\"Urban\",\"Rural\",\"Rural\",\"Semiurban\",\"Rural\",\"Semiurban\",\"Rural\",\"Semiurban\",\"Semiurban\",\"Rural\",\"Urban\",\"Urban\",\"Urban\",\"Rural\",\"Semiurban\",\"Urban\",\"Urban\",\"Semiurban\",\"Semiurban\",\"Urban\",\"Urban\",\"Urban\",\"Urban\",\"Semiurban\",\"Urban\",\"Urban\",\"Rural\",\"Rural\",\"Rural\",\"Urban\",\"Semiurban\",\"Urban\",\"Semiurban\",\"Urban\",\"Urban\",\"Rural\",\"Semiurban\",\"Urban\",\"Rural\",\"Semiurban\",\"Semiurban\",\"Rural\",\"Semiurban\",\"Urban\",\"Rural\",\"Semiurban\",\"Rural\",\"Semiurban\",\"Urban\",\"Rural\",\"Rural\",\"Semiurban\",\"Urban\",\"Urban\",\"Urban\",\"Rural\",\"Semiurban\",\"Rural\",\"Urban\",\"Urban\",\"Urban\",\"Semiurban\",\"Rural\",\"Rural\",\"Semiurban\",\"Rural\",\"Urban\",\"Semiurban\",\"Rural\",\"Semiurban\",\"Semiurban\",\"Urban\",\"Semiurban\",\"Semiurban\",\"Urban\",\"Urban\",\"Rural\",\"Semiurban\",\"Rural\",\"Semiurban\",\"Semiurban\",\"Rural\",\"Rural\",\"Rural\",\"Rural\",\"Rural\",\"Semiurban\",\"Rural\",\"Urban\",\"Rural\",\"Rural\",\"Semiurban\",\"Semiurban\",\"Urban\",\"Urban\",\"Rural\",\"Semiurban\",\"Semiurban\",\"Urban\",\"Rural\",\"Semiurban\",\"Semiurban\",\"Rural\",\"Urban\",\"Semiurban\",\"Semiurban\",\"Urban\",\"Semiurban\",\"Rural\",\"Semiurban\",\"Urban\",\"Rural\",\"Rural\",\"Semiurban\",\"Semiurban\",\"Semiurban\",\"Urban\",\"Rural\",\"Rural\",\"Semiurban\",\"Semiurban\",\"Semiurban\",\"Rural\",\"Rural\",\"Urban\",\"Semiurban\",\"Urban\",\"Semiurban\",\"Urban\",\"Rural\",\"Semiurban\",\"Rural\",\"Semiurban\",\"Rural\",\"Urban\",\"Semiurban\",\"Rural\",\"Rural\",\"Semiurban\",\"Semiurban\",\"Rural\",\"Semiurban\",\"Rural\",\"Urban\",\"Urban\",\"Urban\",\"Urban\",\"Rural\",\"Semiurban\",\"Urban\",\"Semiurban\",\"Rural\",\"Rural\",\"Semiurban\",\"Semiurban\",\"Semiurban\",\"Rural\",\"Semiurban\",\"Semiurban\",\"Rural\",\"Rural\",\"Semiurban\",\"Rural\",\"Semiurban\",\"Semiurban\",\"Semiurban\",\"Semiurban\",\"Rural\",\"Urban\",\"Rural\",\"Semiurban\",\"Urban\",\"Rural\",\"Urban\",\"Semiurban\",\"Rural\",\"Rural\",\"Semiurban\",\"Semiurban\",\"Semiurban\",\"Urban\",\"Semiurban\",\"Rural\",\"Semiurban\",\"Rural\",\"Semiurban\",\"Rural\",\"Rural\",\"Rural\",\"Urban\",\"Urban\",\"Rural\",\"Semiurban\",\"Urban\",\"Semiurban\",\"Semiurban\",\"Semiurban\",\"Semiurban\",\"Semiurban\",\"Rural\",\"Semiurban\",\"Urban\",\"Rural\",\"Urban\",\"Rural\",\"Urban\",\"Urban\",\"Urban\",\"Urban\",\"Urban\",\"Semiurban\",\"Semiurban\",\"Urban\",\"Semiurban\",\"Urban\",\"Rural\",\"Urban\",\"Semiurban\",\"Urban\",\"Semiurban\",\"Rural\",\"Rural\",\"Rural\",\"Urban\",\"Semiurban\",\"Semiurban\",\"Semiurban\",\"Semiurban\",\"Semiurban\",\"Semiurban\",\"Rural\",\"Urban\",\"Rural\",\"Rural\",\"Semiurban\",\"Rural\",\"Urban\",\"Urban\",\"Rural\",\"Urban\",\"Rural\",\"Semiurban\",\"Urban\",\"Semiurban\",\"Rural\",\"Rural\",\"Rural\",\"Rural\",\"Urban\",\"Urban\",\"Semiurban\",\"Urban\",\"Rural\",\"Rural\",\"Urban\",\"Urban\",\"Rural\",\"Rural\",\"Urban\",\"Semiurban\",\"Urban\",\"Rural\",\"Rural\",\"Rural\",\"Urban\",\"Semiurban\",\"Urban\",\"Rural\",\"Semiurban\",\"Rural\",\"Rural\",\"Rural\",\"Urban\",\"Rural\",\"Rural\",\"Rural\",\"Rural\",\"Semiurban\",\"Urban\",\"Rural\",\"Rural\",\"Semiurban\",\"Rural\",\"Semiurban\",\"Semiurban\",\"Rural\",\"Rural\",\"Semiurban\",\"Urban\",\"Urban\",\"Semiurban\",\"Rural\",\"Semiurban\",\"Urban\",\"Urban\",\"Semiurban\",\"Rural\",\"Urban\",\"Urban\",\"Urban\",\"Rural\",\"Urban\",\"Rural\",\"Urban\",\"Semiurban\",\"Rural\",\"Urban\",\"Semiurban\",\"Semiurban\",\"Urban\",\"Semiurban\",\"Rural\",\"Urban\",\"Rural\",\"Rural\",\"Semiurban\",\"Rural\",\"Semiurban\",\"Rural\",\"Urban\",\"Semiurban\",\"Urban\",\"Urban\",\"Urban\",\"Semiurban\",\"Rural\",\"Rural\",\"Rural\",\"Rural\",\"Urban\",\"Rural\",\"Semiurban\",\"Urban\",\"Rural\",\"Urban\",\"Urban\",\"Semiurban\",\"Semiurban\",\"Rural\",\"Semiurban\",\"Rural\",\"Semiurban\",\"Semiurban\",\"Rural\",\"Urban\",\"Urban\",\"Rural\",\"Urban\",\"Rural\",\"Urban\",\"Semiurban\",\"Urban\",\"Urban\",\"Rural\",\"Semiurban\",\"Urban\",\"Semiurban\",\"Urban\",\"Semiurban\",\"Urban\",\"Semiurban\",\"Semiurban\",\"Rural\",\"Rural\",\"Semiurban\",\"Semiurban\",\"Semiurban\",\"Urban\",\"Rural\",\"Urban\",\"Rural\",\"Semiurban\",\"Rural\",\"Rural\",\"Semiurban\",\"Semiurban\",\"Semiurban\",\"Semiurban\",\"Semiurban\",\"Rural\",\"Urban\",\"Urban\",\"Urban\",\"Rural\",\"Urban\",\"Urban\",\"Urban\",\"Rural\",\"Semiurban\",\"Semiurban\",\"Urban\",\"Rural\",\"Semiurban\",\"Semiurban\",\"Urban\",\"Rural\",\"Semiurban\",\"Rural\",\"Semiurban\",\"Urban\",\"Rural\",\"Semiurban\",\"Rural\",\"Semiurban\",\"Semiurban\",\"Semiurban\",\"Rural\",\"Urban\",\"Semiurban\",\"Urban\",\"Urban\",\"Rural\",\"Rural\",\"Rural\",\"Urban\",\"Urban\",\"Semiurban\",\"Semiurban\",\"Rural\",\"Semiurban\",\"Rural\",\"Semiurban\",\"Rural\",\"Rural\",\"Semiurban\",\"Urban\",\"Urban\",\"Urban\",\"Semiurban\",\"Rural\",\"Urban\",\"Urban\",\"Rural\",\"Rural\",\"Urban\",\"Urban\",\"Urban\",\"Urban\",\"Rural\",\"Urban\",\"Urban\",\"Semiurban\",\"Semiurban\",\"Semiurban\",\"Urban\",\"Rural\",\"Urban\",\"Rural\",\"Urban\",\"Urban\",\"Semiurban\",\"Rural\",\"Urban\",\"Semiurban\",\"Rural\",\"Rural\",\"Semiurban\",\"Rural\",\"Urban\",\"Semiurban\",\"Rural\",\"Semiurban\",\"Rural\",\"Urban\",\"Semiurban\",\"Semiurban\",\"Rural\",\"Urban\",\"Urban\",\"Urban\",\"Semiurban\",\"Rural\",\"Semiurban\",\"Urban\",\"Urban\",\"Urban\",\"Rural\",\"Semiurban\",\"Semiurban\",\"Rural\",\"Semiurban\",\"Urban\",\"Rural\",\"Semiurban\",\"Rural\",\"Rural\",\"Urban\",\"Rural\",\"Rural\",\"Urban\",\"Urban\",\"Semiurban\",\"Rural\",\"Semiurban\",\"Rural\",\"Rural\",\"Semiurban\",\"Semiurban\",\"Semiurban\",\"Semiurban\",\"Semiurban\",\"Rural\",\"Semiurban\",\"Urban\",\"Semiurban\",\"Semiurban\",\"Rural\",\"Rural\",\"Urban\",\"Urban\",\"Semiurban\",\"Rural\",\"Rural\",\"Urban\",\"Semiurban\",\"Rural\",\"Rural\",\"Semiurban\",\"Urban\",\"Rural\",\"Rural\",\"Urban\",\"Rural\",\"Semiurban\",\"Rural\",\"Urban\",\"Semiurban\",\"Semiurban\",\"Rural\",\"Rural\",\"Rural\",\"Urban\",\"Semiurban\",\"Semiurban\",\"Rural\",\"Rural\",\"Rural\",\"Semiurban\",\"Semiurban\",\"Urban\",\"Rural\",\"Urban\",\"Rural\",\"Urban\",\"Semiurban\",\"Rural\",\"Semiurban\",\"Rural\",\"Semiurban\",\"Urban\",\"Rural\",\"Semiurban\",\"Semiurban\",\"Rural\",\"Rural\",\"Semiurban\",\"Rural\",\"Semiurban\",\"Urban\",\"Urban\",\"Urban\",\"Urban\",\"Semiurban\",\"Rural\",\"Urban\",\"Rural\",\"Semiurban\",\"Semiurban\",\"Rural\",\"Rural\",\"Rural\",\"Semiurban\",\"Rural\",\"Rural\",\"Semiurban\",\"Semiurban\",\"Rural\",\"Semiurban\",\"Rural\",\"Rural\",\"Rural\",\"Rural\",\"Semiurban\",\"Urban\",\"Semiurban\",\"Rural\",\"Urban\",\"Semiurban\",\"Urban\",\"Rural\",\"Semiurban\",\"Semiurban\",\"Rural\",\"Rural\",\"Rural\",\"Urban\",\"Rural\",\"Semiurban\",\"Rural\",\"Semiurban\",\"Rural\",\"Semiurban\",\"Semiurban\",\"Semiurban\",\"Urban\",\"Urban\",\"Semiurban\",\"Rural\",\"Urban\",\"Rural\",\"Rural\",\"Rural\",\"Rural\",\"Rural\",\"Semiurban\",\"Rural\",\"Urban\",\"Semiurban\",\"Urban\",\"Semiurban\",\"Urban\",\"Urban\",\"Urban\",\"Urban\",\"Urban\",\"Rural\",\"Rural\",\"Urban\",\"Rural\",\"Urban\",\"Semiurban\",\"Urban\",\"Rural\",\"Urban\",\"Rural\",\"Semiurban\",\"Semiurban\",\"Semiurban\",\"Urban\",\"Rural\",\"Rural\",\"Rural\",\"Rural\",\"Rural\",\"Rural\",\"Semiurban\",\"Urban\",\"Semiurban\",\"Semiurban\",\"Rural\",\"Semiurban\",\"Urban\",\"Urban\",\"Semiurban\",\"Urban\",\"Semiurban\",\"Rural\",\"Urban\",\"Rural\",\"Semiurban\",\"Semiurban\",\"Semiurban\",\"Semiurban\",\"Urban\",\"Urban\",\"Rural\"]},{\"axis\":{\"matches\":true},\"label\":\"loan_status\",\"values\":[\"Y\",\"N\",\"Y\",\"Y\",\"Y\",\"Y\",\"Y\",\"N\",\"Y\",\"N\",\"Y\",\"Y\",\"Y\",\"N\",\"Y\",\"Y\",\"Y\",\"N\",\"N\",\"Y\",\"N\",\"Y\",\"N\",\"N\",\"N\",\"Y\",\"Y\",\"Y\",\"N\",\"Y\",\"N\",\"N\",\"N\",\"Y\",\"N\",\"Y\",\"N\",\"Y\",\"Y\",\"Y\",\"N\",\"Y\",\"Y\",\"Y\",\"Y\",\"Y\",\"Y\",\"Y\",\"N\",\"Y\",\"Y\",\"Y\",\"N\",\"N\",\"N\",\"Y\",\"Y\",\"N\",\"Y\",\"Y\",\"Y\",\"Y\",\"N\",\"N\",\"N\",\"N\",\"N\",\"Y\",\"Y\",\"N\",\"Y\",\"Y\",\"Y\",\"N\",\"Y\",\"N\",\"N\",\"N\",\"N\",\"Y\",\"Y\",\"Y\",\"N\",\"N\",\"Y\",\"Y\",\"Y\",\"Y\",\"Y\",\"Y\",\"Y\",\"Y\",\"Y\",\"Y\",\"Y\",\"N\",\"Y\",\"Y\",\"Y\",\"Y\",\"Y\",\"Y\",\"Y\",\"Y\",\"Y\",\"Y\",\"Y\",\"N\",\"N\",\"Y\",\"Y\",\"Y\",\"N\",\"Y\",\"Y\",\"Y\",\"Y\",\"Y\",\"N\",\"Y\",\"Y\",\"Y\",\"Y\",\"Y\",\"Y\",\"Y\",\"Y\",\"Y\",\"N\",\"N\",\"Y\",\"Y\",\"Y\",\"Y\",\"Y\",\"N\",\"N\",\"Y\",\"N\",\"N\",\"N\",\"Y\",\"Y\",\"Y\",\"Y\",\"Y\",\"Y\",\"Y\",\"N\",\"Y\",\"N\",\"Y\",\"N\",\"N\",\"Y\",\"Y\",\"Y\",\"Y\",\"Y\",\"Y\",\"Y\",\"N\",\"N\",\"Y\",\"Y\",\"Y\",\"N\",\"Y\",\"N\",\"Y\",\"Y\",\"Y\",\"N\",\"Y\",\"N\",\"Y\",\"Y\",\"N\",\"Y\",\"N\",\"N\",\"N\",\"Y\",\"N\",\"Y\",\"Y\",\"N\",\"Y\",\"Y\",\"Y\",\"Y\",\"N\",\"N\",\"Y\",\"Y\",\"N\",\"Y\",\"Y\",\"Y\",\"N\",\"Y\",\"Y\",\"N\",\"Y\",\"Y\",\"Y\",\"Y\",\"Y\",\"Y\",\"N\",\"N\",\"N\",\"Y\",\"Y\",\"Y\",\"Y\",\"N\",\"Y\",\"N\",\"Y\",\"N\",\"Y\",\"Y\",\"Y\",\"Y\",\"N\",\"N\",\"Y\",\"Y\",\"Y\",\"Y\",\"Y\",\"Y\",\"Y\",\"Y\",\"Y\",\"N\",\"Y\",\"Y\",\"Y\",\"Y\",\"N\",\"Y\",\"Y\",\"Y\",\"N\",\"Y\",\"Y\",\"Y\",\"Y\",\"N\",\"N\",\"Y\",\"Y\",\"N\",\"Y\",\"N\",\"N\",\"N\",\"N\",\"Y\",\"Y\",\"N\",\"Y\",\"Y\",\"Y\",\"Y\",\"Y\",\"N\",\"Y\",\"Y\",\"Y\",\"Y\",\"Y\",\"Y\",\"Y\",\"Y\",\"Y\",\"Y\",\"Y\",\"N\",\"Y\",\"Y\",\"Y\",\"N\",\"Y\",\"N\",\"Y\",\"Y\",\"Y\",\"Y\",\"N\",\"Y\",\"N\",\"Y\",\"Y\",\"Y\",\"Y\",\"N\",\"N\",\"N\",\"Y\",\"Y\",\"Y\",\"Y\",\"N\",\"Y\",\"N\",\"N\",\"Y\",\"Y\",\"Y\",\"Y\",\"Y\",\"N\",\"Y\",\"Y\",\"Y\",\"Y\",\"N\",\"Y\",\"Y\",\"Y\",\"Y\",\"Y\",\"N\",\"Y\",\"Y\",\"N\",\"Y\",\"Y\",\"Y\",\"Y\",\"Y\",\"Y\",\"Y\",\"Y\",\"Y\",\"N\",\"Y\",\"N\",\"N\",\"Y\",\"Y\",\"Y\",\"Y\",\"N\",\"Y\",\"Y\",\"Y\",\"Y\",\"N\",\"Y\",\"N\",\"Y\",\"Y\",\"Y\",\"N\",\"N\",\"Y\",\"N\",\"Y\",\"Y\",\"Y\",\"Y\",\"N\",\"N\",\"N\",\"Y\",\"N\",\"Y\",\"Y\",\"Y\",\"N\",\"Y\",\"Y\",\"Y\",\"Y\",\"N\",\"Y\",\"Y\",\"Y\",\"Y\",\"Y\",\"N\",\"Y\",\"Y\",\"N\",\"Y\",\"Y\",\"Y\",\"Y\",\"Y\",\"Y\",\"Y\",\"Y\",\"N\",\"Y\",\"Y\",\"N\",\"N\",\"N\",\"Y\",\"Y\",\"N\",\"Y\",\"Y\",\"Y\",\"N\",\"N\",\"N\",\"Y\",\"N\",\"Y\",\"N\",\"Y\",\"N\",\"N\",\"Y\",\"Y\",\"Y\",\"N\",\"Y\",\"N\",\"Y\",\"Y\",\"N\",\"Y\",\"Y\",\"Y\",\"Y\",\"N\",\"Y\",\"Y\",\"Y\",\"Y\",\"Y\",\"Y\",\"N\",\"Y\",\"Y\",\"Y\",\"Y\",\"Y\",\"Y\",\"Y\",\"Y\",\"N\",\"N\",\"N\",\"N\",\"Y\",\"N\",\"Y\",\"Y\",\"Y\",\"Y\",\"N\",\"Y\",\"N\",\"Y\",\"Y\",\"Y\",\"Y\",\"N\",\"Y\",\"N\",\"Y\",\"Y\",\"N\",\"Y\",\"N\",\"Y\",\"Y\",\"Y\",\"Y\",\"Y\",\"N\",\"Y\",\"N\",\"Y\",\"Y\",\"Y\",\"Y\",\"Y\",\"Y\",\"N\",\"N\",\"Y\",\"N\",\"Y\",\"Y\",\"Y\",\"Y\",\"N\",\"Y\",\"Y\",\"Y\",\"Y\",\"N\",\"Y\",\"Y\",\"Y\",\"N\",\"Y\",\"Y\",\"Y\",\"N\",\"Y\",\"Y\",\"N\",\"Y\",\"Y\",\"N\",\"N\",\"Y\",\"Y\",\"N\",\"N\",\"N\",\"Y\",\"Y\",\"Y\",\"Y\",\"N\",\"Y\",\"Y\",\"Y\",\"Y\",\"Y\",\"Y\",\"Y\",\"N\",\"N\",\"Y\",\"Y\",\"Y\",\"Y\",\"N\",\"Y\",\"Y\",\"N\",\"Y\",\"Y\",\"Y\",\"Y\",\"N\",\"Y\",\"N\",\"Y\",\"N\",\"Y\",\"Y\",\"N\",\"N\",\"Y\",\"Y\",\"Y\",\"Y\",\"Y\",\"Y\",\"Y\",\"Y\",\"Y\",\"N\",\"Y\",\"Y\",\"N\",\"N\",\"N\",\"Y\",\"N\",\"Y\",\"N\",\"N\",\"Y\",\"N\",\"Y\",\"Y\",\"Y\",\"Y\",\"N\",\"Y\",\"N\",\"N\",\"N\",\"Y\",\"Y\",\"Y\",\"N\",\"Y\",\"N\",\"Y\",\"Y\",\"Y\",\"Y\",\"N\",\"N\",\"Y\",\"Y\",\"N\",\"Y\",\"Y\",\"Y\",\"Y\",\"N\",\"Y\",\"Y\",\"Y\",\"Y\",\"Y\",\"Y\",\"Y\",\"N\",\"N\",\"Y\",\"Y\",\"N\",\"Y\",\"Y\",\"Y\",\"Y\",\"Y\",\"Y\",\"N\",\"N\",\"N\",\"Y\",\"Y\",\"Y\",\"Y\",\"N\",\"Y\",\"N\",\"Y\",\"N\",\"Y\",\"Y\",\"Y\",\"Y\",\"N\",\"N\",\"Y\",\"Y\",\"Y\",\"Y\",\"Y\",\"Y\",\"Y\",\"Y\",\"Y\",\"N\",\"Y\",\"Y\",\"Y\",\"Y\",\"N\",\"Y\",\"Y\",\"Y\",\"N\",\"Y\",\"Y\",\"Y\",\"Y\",\"N\",\"N\",\"Y\",\"Y\",\"N\",\"Y\",\"N\",\"N\",\"N\",\"N\",\"Y\",\"Y\",\"N\",\"Y\",\"Y\",\"Y\",\"Y\",\"Y\",\"N\",\"Y\",\"Y\",\"Y\",\"Y\",\"Y\",\"Y\",\"Y\",\"Y\",\"Y\",\"Y\",\"Y\",\"N\",\"Y\",\"Y\",\"Y\",\"N\",\"Y\",\"N\",\"Y\",\"Y\",\"Y\",\"Y\",\"N\",\"Y\",\"N\",\"Y\",\"Y\",\"Y\",\"Y\",\"N\",\"N\",\"N\",\"Y\",\"Y\",\"Y\",\"Y\",\"N\",\"Y\",\"N\",\"N\",\"Y\",\"Y\",\"Y\",\"Y\",\"Y\",\"N\",\"Y\",\"Y\",\"Y\",\"Y\",\"N\",\"Y\",\"Y\",\"Y\",\"Y\",\"Y\",\"N\",\"Y\",\"Y\",\"N\",\"Y\",\"Y\",\"Y\",\"Y\",\"Y\",\"Y\",\"Y\",\"Y\",\"Y\",\"N\",\"Y\",\"N\",\"N\",\"Y\",\"Y\",\"Y\",\"Y\",\"N\",\"Y\",\"Y\",\"Y\",\"Y\",\"N\",\"Y\",\"N\",\"Y\",\"Y\",\"Y\",\"N\",\"N\",\"Y\",\"N\",\"Y\",\"Y\",\"Y\",\"Y\",\"N\",\"N\",\"N\",\"Y\",\"N\",\"Y\",\"Y\",\"Y\",\"N\",\"Y\",\"Y\",\"Y\",\"Y\",\"N\",\"Y\",\"Y\",\"Y\",\"Y\",\"Y\",\"N\",\"Y\",\"Y\",\"N\",\"Y\",\"Y\",\"Y\",\"Y\",\"Y\",\"Y\",\"Y\",\"Y\",\"N\",\"Y\",\"Y\",\"N\",\"N\",\"N\",\"Y\",\"Y\",\"N\",\"Y\",\"Y\",\"Y\",\"N\",\"N\",\"N\",\"Y\",\"N\",\"Y\",\"N\",\"Y\",\"N\",\"N\",\"Y\",\"Y\",\"Y\",\"N\",\"Y\",\"N\",\"Y\",\"Y\",\"N\",\"Y\",\"Y\",\"Y\",\"Y\",\"N\",\"Y\",\"Y\",\"Y\",\"Y\",\"Y\",\"Y\",\"N\",\"Y\",\"Y\",\"Y\",\"Y\",\"Y\",\"Y\",\"Y\",\"Y\",\"N\",\"N\",\"N\",\"N\",\"Y\",\"N\",\"Y\",\"Y\",\"Y\",\"Y\",\"N\",\"Y\",\"N\",\"Y\",\"Y\",\"Y\",\"Y\",\"N\",\"Y\",\"N\",\"Y\",\"Y\",\"N\",\"Y\",\"N\",\"Y\",\"Y\",\"Y\",\"Y\",\"Y\",\"N\",\"Y\",\"N\",\"Y\",\"Y\",\"Y\",\"Y\",\"Y\",\"Y\",\"N\",\"N\",\"Y\",\"N\",\"Y\",\"Y\",\"Y\",\"Y\",\"N\",\"Y\",\"Y\",\"Y\",\"Y\",\"N\",\"Y\",\"Y\",\"Y\",\"N\",\"Y\",\"Y\",\"Y\",\"N\",\"Y\",\"Y\",\"N\",\"Y\",\"Y\",\"N\",\"N\",\"Y\",\"Y\",\"N\",\"N\",\"N\",\"Y\",\"Y\",\"Y\",\"Y\",\"N\",\"Y\",\"Y\",\"Y\",\"Y\",\"Y\",\"Y\",\"Y\",\"N\",\"N\",\"Y\",\"Y\",\"Y\",\"Y\",\"N\",\"Y\",\"Y\",\"N\",\"Y\",\"Y\",\"Y\",\"Y\",\"N\",\"Y\",\"N\",\"Y\",\"N\",\"Y\",\"Y\",\"N\",\"N\",\"Y\",\"Y\",\"Y\",\"Y\",\"Y\",\"Y\",\"Y\",\"Y\",\"Y\",\"N\",\"Y\",\"Y\",\"N\",\"N\",\"N\",\"Y\",\"N\",\"Y\",\"N\",\"N\",\"Y\",\"N\",\"Y\",\"Y\",\"Y\",\"Y\",\"N\",\"Y\",\"N\",\"N\",\"N\",\"Y\",\"Y\",\"Y\",\"N\",\"Y\",\"N\",\"Y\",\"Y\",\"Y\",\"Y\",\"N\",\"N\",\"Y\",\"Y\",\"N\",\"Y\",\"Y\",\"Y\",\"Y\",\"N\",\"Y\",\"Y\",\"Y\",\"Y\",\"Y\",\"Y\",\"Y\",\"N\"]},{\"axis\":{\"matches\":true},\"label\":\"sumofincome\",\"values\":[5849.0,6091.0,3000.0,4941.0,6000.0,9613.0,3849.0,5540.0,5532.0,15848.0,3900.0,4340.0,8698.0,4693.0,2385.0,4950.0,3596.0,3510.0,4887.0,6100.0,7660.0,11580.0,4511.0,5282.0,6642.0,9560.0,5052.0,5266.0,1442.0,5833.0,7535.0,3167.0,4692.0,5167.0,13223.0,4342.0,3158.0,5126.0,9791.0,5416.0,3600.0,3013.0,2400.0,6277.0,4695.0,3410.0,5649.0,5821.0,6085.0,6275.0,3572.0,3086.0,4230.0,4616.0,10223.0,3875.0,3723.0,5566.0,10330.0,6216.0,6296.0,3029.0,6058.0,4945.0,4166.0,10321.0,5454.0,10223.0,7100.0,4300.0,6274.0,3750.0,3500.0,4755.0,7040.0,3750.0,8500.0,4022.0,7167.0,5499.0,3846.0,2395.0,3259.0,8250.0,3988.0,4897.0,5333.0,4618.0,8566.0,9862.0,5858.0,11875.0,5093.0,4133.0,3620.0,6782.0,4786.0,2974.0,4188.0,5300.0,7551.0,8649.0,10223.0,8235.0,4570.0,4082.0,11349.0,7333.0,7400.0,2825.0,5316.0,5262.0,7686.0,7451.0,5050.0,10223.0,5450.0,3612.0,7710.0,10223.0,8334.0,4166.0,7762.0,2957.0,6314.0,3692.0,10223.0,5505.0,14073.0,8649.0,10223.0,3943.0,2718.0,3459.0,4895.0,9625.0,4583.0,6816.0,10223.0,5630.0,7125.0,5417.0,6950.0,4732.0,10223.0,6816.0,10223.0,2963.0,11666.0,5690.0,6277.0,6327.0,9166.0,2281.0,3254.0,10223.0,6000.0,9538.0,5063.0,10208.0,2904.0,7933.0,4369.0,5614.0,9323.0,6873.0,4583.0,5772.0,2237.0,8000.0,3589.0,10223.0,3522.0,11333.0,5080.0,5461.0,3664.0,11141.0,3750.0,3784.0,12025.0,6979.0,4600.0,10223.0,3625.0,14973.0,2178.0,4521.0,5970.0,9328.0,4885.0,10223.0,6033.0,3858.0,4191.0,5708.0,12083.0,4272.0,6232.0,10223.0,5100.0,4923.0,3992.0,4583.0,3917.0,4408.0,3244.0,6506.0,2479.0,3418.0,10000.0,4680.0,7787.0,5703.0,6194.0,4833.0,1950.0,5502.0,5000.0,6666.0,2221.0,5726.0,5762.0,8588.0,6250.0,3250.0,4735.0,7945.0,4758.0,6400.0,4545.0,3716.0,5787.0,8333.0,4934.0,6760.0,5746.0,3463.0,3812.0,3315.0,10819.0,4493.0,8590.0,7550.0,7823.0,10383.0,9703.0,6608.0,4725.0,3677.0,5558.0,3427.0,4750.0,8286.0,10223.0,3083.0,6045.0,5250.0,12323.0,4931.0,10333.0,4269.0,3481.0,7200.0,5166.0,7542.0,6095.0,6144.0,3418.0,4436.0,3237.0,10223.0,4690.0,4843.0,3900.0,4592.0,7267.0,4403.0,10223.0,4100.0,6479.0,4727.0,3286.7999878,3477.0,10223.0,6211.0,4317.0,5704.0,4124.0,9508.0,5491.0,4400.0,4713.0,5417.0,5717.0,5666.0,6875.0,4666.0,7541.0,4939.0,4734.0,4625.0,5000.0,3428.0,6500.0,2000.0,5428.0,4263.0,10223.0,7667.0,2917.0,5332.0,2507.0,5746.0,4316.0,5039.0,3717.0,4192.0,3541.0,10000.0,4567.0,4531.0,5191.0,6151.0,10223.0,13649.0,4917.0,7978.0,6784.0,2500.0,6177.0,2935.0,2833.0,10223.0,11666.0,9993.0,5938.0,7100.0,1830.0,4160.0,4234.0,2378.0,5783.0,3173.0,4913.0,4957.0,6753.0,5251.0,10916.0,8250.0,9083.0,12917.0,4749.0,5500.0,2928.0,3813.0,11500.0,3875.0,4666.0,8334.0,4723.0,8667.0,7083.0,6046.0,6822.0,6216.0,2500.0,5124.0,6325.0,15489.0,10223.0,5185.0,14948.0,5049.0,4223.0,5740.0,13746.0,4310.0,3069.0,5391.0,5833.0,10173.0,6000.0,7167.0,4566.0,3667.0,3946.0,6146.0,4750.0,5488.0,9167.0,9504.0,4698.0,3618.0,4500.0,3760.0,3180.0,4492.0,5568.0,3300.0,2889.0,2755.0,8125.0,1963.0,7441.0,4547.0,4567.0,2213.0,8300.0,10223.0,3867.0,6256.0,6096.0,4286.0,5386.0,2995.0,2600.0,7225.0,3798.0,4663.0,5829.0,2720.0,3539.0,8917.0,10223.0,6966.0,4606.0,5935.0,2936.12000084,2717.0,8624.0,6500.0,10223.0,4765.0,3750.0,10047.0,3777.0,3338.0,10223.0,7142.0,8724.0,9734.0,6700.0,10223.0,12958.0,4676.0,4652.0,4915.0,5050.0,4311.0,3564.0,3414.0,5681.0,4949.0,7085.0,3859.0,4301.0,6277.0,4354.0,8334.0,6166.0,7740.0,5203.0,5191.0,4166.0,6000.0,4611.0,10223.0,3127.0,6784.0,5529.0,4153.0,4691.0,2500.0,10180.0,11237.0,8450.0,4745.0,12473.0,4550.0,4350.0,3095.0,5233.0,10223.0,8333.0,4394.0,3547.0,10223.0,6666.0,2435.0,5484.0,6464.0,3691.0,10223.0,5754.0,4239.0,4300.0,7482.0,2895.0,10699.0,4328.0,3159.0,10489.0,9352.0,5297.0,7926.0,15848.0,3583.0,5492.0,10223.0,4885.0,8069.0,5318.0,7755.0,9481.0,6894.0,3663.0,4874.0,6598.0,3400.0,3934.0,2500.0,7101.0,13573.0,6767.0,10223.0,3775.0,6715.0,3981.0,6783.0,6525.0,4281.0,3588.0,10223.0,10223.0,4592.0,10039.0,3617.0,3453.0,6417.0,7453.0,2138.0,3652.0,4763.0,3680.0,4718.0,3358.0,4309.0,5000.0,4801.0,6633.0,4867.0,6583.0,4787.0,7859.0,6500.0,4292.0,10139.0,6556.0,6486.0,3917.0,10223.0,7977.0,5800.0,8799.0,4467.0,3333.0,5900.0,2378.0,5230.0,5167.0,6567.0,10223.0,7750.0,6406.0,3620.0,5297.0,5968.0,4014.0,6099.0,6540.0,7461.0,3166.0,1880.0,4704.0,7283.0,3819.0,2165.0,4750.0,2726.0,6416.0,6000.0,9357.0,7159.0,10223.0,3833.0,7383.0,2987.0,9963.0,5780.0,6041.0,5686.0,5703.0,7977.0,10223.0,6200.0,5900.0,5398.0,5182.0,2900.0,4106.0,8312.0,7583.0,4583.0,10223.0,5100.0,4923.0,3992.0,4583.0,3917.0,4408.0,3244.0,6506.0,2479.0,3418.0,10000.0,4680.0,7787.0,5703.0,6194.0,4833.0,1950.0,5502.0,5000.0,6666.0,2221.0,5726.0,5762.0,8588.0,6250.0,3250.0,4735.0,7945.0,4758.0,6400.0,4545.0,3716.0,5787.0,8333.0,4934.0,6760.0,5746.0,3463.0,3812.0,3315.0,10819.0,4493.0,8590.0,7550.0,7823.0,10383.0,9703.0,6608.0,4725.0,3677.0,5558.0,3427.0,4750.0,8286.0,10223.0,3083.0,6045.0,5250.0,12323.0,4931.0,10333.0,4269.0,3481.0,7200.0,5166.0,7542.0,6095.0,6144.0,3418.0,4436.0,3237.0,10223.0,4690.0,4843.0,3900.0,4592.0,7267.0,4403.0,10223.0,4100.0,6479.0,4727.0,3286.7999878,3477.0,10223.0,6211.0,4317.0,5704.0,4124.0,9508.0,5491.0,4400.0,4713.0,5417.0,5717.0,5666.0,6875.0,4666.0,7541.0,4939.0,4734.0,4625.0,5000.0,3428.0,6500.0,2000.0,5428.0,4263.0,10223.0,7667.0,2917.0,5332.0,2507.0,5746.0,4316.0,5039.0,3717.0,4192.0,3541.0,10000.0,4567.0,4531.0,5191.0,6151.0,10223.0,13649.0,4917.0,7978.0,6784.0,2500.0,6177.0,2935.0,2833.0,10223.0,11666.0,9993.0,5938.0,7100.0,1830.0,4160.0,4234.0,2378.0,5783.0,3173.0,4913.0,4957.0,6753.0,5251.0,10916.0,8250.0,9083.0,12917.0,4749.0,5500.0,2928.0,3813.0,11500.0,3875.0,4666.0,8334.0,4723.0,8667.0,7083.0,6046.0,6822.0,6216.0,2500.0,5124.0,6325.0,15489.0,10223.0,5185.0,14948.0,5049.0,4223.0,5740.0,13746.0,4310.0,3069.0,5391.0,5833.0,10173.0,6000.0,7167.0,4566.0,3667.0,3946.0,6146.0,4750.0,5488.0,9167.0,9504.0,4698.0,3618.0,4500.0,3760.0,3180.0,4492.0,5568.0,3300.0,2889.0,2755.0,8125.0,1963.0,7441.0,4547.0,4567.0,2213.0,8300.0,10223.0,3867.0,6256.0,6096.0,4286.0,5386.0,2995.0,2600.0,7225.0,3798.0,4663.0,5829.0,2720.0,3539.0,8917.0,10223.0,6966.0,4606.0,5935.0,2936.12000084,2717.0,8624.0,6500.0,10223.0,4765.0,3750.0,10047.0,3777.0,3338.0,10223.0,7142.0,8724.0,9734.0,6700.0,10223.0,12958.0,4676.0,4652.0,4915.0,5050.0,4311.0,3564.0,3414.0,5681.0,4949.0,7085.0,3859.0,4301.0,6277.0,4354.0,8334.0,6166.0,7740.0,5203.0,5191.0,4166.0,6000.0,4611.0,10223.0,3127.0,6784.0,5529.0,4153.0,4691.0,2500.0,10180.0,11237.0,8450.0,4745.0,12473.0,4550.0,4350.0,3095.0,5233.0,10223.0,8333.0,4394.0,3547.0,10223.0,6666.0,2435.0,5484.0,6464.0,3691.0,10223.0,5754.0,4239.0,4300.0,7482.0,2895.0,10699.0,4328.0,3159.0,10489.0,9352.0,5297.0,7926.0,15848.0,3583.0,5492.0,10223.0,4885.0,8069.0,5318.0,7755.0,9481.0,6894.0,3663.0,4874.0,6598.0,3400.0,3934.0,2500.0,7101.0,13573.0,6767.0,10223.0,3775.0,6715.0,3981.0,6783.0,6525.0,4281.0,3588.0,10223.0,10223.0,4592.0,10039.0,3617.0,3453.0,6417.0,7453.0,2138.0,3652.0,4763.0,3680.0,4718.0,3358.0,4309.0,5000.0,4801.0,6633.0,4867.0,6583.0,4787.0,7859.0,6500.0,4292.0,10139.0,6556.0,6486.0,3917.0,10223.0,7977.0,5800.0,8799.0,4467.0,3333.0,5900.0,2378.0,5230.0,5167.0,6567.0,10223.0,7750.0,6406.0,3620.0,5297.0,5968.0,4014.0,6099.0,6540.0,7461.0,3166.0,1880.0,4704.0,7283.0,3819.0,2165.0,4750.0,2726.0,6416.0,6000.0,9357.0,7159.0,10223.0,3833.0,7383.0,2987.0,9963.0,5780.0,6041.0,5686.0,5703.0,7977.0,10223.0,6200.0,5900.0,5398.0,5182.0,2900.0,4106.0,8312.0,7583.0,4583.0]},{\"axis\":{\"matches\":true},\"label\":\"EMI\",\"values\":[827.8562286493062,767.4246721955288,395.70334660081954,719.4606301833082,845.3662404653872,1588.8088916548058,569.5729988951191,947.289829741356,1007.2448822566317,1588.8088916548058,419.68536760692984,653.5100724165051,1199.1010503055138,683.4875986741429,188.73485330080703,749.4381564409462,716.4310584781728,455.6583991160953,797.4021984531668,689.4831039256705,623.5325461588671,1588.8088916548058,695.478609177198,671.4965881710878,905.321292980663,1145.1415030417659,731.4516406863635,659.5055776680326,209.84268380346492,719.4606301833082,1205.0965555570415,443.66738861304015,635.5235566619223,683.4875986741429,1588.8088916548058,827.8562286493062,599.5505251527569,863.3527562199699,1103.1729662810726,659.5055776680326,479.64042012220557,281.78874682179577,449.66289386456776,803.3977037046942,575.5685041466467,527.6044621344261,263.80223106721303,863.3527562199699,719.4606301833082,863.3527562199699,599.5505251527569,719.4606301833082,671.4965881710878,803.3977037046942,1588.8088916548058,581.5640093981742,575.5685041466467,809.3932089562219,1079.1909452749624,863.3527562199699,719.4606301833082,593.5550199012293,1392.3637662799629,827.8562286493062,695.478609177198,1546.840354894113,1063.2596033410625,1588.8088916548058,2416.600191178534,815.3887142077494,1031.2269032627419,581.5640093981742,521.8841352032666,569.5729988951191,1121.1594820356556,677.4920934226153,1055.2089242688521,659.5055776680326,1159.742522673926,779.415682698584,665.5010829195602,827.8562286493062,1001.2493770051041,1588.8088916548058,358.2155292390864,815.3887142077494,593.5550199012293,623.5325461588671,1259.0561028207896,1049.2134190173247,785.4111879501116,1586.4508367311093,485.63592537373313,731.4516406863635,277.551254854128,827.8562286493062,821.384219459277,299.77526257637845,970.4353522557317,785.4111879501116,1122.329581304455,905.321292980663,827.8562286493062,827.8562286493062,959.2808402444111,599.5505251527569,1348.9886815937032,719.4606301833082,1295.029134329955,563.5774936435915,815.3887142077494,833.3752299623321,911.3167982321906,827.8562286493062,707.4696196802531,1561.1351318896554,923.3078087352458,509.61794637984343,1049.2134190173247,1552.8358601456405,1079.1909452749624,263.80223106721303,821.384219459277,485.63592537373313,1163.1280187963484,557.581988392064,1588.8088916548058,827.8562286493062,1350.1709248775398,1091.1819557780177,1588.8088916548058,443.66738861304015,419.68536760692984,277.551254854128,611.541535655812,1588.8088916548058,503.62244112831587,527.6044621344261,1450.9122708696718,773.4201774470565,1109.1684715326003,1007.2448822566317,1476.7494490848092,731.4516406863635,1578.0122684506246,599.5505251527569,419.68536760692984,179.86515754582706,1348.9886815937032,749.4381564409462,707.4696196802531,911.3167982321906,1462.903281372727,677.4920934226153,299.77526257637845,2236.2205943284252,959.2808402444111,1121.1594820356556,719.4606301833082,1528.8538391395302,587.5595146497018,1588.8088916548058,725.4561354348359,947.289829741356,632.8926210363468,1091.1819557780177,671.4965881710878,773.4201774470565,377.71683084623686,1199.1010503055138,569.5729988951191,1707.3987139366134,683.5240307192545,1121.1594820356556,521.6089568828985,695.478609177198,605.5460304042846,1588.8088916548058,695.478609177198,611.541535655812,1079.1909452749624,401.6988518523471,616.0154844753775,1558.831365397168,647.5145671649775,719.4606301833082,425.23892498043955,347.739304588599,1007.2448822566317,1586.4508367311093,287.78425207332333,983.2628612505215,959.2808402444111,455.6583991160953,719.4606301833082,1019.2358927596869,1121.1594820356556,719.4606301833082,677.4920934226153,497.6269358767883,539.5954726374812,995.2538717535766,1165.1930936265544,809.3932089562219,743.4426511894186,719.4606301833082,479.64042012220557,329.7527888340163,353.73480984012656,761.4291669440013,1283.0381238269,767.4246721955288,1438.9212603666165,779.415682698584,821.384219459277,599.5505251527569,809.3932089562219,785.4111879501116,431.67637810998497,761.4291669440013,359.7303150916541,695.478609177198,863.3527562199699,1049.2134190173247,767.4246721955288,1019.2358927596869,827.3797247108046,1259.0561028207896,947.289829741356,1199.1010503055138,623.5325461588671,354.4198677803542,719.4606301833082,1588.8088916548058,839.3707352138597,1019.2358927596869,1528.8538391395302,731.4516406863635,671.4965881710878,575.5685041466467,719.4606301833082,1181.3995592678473,2996.5842370613823,647.5145671649775,737.447145937891,1012.6281936581548,671.4965881710878,1156.0838544263934,737.447145937891,539.5954726374812,1205.0965555570415,827.3797247108046,623.5325461588671,2236.2205943284252,1151.1370082932933,1528.8538391395302,689.4831039256705,563.5774936435915,1588.8088916548058,767.4246721955288,1588.8088916548058,803.3977037046942,4715.400304991136,719.4606301833082,767.4246721955288,905.321292980663,899.3257877291355,959.2808402444111,809.3932089562219,539.5954726374812,179.86515754582706,815.3887142077494,755.4336616924737,899.3257877291355,539.5954726374812,689.4831039256705,1241.069587066207,479.64042012220557,1588.8088916548058,743.4426511894186,947.289829741356,671.4965881710878,658.2083258778006,323.75728358248875,827.8562286493062,533.5999673859537,637.8583874706593,719.4606301833082,689.4831039256705,1121.1594820356556,833.3752299623321,761.4291669440013,803.3977037046942,857.3572509684425,1031.2269032627419,659.5055776680326,1199.1010503055138,809.3932089562219,905.321292980663,677.4920934226153,557.581988392064,629.5280514103948,791.4066932016391,575.5685041466467,839.3707352138597,827.8562286493062,809.3932089562219,623.5325461588671,1588.8088916548058,1109.1684715326003,503.62244112831587,665.5010829195602,335.7482940855439,2103.631845664471,953.2853349928836,936.6810791337932,719.4606301833082,527.6044621344261,671.4965881710878,929.3033139867732,689.4831039256705,743.4426511894186,827.8562286493062,791.4066932016391,1588.8088916548058,1588.8088916548058,779.415682698584,1103.1729662810726,659.5055776680326,401.6988518523471,701.4741144287257,587.5595146497018,425.6808728584574,2236.2205943284252,1535.8194270482013,419.68536760692984,959.2808402444111,1055.2089242688521,827.8562286493062,425.6808728584574,1037.2224085142695,275.79324157026815,947.289829741356,443.66738861304015,749.4381564409462,959.2808402444111,911.3167982321906,755.4336616924737,1552.8358601456405,1121.1594820356556,1366.9751973482857,1588.8088916548058,569.5729988951191,629.5280514103948,779.415682698584,978.8739205362162,989.258366502049,401.6988518523471,599.5505251527569,1199.1010503055138,485.63592537373313,1414.9392393605062,779.415682698584,612.0863314112388,845.3662404653872,797.4021984531668,575.5685041466467,743.4426511894186,1049.2134190173247,1588.8088916548058,329.7527888340163,929.3033139867732,1707.3987139366134,936.6810791337932,659.5055776680326,1012.6281936581548,779.415682698584,779.415682698584,425.6808728584574,779.415682698584,767.4246721955288,1588.8088916548058,935.2988192383009,767.4246721955288,599.5505251527569,953.5582156947626,791.4066932016391,827.8562286493062,815.3887142077494,749.4381564409462,1109.1684715326003,1588.8088916548058,719.4606301833082,953.5582156947626,677.4920934226153,809.3932089562219,425.6808728584574,569.5729988951191,653.5100724165051,617.5370409073397,379.7355726218081,418.79591096558437,617.5370409073397,317.76177833096114,1163.1280187963484,689.4831039256705,689.4831039256705,395.70334660081954,979.3381302579819,1588.8088916548058,371.7213255947093,959.2808402444111,1307.0201448330101,659.5055776680326,1067.1999347719075,359.7303150916541,959.2808402444111,1432.9257551150893,671.4965881710878,827.3797247108046,827.3797247108046,479.64042012220557,599.5505251527569,659.5055776680326,575.5685041466467,725.4561354348359,485.63592537373313,797.4021984531668,521.6089568828985,506.3140968290774,899.3257877291355,629.5280514103948,1588.8088916548058,857.3572509684425,599.5505251527569,989.2442576175823,299.77526257637845,827.8562286493062,1121.1594820356556,827.3797247108046,1121.1594820356556,1079.1909452749624,887.3347772260803,911.3167982321906,1127.5274525996504,779.415682698584,659.5055776680326,329.7527888340163,899.3257877291355,1139.1459977902382,749.4381564409462,386.58084089130864,893.3302824776079,759.4711452436162,503.62244112831587,575.5685041466467,707.4696196802531,1037.2224085142695,815.3887142077494,959.2808402444111,959.2808402444111,1080.1367399020319,917.3123034837181,791.4066932016391,587.5595146497018,839.3707352138597,590.6997796339236,659.5055776680326,587.5595146497018,659.5055776680326,971.2718507474663,953.5582156947626,599.5505251527569,557.581988392064,971.2718507474663,899.3257877291355,1481.8932234166832,791.4066932016391,515.6134516313709,827.8562286493062,923.3078087352458,677.4920934226153,767.4246721955288,1402.9482288574513,1474.894291875782,785.4111879501116,479.64042012220557,1588.8088916548058,959.2808402444111,449.66289386456776,575.5685041466467,1115.163976784128,659.5055776680326,1348.9886815937032,713.4651249317808,1533.8982207970098,641.51906191345,1621.5495476996962,569.5729988951191,1253.060597569262,677.4920934226153,599.5505251527569,1247.0650923177343,827.3797247108046,798.9337378420379,1456.9077761211995,1588.8088916548058,575.5685041466467,1127.154987287183,239.82021006110278,599.5505251527569,1498.8763128818923,887.3347772260803,590.6997796339236,1588.8088916548058,899.3257877291355,677.4920934226153,737.447145937891,1109.1684715326003,569.5729988951191,269.7977363187406,329.7527888340163,599.5505251527569,1588.8088916548058,827.8562286493062,1588.8088916548058,659.5055776680326,965.2763454959387,563.5774936435915,779.415682698584,1295.029134329955,599.5505251527569,659.5055776680326,1175.1190292994036,749.4381564409462,755.4336616924737,1588.8088916548058,641.51906191345,395.70334660081954,1324.855220036086,1181.3995592678473,593.5550199012293,569.5729988951191,767.4246721955288,611.541535655812,929.3033139867732,2433.754996124457,869.3482614714976,617.5370409073397,659.5055776680326,827.8562286493062,827.8562286493062,947.289829741356,1085.18645052649,1113.8910130239703,155.8831365397168,503.62244112831587,1558.831365397168,971.2718507474663,1091.1819557780177,647.5145671649775,1588.8088916548058,1265.0516080723173,791.4066932016391,1546.840354894113,719.4606301833082,419.68536760692984,737.447145937891,53.95954726374812,623.5325461588671,1115.163976784128,989.258366502049,1588.8088916548058,1121.1594820356556,899.3257877291355,1577.7238842483532,815.3887142077494,659.5055776680326,641.51906191345,965.2763454959387,1229.0785765631517,539.5954726374812,215.83818905499248,365.72582034318174,875.343766723025,2512.67137121034,623.5325461588671,419.68536760692984,563.5774936435915,635.5235566619223,472.55982370713895,1468.6836698802542,1588.8088916548058,1198.2766958288166,1558.831365397168,659.5055776680326,1121.1594820356556,527.6044621344261,1079.1909452749624,1151.1370082932933,2236.2205943284252,929.3033139867732,767.4246721955288,1031.2269032627419,1588.8088916548058,1165.1930936265544,1037.2224085142695,941.2943244898285,647.5145671649775,425.6808728584574,337.54273121938496,1516.8628286364751,1121.1594820356556,797.4021984531668,497.6269358767883,539.5954726374812,995.2538717535766,1165.1930936265544,809.3932089562219,743.4426511894186,719.4606301833082,479.64042012220557,329.7527888340163,353.73480984012656,761.4291669440013,1283.0381238269,767.4246721955288,1438.9212603666165,779.415682698584,821.384219459277,599.5505251527569,809.3932089562219,785.4111879501116,431.67637810998497,761.4291669440013,359.7303150916541,695.478609177198,863.3527562199699,1049.2134190173247,767.4246721955288,1019.2358927596869,827.3797247108046,1259.0561028207896,947.289829741356,1199.1010503055138,623.5325461588671,354.4198677803542,719.4606301833082,1588.8088916548058,839.3707352138597,1019.2358927596869,1528.8538391395302,731.4516406863635,671.4965881710878,575.5685041466467,719.4606301833082,1181.3995592678473,2996.5842370613823,647.5145671649775,737.447145937891,1012.6281936581548,671.4965881710878,1156.0838544263934,737.447145937891,539.5954726374812,1205.0965555570415,827.3797247108046,623.5325461588671,2236.2205943284252,1151.1370082932933,1528.8538391395302,689.4831039256705,563.5774936435915,1588.8088916548058,767.4246721955288,1588.8088916548058,803.3977037046942,4715.400304991136,719.4606301833082,767.4246721955288,905.321292980663,899.3257877291355,959.2808402444111,809.3932089562219,539.5954726374812,179.86515754582706,815.3887142077494,755.4336616924737,899.3257877291355,539.5954726374812,689.4831039256705,1241.069587066207,479.64042012220557,1588.8088916548058,743.4426511894186,947.289829741356,671.4965881710878,658.2083258778006,323.75728358248875,827.8562286493062,533.5999673859537,637.8583874706593,719.4606301833082,689.4831039256705,1121.1594820356556,833.3752299623321,761.4291669440013,803.3977037046942,857.3572509684425,1031.2269032627419,659.5055776680326,1199.1010503055138,809.3932089562219,905.321292980663,677.4920934226153,557.581988392064,629.5280514103948,791.4066932016391,575.5685041466467,839.3707352138597,827.8562286493062,809.3932089562219,623.5325461588671,1588.8088916548058,1109.1684715326003,503.62244112831587,665.5010829195602,335.7482940855439,2103.631845664471,953.2853349928836,936.6810791337932,719.4606301833082,527.6044621344261,671.4965881710878,929.3033139867732,689.4831039256705,743.4426511894186,827.8562286493062,791.4066932016391,1588.8088916548058,1588.8088916548058,779.415682698584,1103.1729662810726,659.5055776680326,401.6988518523471,701.4741144287257,587.5595146497018,425.6808728584574,2236.2205943284252,1535.8194270482013,419.68536760692984,959.2808402444111,1055.2089242688521,827.8562286493062,425.6808728584574,1037.2224085142695,275.79324157026815,947.289829741356,443.66738861304015,749.4381564409462,959.2808402444111,911.3167982321906,755.4336616924737,1552.8358601456405,1121.1594820356556,1366.9751973482857,1588.8088916548058,569.5729988951191,629.5280514103948,779.415682698584,978.8739205362162,989.258366502049,401.6988518523471,599.5505251527569,1199.1010503055138,485.63592537373313,1414.9392393605062,779.415682698584,612.0863314112388,845.3662404653872,797.4021984531668,575.5685041466467,743.4426511894186,1049.2134190173247,1588.8088916548058,329.7527888340163,929.3033139867732,1707.3987139366134,936.6810791337932,659.5055776680326,1012.6281936581548,779.415682698584,779.415682698584,425.6808728584574,779.415682698584,767.4246721955288,1588.8088916548058,935.2988192383009,767.4246721955288,599.5505251527569,953.5582156947626,791.4066932016391,827.8562286493062,815.3887142077494,749.4381564409462,1109.1684715326003,1588.8088916548058,719.4606301833082,953.5582156947626,677.4920934226153,809.3932089562219,425.6808728584574,569.5729988951191,653.5100724165051,617.5370409073397,379.7355726218081,418.79591096558437,617.5370409073397,317.76177833096114,1163.1280187963484,689.4831039256705,689.4831039256705,395.70334660081954,979.3381302579819,1588.8088916548058,371.7213255947093,959.2808402444111,1307.0201448330101,659.5055776680326,1067.1999347719075,359.7303150916541,959.2808402444111,1432.9257551150893,671.4965881710878,827.3797247108046,827.3797247108046,479.64042012220557,599.5505251527569,659.5055776680326,575.5685041466467,725.4561354348359,485.63592537373313,797.4021984531668,521.6089568828985,506.3140968290774,899.3257877291355,629.5280514103948,1588.8088916548058,857.3572509684425,599.5505251527569,989.2442576175823,299.77526257637845,827.8562286493062,1121.1594820356556,827.3797247108046,1121.1594820356556,1079.1909452749624,887.3347772260803,911.3167982321906,1127.5274525996504,779.415682698584,659.5055776680326,329.7527888340163,899.3257877291355,1139.1459977902382,749.4381564409462,386.58084089130864,893.3302824776079,759.4711452436162,503.62244112831587,575.5685041466467,707.4696196802531,1037.2224085142695,815.3887142077494,959.2808402444111,959.2808402444111,1080.1367399020319,917.3123034837181,791.4066932016391,587.5595146497018,839.3707352138597,590.6997796339236,659.5055776680326,587.5595146497018,659.5055776680326,971.2718507474663,953.5582156947626,599.5505251527569,557.581988392064,971.2718507474663,899.3257877291355,1481.8932234166832,791.4066932016391,515.6134516313709,827.8562286493062,923.3078087352458,677.4920934226153,767.4246721955288,1402.9482288574513,1474.894291875782,785.4111879501116,479.64042012220557,1588.8088916548058,959.2808402444111,449.66289386456776,575.5685041466467,1115.163976784128,659.5055776680326,1348.9886815937032,713.4651249317808,1533.8982207970098,641.51906191345,1621.5495476996962,569.5729988951191,1253.060597569262,677.4920934226153,599.5505251527569,1247.0650923177343,827.3797247108046,798.9337378420379,1456.9077761211995,1588.8088916548058,575.5685041466467,1127.154987287183,239.82021006110278,599.5505251527569,1498.8763128818923,887.3347772260803,590.6997796339236,1588.8088916548058,899.3257877291355,677.4920934226153,737.447145937891,1109.1684715326003,569.5729988951191,269.7977363187406,329.7527888340163,599.5505251527569,1588.8088916548058,827.8562286493062,1588.8088916548058,659.5055776680326,965.2763454959387,563.5774936435915,779.415682698584,1295.029134329955,599.5505251527569,659.5055776680326,1175.1190292994036,749.4381564409462,755.4336616924737,1588.8088916548058,641.51906191345,395.70334660081954,1324.855220036086,1181.3995592678473,593.5550199012293,569.5729988951191,767.4246721955288,611.541535655812,929.3033139867732,2433.754996124457,869.3482614714976,617.5370409073397,659.5055776680326,827.8562286493062,827.8562286493062,947.289829741356,1085.18645052649,1113.8910130239703,155.8831365397168,503.62244112831587,1558.831365397168,971.2718507474663,1091.1819557780177,647.5145671649775,1588.8088916548058,1265.0516080723173,791.4066932016391,1546.840354894113,719.4606301833082,419.68536760692984,737.447145937891,53.95954726374812,623.5325461588671,1115.163976784128,989.258366502049,1588.8088916548058,1121.1594820356556,899.3257877291355,1577.7238842483532,815.3887142077494,659.5055776680326,641.51906191345,965.2763454959387,1229.0785765631517,539.5954726374812,215.83818905499248,365.72582034318174,875.343766723025,2512.67137121034,623.5325461588671,419.68536760692984,563.5774936435915,635.5235566619223,472.55982370713895,1468.6836698802542,1588.8088916548058,1198.2766958288166,1558.831365397168,659.5055776680326,1121.1594820356556,527.6044621344261,1079.1909452749624,1151.1370082932933,2236.2205943284252,929.3033139867732,767.4246721955288,1031.2269032627419,1588.8088916548058,1165.1930936265544,1037.2224085142695,941.2943244898285,647.5145671649775,425.6808728584574,337.54273121938496,1516.8628286364751,1121.1594820356556,797.4021984531668]},{\"axis\":{\"matches\":true},\"label\":\"EMI/NMI\",\"values\":[0.14153807978275026,0.12599321493934146,0.1319011155336065,0.14561032790595188,0.1408943734108979,0.16527711345623697,0.147979474901304,0.17099094399663467,0.1820760813912928,0.10025295883738047,0.1076116327197256,0.15057835769965555,0.13785939874747227,0.14563980368083163,0.07913411039866122,0.15140164776584772,0.19922999401506472,0.12981720772538327,0.1631680373343906,0.11303001703699517,0.08140111568653619,0.13720284038469827,0.15417393242677854,0.1271292291122847,0.13630251324611006,0.11978467605039392,0.14478456862358738,0.12523843100418394,0.14552197212445556,0.12334315621177923,0.15993318587352906,0.14009074474677619,0.13544832835931847,0.13227938816995216,0.12015494907772864,0.19066242023245192,0.18985133792044234,0.16842621073350955,0.11267214444705062,0.12176986293722906,0.133233450033946,0.09352431026279315,0.18735953911023656,0.12799071271382734,0.12259180067021228,0.1547227161684534,0.046698925662455835,0.14831691397010308,0.1182351076718666,0.13758609660876014,0.16784729147613575,0.23313695080470132,0.1587462383383186,0.1740462962965109,0.15541513172794735,0.1500810346833998,0.15459804032947802,0.14541739291344266,0.10447153390851523,0.1388920135489012,0.11427265409518873,0.1959574182572563,0.2298388521426152,0.1674127863800417,0.1669415768548243,0.1498731087001369,0.19495042232142695,0.15541513172794735,0.34036622410965267,0.18962528237389523,0.1643651423753175,0.15508373583951313,0.14910975291521902,0.11978401659203346,0.15925560824370108,0.18066455824603075,0.12414222638457084,0.16397453447738256,0.16181701167488852,0.14173771280207018,0.17303720304720754,0.34566022073039926,0.3072259518272796,0.19258289595815828,0.08982335236687221,0.16650780359561965,0.11129852238912982,0.13502220575116222,0.14698296787541323,0.10638951723963949,0.13407497233699414,0.1335958599352513,0.09535360796656846,0.1769783790675934,0.07667161736301878,0.12206668072092394,0.17162227736299143,0.10079867605123687,0.23171808793116802,0.14819079017926634,0.14863323815447688,0.10467352213905226,0.08097977390680879,0.10052898951418412,0.209908280141009,0.14687665976304676,0.1188641009422595,0.09811272742169756,0.17500393707161555,0.19949645792693504,0.15338388152892202,0.15837613644286053,0.11856840986627513,0.11110672777470222,0.14009299399608974,0.15270812206687426,0.16941427683215518,0.1410902398615292,0.13608474954829114,0.15189629855674855,0.12949255402867318,0.06332266708286438,0.1058212083817672,0.1642326430076879,0.1842141303130105,0.15102437388734127,0.15541513172794735,0.1503826028427441,0.09594051907038584,0.12616278827355967,0.15541513172794735,0.11252026087066704,0.1544096275227851,0.08024031652330962,0.12493187653847028,0.1650710536784214,0.10988925182812914,0.07740675794225735,0.14192627123835194,0.13737480949326047,0.15567276793440005,0.1859414587883758,0.21248193512011643,0.1545755791813955,0.1543590206838134,0.08796222493438335,0.041053053663986094,0.060703731875068195,0.11563420894854305,0.131711451044103,0.11270823955396736,0.14403616219886053,0.1596010562265685,0.2970153851041715,0.0921251575219356,0.21874406674444147,0.1598801400407352,0.11754660117798864,0.14210164530580846,0.14977016449250885,0.20232765655981466,0.2002784434204974,0.1660462658353939,0.1687370555292761,0.06788508216629269,0.15876356114913687,0.1465190024375055,0.13399517973788228,0.1688497232213844,0.14988763128818922,0.15869963747426,0.16701542736345626,0.19407269469598368,0.09892874631921429,0.1026789285202556,0.1273537097925651,0.16526911310160605,0.14260918155056151,0.1854609624472528,0.1616124565686607,0.08974560875467462,0.05755822493943933,0.13391640966856033,0.15248277075194835,0.17862470818344206,0.048050532971569374,0.19524284893500438,0.07691645755111678,0.16871773572137885,0.1700740605414997,0.05891182232821358,0.09618144001276743,0.15900560919018916,0.11810741293833471,0.17166801006521312,0.1785627002031687,0.09278817198010889,0.16841306886313395,0.1087118250036289,0.04867719220158352,0.1058030338504865,0.2021641015140314,0.2918820374816018,0.1766077261523504,0.18979899187884058,0.16321702136644925,0.14785463012398445,0.050684412670460546,0.14269254128282635,0.22277038237097754,0.12830381238268998,0.16397963081101044,0.18478505976199006,0.1366676631068883,0.13260965764599242,0.12405349165171879,0.4150734404903702,0.14275012503637072,0.086335275621997,0.11422579762136233,0.16196772403946605,0.12145976408962592,0.14983560503644047,0.12217203295497493,0.12278794755128461,0.3136110439260575,0.17473700627472114,0.15847150444566263,0.19909412142525348,0.18735953911023653,0.13719087924287507,0.09537671361150543,0.12432359256666808,0.19066469358632016,0.17011972744504655,0.1507745403490661,0.26607271826305784,0.2112190703685716,0.1761533547143462,0.17362549144695225,0.06649973474288827,0.26294225668102544,0.34884566205603984,0.08576351882979835,0.09426654044968567,0.09752751552134786,0.06920504876544241,0.1749521571468513,0.1560734700397653,0.1467488367249065,0.21682197832980235,0.24142974167225112,0.13127000971765623,0.26987938623321567,0.11260266147836186,0.49589809897487197,0.11405841256007784,0.10734809402735077,0.12893036530510474,0.15563266521912975,0.15376065921366552,0.1881934185300291,1.3546108316550234,0.09992508752545948,0.14855297564760528,0.12003729686829262,0.14755140077590412,0.15613294925853047,0.23680316236285018,0.12164009752873786,0.055565386946502024,0.07976021854717298,0.1610732754141735,0.185696012333086,0.13835781349679005,0.15014875956569482,0.170781558699079,0.1089349125873735,0.15541513172794735,0.1813274758998582,0.14620926527880168,0.14205555070257833,0.20025810159454466,0.09311397284512188,0.08097977390680879,0.08591208619963835,0.14775501215442652,0.1261326490503696,0.16718794954550692,0.11791748864489436,0.15177112182887126,0.17305208339636394,0.1704641849574993,0.1582715988496294,0.1803790280326643,0.11639703100388857,0.17441469822625655,0.17346618280244788,0.1200532148230557,0.13717191606046067,0.1177824225585264,0.13611417327792322,0.1582813386403278,0.16790213073122714,0.12913395926367072,0.4139281143246531,0.14911444527564885,0.14626613796830099,0.15541513172794735,0.1446678585538803,0.1726508197217401,0.1248126562114704,0.13392432951158512,0.3661036974703221,0.2208724131123456,0.18588630266596412,0.1935594915747399,0.12585984306641843,0.18963473260973956,0.09293033139867732,0.15097068183176496,0.16407915497449096,0.15947914248686307,0.1286630943263923,0.15541513172794735,0.11640478362186284,0.1585144768555184,0.13827688221121492,0.09721485519870764,0.16067954074093885,0.11356226557045906,0.20019063531506023,0.15025798547774705,0.21874406674444147,0.13164918798630218,0.04199793531541377,0.16154948471613526,0.1486209752491341,0.45238045281382855,0.10232713289866764,0.2449745886901912,0.11597697290591596,0.16380595361254643,0.13982583946203597,0.15254185964603015,0.19352044386613096,0.1349499182929351,0.14386472323223648,0.1422531934908062,0.13589811903462493,0.15049820514678913,0.12300138512462691,0.11993535457888378,0.11445964571098087,0.2661938807030683,0.2567201470066132,0.08602246665235208,0.10366421983286377,0.128493468742554,0.14388061558741466,0.10282361324872605,0.1632559408515641,0.1100403335731447,0.10123822881429685,0.12391765471494975,0.12828220695836015,0.23022740165865865,0.1450902910205735,0.16588354450866793,0.10257659575536225,0.03225597073598908,0.17922918302541432,0.11422255244424762,0.185518138073637,0.15616992130429377,0.17641606161291895,0.05670127183897745,0.18083890549851137,0.1387034450500024,0.14457719953600148,0.13156603329256453,0.15617899259361112,0.1558831365397168,0.10707753204904825,0.13130760515829104,0.26003769176295677,0.2005592228083221,0.1346983775869356,0.17166078193847356,0.13655943083836483,0.12099579704730012,0.16717265274145685,0.15314189659074248,0.2635594847138647,0.15055379853835896,0.2152641513181441,0.13386190970391743,0.1267971947673907,0.11736890668399876,0.18713243663858778,0.1314418735277979,0.15201303483324297,0.07600455888090335,0.16187558753487577,0.15631340126278034,0.15163472705644832,0.15097068183176496,0.17880856150059626,0.11799254581421469,0.15541513172794735,0.09612653881425118,0.1533377302180964,0.2144061917376985,0.15387437649744112,0.19814332246043584,0.12011028884529353,0.36895416932477354,0.1983288242373826,0.1768026825095018,0.1774350685633293,0.14194196684007626,0.17633838975081087,0.1694124117413837,0.07396047747763067,0.05630133073918093,0.1041424254141309,0.10543550268643793,0.1343558885346532,0.17765246540797733,0.186350422093882,0.10428174718566043,0.09685046944775305,0.15541513172794735,0.17992806945822507,0.15988014004073517,0.09846165597865854,0.07936861598527362,0.2480096550776831,0.10967030050236287,0.1158470631070855,0.12851438354374778,0.11086818833726755,0.13243802645165378,0.08914377367036982,0.08701400313317259,0.16668427773707956,0.14176818092606033,0.06709110657864015,0.17808431440180902,0.2642417067479096,0.21028006634145516,0.11323398971625911,0.15724877353944866,0.15345951611307662,0.07108291335614902,0.14914965124297658,0.16448956514304885,0.16524174104098607,0.18727347593195898,0.11510449246993174,0.15557587418819513,0.13955255037493952,0.1763044980749026,0.1524574635333537,0.1410368494118343,0.1398951225356433,0.12810665357491297,0.06451194147197815,0.18789878946264849,0.09721485519870764,0.17566862918203405,0.22960708299897967,0.12780868155036387,0.2230327953568256,0.0954098085213621,0.08003255208054957,0.17537197910256605,0.16678750120160993,0.04133836700323667,0.1819464238789684,0.21225466867476914,0.2188988993287933,0.14665099793531985,0.13723449367675353,0.17699439480088588,0.17874628765364398,0.13522425151457726,0.15541513172794735,0.14390651668833052,0.1846664861866808,0.10495414007050449,0.17251917957675247,0.1786793762308406,0.1319562439199553,0.12399463415567967,0.36185379117645905,0.1491904795147558,0.21672675056130664,0.19674369564598243,0.11711941280206206,0.1565369901623418,0.1897912393645954,0.11889265824365852,0.08847088587583453,0.1508275887940415,0.1838137491952056,0.10025295883738047,0.16063871173503955,0.20523579520888258,0.023458887807992056,0.12273296318377828,0.18575738169313327,0.16685497879392258,0.07617018434995791,0.1675781976220658,0.13045050590791057,0.18495552645990043,0.1513022457812661,0.16810677046568662,0.16752147026327033,0.06858102092494676,0.13190111553360653,0.0844318441279759,0.11705657493957164,0.12233725855612623,0.15541513172794735,0.17470346428292255,0.14374926961964835,0.14156681578588082,0.11490722139150582,0.1984718979816023,0.1400491766299362,0.18380868942810275,0.11494855025916106,0.07330902439997516,0.16451081482850038,0.15826366088801733,0.1773621957183992,0.11459697266169115,0.20646021817610813,0.15851329119386118,0.27762161828869475,0.15596193836120456,0.16112212307275434,0.16617976512386196,0.19696975709766282,0.7247632507815537,0.20175174320526748,0.12350740818146794,0.13736837693564521,0.12480871832493687,0.17009579384616935,0.14389941208284307,0.22669447472874243,0.1417344462430297,0.023982021006110275,0.1173398045499338,0.15374606621926895,0.14815006875342682,0.1682365025868051,0.16530879937834503,0.15541513172794735,0.15858738975458408,0.13644942986235156,0.1757972900209243,0.16106125591746323,0.12591820210228918,0.12499104168438831,0.0226911468728966,0.11922228416039525,0.21582426490886936,0.15064083546551682,0.15541513172794735,0.14466573961750395,0.1403880405446668,0.43583532714042905,0.1539340596956295,0.11050696676743174,0.15982039409901594,0.15826796942055069,0.187932504061644,0.07232213813664136,0.06817378049747078,0.19453501082084135,0.18608498442241178,0.3450049939874145,0.16327115636524409,0.19385005432190755,0.11864789339865085,0.23313410002271542,0.07365333910647427,0.24478061164670903,0.16979896245108536,0.16738045758189923,0.15248277075194835,0.17205989503470717,0.15185689855555407,0.1766335661648564,0.10831987807637884,0.19915865195385699,0.37017391066519206,0.16343709356081132,0.13456508367447464,0.12927502861511117,0.15541513172794735,0.18793436993976684,0.17580040822275755,0.17437834836788227,0.12495456718737505,0.1467865078822267,0.08220719221124817,0.18249071566848835,0.14785170539834572,0.1739913153945378,0.04867719220158352,0.1058030338504865,0.2021641015140314,0.2918820374816018,0.1766077261523504,0.18979899187884058,0.16321702136644925,0.14785463012398445,0.050684412670460546,0.14269254128282635,0.22277038237097754,0.12830381238268998,0.16397963081101044,0.18478505976199006,0.1366676631068883,0.13260965764599242,0.12405349165171879,0.4150734404903702,0.14275012503637072,0.086335275621997,0.11422579762136233,0.16196772403946605,0.12145976408962592,0.14983560503644047,0.12217203295497493,0.12278794755128461,0.3136110439260575,0.17473700627472114,0.15847150444566263,0.19909412142525348,0.18735953911023653,0.13719087924287507,0.09537671361150543,0.12432359256666808,0.19066469358632016,0.17011972744504655,0.1507745403490661,0.26607271826305784,0.2112190703685716,0.1761533547143462,0.17362549144695225,0.06649973474288827,0.26294225668102544,0.34884566205603984,0.08576351882979835,0.09426654044968567,0.09752751552134786,0.06920504876544241,0.1749521571468513,0.1560734700397653,0.1467488367249065,0.21682197832980235,0.24142974167225112,0.13127000971765623,0.26987938623321567,0.11260266147836186,0.49589809897487197,0.11405841256007784,0.10734809402735077,0.12893036530510474,0.15563266521912975,0.15376065921366552,0.1881934185300291,1.3546108316550234,0.09992508752545948,0.14855297564760528,0.12003729686829262,0.14755140077590412,0.15613294925853047,0.23680316236285018,0.12164009752873786,0.055565386946502024,0.07976021854717298,0.1610732754141735,0.185696012333086,0.13835781349679005,0.15014875956569482,0.170781558699079,0.1089349125873735,0.15541513172794735,0.1813274758998582,0.14620926527880168,0.14205555070257833,0.20025810159454466,0.09311397284512188,0.08097977390680879,0.08591208619963835,0.14775501215442652,0.1261326490503696,0.16718794954550692,0.11791748864489436,0.15177112182887126,0.17305208339636394,0.1704641849574993,0.1582715988496294,0.1803790280326643,0.11639703100388857,0.17441469822625655,0.17346618280244788,0.1200532148230557,0.13717191606046067,0.1177824225585264,0.13611417327792322,0.1582813386403278,0.16790213073122714,0.12913395926367072,0.4139281143246531,0.14911444527564885,0.14626613796830099,0.15541513172794735,0.1446678585538803,0.1726508197217401,0.1248126562114704,0.13392432951158512,0.3661036974703221,0.2208724131123456,0.18588630266596412,0.1935594915747399,0.12585984306641843,0.18963473260973956,0.09293033139867732,0.15097068183176496,0.16407915497449096,0.15947914248686307,0.1286630943263923,0.15541513172794735,0.11640478362186284,0.1585144768555184,0.13827688221121492,0.09721485519870764,0.16067954074093885,0.11356226557045906,0.20019063531506023,0.15025798547774705,0.21874406674444147,0.13164918798630218,0.04199793531541377,0.16154948471613526,0.1486209752491341,0.45238045281382855,0.10232713289866764,0.2449745886901912,0.11597697290591596,0.16380595361254643,0.13982583946203597,0.15254185964603015,0.19352044386613096,0.1349499182929351,0.14386472323223648,0.1422531934908062,0.13589811903462493,0.15049820514678913,0.12300138512462691,0.11993535457888378,0.11445964571098087,0.2661938807030683,0.2567201470066132,0.08602246665235208,0.10366421983286377,0.128493468742554,0.14388061558741466,0.10282361324872605,0.1632559408515641,0.1100403335731447,0.10123822881429685,0.12391765471494975,0.12828220695836015,0.23022740165865865,0.1450902910205735,0.16588354450866793,0.10257659575536225,0.03225597073598908,0.17922918302541432,0.11422255244424762,0.185518138073637,0.15616992130429377,0.17641606161291895,0.05670127183897745,0.18083890549851137,0.1387034450500024,0.14457719953600148,0.13156603329256453,0.15617899259361112,0.1558831365397168,0.10707753204904825,0.13130760515829104,0.26003769176295677,0.2005592228083221,0.1346983775869356,0.17166078193847356,0.13655943083836483,0.12099579704730012,0.16717265274145685,0.15314189659074248,0.2635594847138647,0.15055379853835896,0.2152641513181441,0.13386190970391743,0.1267971947673907,0.11736890668399876,0.18713243663858778,0.1314418735277979,0.15201303483324297,0.07600455888090335,0.16187558753487577,0.15631340126278034,0.15163472705644832,0.15097068183176496,0.17880856150059626,0.11799254581421469,0.15541513172794735,0.09612653881425118,0.1533377302180964,0.2144061917376985,0.15387437649744112,0.19814332246043584,0.12011028884529353,0.36895416932477354,0.1983288242373826,0.1768026825095018,0.1774350685633293,0.14194196684007626,0.17633838975081087,0.1694124117413837,0.07396047747763067,0.05630133073918093,0.1041424254141309,0.10543550268643793,0.1343558885346532,0.17765246540797733,0.186350422093882,0.10428174718566043,0.09685046944775305,0.15541513172794735,0.17992806945822507,0.15988014004073517,0.09846165597865854,0.07936861598527362,0.2480096550776831,0.10967030050236287,0.1158470631070855,0.12851438354374778,0.11086818833726755,0.13243802645165378,0.08914377367036982,0.08701400313317259,0.16668427773707956,0.14176818092606033,0.06709110657864015,0.17808431440180902,0.2642417067479096,0.21028006634145516,0.11323398971625911,0.15724877353944866,0.15345951611307662,0.07108291335614902,0.14914965124297658,0.16448956514304885,0.16524174104098607,0.18727347593195898,0.11510449246993174,0.15557587418819513,0.13955255037493952,0.1763044980749026,0.1524574635333537,0.1410368494118343,0.1398951225356433,0.12810665357491297,0.06451194147197815,0.18789878946264849,0.09721485519870764,0.17566862918203405,0.22960708299897967,0.12780868155036387,0.2230327953568256,0.0954098085213621,0.08003255208054957,0.17537197910256605,0.16678750120160993,0.04133836700323667,0.1819464238789684,0.21225466867476914,0.2188988993287933,0.14665099793531985,0.13723449367675353,0.17699439480088588,0.17874628765364398,0.13522425151457726,0.15541513172794735,0.14390651668833052,0.1846664861866808,0.10495414007050449,0.17251917957675247,0.1786793762308406,0.1319562439199553,0.12399463415567967,0.36185379117645905,0.1491904795147558,0.21672675056130664,0.19674369564598243,0.11711941280206206,0.1565369901623418,0.1897912393645954,0.11889265824365852,0.08847088587583453,0.1508275887940415,0.1838137491952056,0.10025295883738047,0.16063871173503955,0.20523579520888258,0.023458887807992056,0.12273296318377828,0.18575738169313327,0.16685497879392258,0.07617018434995791,0.1675781976220658,0.13045050590791057,0.18495552645990043,0.1513022457812661,0.16810677046568662,0.16752147026327033,0.06858102092494676,0.13190111553360653,0.0844318441279759,0.11705657493957164,0.12233725855612623,0.15541513172794735,0.17470346428292255,0.14374926961964835,0.14156681578588082,0.11490722139150582,0.1984718979816023,0.1400491766299362,0.18380868942810275,0.11494855025916106,0.07330902439997516,0.16451081482850038,0.15826366088801733,0.1773621957183992,0.11459697266169115,0.20646021817610813,0.15851329119386118,0.27762161828869475,0.15596193836120456,0.16112212307275434,0.16617976512386196,0.19696975709766282,0.7247632507815537,0.20175174320526748,0.12350740818146794,0.13736837693564521,0.12480871832493687,0.17009579384616935,0.14389941208284307,0.22669447472874243,0.1417344462430297,0.023982021006110275,0.1173398045499338,0.15374606621926895,0.14815006875342682,0.1682365025868051,0.16530879937834503,0.15541513172794735,0.15858738975458408,0.13644942986235156,0.1757972900209243,0.16106125591746323,0.12591820210228918,0.12499104168438831,0.0226911468728966,0.11922228416039525,0.21582426490886936,0.15064083546551682,0.15541513172794735,0.14466573961750395,0.1403880405446668,0.43583532714042905,0.1539340596956295,0.11050696676743174,0.15982039409901594,0.15826796942055069,0.187932504061644,0.07232213813664136,0.06817378049747078,0.19453501082084135,0.18608498442241178,0.3450049939874145,0.16327115636524409,0.19385005432190755,0.11864789339865085,0.23313410002271542,0.07365333910647427,0.24478061164670903,0.16979896245108536,0.16738045758189923,0.15248277075194835,0.17205989503470717,0.15185689855555407,0.1766335661648564,0.10831987807637884,0.19915865195385699,0.37017391066519206,0.16343709356081132,0.13456508367447464,0.12927502861511117,0.15541513172794735,0.18793436993976684,0.17580040822275755,0.17437834836788227,0.12495456718737505,0.1467865078822267,0.08220719221124817,0.18249071566848835,0.14785170539834572,0.1739913153945378]}],\"hovertemplate\":\"%{xaxis.title.text}=%{x}<br>%{yaxis.title.text}=%{y}<extra></extra>\",\"legendgroup\":\"\",\"marker\":{\"color\":\"#636efa\",\"symbol\":\"circle\"},\"name\":\"\",\"showlegend\":false,\"type\":\"splom\"}],                        {\"template\":{\"data\":{\"histogram2dcontour\":[{\"type\":\"histogram2dcontour\",\"colorbar\":{\"outlinewidth\":0,\"ticks\":\"\"},\"colorscale\":[[0.0,\"#0d0887\"],[0.1111111111111111,\"#46039f\"],[0.2222222222222222,\"#7201a8\"],[0.3333333333333333,\"#9c179e\"],[0.4444444444444444,\"#bd3786\"],[0.5555555555555556,\"#d8576b\"],[0.6666666666666666,\"#ed7953\"],[0.7777777777777778,\"#fb9f3a\"],[0.8888888888888888,\"#fdca26\"],[1.0,\"#f0f921\"]]}],\"choropleth\":[{\"type\":\"choropleth\",\"colorbar\":{\"outlinewidth\":0,\"ticks\":\"\"}}],\"histogram2d\":[{\"type\":\"histogram2d\",\"colorbar\":{\"outlinewidth\":0,\"ticks\":\"\"},\"colorscale\":[[0.0,\"#0d0887\"],[0.1111111111111111,\"#46039f\"],[0.2222222222222222,\"#7201a8\"],[0.3333333333333333,\"#9c179e\"],[0.4444444444444444,\"#bd3786\"],[0.5555555555555556,\"#d8576b\"],[0.6666666666666666,\"#ed7953\"],[0.7777777777777778,\"#fb9f3a\"],[0.8888888888888888,\"#fdca26\"],[1.0,\"#f0f921\"]]}],\"heatmap\":[{\"type\":\"heatmap\",\"colorbar\":{\"outlinewidth\":0,\"ticks\":\"\"},\"colorscale\":[[0.0,\"#0d0887\"],[0.1111111111111111,\"#46039f\"],[0.2222222222222222,\"#7201a8\"],[0.3333333333333333,\"#9c179e\"],[0.4444444444444444,\"#bd3786\"],[0.5555555555555556,\"#d8576b\"],[0.6666666666666666,\"#ed7953\"],[0.7777777777777778,\"#fb9f3a\"],[0.8888888888888888,\"#fdca26\"],[1.0,\"#f0f921\"]]}],\"heatmapgl\":[{\"type\":\"heatmapgl\",\"colorbar\":{\"outlinewidth\":0,\"ticks\":\"\"},\"colorscale\":[[0.0,\"#0d0887\"],[0.1111111111111111,\"#46039f\"],[0.2222222222222222,\"#7201a8\"],[0.3333333333333333,\"#9c179e\"],[0.4444444444444444,\"#bd3786\"],[0.5555555555555556,\"#d8576b\"],[0.6666666666666666,\"#ed7953\"],[0.7777777777777778,\"#fb9f3a\"],[0.8888888888888888,\"#fdca26\"],[1.0,\"#f0f921\"]]}],\"contourcarpet\":[{\"type\":\"contourcarpet\",\"colorbar\":{\"outlinewidth\":0,\"ticks\":\"\"}}],\"contour\":[{\"type\":\"contour\",\"colorbar\":{\"outlinewidth\":0,\"ticks\":\"\"},\"colorscale\":[[0.0,\"#0d0887\"],[0.1111111111111111,\"#46039f\"],[0.2222222222222222,\"#7201a8\"],[0.3333333333333333,\"#9c179e\"],[0.4444444444444444,\"#bd3786\"],[0.5555555555555556,\"#d8576b\"],[0.6666666666666666,\"#ed7953\"],[0.7777777777777778,\"#fb9f3a\"],[0.8888888888888888,\"#fdca26\"],[1.0,\"#f0f921\"]]}],\"surface\":[{\"type\":\"surface\",\"colorbar\":{\"outlinewidth\":0,\"ticks\":\"\"},\"colorscale\":[[0.0,\"#0d0887\"],[0.1111111111111111,\"#46039f\"],[0.2222222222222222,\"#7201a8\"],[0.3333333333333333,\"#9c179e\"],[0.4444444444444444,\"#bd3786\"],[0.5555555555555556,\"#d8576b\"],[0.6666666666666666,\"#ed7953\"],[0.7777777777777778,\"#fb9f3a\"],[0.8888888888888888,\"#fdca26\"],[1.0,\"#f0f921\"]]}],\"mesh3d\":[{\"type\":\"mesh3d\",\"colorbar\":{\"outlinewidth\":0,\"ticks\":\"\"}}],\"scatter\":[{\"fillpattern\":{\"fillmode\":\"overlay\",\"size\":10,\"solidity\":0.2},\"type\":\"scatter\"}],\"parcoords\":[{\"type\":\"parcoords\",\"line\":{\"colorbar\":{\"outlinewidth\":0,\"ticks\":\"\"}}}],\"scatterpolargl\":[{\"type\":\"scatterpolargl\",\"marker\":{\"colorbar\":{\"outlinewidth\":0,\"ticks\":\"\"}}}],\"bar\":[{\"error_x\":{\"color\":\"#2a3f5f\"},\"error_y\":{\"color\":\"#2a3f5f\"},\"marker\":{\"line\":{\"color\":\"#E5ECF6\",\"width\":0.5},\"pattern\":{\"fillmode\":\"overlay\",\"size\":10,\"solidity\":0.2}},\"type\":\"bar\"}],\"scattergeo\":[{\"type\":\"scattergeo\",\"marker\":{\"colorbar\":{\"outlinewidth\":0,\"ticks\":\"\"}}}],\"scatterpolar\":[{\"type\":\"scatterpolar\",\"marker\":{\"colorbar\":{\"outlinewidth\":0,\"ticks\":\"\"}}}],\"histogram\":[{\"marker\":{\"pattern\":{\"fillmode\":\"overlay\",\"size\":10,\"solidity\":0.2}},\"type\":\"histogram\"}],\"scattergl\":[{\"type\":\"scattergl\",\"marker\":{\"colorbar\":{\"outlinewidth\":0,\"ticks\":\"\"}}}],\"scatter3d\":[{\"type\":\"scatter3d\",\"line\":{\"colorbar\":{\"outlinewidth\":0,\"ticks\":\"\"}},\"marker\":{\"colorbar\":{\"outlinewidth\":0,\"ticks\":\"\"}}}],\"scattermapbox\":[{\"type\":\"scattermapbox\",\"marker\":{\"colorbar\":{\"outlinewidth\":0,\"ticks\":\"\"}}}],\"scatterternary\":[{\"type\":\"scatterternary\",\"marker\":{\"colorbar\":{\"outlinewidth\":0,\"ticks\":\"\"}}}],\"scattercarpet\":[{\"type\":\"scattercarpet\",\"marker\":{\"colorbar\":{\"outlinewidth\":0,\"ticks\":\"\"}}}],\"carpet\":[{\"aaxis\":{\"endlinecolor\":\"#2a3f5f\",\"gridcolor\":\"white\",\"linecolor\":\"white\",\"minorgridcolor\":\"white\",\"startlinecolor\":\"#2a3f5f\"},\"baxis\":{\"endlinecolor\":\"#2a3f5f\",\"gridcolor\":\"white\",\"linecolor\":\"white\",\"minorgridcolor\":\"white\",\"startlinecolor\":\"#2a3f5f\"},\"type\":\"carpet\"}],\"table\":[{\"cells\":{\"fill\":{\"color\":\"#EBF0F8\"},\"line\":{\"color\":\"white\"}},\"header\":{\"fill\":{\"color\":\"#C8D4E3\"},\"line\":{\"color\":\"white\"}},\"type\":\"table\"}],\"barpolar\":[{\"marker\":{\"line\":{\"color\":\"#E5ECF6\",\"width\":0.5},\"pattern\":{\"fillmode\":\"overlay\",\"size\":10,\"solidity\":0.2}},\"type\":\"barpolar\"}],\"pie\":[{\"automargin\":true,\"type\":\"pie\"}]},\"layout\":{\"autotypenumbers\":\"strict\",\"colorway\":[\"#636efa\",\"#EF553B\",\"#00cc96\",\"#ab63fa\",\"#FFA15A\",\"#19d3f3\",\"#FF6692\",\"#B6E880\",\"#FF97FF\",\"#FECB52\"],\"font\":{\"color\":\"#2a3f5f\"},\"hovermode\":\"closest\",\"hoverlabel\":{\"align\":\"left\"},\"paper_bgcolor\":\"white\",\"plot_bgcolor\":\"#E5ECF6\",\"polar\":{\"bgcolor\":\"#E5ECF6\",\"angularaxis\":{\"gridcolor\":\"white\",\"linecolor\":\"white\",\"ticks\":\"\"},\"radialaxis\":{\"gridcolor\":\"white\",\"linecolor\":\"white\",\"ticks\":\"\"}},\"ternary\":{\"bgcolor\":\"#E5ECF6\",\"aaxis\":{\"gridcolor\":\"white\",\"linecolor\":\"white\",\"ticks\":\"\"},\"baxis\":{\"gridcolor\":\"white\",\"linecolor\":\"white\",\"ticks\":\"\"},\"caxis\":{\"gridcolor\":\"white\",\"linecolor\":\"white\",\"ticks\":\"\"}},\"coloraxis\":{\"colorbar\":{\"outlinewidth\":0,\"ticks\":\"\"}},\"colorscale\":{\"sequential\":[[0.0,\"#0d0887\"],[0.1111111111111111,\"#46039f\"],[0.2222222222222222,\"#7201a8\"],[0.3333333333333333,\"#9c179e\"],[0.4444444444444444,\"#bd3786\"],[0.5555555555555556,\"#d8576b\"],[0.6666666666666666,\"#ed7953\"],[0.7777777777777778,\"#fb9f3a\"],[0.8888888888888888,\"#fdca26\"],[1.0,\"#f0f921\"]],\"sequentialminus\":[[0.0,\"#0d0887\"],[0.1111111111111111,\"#46039f\"],[0.2222222222222222,\"#7201a8\"],[0.3333333333333333,\"#9c179e\"],[0.4444444444444444,\"#bd3786\"],[0.5555555555555556,\"#d8576b\"],[0.6666666666666666,\"#ed7953\"],[0.7777777777777778,\"#fb9f3a\"],[0.8888888888888888,\"#fdca26\"],[1.0,\"#f0f921\"]],\"diverging\":[[0,\"#8e0152\"],[0.1,\"#c51b7d\"],[0.2,\"#de77ae\"],[0.3,\"#f1b6da\"],[0.4,\"#fde0ef\"],[0.5,\"#f7f7f7\"],[0.6,\"#e6f5d0\"],[0.7,\"#b8e186\"],[0.8,\"#7fbc41\"],[0.9,\"#4d9221\"],[1,\"#276419\"]]},\"xaxis\":{\"gridcolor\":\"white\",\"linecolor\":\"white\",\"ticks\":\"\",\"title\":{\"standoff\":15},\"zerolinecolor\":\"white\",\"automargin\":true,\"zerolinewidth\":2},\"yaxis\":{\"gridcolor\":\"white\",\"linecolor\":\"white\",\"ticks\":\"\",\"title\":{\"standoff\":15},\"zerolinecolor\":\"white\",\"automargin\":true,\"zerolinewidth\":2},\"scene\":{\"xaxis\":{\"backgroundcolor\":\"#E5ECF6\",\"gridcolor\":\"white\",\"linecolor\":\"white\",\"showbackground\":true,\"ticks\":\"\",\"zerolinecolor\":\"white\",\"gridwidth\":2},\"yaxis\":{\"backgroundcolor\":\"#E5ECF6\",\"gridcolor\":\"white\",\"linecolor\":\"white\",\"showbackground\":true,\"ticks\":\"\",\"zerolinecolor\":\"white\",\"gridwidth\":2},\"zaxis\":{\"backgroundcolor\":\"#E5ECF6\",\"gridcolor\":\"white\",\"linecolor\":\"white\",\"showbackground\":true,\"ticks\":\"\",\"zerolinecolor\":\"white\",\"gridwidth\":2}},\"shapedefaults\":{\"line\":{\"color\":\"#2a3f5f\"}},\"annotationdefaults\":{\"arrowcolor\":\"#2a3f5f\",\"arrowhead\":0,\"arrowwidth\":1},\"geo\":{\"bgcolor\":\"white\",\"landcolor\":\"#E5ECF6\",\"subunitcolor\":\"white\",\"showland\":true,\"showlakes\":true,\"lakecolor\":\"white\"},\"title\":{\"x\":0.05},\"mapbox\":{\"style\":\"light\"}}},\"legend\":{\"tracegroupgap\":0},\"title\":{\"text\":\"Correlation between whole Data\"},\"dragmode\":\"select\",\"height\":1000},                        {\"responsive\": true}                    ).then(function(){\n",
              "                            \n",
              "var gd = document.getElementById('786c57b0-e2e0-4946-ae2b-72984ed3c4ff');\n",
              "var x = new MutationObserver(function (mutations, observer) {{\n",
              "        var display = window.getComputedStyle(gd).display;\n",
              "        if (!display || display === 'none') {{\n",
              "            console.log([gd, 'removed!']);\n",
              "            Plotly.purge(gd);\n",
              "            observer.disconnect();\n",
              "        }}\n",
              "}});\n",
              "\n",
              "// Listen for the removal of the full notebook cells\n",
              "var notebookContainer = gd.closest('#notebook-container');\n",
              "if (notebookContainer) {{\n",
              "    x.observe(notebookContainer, {childList: true});\n",
              "}}\n",
              "\n",
              "// Listen for the clearing of the current output cell\n",
              "var outputEl = gd.closest('.output');\n",
              "if (outputEl) {{\n",
              "    x.observe(outputEl, {childList: true});\n",
              "}}\n",
              "\n",
              "                        })                };                            </script>        </div>\n",
              "</body>\n",
              "</html>"
            ]
          },
          "metadata": {}
        }
      ],
      "source": [
        "#Pairplot to find the relation between different variables.\n",
        "\n",
        "dff = df[['gender', 'married', 'dependents', 'education', 'self_employed',\n",
        "       'loanamount', 'loan_amount_term', 'credit_history', 'property_area',\n",
        "       'loan_status', 'sumofincome', 'EMI', 'EMI/NMI']]\n",
        "fig_pairplot = px.scatter_matrix(dff, height=1000,title= 'Correlation between whole Data')\n",
        "fig_pairplot"
      ]
    },
    {
      "cell_type": "markdown",
      "metadata": {
        "id": "YzhmdN-tVyy2"
      },
      "source": [
        "## Important features selection."
      ]
    },
    {
      "cell_type": "code",
      "execution_count": null,
      "metadata": {
        "colab": {
          "base_uri": "https://localhost:8080/"
        },
        "id": "wwV5ZXAOVyy2",
        "outputId": "25536ad6-3d19-4ba7-b735-a4628f84b5a9"
      },
      "outputs": [
        {
          "output_type": "execute_result",
          "data": {
            "text/plain": [
              "Index(['gender', 'married', 'dependents', 'education', 'self_employed',\n",
              "       'loanamount', 'loan_amount_term', 'credit_history', 'property_area',\n",
              "       'loan_status', 'sumofincome', 'EMI', 'EMI/NMI'],\n",
              "      dtype='object')"
            ]
          },
          "metadata": {},
          "execution_count": 73
        }
      ],
      "source": [
        "df.columns"
      ]
    },
    {
      "cell_type": "code",
      "source": [
        "df.shape"
      ],
      "metadata": {
        "id": "PvrGTX1VGjow",
        "outputId": "e4c27f33-d0f8-4c12-c292-fb41918d11f7",
        "colab": {
          "base_uri": "https://localhost:8080/"
        }
      },
      "execution_count": null,
      "outputs": [
        {
          "output_type": "execute_result",
          "data": {
            "text/plain": [
              "(1029, 13)"
            ]
          },
          "metadata": {},
          "execution_count": 74
        }
      ]
    },
    {
      "cell_type": "code",
      "execution_count": null,
      "metadata": {
        "colab": {
          "base_uri": "https://localhost:8080/"
        },
        "id": "LEykFdI3Vyy2",
        "outputId": "6b82f634-e3de-48cc-ef15-74087aa8311b"
      },
      "outputs": [
        {
          "output_type": "stream",
          "name": "stdout",
          "text": [
            "shape of training data :  (926, 13)\n",
            "shape of testing data (103, 13)\n"
          ]
        }
      ],
      "source": [
        "\n",
        "# Train test split.\n",
        "train,test = train_test_split(df,test_size=0.10,random_state=0)\n",
        "print('shape of training data : ',train.shape)\n",
        "print('shape of testing data',test.shape)"
      ]
    },
    {
      "cell_type": "code",
      "execution_count": null,
      "metadata": {
        "id": "-6OQZWRpVyy2"
      },
      "outputs": [],
      "source": [
        "##Separating the target and independent variable\n",
        "train_x = train.drop(columns=['loan_status'],axis=1)\n",
        "train_y = train['loan_status']\n",
        "test_x = test.drop(columns=['loan_status'],axis=1)\n",
        "test_y = test['loan_status']"
      ]
    },
    {
      "cell_type": "code",
      "execution_count": null,
      "metadata": {
        "id": "U4C3hRdWVyy2"
      },
      "outputs": [],
      "source": [
        "df1 = df.copy()"
      ]
    },
    {
      "cell_type": "code",
      "execution_count": null,
      "metadata": {
        "colab": {
          "base_uri": "https://localhost:8080/"
        },
        "id": "FCAxlGamVyy2",
        "outputId": "9dd1cd51-db17-411d-fa7d-26bc9279c4e7"
      },
      "outputs": [
        {
          "output_type": "execute_result",
          "data": {
            "text/plain": [
              "gender                int64\n",
              "married               int64\n",
              "dependents            int64\n",
              "education             int64\n",
              "self_employed         int64\n",
              "loanamount          float64\n",
              "loan_amount_term    float64\n",
              "credit_history      float64\n",
              "property_area         int64\n",
              "loan_status           int64\n",
              "sumofincome         float64\n",
              "EMI                 float64\n",
              "EMI/NMI             float64\n",
              "dtype: object"
            ]
          },
          "metadata": {},
          "execution_count": 78
        }
      ],
      "source": [
        "##Label Encoding of categorical variables.\n",
        "var_mod = ['gender','married','dependents','education','self_employed','property_area','loan_status']\n",
        "le = LabelEncoder()\n",
        "for i in var_mod:\n",
        "    df1[i] = le.fit_transform(df[i])\n",
        "df1.dtypes"
      ]
    },
    {
      "cell_type": "code",
      "execution_count": null,
      "metadata": {
        "colab": {
          "base_uri": "https://localhost:8080/",
          "height": 427
        },
        "id": "i79uvrryVyy3",
        "outputId": "c066c566-7840-47e0-9cf4-2a14bc3aed05"
      },
      "outputs": [
        {
          "output_type": "execute_result",
          "data": {
            "text/plain": [
              "   gender  married  dependents  education  self_employed     loanamount  \\\n",
              "0       1        1           0          0              0  138079.476861   \n",
              "1       1        2           1          0              0  128000.000000   \n",
              "2       1        2           0          0              1   66000.000000   \n",
              "3       1        2           0          1              0  120000.000000   \n",
              "4       1        1           0          0              0  141000.000000   \n",
              "5       1        2           2          0              1  265000.000000   \n",
              "6       1        2           0          1              0   95000.000000   \n",
              "7       1        2           3          0              0  158000.000000   \n",
              "8       1        2           2          0              0  168000.000000   \n",
              "9       1        2           1          0              0  265000.000000   \n",
              "\n",
              "   loan_amount_term  credit_history  property_area  loan_status  sumofincome  \\\n",
              "0             360.0             1.0              2            1       5849.0   \n",
              "1             360.0             1.0              0            0       6091.0   \n",
              "2             360.0             1.0              2            1       3000.0   \n",
              "3             360.0             1.0              2            1       4941.0   \n",
              "4             360.0             1.0              2            1       6000.0   \n",
              "5             360.0             1.0              2            1       9613.0   \n",
              "6             360.0             1.0              2            1       3849.0   \n",
              "7             360.0             0.0              1            0       5540.0   \n",
              "8             360.0             1.0              2            1       5532.0   \n",
              "9             360.0             1.0              1            0      15848.0   \n",
              "\n",
              "           EMI   EMI/NMI  \n",
              "0   827.856229  0.141538  \n",
              "1   767.424672  0.125993  \n",
              "2   395.703347  0.131901  \n",
              "3   719.460630  0.145610  \n",
              "4   845.366240  0.140894  \n",
              "5  1588.808892  0.165277  \n",
              "6   569.572999  0.147979  \n",
              "7   947.289830  0.170991  \n",
              "8  1007.244882  0.182076  \n",
              "9  1588.808892  0.100253  "
            ],
            "text/html": [
              "\n",
              "  <div id=\"df-2afb276f-1c0c-4ad7-a18f-42eafb23e582\">\n",
              "    <div class=\"colab-df-container\">\n",
              "      <div>\n",
              "<style scoped>\n",
              "    .dataframe tbody tr th:only-of-type {\n",
              "        vertical-align: middle;\n",
              "    }\n",
              "\n",
              "    .dataframe tbody tr th {\n",
              "        vertical-align: top;\n",
              "    }\n",
              "\n",
              "    .dataframe thead th {\n",
              "        text-align: right;\n",
              "    }\n",
              "</style>\n",
              "<table border=\"1\" class=\"dataframe\">\n",
              "  <thead>\n",
              "    <tr style=\"text-align: right;\">\n",
              "      <th></th>\n",
              "      <th>gender</th>\n",
              "      <th>married</th>\n",
              "      <th>dependents</th>\n",
              "      <th>education</th>\n",
              "      <th>self_employed</th>\n",
              "      <th>loanamount</th>\n",
              "      <th>loan_amount_term</th>\n",
              "      <th>credit_history</th>\n",
              "      <th>property_area</th>\n",
              "      <th>loan_status</th>\n",
              "      <th>sumofincome</th>\n",
              "      <th>EMI</th>\n",
              "      <th>EMI/NMI</th>\n",
              "    </tr>\n",
              "  </thead>\n",
              "  <tbody>\n",
              "    <tr>\n",
              "      <th>0</th>\n",
              "      <td>1</td>\n",
              "      <td>1</td>\n",
              "      <td>0</td>\n",
              "      <td>0</td>\n",
              "      <td>0</td>\n",
              "      <td>138079.476861</td>\n",
              "      <td>360.0</td>\n",
              "      <td>1.0</td>\n",
              "      <td>2</td>\n",
              "      <td>1</td>\n",
              "      <td>5849.0</td>\n",
              "      <td>827.856229</td>\n",
              "      <td>0.141538</td>\n",
              "    </tr>\n",
              "    <tr>\n",
              "      <th>1</th>\n",
              "      <td>1</td>\n",
              "      <td>2</td>\n",
              "      <td>1</td>\n",
              "      <td>0</td>\n",
              "      <td>0</td>\n",
              "      <td>128000.000000</td>\n",
              "      <td>360.0</td>\n",
              "      <td>1.0</td>\n",
              "      <td>0</td>\n",
              "      <td>0</td>\n",
              "      <td>6091.0</td>\n",
              "      <td>767.424672</td>\n",
              "      <td>0.125993</td>\n",
              "    </tr>\n",
              "    <tr>\n",
              "      <th>2</th>\n",
              "      <td>1</td>\n",
              "      <td>2</td>\n",
              "      <td>0</td>\n",
              "      <td>0</td>\n",
              "      <td>1</td>\n",
              "      <td>66000.000000</td>\n",
              "      <td>360.0</td>\n",
              "      <td>1.0</td>\n",
              "      <td>2</td>\n",
              "      <td>1</td>\n",
              "      <td>3000.0</td>\n",
              "      <td>395.703347</td>\n",
              "      <td>0.131901</td>\n",
              "    </tr>\n",
              "    <tr>\n",
              "      <th>3</th>\n",
              "      <td>1</td>\n",
              "      <td>2</td>\n",
              "      <td>0</td>\n",
              "      <td>1</td>\n",
              "      <td>0</td>\n",
              "      <td>120000.000000</td>\n",
              "      <td>360.0</td>\n",
              "      <td>1.0</td>\n",
              "      <td>2</td>\n",
              "      <td>1</td>\n",
              "      <td>4941.0</td>\n",
              "      <td>719.460630</td>\n",
              "      <td>0.145610</td>\n",
              "    </tr>\n",
              "    <tr>\n",
              "      <th>4</th>\n",
              "      <td>1</td>\n",
              "      <td>1</td>\n",
              "      <td>0</td>\n",
              "      <td>0</td>\n",
              "      <td>0</td>\n",
              "      <td>141000.000000</td>\n",
              "      <td>360.0</td>\n",
              "      <td>1.0</td>\n",
              "      <td>2</td>\n",
              "      <td>1</td>\n",
              "      <td>6000.0</td>\n",
              "      <td>845.366240</td>\n",
              "      <td>0.140894</td>\n",
              "    </tr>\n",
              "    <tr>\n",
              "      <th>5</th>\n",
              "      <td>1</td>\n",
              "      <td>2</td>\n",
              "      <td>2</td>\n",
              "      <td>0</td>\n",
              "      <td>1</td>\n",
              "      <td>265000.000000</td>\n",
              "      <td>360.0</td>\n",
              "      <td>1.0</td>\n",
              "      <td>2</td>\n",
              "      <td>1</td>\n",
              "      <td>9613.0</td>\n",
              "      <td>1588.808892</td>\n",
              "      <td>0.165277</td>\n",
              "    </tr>\n",
              "    <tr>\n",
              "      <th>6</th>\n",
              "      <td>1</td>\n",
              "      <td>2</td>\n",
              "      <td>0</td>\n",
              "      <td>1</td>\n",
              "      <td>0</td>\n",
              "      <td>95000.000000</td>\n",
              "      <td>360.0</td>\n",
              "      <td>1.0</td>\n",
              "      <td>2</td>\n",
              "      <td>1</td>\n",
              "      <td>3849.0</td>\n",
              "      <td>569.572999</td>\n",
              "      <td>0.147979</td>\n",
              "    </tr>\n",
              "    <tr>\n",
              "      <th>7</th>\n",
              "      <td>1</td>\n",
              "      <td>2</td>\n",
              "      <td>3</td>\n",
              "      <td>0</td>\n",
              "      <td>0</td>\n",
              "      <td>158000.000000</td>\n",
              "      <td>360.0</td>\n",
              "      <td>0.0</td>\n",
              "      <td>1</td>\n",
              "      <td>0</td>\n",
              "      <td>5540.0</td>\n",
              "      <td>947.289830</td>\n",
              "      <td>0.170991</td>\n",
              "    </tr>\n",
              "    <tr>\n",
              "      <th>8</th>\n",
              "      <td>1</td>\n",
              "      <td>2</td>\n",
              "      <td>2</td>\n",
              "      <td>0</td>\n",
              "      <td>0</td>\n",
              "      <td>168000.000000</td>\n",
              "      <td>360.0</td>\n",
              "      <td>1.0</td>\n",
              "      <td>2</td>\n",
              "      <td>1</td>\n",
              "      <td>5532.0</td>\n",
              "      <td>1007.244882</td>\n",
              "      <td>0.182076</td>\n",
              "    </tr>\n",
              "    <tr>\n",
              "      <th>9</th>\n",
              "      <td>1</td>\n",
              "      <td>2</td>\n",
              "      <td>1</td>\n",
              "      <td>0</td>\n",
              "      <td>0</td>\n",
              "      <td>265000.000000</td>\n",
              "      <td>360.0</td>\n",
              "      <td>1.0</td>\n",
              "      <td>1</td>\n",
              "      <td>0</td>\n",
              "      <td>15848.0</td>\n",
              "      <td>1588.808892</td>\n",
              "      <td>0.100253</td>\n",
              "    </tr>\n",
              "  </tbody>\n",
              "</table>\n",
              "</div>\n",
              "      <button class=\"colab-df-convert\" onclick=\"convertToInteractive('df-2afb276f-1c0c-4ad7-a18f-42eafb23e582')\"\n",
              "              title=\"Convert this dataframe to an interactive table.\"\n",
              "              style=\"display:none;\">\n",
              "        \n",
              "  <svg xmlns=\"http://www.w3.org/2000/svg\" height=\"24px\"viewBox=\"0 0 24 24\"\n",
              "       width=\"24px\">\n",
              "    <path d=\"M0 0h24v24H0V0z\" fill=\"none\"/>\n",
              "    <path d=\"M18.56 5.44l.94 2.06.94-2.06 2.06-.94-2.06-.94-.94-2.06-.94 2.06-2.06.94zm-11 1L8.5 8.5l.94-2.06 2.06-.94-2.06-.94L8.5 2.5l-.94 2.06-2.06.94zm10 10l.94 2.06.94-2.06 2.06-.94-2.06-.94-.94-2.06-.94 2.06-2.06.94z\"/><path d=\"M17.41 7.96l-1.37-1.37c-.4-.4-.92-.59-1.43-.59-.52 0-1.04.2-1.43.59L10.3 9.45l-7.72 7.72c-.78.78-.78 2.05 0 2.83L4 21.41c.39.39.9.59 1.41.59.51 0 1.02-.2 1.41-.59l7.78-7.78 2.81-2.81c.8-.78.8-2.07 0-2.86zM5.41 20L4 18.59l7.72-7.72 1.47 1.35L5.41 20z\"/>\n",
              "  </svg>\n",
              "      </button>\n",
              "      \n",
              "  <style>\n",
              "    .colab-df-container {\n",
              "      display:flex;\n",
              "      flex-wrap:wrap;\n",
              "      gap: 12px;\n",
              "    }\n",
              "\n",
              "    .colab-df-convert {\n",
              "      background-color: #E8F0FE;\n",
              "      border: none;\n",
              "      border-radius: 50%;\n",
              "      cursor: pointer;\n",
              "      display: none;\n",
              "      fill: #1967D2;\n",
              "      height: 32px;\n",
              "      padding: 0 0 0 0;\n",
              "      width: 32px;\n",
              "    }\n",
              "\n",
              "    .colab-df-convert:hover {\n",
              "      background-color: #E2EBFA;\n",
              "      box-shadow: 0px 1px 2px rgba(60, 64, 67, 0.3), 0px 1px 3px 1px rgba(60, 64, 67, 0.15);\n",
              "      fill: #174EA6;\n",
              "    }\n",
              "\n",
              "    [theme=dark] .colab-df-convert {\n",
              "      background-color: #3B4455;\n",
              "      fill: #D2E3FC;\n",
              "    }\n",
              "\n",
              "    [theme=dark] .colab-df-convert:hover {\n",
              "      background-color: #434B5C;\n",
              "      box-shadow: 0px 1px 3px 1px rgba(0, 0, 0, 0.15);\n",
              "      filter: drop-shadow(0px 1px 2px rgba(0, 0, 0, 0.3));\n",
              "      fill: #FFFFFF;\n",
              "    }\n",
              "  </style>\n",
              "\n",
              "      <script>\n",
              "        const buttonEl =\n",
              "          document.querySelector('#df-2afb276f-1c0c-4ad7-a18f-42eafb23e582 button.colab-df-convert');\n",
              "        buttonEl.style.display =\n",
              "          google.colab.kernel.accessAllowed ? 'block' : 'none';\n",
              "\n",
              "        async function convertToInteractive(key) {\n",
              "          const element = document.querySelector('#df-2afb276f-1c0c-4ad7-a18f-42eafb23e582');\n",
              "          const dataTable =\n",
              "            await google.colab.kernel.invokeFunction('convertToInteractive',\n",
              "                                                     [key], {});\n",
              "          if (!dataTable) return;\n",
              "\n",
              "          const docLinkHtml = 'Like what you see? Visit the ' +\n",
              "            '<a target=\"_blank\" href=https://colab.research.google.com/notebooks/data_table.ipynb>data table notebook</a>'\n",
              "            + ' to learn more about interactive tables.';\n",
              "          element.innerHTML = '';\n",
              "          dataTable['output_type'] = 'display_data';\n",
              "          await google.colab.output.renderOutput(dataTable, element);\n",
              "          const docLink = document.createElement('div');\n",
              "          docLink.innerHTML = docLinkHtml;\n",
              "          element.appendChild(docLink);\n",
              "        }\n",
              "      </script>\n",
              "    </div>\n",
              "  </div>\n",
              "  "
            ]
          },
          "metadata": {},
          "execution_count": 79
        }
      ],
      "source": [
        "df1.head(10)"
      ]
    },
    {
      "cell_type": "code",
      "execution_count": null,
      "metadata": {
        "colab": {
          "base_uri": "https://localhost:8080/",
          "height": 287
        },
        "id": "jbGdl6qnVyy3",
        "outputId": "e553ce47-8548-4d67-87a8-227e68d675ed"
      },
      "outputs": [
        {
          "output_type": "execute_result",
          "data": {
            "text/plain": [
              "  gender married dependents     education self_employed     loanamount  \\\n",
              "0   Male      No          0      Graduate            No  138079.476861   \n",
              "1   Male     Yes          1      Graduate            No  128000.000000   \n",
              "2   Male     Yes          0      Graduate           Yes   66000.000000   \n",
              "3   Male     Yes          0  Not Graduate            No  120000.000000   \n",
              "4   Male      No          0      Graduate            No  141000.000000   \n",
              "\n",
              "   loan_amount_term  credit_history property_area loan_status  sumofincome  \\\n",
              "0             360.0             1.0         Urban           Y       5849.0   \n",
              "1             360.0             1.0         Rural           N       6091.0   \n",
              "2             360.0             1.0         Urban           Y       3000.0   \n",
              "3             360.0             1.0         Urban           Y       4941.0   \n",
              "4             360.0             1.0         Urban           Y       6000.0   \n",
              "\n",
              "          EMI   EMI/NMI  \n",
              "0  827.856229  0.141538  \n",
              "1  767.424672  0.125993  \n",
              "2  395.703347  0.131901  \n",
              "3  719.460630  0.145610  \n",
              "4  845.366240  0.140894  "
            ],
            "text/html": [
              "\n",
              "  <div id=\"df-bf3b6ceb-0cbc-423e-b772-95c28248525d\">\n",
              "    <div class=\"colab-df-container\">\n",
              "      <div>\n",
              "<style scoped>\n",
              "    .dataframe tbody tr th:only-of-type {\n",
              "        vertical-align: middle;\n",
              "    }\n",
              "\n",
              "    .dataframe tbody tr th {\n",
              "        vertical-align: top;\n",
              "    }\n",
              "\n",
              "    .dataframe thead th {\n",
              "        text-align: right;\n",
              "    }\n",
              "</style>\n",
              "<table border=\"1\" class=\"dataframe\">\n",
              "  <thead>\n",
              "    <tr style=\"text-align: right;\">\n",
              "      <th></th>\n",
              "      <th>gender</th>\n",
              "      <th>married</th>\n",
              "      <th>dependents</th>\n",
              "      <th>education</th>\n",
              "      <th>self_employed</th>\n",
              "      <th>loanamount</th>\n",
              "      <th>loan_amount_term</th>\n",
              "      <th>credit_history</th>\n",
              "      <th>property_area</th>\n",
              "      <th>loan_status</th>\n",
              "      <th>sumofincome</th>\n",
              "      <th>EMI</th>\n",
              "      <th>EMI/NMI</th>\n",
              "    </tr>\n",
              "  </thead>\n",
              "  <tbody>\n",
              "    <tr>\n",
              "      <th>0</th>\n",
              "      <td>Male</td>\n",
              "      <td>No</td>\n",
              "      <td>0</td>\n",
              "      <td>Graduate</td>\n",
              "      <td>No</td>\n",
              "      <td>138079.476861</td>\n",
              "      <td>360.0</td>\n",
              "      <td>1.0</td>\n",
              "      <td>Urban</td>\n",
              "      <td>Y</td>\n",
              "      <td>5849.0</td>\n",
              "      <td>827.856229</td>\n",
              "      <td>0.141538</td>\n",
              "    </tr>\n",
              "    <tr>\n",
              "      <th>1</th>\n",
              "      <td>Male</td>\n",
              "      <td>Yes</td>\n",
              "      <td>1</td>\n",
              "      <td>Graduate</td>\n",
              "      <td>No</td>\n",
              "      <td>128000.000000</td>\n",
              "      <td>360.0</td>\n",
              "      <td>1.0</td>\n",
              "      <td>Rural</td>\n",
              "      <td>N</td>\n",
              "      <td>6091.0</td>\n",
              "      <td>767.424672</td>\n",
              "      <td>0.125993</td>\n",
              "    </tr>\n",
              "    <tr>\n",
              "      <th>2</th>\n",
              "      <td>Male</td>\n",
              "      <td>Yes</td>\n",
              "      <td>0</td>\n",
              "      <td>Graduate</td>\n",
              "      <td>Yes</td>\n",
              "      <td>66000.000000</td>\n",
              "      <td>360.0</td>\n",
              "      <td>1.0</td>\n",
              "      <td>Urban</td>\n",
              "      <td>Y</td>\n",
              "      <td>3000.0</td>\n",
              "      <td>395.703347</td>\n",
              "      <td>0.131901</td>\n",
              "    </tr>\n",
              "    <tr>\n",
              "      <th>3</th>\n",
              "      <td>Male</td>\n",
              "      <td>Yes</td>\n",
              "      <td>0</td>\n",
              "      <td>Not Graduate</td>\n",
              "      <td>No</td>\n",
              "      <td>120000.000000</td>\n",
              "      <td>360.0</td>\n",
              "      <td>1.0</td>\n",
              "      <td>Urban</td>\n",
              "      <td>Y</td>\n",
              "      <td>4941.0</td>\n",
              "      <td>719.460630</td>\n",
              "      <td>0.145610</td>\n",
              "    </tr>\n",
              "    <tr>\n",
              "      <th>4</th>\n",
              "      <td>Male</td>\n",
              "      <td>No</td>\n",
              "      <td>0</td>\n",
              "      <td>Graduate</td>\n",
              "      <td>No</td>\n",
              "      <td>141000.000000</td>\n",
              "      <td>360.0</td>\n",
              "      <td>1.0</td>\n",
              "      <td>Urban</td>\n",
              "      <td>Y</td>\n",
              "      <td>6000.0</td>\n",
              "      <td>845.366240</td>\n",
              "      <td>0.140894</td>\n",
              "    </tr>\n",
              "  </tbody>\n",
              "</table>\n",
              "</div>\n",
              "      <button class=\"colab-df-convert\" onclick=\"convertToInteractive('df-bf3b6ceb-0cbc-423e-b772-95c28248525d')\"\n",
              "              title=\"Convert this dataframe to an interactive table.\"\n",
              "              style=\"display:none;\">\n",
              "        \n",
              "  <svg xmlns=\"http://www.w3.org/2000/svg\" height=\"24px\"viewBox=\"0 0 24 24\"\n",
              "       width=\"24px\">\n",
              "    <path d=\"M0 0h24v24H0V0z\" fill=\"none\"/>\n",
              "    <path d=\"M18.56 5.44l.94 2.06.94-2.06 2.06-.94-2.06-.94-.94-2.06-.94 2.06-2.06.94zm-11 1L8.5 8.5l.94-2.06 2.06-.94-2.06-.94L8.5 2.5l-.94 2.06-2.06.94zm10 10l.94 2.06.94-2.06 2.06-.94-2.06-.94-.94-2.06-.94 2.06-2.06.94z\"/><path d=\"M17.41 7.96l-1.37-1.37c-.4-.4-.92-.59-1.43-.59-.52 0-1.04.2-1.43.59L10.3 9.45l-7.72 7.72c-.78.78-.78 2.05 0 2.83L4 21.41c.39.39.9.59 1.41.59.51 0 1.02-.2 1.41-.59l7.78-7.78 2.81-2.81c.8-.78.8-2.07 0-2.86zM5.41 20L4 18.59l7.72-7.72 1.47 1.35L5.41 20z\"/>\n",
              "  </svg>\n",
              "      </button>\n",
              "      \n",
              "  <style>\n",
              "    .colab-df-container {\n",
              "      display:flex;\n",
              "      flex-wrap:wrap;\n",
              "      gap: 12px;\n",
              "    }\n",
              "\n",
              "    .colab-df-convert {\n",
              "      background-color: #E8F0FE;\n",
              "      border: none;\n",
              "      border-radius: 50%;\n",
              "      cursor: pointer;\n",
              "      display: none;\n",
              "      fill: #1967D2;\n",
              "      height: 32px;\n",
              "      padding: 0 0 0 0;\n",
              "      width: 32px;\n",
              "    }\n",
              "\n",
              "    .colab-df-convert:hover {\n",
              "      background-color: #E2EBFA;\n",
              "      box-shadow: 0px 1px 2px rgba(60, 64, 67, 0.3), 0px 1px 3px 1px rgba(60, 64, 67, 0.15);\n",
              "      fill: #174EA6;\n",
              "    }\n",
              "\n",
              "    [theme=dark] .colab-df-convert {\n",
              "      background-color: #3B4455;\n",
              "      fill: #D2E3FC;\n",
              "    }\n",
              "\n",
              "    [theme=dark] .colab-df-convert:hover {\n",
              "      background-color: #434B5C;\n",
              "      box-shadow: 0px 1px 3px 1px rgba(0, 0, 0, 0.15);\n",
              "      filter: drop-shadow(0px 1px 2px rgba(0, 0, 0, 0.3));\n",
              "      fill: #FFFFFF;\n",
              "    }\n",
              "  </style>\n",
              "\n",
              "      <script>\n",
              "        const buttonEl =\n",
              "          document.querySelector('#df-bf3b6ceb-0cbc-423e-b772-95c28248525d button.colab-df-convert');\n",
              "        buttonEl.style.display =\n",
              "          google.colab.kernel.accessAllowed ? 'block' : 'none';\n",
              "\n",
              "        async function convertToInteractive(key) {\n",
              "          const element = document.querySelector('#df-bf3b6ceb-0cbc-423e-b772-95c28248525d');\n",
              "          const dataTable =\n",
              "            await google.colab.kernel.invokeFunction('convertToInteractive',\n",
              "                                                     [key], {});\n",
              "          if (!dataTable) return;\n",
              "\n",
              "          const docLinkHtml = 'Like what you see? Visit the ' +\n",
              "            '<a target=\"_blank\" href=https://colab.research.google.com/notebooks/data_table.ipynb>data table notebook</a>'\n",
              "            + ' to learn more about interactive tables.';\n",
              "          element.innerHTML = '';\n",
              "          dataTable['output_type'] = 'display_data';\n",
              "          await google.colab.output.renderOutput(dataTable, element);\n",
              "          const docLink = document.createElement('div');\n",
              "          docLink.innerHTML = docLinkHtml;\n",
              "          element.appendChild(docLink);\n",
              "        }\n",
              "      </script>\n",
              "    </div>\n",
              "  </div>\n",
              "  "
            ]
          },
          "metadata": {},
          "execution_count": 80
        }
      ],
      "source": [
        "df.head()"
      ]
    },
    {
      "cell_type": "code",
      "execution_count": null,
      "metadata": {
        "colab": {
          "base_uri": "https://localhost:8080/"
        },
        "id": "lDj6yTQ4Vyy3",
        "outputId": "aba8b472-f7a9-4269-8b75-30872ead5c88"
      },
      "outputs": [
        {
          "output_type": "stream",
          "name": "stdout",
          "text": [
            "shape of training data :  (926, 13)\n",
            "shape of testing data (103, 13)\n"
          ]
        }
      ],
      "source": [
        "# Performing again the Train test split post label encoding.\n",
        "train1,test1 = train_test_split(df1,test_size=0.10,random_state=0)\n",
        "print('shape of training data : ',train1.shape)\n",
        "print('shape of testing data',test1.shape)\n",
        "\n",
        "##Separating the target and independent variable again\n",
        "train1_x = train1.drop(columns=['loan_status'],axis=1)\n",
        "train1_y = train1['loan_status']\n",
        "test1_x = test1.drop(columns=['loan_status'],axis=1)\n",
        "test1_y = test1['loan_status']"
      ]
    },
    {
      "cell_type": "code",
      "execution_count": null,
      "metadata": {
        "colab": {
          "base_uri": "https://localhost:8080/",
          "height": 680
        },
        "id": "17Gei3j5Vyy4",
        "outputId": "8da5699b-f75d-4ddd-e323-0a573c1fcf1c"
      },
      "outputs": [
        {
          "output_type": "display_data",
          "data": {
            "text/plain": [
              "<Figure size 1000x600 with 1 Axes>"
            ],
            "image/png": "[encoded data removed]"
          },
          "metadata": {}
        }
      ],
      "source": [
        "#Checking Feature Importance\n",
        "\n",
        "# Train the random forest classifier\n",
        "model = RandomForestClassifier(n_estimators=100, random_state=42)\n",
        "model.fit(train1_x, train1_y)\n",
        "\n",
        "# Get feature importances from the trained model\n",
        "importances = model.feature_importances_\n",
        "\n",
        "# Sort feature importances in descending order\n",
        "sorted_indices = np.argsort(importances)[::-1]\n",
        "\n",
        "# Get feature names\n",
        "feature_names = train1_x.columns\n",
        "\n",
        "# Plot feature importances\n",
        "plt.figure(figsize=(10, 6))\n",
        "plt.bar(range(len(importances)), importances[sorted_indices], align='center')\n",
        "plt.xticks(range(len(importances)), np.array(feature_names)[sorted_indices], rotation=90)\n",
        "plt.xlabel('Features')\n",
        "plt.ylabel('Importance')\n",
        "plt.title('Feature Importance')\n",
        "plt.show()"
      ]
    },
    {
      "cell_type": "code",
      "execution_count": null,
      "metadata": {
        "colab": {
          "base_uri": "https://localhost:8080/"
        },
        "id": "kVkp5mKMVyy4",
        "outputId": "7fcce03a-3583-4f2d-9ddb-ceff955f02ba"
      },
      "outputs": [
        {
          "output_type": "stream",
          "name": "stdout",
          "text": [
            "\n",
            "\n",
            "Theil's U scores:\n",
            "gender: 0.0048427660537434134\n",
            "married: 0.5960545796884685\n",
            "dependents: 0.011300863778350555\n",
            "education: 6.7665395148631515e-06\n",
            "self_employed: 0.0008764292849413805\n",
            "loanamount: 100.57311022748921\n",
            "loan_amount_term: 3.1853139310050103\n",
            "credit_history: 1.4296716451437481\n",
            "property_area: 0.0032429857702408736\n",
            "sumofincome: 478.773846656501\n",
            "EMI: 153.68760760031068\n",
            "EMI/NMI: 572.6881914417675\n"
          ]
        }
      ],
      "source": [
        "# Applying Theil's U for checking feature importance.\n",
        "import warnings\n",
        "\n",
        "# Ignoring specific warning category\n",
        "warnings.filterwarnings(\"ignore\", category=DeprecationWarning)\n",
        "\n",
        "# Ignoring all warnings\n",
        "warnings.filterwarnings(\"ignore\")\n",
        "\n",
        "from scipy.stats import entropy\n",
        "\n",
        "def theils_u(x, y):\n",
        "    p_xy = pd.crosstab(x, y, normalize='all')\n",
        "    p_x = p_xy.sum(axis=1)\n",
        "    p_y_given_x = p_xy.div(p_x, axis=0)\n",
        "    p_y = y.value_counts(normalize=True)\n",
        "    information_value = (p_y_given_x * np.log(p_y_given_x / p_y)).sum().sum()\n",
        "    entropy_y = entropy(p_y)\n",
        "    if entropy_y == 0:\n",
        "        return 1.0\n",
        "    else:\n",
        "        return information_value / entropy_y\n",
        "\n",
        "# Calculating Theil's U for each feature\n",
        "theils_u_scores = []\n",
        "for feature in train1_x.columns:\n",
        "    u_score = theils_u(train1_x[feature], train1_y)\n",
        "    theils_u_scores.append(u_score)\n",
        "#theils_u_scores.sort(reverse=True)\n",
        "# Print Theil's U scores for each feature\n",
        "print(\"\\n\\nTheil's U scores:\")\n",
        "for feature, score in zip(train1_x.columns, theils_u_scores):\n",
        "    print(f\"{feature}: {score}\")\n",
        "    #Theil's U scores provide insights into the information shared between each feature and the target variable.\n",
        "#EMI/NMI Ratio: The EMI/NMI Ratio, credit history and sumofincome variables have high Theil's U score,\n",
        "#indicating it carries a large amount of information or predictability for the target variable."
      ]
    },
    {
      "cell_type": "code",
      "execution_count": null,
      "metadata": {
        "colab": {
          "base_uri": "https://localhost:8080/"
        },
        "id": "_o6lFBSTVyy4",
        "outputId": "b92afae2-402f-4a86-c277-80900da68f2e"
      },
      "outputs": [
        {
          "output_type": "stream",
          "name": "stdout",
          "text": [
            "Rank 9: gender\n",
            "Rank 10: married\n",
            "Rank 6: dependents\n",
            "Rank 11: education\n",
            "Rank 12: self_employed\n",
            "Rank 5: loanamount\n",
            "Rank 8: loan_amount_term\n",
            "Rank 3: credit_history\n",
            "Rank 7: property_area\n",
            "Rank 2: sumofincome\n",
            "Rank 4: EMI\n",
            "Rank 1: EMI/NMI\n"
          ]
        }
      ],
      "source": [
        "#Recursive Feature Elimination (RFE):\n",
        "model = RandomForestClassifier(n_estimators=100, random_state=42)\n",
        "rfe = RFE(model, n_features_to_select=1)\n",
        "rfe.fit(train1_x, train1_y)\n",
        "\n",
        "# Get feature rankings\n",
        "feature_rankings = rfe.ranking_\n",
        "\n",
        "# Print feature importances\n",
        "for rank, feature in zip(feature_rankings, feature_names):\n",
        "    print(f\"Rank {rank}: {feature}\")\n",
        "#Recursive Feature Elimination (RFE): RFE is a wrapper method that recursively eliminates features from a model and\n",
        "#ranks them based on their importance. It starts by training the model on all features and then recursively\n",
        "#eliminates the least important features until a specified number of features is reached. The ranking is based on the order of elimination. The feature ranking obtained from RFE can provide insights into the importance of each feature.\n"
      ]
    },
    {
      "cell_type": "code",
      "execution_count": null,
      "metadata": {
        "colab": {
          "base_uri": "https://localhost:8080/"
        },
        "id": "rReNbIFfVyy5",
        "outputId": "404fb9c7-264f-4ad1-ed20-cd59d7bed79f"
      },
      "outputs": [
        {
          "output_type": "stream",
          "name": "stdout",
          "text": [
            "Importance: 0.20496760259179267, Feature: credit_history\n",
            "Importance: 0.1086393088552916, Feature: EMI/NMI\n",
            "Importance: 0.07559395248380134, Feature: sumofincome\n",
            "Importance: 0.06630669546436292, Feature: loanamount\n",
            "Importance: 0.045140388768898546, Feature: EMI\n",
            "Importance: 0.03801295896328298, Feature: dependents\n",
            "Importance: 0.03736501079913612, Feature: property_area\n",
            "Importance: 0.015118790496760326, Feature: married\n",
            "Importance: 0.011663066954643675, Feature: self_employed\n",
            "Importance: 0.010583153347732233, Feature: education\n",
            "Importance: 0.009719222462203048, Feature: gender\n",
            "Importance: 0.006263498920086463, Feature: loan_amount_term\n"
          ]
        }
      ],
      "source": [
        "# Permutation Importance: Permutation importance measures the importance of a feature by randomly permuting its values\n",
        "#and evaluating the decrease in model performance. A higher decrease in performance indicates that the feature is more\n",
        "#important. This method provides a direct measure of feature importance without relying on a specific model.\n",
        "\n",
        "# Train the random forest classifier\n",
        "model = RandomForestClassifier(n_estimators=100, random_state=42)\n",
        "model.fit(train1_x, train1_y)\n",
        "\n",
        "# Calculate permutation importances\n",
        "result = permutation_importance(model, train1_x, train1_y, random_state=42)\n",
        "\n",
        "# Get feature importances\n",
        "importances = result.importances_mean\n",
        "\n",
        "# Sort feature importances in descending order\n",
        "sorted_indices = np.argsort(importances)[::-1]\n",
        "\n",
        "# Print feature importances\n",
        "for importance, feature in zip(importances[sorted_indices], np.array(feature_names)[sorted_indices]):\n",
        "    print(f\"Importance: {importance}, Feature: {feature}\")\n"
      ]
    },
    {
      "cell_type": "code",
      "execution_count": null,
      "metadata": {
        "colab": {
          "base_uri": "https://localhost:8080/",
          "height": 807
        },
        "id": "0rP-Fe9mVyy5",
        "outputId": "419a773b-6e2b-4287-cdb7-256fdc0304ac"
      },
      "outputs": [
        {
          "output_type": "display_data",
          "data": {
            "text/plain": [
              "<Figure size 1000x800 with 2 Axes>"
            ],
            "image/png": "[encoded data removed]"
          },
          "metadata": {}
        }
      ],
      "source": [
        "\n",
        "# Spearman's rank correlation\n",
        "\n",
        "corr_matrix = df1.corr(method='spearman')\n",
        "\n",
        "# Creating a figure and axes with adjusted size\n",
        "fig, ax = plt.subplots(figsize=(10, 8))\n",
        "\n",
        "# Visualizing Spearman's rank correlation with improved spacing\n",
        "sns.heatmap(corr_matrix, annot=True, cmap='coolwarm', ax=ax, fmt=\".2f\", annot_kws={\"size\": 10})\n",
        "\n",
        "# Rotating x-axis labels for better readability\n",
        "#plt.xticks(rotation=45)\n",
        "\n",
        "# Setting title and display the plot\n",
        "plt.title(\"Spearman's Rank Correlation\")\n",
        "plt.tight_layout()  # Adjusting spacing between subplots\n",
        "plt.show()\n"
      ]
    },
    {
      "cell_type": "code",
      "execution_count": null,
      "metadata": {
        "id": "CfaAtrekVyy5"
      },
      "outputs": [],
      "source": [
        "# Most important features : EMI/NMI, sumofincome, EMI, credit_history, loan_amount, dependents\n",
        "#Least important features : Gender, Education, Married"
      ]
    },
    {
      "cell_type": "markdown",
      "metadata": {
        "id": "CJg_G41gVyy5"
      },
      "source": [
        "# A Comparative Analysis of Classification Models"
      ]
    },
    {
      "cell_type": "code",
      "execution_count": null,
      "metadata": {
        "colab": {
          "base_uri": "https://localhost:8080/"
        },
        "id": "NNsK0SBAVyy5",
        "outputId": "75d782d1-f6d4-4b46-a1f2-a469e08c4bf0"
      },
      "outputs": [
        {
          "output_type": "stream",
          "name": "stdout",
          "text": [
            "+-------------+----------+\n",
            "| Metric      |    Value |\n",
            "+=============+==========+\n",
            "| Accuracy    | 0.786408 |\n",
            "+-------------+----------+\n",
            "| Precision   | 0.772727 |\n",
            "+-------------+----------+\n",
            "| F1 Score    | 0.860759 |\n",
            "+-------------+----------+\n",
            "| Sensitivity | 0.971429 |\n",
            "+-------------+----------+\n",
            "| Specificity | 0.393939 |\n",
            "+-------------+----------+\n",
            "| AUC-ROC     | 0.704329 |\n",
            "+-------------+----------+\n"
          ]
        }
      ],
      "source": [
        "##Build the model and train the model\n",
        "model = LogisticRegression()\n",
        "model.fit(train1_x,train1_y)\n",
        "predict=model.predict(test1_x)\n",
        "\n",
        "# Calculate predictions\n",
        "predict = model.predict(test1_x)\n",
        "\n",
        "# Accuracy\n",
        "accuracy1 = accuracy_score(test1_y, predict)\n",
        "\n",
        "# Precision\n",
        "precision1 = precision_score(test1_y, predict)\n",
        "\n",
        "# F1 Score\n",
        "f11 = f1_score(test1_y, predict)\n",
        "\n",
        "# Confusion Matrix\n",
        "conf_matrix = confusion_matrix(test1_y, predict)\n",
        "true_negative, false_positive, false_negative, true_positive = conf_matrix.ravel()\n",
        "\n",
        "# Sensitivity (True Positive Rate or Recall)\n",
        "sensitivity1 = true_positive / (true_positive + false_negative)\n",
        "\n",
        "# Specificity (True Negative Rate)\n",
        "specificity1 = true_negative / (true_negative + false_positive)\n",
        "\n",
        "# Area Under the ROC Curve (AUC-ROC)\n",
        "probabilities = model.predict_proba(test1_x)[:, 1]\n",
        "auc_roc1 = roc_auc_score(test1_y, probabilities)\n",
        "\n",
        "# Create the table\n",
        "table_data = [\n",
        "    [\"Accuracy\", accuracy1],\n",
        "    [\"Precision\", precision1],\n",
        "    [\"F1 Score\", f11],\n",
        "    [\"Sensitivity\", sensitivity1],\n",
        "    [\"Specificity\", specificity1],\n",
        "    [\"AUC-ROC\", auc_roc1]\n",
        "]\n",
        "\n",
        "# Print the table\n",
        "print(tabulate(table_data, headers=[\"Metric\", \"Value\"], tablefmt=\"grid\"))\n",
        "#Specificity is quite low"
      ]
    },
    {
      "cell_type": "code",
      "execution_count": null,
      "metadata": {
        "colab": {
          "base_uri": "https://localhost:8080/"
        },
        "id": "oo0h5p2pVyy6",
        "outputId": "8e124f65-bf6e-4e9b-e61a-5aa63be75216"
      },
      "outputs": [
        {
          "output_type": "stream",
          "name": "stdout",
          "text": [
            "+-------------+----------+\n",
            "| Metric      |    Value |\n",
            "+=============+==========+\n",
            "| Accuracy    | 0.834951 |\n",
            "+-------------+----------+\n",
            "| Precision   | 0.815217 |\n",
            "+-------------+----------+\n",
            "| F1 Score    | 0.898204 |\n",
            "+-------------+----------+\n",
            "| Sensitivity | 1        |\n",
            "+-------------+----------+\n",
            "| Specificity | 0.392857 |\n",
            "+-------------+----------+\n",
            "| AUC-ROC     | 0.700952 |\n",
            "+-------------+----------+\n"
          ]
        }
      ],
      "source": [
        "# By taking only most important features accuracy inreased for LogiticRegression.\n",
        "\n",
        "M = df1[['EMI/NMI', 'sumofincome', 'EMI', 'credit_history', 'loanamount' ,'dependents']]\n",
        "n = df1['loan_status']\n",
        "\n",
        "# Let's split the data into training and testing sets\n",
        "M_train, M_test, n_train, n_test = train_test_split(M, n, test_size=0.10, random_state= 1000)\n",
        "\n",
        "# Creating a Random Forest Classifier model\n",
        "model100 = LogisticRegression()\n",
        "\n",
        "# Training the model\n",
        "model100.fit(M_train, n_train)\n",
        "\n",
        "# Predict\n",
        "predict100=model100.predict(M_test)\n",
        "\n",
        "# Calculate predictions\n",
        "predict100 = model100.predict(M_test)\n",
        "\n",
        "# Accuracy\n",
        "accuracy2 = accuracy_score(n_test, predict100)\n",
        "\n",
        "# Precision\n",
        "precision2 = precision_score(n_test, predict100)\n",
        "\n",
        "# F1 Score\n",
        "f12 = f1_score(n_test, predict100)\n",
        "\n",
        "# Confusion Matrix\n",
        "conf_matrix = confusion_matrix(n_test, predict100)\n",
        "true_negative, false_positive, false_negative, true_positive = conf_matrix.ravel()\n",
        "\n",
        "# Sensitivity (True Positive Rate or Recall)\n",
        "sensitivity2 = true_positive / (true_positive + false_negative)\n",
        "\n",
        "# Specificity (True Negative Rate)\n",
        "specificity2 = true_negative / (true_negative + false_positive)\n",
        "\n",
        "# Area Under the ROC Curve (AUC-ROC)\n",
        "probabilities = model100.predict_proba(M_test)[:, 1]\n",
        "auc_roc2 = roc_auc_score(n_test, probabilities)\n",
        "# Create the table\n",
        "table_data = [\n",
        "    [\"Accuracy\", accuracy2],\n",
        "    [\"Precision\", precision2],\n",
        "    [\"F1 Score\", f12],\n",
        "    [\"Sensitivity\", sensitivity2],\n",
        "    [\"Specificity\", specificity2],\n",
        "    [\"AUC-ROC\", auc_roc2]\n",
        "]\n",
        "\n",
        "# Print the table\n",
        "print(tabulate(table_data, headers=[\"Metric\", \"Value\"], tablefmt=\"grid\"))\n",
        "#AUC > 0.5: The model has some discriminatory power and performs better than random guessing. The higher the AUC value\n",
        "#the better the model's ability to distinguish between positive and negative samples.\n",
        "\n",
        "#Specificity is still low.\n",
        "\n"
      ]
    },
    {
      "cell_type": "code",
      "execution_count": null,
      "metadata": {
        "colab": {
          "base_uri": "https://localhost:8080/"
        },
        "id": "l5eHvCU7Vyy6",
        "outputId": "9b7184ef-17a8-41ad-b292-fdf10e7db7e0"
      },
      "outputs": [
        {
          "output_type": "stream",
          "name": "stdout",
          "text": [
            "Optimization terminated successfully.\n",
            "         Current function value: 0.461679\n",
            "         Iterations 6\n",
            "Cox and Snell Pseudo R-squared: 0.2572934197554809\n"
          ]
        }
      ],
      "source": [
        "\n",
        "# Fit the logistic regression model\n",
        "logit_model = sm.Logit(n_train, sm.add_constant(M_train))\n",
        "logit_result = logit_model.fit()\n",
        "\n",
        "# Calculate Cox and Snell pseudo R-squared\n",
        "coxs_snell_pseudo_r2 = 1 - (logit_result.llf / logit_result.llnull)\n",
        "\n",
        "# Print the pseudo R-squared\n",
        "print(\"Cox and Snell Pseudo R-squared:\", coxs_snell_pseudo_r2)\n",
        "#The Cox and Snell pseudo R-squared value of 0.257 suggests that approximately 25.7% of the variation in the loan approval outcome can be explained by the predictor variables included in the model.\n"
      ]
    },
    {
      "cell_type": "code",
      "execution_count": null,
      "metadata": {
        "colab": {
          "base_uri": "https://localhost:8080/"
        },
        "id": "afG6oRgjVyy6",
        "outputId": "48d32edc-b3f6-445d-d1e5-a840f7046e03"
      },
      "outputs": [
        {
          "output_type": "stream",
          "name": "stdout",
          "text": [
            "+-------------+----------+\n",
            "| Metric      |    Value |\n",
            "+=============+==========+\n",
            "| Accuracy    | 0.68932  |\n",
            "+-------------+----------+\n",
            "| Precision   | 0.811594 |\n",
            "+-------------+----------+\n",
            "| Sensitivity | 0.746667 |\n",
            "+-------------+----------+\n",
            "| F1 Score    | 0.777778 |\n",
            "+-------------+----------+\n",
            "| Specificity | 0.392857 |\n",
            "+-------------+----------+\n",
            "| AUC-ROC     | 0.703333 |\n",
            "+-------------+----------+\n"
          ]
        }
      ],
      "source": [
        "#As specificity is low we will try undersampling, oversampling and SMOTE one by one.\n",
        "#Undersampling\n",
        "# Create an instance of RandomUnderSampler\n",
        "rus = RandomUnderSampler(random_state=42)\n",
        "\n",
        "# Perform random undersampling\n",
        "M_train_resampled, n_train_resampled = rus.fit_resample(M_train, n_train)\n",
        "\n",
        "# Train the model on the resampled data\n",
        "model3 = LogisticRegression()\n",
        "model3.fit(M_train_resampled, n_train_resampled)\n",
        "\n",
        "# Calculate predictions\n",
        "predict = model3.predict(M_test)\n",
        "\n",
        "# Calculate performance metrics\n",
        "accuracy3 = accuracy_score(n_test, predict)\n",
        "precision3 = precision_score(n_test, predict)\n",
        "recall3 = recall_score(n_test, predict)\n",
        "f13 = f1_score(n_test, predict)\n",
        "# Specificity (True Negative Rate)\n",
        "specificity3 = true_negative / (true_negative + false_positive)\n",
        "auc_roc3 = roc_auc_score(n_test, model3.predict_proba(M_test)[:, 1])\n",
        "\n",
        "# Print the performance metrics\n",
        "table_data = [\n",
        "    [\"Accuracy\", accuracy3],\n",
        "    [\"Precision\", precision3],\n",
        "    [\"Sensitivity\", recall3],\n",
        "    [\"F1 Score\", f13],\n",
        "    [\"Specificity\", specificity3],\n",
        "    [\"AUC-ROC\", auc_roc3]\n",
        "]\n",
        "\n",
        "# Print the table\n",
        "print(tabulate(table_data, headers=[\"Metric\", \"Value\"], tablefmt=\"grid\"))\n"
      ]
    },
    {
      "cell_type": "code",
      "execution_count": null,
      "metadata": {
        "colab": {
          "base_uri": "https://localhost:8080/"
        },
        "id": "KEEe8YnpVyy6",
        "outputId": "f51b9ee4-31af-4e5e-a8d1-a33b1387a796"
      },
      "outputs": [
        {
          "output_type": "stream",
          "name": "stdout",
          "text": [
            "+-------------+----------+\n",
            "| Metric      |    Value |\n",
            "+=============+==========+\n",
            "| Accuracy    | 0.504854 |\n",
            "+-------------+----------+\n",
            "| Precision   | 0.74     |\n",
            "+-------------+----------+\n",
            "| Sensitivity | 0.493333 |\n",
            "+-------------+----------+\n",
            "| F1 Score    | 0.592    |\n",
            "+-------------+----------+\n",
            "| Specificity | 0.392857 |\n",
            "+-------------+----------+\n",
            "| AUC-ROC     | 0.53381  |\n",
            "+-------------+----------+\n"
          ]
        }
      ],
      "source": [
        "#Oversampling\n",
        "# Create an instance of RandomOverSampler\n",
        "ros = RandomOverSampler(random_state=42)\n",
        "\n",
        "# Perform random oversampling\n",
        "M_train_resampled, n_train_resampled = ros.fit_resample(M_train, n_train)\n",
        "\n",
        "# Train the model on the resampled data\n",
        "model4 = LogisticRegression()\n",
        "model4.fit(M_train_resampled, n_train_resampled)\n",
        "\n",
        "# Calculate predictions\n",
        "predict = model4.predict(M_test)\n",
        "\n",
        "# Calculate performance metrics\n",
        "accuracy = accuracy_score(n_test, predict)\n",
        "precision = precision_score(n_test, predict)\n",
        "recall = recall_score(n_test, predict)\n",
        "f1 = f1_score(n_test, predict)\n",
        "specificity = true_negative / (true_negative + false_positive)\n",
        "auc_roc = roc_auc_score(n_test, model4.predict_proba(M_test)[:, 1])\n",
        "\n",
        "# Print the performance metrics\n",
        "table_data = [\n",
        "    [\"Accuracy\", accuracy],\n",
        "    [\"Precision\", precision],\n",
        "    [\"Sensitivity\", recall],\n",
        "    [\"F1 Score\", f1],\n",
        "    [\"Specificity\", specificity],\n",
        "    [\"AUC-ROC\", auc_roc]\n",
        "]\n",
        "\n",
        "# Print the table\n",
        "print(tabulate(table_data, headers=[\"Metric\", \"Value\"], tablefmt=\"grid\"))\n"
      ]
    },
    {
      "cell_type": "code",
      "execution_count": null,
      "metadata": {
        "colab": {
          "base_uri": "https://localhost:8080/"
        },
        "id": "eqlnVn6YVyy6",
        "outputId": "716de5fd-1f4b-4fa4-a8f4-f265e15b8de6"
      },
      "outputs": [
        {
          "output_type": "stream",
          "name": "stdout",
          "text": [
            "+-------------+----------+\n",
            "| Metric      |    Value |\n",
            "+=============+==========+\n",
            "| Accuracy    | 0.456311 |\n",
            "+-------------+----------+\n",
            "| Precision   | 0.702128 |\n",
            "+-------------+----------+\n",
            "| Sensitivity | 0.44     |\n",
            "+-------------+----------+\n",
            "| F1 Score    | 0.540984 |\n",
            "+-------------+----------+\n",
            "| Specificity | 0.392857 |\n",
            "+-------------+----------+\n",
            "| AUC-ROC     | 0.53381  |\n",
            "+-------------+----------+\n"
          ]
        }
      ],
      "source": [
        "#SMOTE (Synthetic Minority Over-sampling Technique)\n",
        "# Create an instance of SMOTE\n",
        "smote = SMOTE(random_state=42)\n",
        "\n",
        "# Perform SMOTE oversampling\n",
        "M_train_resampled, n_train_resampled = smote.fit_resample(M_train, n_train)\n",
        "\n",
        "# Train the model on the resampled data\n",
        "model5 = LogisticRegression()\n",
        "model5.fit(M_train_resampled, n_train_resampled)\n",
        "\n",
        "# Calculate predictions\n",
        "predict = model5.predict(M_test)\n",
        "\n",
        "# Calculate performance metrics\n",
        "accuracy = accuracy_score(n_test, predict)\n",
        "precision = precision_score(n_test, predict)\n",
        "recall = recall_score(n_test, predict)\n",
        "f1 = f1_score(n_test, predict)\n",
        "specificity = true_negative / (true_negative + false_positive)\n",
        "auc_roc = roc_auc_score(n_test, model4.predict_proba(M_test)[:, 1])\n",
        "\n",
        "# Print the performance metrics\n",
        "table_data = [\n",
        "    [\"Accuracy\", accuracy],\n",
        "    [\"Precision\", precision],\n",
        "    [\"Sensitivity\", recall],\n",
        "    [\"F1 Score\", f1],\n",
        "    [\"Specificity\", specificity],\n",
        "    [\"AUC-ROC\", auc_roc]\n",
        "]\n",
        "\n",
        "# Print the table\n",
        "print(tabulate(table_data, headers=[\"Metric\", \"Value\"], tablefmt=\"grid\"))\n"
      ]
    },
    {
      "cell_type": "code",
      "execution_count": null,
      "metadata": {
        "colab": {
          "base_uri": "https://localhost:8080/"
        },
        "id": "rhYgdOw2Vyy7",
        "outputId": "6c9674c2-a1db-4fab-aa56-5bef3e499ca7"
      },
      "outputs": [
        {
          "output_type": "stream",
          "name": "stdout",
          "text": [
            "+-------------+----------+\n",
            "| Metric      |    Value |\n",
            "+=============+==========+\n",
            "| Accuracy    | 0.786408 |\n",
            "+-------------+----------+\n",
            "| Precision   | 0.792683 |\n",
            "+-------------+----------+\n",
            "| F1 Score    | 0.855263 |\n",
            "+-------------+----------+\n",
            "| Sensitivity | 0.44     |\n",
            "+-------------+----------+\n",
            "| Specificity | 0.484848 |\n",
            "+-------------+----------+\n",
            "| AUC-ROC     | 0.781818 |\n",
            "+-------------+----------+\n"
          ]
        }
      ],
      "source": [
        "#As all above sampling methods failed to improve sensitivity so we will try another algorithms\n",
        "\n",
        "#RandomForestClassifier\n",
        "\n",
        "model2 = RandomForestClassifier(n_estimators=100, random_state=42)\n",
        "model2.fit(train1_x,train1_y)\n",
        "predict=model2.predict(test1_x)\n",
        "\n",
        "#Calculate accuracy\n",
        "accuracy3 = accuracy_score(test1_y, predict)\n",
        "\n",
        "# Calculate precision\n",
        "precision3 = precision_score(test1_y, predict)\n",
        "\n",
        "# Calculate recall\n",
        "recall3 = recall_score(test1_y, predict)\n",
        "\n",
        "# Calculate F1 score\n",
        "f13 = f1_score(test1_y, predict)\n",
        "\n",
        "# Calculate sensitivity (True Positive Rate or Recall)\n",
        "sensitivity3 = recall\n",
        "\n",
        "# Calculate specificity (True Negative Rate)\n",
        "tn, fp, fn, tp = confusion_matrix(test1_y, predict).ravel()\n",
        "specificity3 = tn / (tn + fp)\n",
        "\n",
        "# Calculate AUC-ROC\n",
        "probabilities = model2.predict_proba(test1_x)[:, 1]\n",
        "auc_roc3 = roc_auc_score(test1_y, probabilities)\n",
        "\n",
        "table_data = [\n",
        "    [\"Accuracy\", accuracy3],\n",
        "    [\"Precision\", precision3],\n",
        "    [\"F1 Score\", f13],\n",
        "    [\"Sensitivity\", sensitivity3],\n",
        "    [\"Specificity\", specificity3],\n",
        "    [\"AUC-ROC\", auc_roc3]\n",
        "]\n",
        "\n",
        "# Print the table\n",
        "print(tabulate(table_data, headers=[\"Metric\", \"Value\"], tablefmt=\"grid\"))\n",
        "\n"
      ]
    },
    {
      "cell_type": "code",
      "execution_count": null,
      "metadata": {
        "colab": {
          "base_uri": "https://localhost:8080/"
        },
        "id": "Adb7p8uMVyy7",
        "outputId": "57db4a93-c856-46d1-e6d6-8aa9a0aa029d"
      },
      "outputs": [
        {
          "output_type": "stream",
          "name": "stdout",
          "text": [
            "+-------------+----------+\n",
            "| Metric      |    Value |\n",
            "+=============+==========+\n",
            "| Accuracy    | 0.873786 |\n",
            "+-------------+----------+\n",
            "| Precision   | 0.844156 |\n",
            "+-------------+----------+\n",
            "| F1 Score    | 0.909091 |\n",
            "+-------------+----------+\n",
            "| Sensitivity | 0.984848 |\n",
            "+-------------+----------+\n",
            "| Specificity | 0.675676 |\n",
            "+-------------+----------+\n",
            "| AUC-ROC     | 0.937142 |\n",
            "+-------------+----------+\n"
          ]
        }
      ],
      "source": [
        "# By taking only important features, accuracy inreased for RandomForestClassifier.\n",
        "\n",
        "M = df1[['EMI/NMI','EMI', 'sumofincome','credit_history', 'loanamount', 'dependents']]\n",
        "n = df1['loan_status']\n",
        "\n",
        "# Let's split the data into training and testing sets\n",
        "M_train, M_test, n_train, n_test = train_test_split(M, n, test_size=0.1, random_state=42)\n",
        "\n",
        "# Creating a Random Forest Classifier model\n",
        "model200 = RandomForestClassifier(n_estimators=100, random_state=42)\n",
        "\n",
        "# Training the model\n",
        "model200.fit(M_train, n_train)\n",
        "\n",
        "# Predict\n",
        "predict200=model200.predict(M_test)\n",
        "\n",
        "# Calculate predictions\n",
        "predict200 = model200.predict(M_test)\n",
        "\n",
        "# Accuracy\n",
        "accuracy4 = accuracy_score(n_test, predict200)\n",
        "\n",
        "# Precision\n",
        "precision4 = precision_score(n_test, predict200)\n",
        "\n",
        "# Recall\n",
        "recall4 = recall_score(n_test, predict200)\n",
        "\n",
        "# F1 Score\n",
        "f14 = f1_score(n_test, predict200)\n",
        "\n",
        "# Confusion Matrix\n",
        "conf_matrix = confusion_matrix(n_test, predict200)\n",
        "true_negative, false_positive, false_negative, true_positive = conf_matrix.ravel()\n",
        "\n",
        "# Sensitivity (True Positive Rate or Recall)\n",
        "sensitivity4 = true_positive / (true_positive + false_negative)\n",
        "\n",
        "# Specificity (True Negative Rate)\n",
        "specificity4 = true_negative / (true_negative + false_positive)\n",
        "\n",
        "# Area Under the ROC Curve (AUC-ROC)\n",
        "probabilities = model200.predict_proba(M_test)[:, 1]\n",
        "auc_roc4 = roc_auc_score(n_test, probabilities)\n",
        "\n",
        "table_data = [\n",
        "    [\"Accuracy\", accuracy4],\n",
        "    [\"Precision\", precision4],\n",
        "    [\"F1 Score\", f14],\n",
        "    [\"Sensitivity\", sensitivity4],\n",
        "    [\"Specificity\", specificity4],\n",
        "    [\"AUC-ROC\", auc_roc4]\n",
        "]\n",
        "\n",
        "# Print the table\n",
        "print(tabulate(table_data, headers=[\"Metric\", \"Value\"], tablefmt=\"grid\"))\n",
        "\n",
        "\n",
        "\n"
      ]
    },
    {
      "cell_type": "code",
      "execution_count": null,
      "metadata": {
        "id": "0j9bWLl5Vyy7"
      },
      "outputs": [],
      "source": [
        "#\"After exploring multiple techniques including oversampling, undersampling, and SMOTE, the logistic regression model\n",
        "#did not exhibit satisfactory performance, especially in terms of specificity (True Negative Rate). To address this\n",
        "#issue and mitigate potential financial implications, we implemented the random forest model. The random forest model\n",
        "#demonstrated significant improvements across all metrics, particularly in specificity, making it a more suitable\n",
        "#choice for loan approval prediction.\""
      ]
    },
    {
      "cell_type": "code",
      "execution_count": null,
      "metadata": {
        "colab": {
          "base_uri": "https://localhost:8080/"
        },
        "id": "BPsdyrF2Vyy7",
        "outputId": "63bd5576-5c31-433a-b4dd-44e0403b2b71"
      },
      "outputs": [
        {
          "output_type": "stream",
          "name": "stdout",
          "text": [
            "Collecting optuna\n",
            "  Downloading optuna-3.2.0-py3-none-any.whl (390 kB)\n",
            "\u001b[2K     \u001b[90m━━━━━━━━━━━━━━━━━━━━━━━━━━━━━━━━━━━━━━━\u001b[0m \u001b[32m390.6/390.6 kB\u001b[0m \u001b[31m9.5 MB/s\u001b[0m eta \u001b[36m0:00:00\u001b[0m\n",
            "\u001b[?25hCollecting alembic>=1.5.0 (from optuna)\n",
            "  Downloading alembic-1.11.1-py3-none-any.whl (224 kB)\n",
            "\u001b[2K     \u001b[90m━━━━━━━━━━━━━━━━━━━━━━━━━━━━━━━━━━━━━━\u001b[0m \u001b[32m224.5/224.5 kB\u001b[0m \u001b[31m20.6 MB/s\u001b[0m eta \u001b[36m0:00:00\u001b[0m\n",
            "\u001b[?25hCollecting cmaes>=0.9.1 (from optuna)\n",
            "  Downloading cmaes-0.9.1-py3-none-any.whl (21 kB)\n",
            "Collecting colorlog (from optuna)\n",
            "  Downloading colorlog-6.7.0-py2.py3-none-any.whl (11 kB)\n",
            "Requirement already satisfied: numpy in /usr/local/lib/python3.10/dist-packages (from optuna) (1.22.4)\n",
            "Requirement already satisfied: packaging>=20.0 in /usr/local/lib/python3.10/dist-packages (from optuna) (23.1)\n",
            "Requirement already satisfied: sqlalchemy>=1.3.0 in /usr/local/lib/python3.10/dist-packages (from optuna) (2.0.16)\n",
            "Requirement already satisfied: tqdm in /usr/local/lib/python3.10/dist-packages (from optuna) (4.65.0)\n",
            "Requirement already satisfied: PyYAML in /usr/local/lib/python3.10/dist-packages (from optuna) (6.0)\n",
            "Collecting Mako (from alembic>=1.5.0->optuna)\n",
            "  Downloading Mako-1.2.4-py3-none-any.whl (78 kB)\n",
            "\u001b[2K     \u001b[90m━━━━━━━━━━━━━━━━━━━━━━━━━━━━━━━━━━━━━━━━\u001b[0m \u001b[32m78.7/78.7 kB\u001b[0m \u001b[31m8.2 MB/s\u001b[0m eta \u001b[36m0:00:00\u001b[0m\n",
            "\u001b[?25hRequirement already satisfied: typing-extensions>=4 in /usr/local/lib/python3.10/dist-packages (from alembic>=1.5.0->optuna) (4.6.3)\n",
            "Requirement already satisfied: greenlet!=0.4.17 in /usr/local/lib/python3.10/dist-packages (from sqlalchemy>=1.3.0->optuna) (2.0.2)\n",
            "Requirement already satisfied: MarkupSafe>=0.9.2 in /usr/local/lib/python3.10/dist-packages (from Mako->alembic>=1.5.0->optuna) (2.1.3)\n",
            "Installing collected packages: Mako, colorlog, cmaes, alembic, optuna\n",
            "Successfully installed Mako-1.2.4 alembic-1.11.1 cmaes-0.9.1 colorlog-6.7.0 optuna-3.2.0\n"
          ]
        }
      ],
      "source": [
        "!pip install optuna\n",
        "import optuna\n"
      ]
    },
    {
      "cell_type": "code",
      "execution_count": null,
      "metadata": {
        "scrolled": true,
        "colab": {
          "base_uri": "https://localhost:8080/"
        },
        "id": "HwSGn-CIVyy7",
        "outputId": "93c7d2b1-2cd3-4027-df60-04c6dbf1f6d0"
      },
      "outputs": [
        {
          "output_type": "stream",
          "name": "stderr",
          "text": [
            "[I 2023-07-09 10:54:59,587] A new study created in memory with name: no-name-5145d368-065e-40d6-a20e-5a24bc564deb\n",
            "[I 2023-07-09 10:55:01,104] Trial 0 finished with value: 0.7766990291262136 and parameters: {'n_estimators': 300, 'max_depth': 4, 'min_samples_split': 5}. Best is trial 0 with value: 0.7766990291262136.\n",
            "[I 2023-07-09 10:55:02,650] Trial 1 finished with value: 0.7961165048543689 and parameters: {'n_estimators': 500, 'max_depth': 7, 'min_samples_split': 9}. Best is trial 1 with value: 0.7961165048543689.\n",
            "[I 2023-07-09 10:55:06,541] Trial 2 finished with value: 0.7864077669902912 and parameters: {'n_estimators': 1000, 'max_depth': 16, 'min_samples_split': 10}. Best is trial 1 with value: 0.7961165048543689.\n",
            "[I 2023-07-09 10:55:06,997] Trial 3 finished with value: 0.7961165048543689 and parameters: {'n_estimators': 100, 'max_depth': 14, 'min_samples_split': 10}. Best is trial 1 with value: 0.7961165048543689.\n",
            "[I 2023-07-09 10:55:09,151] Trial 4 finished with value: 0.7961165048543689 and parameters: {'n_estimators': 400, 'max_depth': 13, 'min_samples_split': 2}. Best is trial 1 with value: 0.7961165048543689.\n",
            "[I 2023-07-09 10:55:11,285] Trial 5 finished with value: 0.7961165048543689 and parameters: {'n_estimators': 500, 'max_depth': 7, 'min_samples_split': 6}. Best is trial 1 with value: 0.7961165048543689.\n",
            "[I 2023-07-09 10:55:11,834] Trial 6 finished with value: 0.7766990291262136 and parameters: {'n_estimators': 100, 'max_depth': 17, 'min_samples_split': 2}. Best is trial 1 with value: 0.7961165048543689.\n",
            "[I 2023-07-09 10:55:15,984] Trial 7 finished with value: 0.7864077669902912 and parameters: {'n_estimators': 800, 'max_depth': 10, 'min_samples_split': 5}. Best is trial 1 with value: 0.7961165048543689.\n",
            "[I 2023-07-09 10:55:19,309] Trial 8 finished with value: 0.7961165048543689 and parameters: {'n_estimators': 400, 'max_depth': 6, 'min_samples_split': 8}. Best is trial 1 with value: 0.7961165048543689.\n",
            "[I 2023-07-09 10:55:20,537] Trial 9 finished with value: 0.7864077669902912 and parameters: {'n_estimators': 200, 'max_depth': 16, 'min_samples_split': 5}. Best is trial 1 with value: 0.7961165048543689.\n",
            "[I 2023-07-09 10:55:23,831] Trial 10 finished with value: 0.7864077669902912 and parameters: {'n_estimators': 700, 'max_depth': 9, 'min_samples_split': 8}. Best is trial 1 with value: 0.7961165048543689.\n",
            "[I 2023-07-09 10:55:28,393] Trial 11 finished with value: 0.7864077669902912 and parameters: {'n_estimators': 700, 'max_depth': 20, 'min_samples_split': 10}. Best is trial 1 with value: 0.7961165048543689.\n",
            "[I 2023-07-09 10:55:28,907] Trial 12 finished with value: 0.7766990291262136 and parameters: {'n_estimators': 100, 'max_depth': 13, 'min_samples_split': 8}. Best is trial 1 with value: 0.7961165048543689.\n",
            "[I 2023-07-09 10:55:34,949] Trial 13 finished with value: 0.7961165048543689 and parameters: {'n_estimators': 600, 'max_depth': 11, 'min_samples_split': 9}. Best is trial 1 with value: 0.7961165048543689.\n",
            "[I 2023-07-09 10:55:39,448] Trial 14 finished with value: 0.8058252427184466 and parameters: {'n_estimators': 1000, 'max_depth': 7, 'min_samples_split': 10}. Best is trial 14 with value: 0.8058252427184466.\n",
            "[I 2023-07-09 10:55:42,463] Trial 15 finished with value: 0.7766990291262136 and parameters: {'n_estimators': 1000, 'max_depth': 4, 'min_samples_split': 7}. Best is trial 14 with value: 0.8058252427184466.\n",
            "[I 2023-07-09 10:55:45,289] Trial 16 finished with value: 0.7864077669902912 and parameters: {'n_estimators': 800, 'max_depth': 7, 'min_samples_split': 9}. Best is trial 14 with value: 0.8058252427184466.\n",
            "[I 2023-07-09 10:55:46,522] Trial 17 finished with value: 0.7961165048543689 and parameters: {'n_estimators': 500, 'max_depth': 8, 'min_samples_split': 9}. Best is trial 14 with value: 0.8058252427184466.\n",
            "[I 2023-07-09 10:55:48,211] Trial 18 finished with value: 0.7766990291262136 and parameters: {'n_estimators': 900, 'max_depth': 3, 'min_samples_split': 7}. Best is trial 14 with value: 0.8058252427184466.\n",
            "[I 2023-07-09 10:55:49,437] Trial 19 finished with value: 0.7961165048543689 and parameters: {'n_estimators': 600, 'max_depth': 5, 'min_samples_split': 3}. Best is trial 14 with value: 0.8058252427184466.\n",
            "[I 2023-07-09 10:55:50,360] Trial 20 finished with value: 0.7961165048543689 and parameters: {'n_estimators': 400, 'max_depth': 9, 'min_samples_split': 7}. Best is trial 14 with value: 0.8058252427184466.\n",
            "[I 2023-07-09 10:55:50,850] Trial 21 finished with value: 0.7864077669902912 and parameters: {'n_estimators': 200, 'max_depth': 12, 'min_samples_split': 10}. Best is trial 14 with value: 0.8058252427184466.\n",
            "[I 2023-07-09 10:55:51,588] Trial 22 finished with value: 0.7864077669902912 and parameters: {'n_estimators': 300, 'max_depth': 14, 'min_samples_split': 10}. Best is trial 14 with value: 0.8058252427184466.\n",
            "[I 2023-07-09 10:55:53,685] Trial 23 finished with value: 0.7864077669902912 and parameters: {'n_estimators': 900, 'max_depth': 11, 'min_samples_split': 9}. Best is trial 14 with value: 0.8058252427184466.\n",
            "[I 2023-07-09 10:55:55,376] Trial 24 finished with value: 0.7864077669902912 and parameters: {'n_estimators': 700, 'max_depth': 15, 'min_samples_split': 10}. Best is trial 14 with value: 0.8058252427184466.\n",
            "[I 2023-07-09 10:55:56,414] Trial 25 finished with value: 0.7864077669902912 and parameters: {'n_estimators': 300, 'max_depth': 18, 'min_samples_split': 9}. Best is trial 14 with value: 0.8058252427184466.\n",
            "[I 2023-07-09 10:55:57,131] Trial 26 finished with value: 0.7961165048543689 and parameters: {'n_estimators': 200, 'max_depth': 7, 'min_samples_split': 8}. Best is trial 14 with value: 0.8058252427184466.\n",
            "[I 2023-07-09 10:55:59,791] Trial 27 finished with value: 0.7864077669902912 and parameters: {'n_estimators': 900, 'max_depth': 9, 'min_samples_split': 10}. Best is trial 14 with value: 0.8058252427184466.\n",
            "[I 2023-07-09 10:56:00,832] Trial 28 finished with value: 0.7961165048543689 and parameters: {'n_estimators': 500, 'max_depth': 5, 'min_samples_split': 9}. Best is trial 14 with value: 0.8058252427184466.\n",
            "[I 2023-07-09 10:56:02,348] Trial 29 finished with value: 0.7864077669902912 and parameters: {'n_estimators': 800, 'max_depth': 3, 'min_samples_split': 6}. Best is trial 14 with value: 0.8058252427184466.\n",
            "[I 2023-07-09 10:56:03,820] Trial 30 finished with value: 0.7864077669902912 and parameters: {'n_estimators': 600, 'max_depth': 12, 'min_samples_split': 4}. Best is trial 14 with value: 0.8058252427184466.\n",
            "[I 2023-07-09 10:56:04,853] Trial 31 finished with value: 0.7864077669902912 and parameters: {'n_estimators': 400, 'max_depth': 14, 'min_samples_split': 2}. Best is trial 14 with value: 0.8058252427184466.\n",
            "[I 2023-07-09 10:56:05,868] Trial 32 finished with value: 0.8058252427184466 and parameters: {'n_estimators': 400, 'max_depth': 14, 'min_samples_split': 3}. Best is trial 14 with value: 0.8058252427184466.\n",
            "[I 2023-07-09 10:56:06,638] Trial 33 finished with value: 0.7961165048543689 and parameters: {'n_estimators': 300, 'max_depth': 15, 'min_samples_split': 4}. Best is trial 14 with value: 0.8058252427184466.\n",
            "[I 2023-07-09 10:56:07,901] Trial 34 finished with value: 0.7961165048543689 and parameters: {'n_estimators': 500, 'max_depth': 18, 'min_samples_split': 3}. Best is trial 14 with value: 0.8058252427184466.\n",
            "[I 2023-07-09 10:56:08,168] Trial 35 finished with value: 0.7864077669902912 and parameters: {'n_estimators': 100, 'max_depth': 10, 'min_samples_split': 10}. Best is trial 14 with value: 0.8058252427184466.\n",
            "[I 2023-07-09 10:56:09,482] Trial 36 finished with value: 0.7961165048543689 and parameters: {'n_estimators': 400, 'max_depth': 13, 'min_samples_split': 4}. Best is trial 14 with value: 0.8058252427184466.\n",
            "[I 2023-07-09 10:56:12,436] Trial 37 finished with value: 0.7864077669902912 and parameters: {'n_estimators': 1000, 'max_depth': 6, 'min_samples_split': 6}. Best is trial 14 with value: 0.8058252427184466.\n",
            "[I 2023-07-09 10:56:13,678] Trial 38 finished with value: 0.7864077669902912 and parameters: {'n_estimators': 500, 'max_depth': 16, 'min_samples_split': 10}. Best is trial 14 with value: 0.8058252427184466.\n",
            "[I 2023-07-09 10:56:14,193] Trial 39 finished with value: 0.7864077669902912 and parameters: {'n_estimators': 200, 'max_depth': 14, 'min_samples_split': 8}. Best is trial 14 with value: 0.8058252427184466.\n",
            "[I 2023-07-09 10:56:15,620] Trial 40 finished with value: 0.7864077669902912 and parameters: {'n_estimators': 600, 'max_depth': 10, 'min_samples_split': 3}. Best is trial 14 with value: 0.8058252427184466.\n",
            "[I 2023-07-09 10:56:16,640] Trial 41 finished with value: 0.7961165048543689 and parameters: {'n_estimators': 400, 'max_depth': 13, 'min_samples_split': 2}. Best is trial 14 with value: 0.8058252427184466.\n",
            "[I 2023-07-09 10:56:17,434] Trial 42 finished with value: 0.7864077669902912 and parameters: {'n_estimators': 300, 'max_depth': 15, 'min_samples_split': 2}. Best is trial 14 with value: 0.8058252427184466.\n",
            "[I 2023-07-09 10:56:18,473] Trial 43 finished with value: 0.7864077669902912 and parameters: {'n_estimators': 400, 'max_depth': 17, 'min_samples_split': 3}. Best is trial 14 with value: 0.8058252427184466.\n",
            "[I 2023-07-09 10:56:20,055] Trial 44 finished with value: 0.7864077669902912 and parameters: {'n_estimators': 700, 'max_depth': 8, 'min_samples_split': 5}. Best is trial 14 with value: 0.8058252427184466.\n",
            "[I 2023-07-09 10:56:21,458] Trial 45 finished with value: 0.7961165048543689 and parameters: {'n_estimators': 500, 'max_depth': 12, 'min_samples_split': 2}. Best is trial 14 with value: 0.8058252427184466.\n",
            "[I 2023-07-09 10:56:21,758] Trial 46 finished with value: 0.7961165048543689 and parameters: {'n_estimators': 100, 'max_depth': 11, 'min_samples_split': 9}. Best is trial 14 with value: 0.8058252427184466.\n",
            "[I 2023-07-09 10:56:23,690] Trial 47 finished with value: 0.7864077669902912 and parameters: {'n_estimators': 500, 'max_depth': 13, 'min_samples_split': 10}. Best is trial 14 with value: 0.8058252427184466.\n",
            "[I 2023-07-09 10:56:24,419] Trial 48 finished with value: 0.7961165048543689 and parameters: {'n_estimators': 200, 'max_depth': 6, 'min_samples_split': 8}. Best is trial 14 with value: 0.8058252427184466.\n",
            "[I 2023-07-09 10:56:25,939] Trial 49 finished with value: 0.7864077669902912 and parameters: {'n_estimators': 600, 'max_depth': 8, 'min_samples_split': 5}. Best is trial 14 with value: 0.8058252427184466.\n",
            "[I 2023-07-09 10:56:26,965] Trial 50 finished with value: 0.7864077669902912 and parameters: {'n_estimators': 400, 'max_depth': 20, 'min_samples_split': 3}. Best is trial 14 with value: 0.8058252427184466.\n",
            "[I 2023-07-09 10:56:27,650] Trial 51 finished with value: 0.7961165048543689 and parameters: {'n_estimators': 300, 'max_depth': 7, 'min_samples_split': 7}. Best is trial 14 with value: 0.8058252427184466.\n",
            "[I 2023-07-09 10:56:29,183] Trial 52 finished with value: 0.7864077669902912 and parameters: {'n_estimators': 700, 'max_depth': 6, 'min_samples_split': 6}. Best is trial 14 with value: 0.8058252427184466.\n",
            "[I 2023-07-09 10:56:29,999] Trial 53 finished with value: 0.7766990291262136 and parameters: {'n_estimators': 400, 'max_depth': 4, 'min_samples_split': 4}. Best is trial 14 with value: 0.8058252427184466.\n",
            "[I 2023-07-09 10:56:31,656] Trial 54 finished with value: 0.7961165048543689 and parameters: {'n_estimators': 800, 'max_depth': 5, 'min_samples_split': 9}. Best is trial 14 with value: 0.8058252427184466.\n",
            "[I 2023-07-09 10:56:33,162] Trial 55 finished with value: 0.7961165048543689 and parameters: {'n_estimators': 500, 'max_depth': 16, 'min_samples_split': 9}. Best is trial 14 with value: 0.8058252427184466.\n",
            "[I 2023-07-09 10:56:34,895] Trial 56 finished with value: 0.7961165048543689 and parameters: {'n_estimators': 600, 'max_depth': 10, 'min_samples_split': 10}. Best is trial 14 with value: 0.8058252427184466.\n",
            "[I 2023-07-09 10:56:36,005] Trial 57 finished with value: 0.8058252427184466 and parameters: {'n_estimators': 300, 'max_depth': 8, 'min_samples_split': 2}. Best is trial 14 with value: 0.8058252427184466.\n",
            "[I 2023-07-09 10:56:37,123] Trial 58 finished with value: 0.8058252427184466 and parameters: {'n_estimators': 300, 'max_depth': 8, 'min_samples_split': 2}. Best is trial 14 with value: 0.8058252427184466.\n",
            "[I 2023-07-09 10:56:38,139] Trial 59 finished with value: 0.8058252427184466 and parameters: {'n_estimators': 300, 'max_depth': 8, 'min_samples_split': 2}. Best is trial 14 with value: 0.8058252427184466.\n",
            "[I 2023-07-09 10:56:38,851] Trial 60 finished with value: 0.8058252427184466 and parameters: {'n_estimators': 300, 'max_depth': 8, 'min_samples_split': 2}. Best is trial 14 with value: 0.8058252427184466.\n",
            "[I 2023-07-09 10:56:39,573] Trial 61 finished with value: 0.8058252427184466 and parameters: {'n_estimators': 300, 'max_depth': 8, 'min_samples_split': 2}. Best is trial 14 with value: 0.8058252427184466.\n",
            "[I 2023-07-09 10:56:40,254] Trial 62 finished with value: 0.8058252427184466 and parameters: {'n_estimators': 300, 'max_depth': 8, 'min_samples_split': 2}. Best is trial 14 with value: 0.8058252427184466.\n",
            "[I 2023-07-09 10:56:40,763] Trial 63 finished with value: 0.7864077669902912 and parameters: {'n_estimators': 200, 'max_depth': 9, 'min_samples_split': 2}. Best is trial 14 with value: 0.8058252427184466.\n",
            "[I 2023-07-09 10:56:41,472] Trial 64 finished with value: 0.8058252427184466 and parameters: {'n_estimators': 300, 'max_depth': 8, 'min_samples_split': 2}. Best is trial 14 with value: 0.8058252427184466.\n",
            "[I 2023-07-09 10:56:42,211] Trial 65 finished with value: 0.7864077669902912 and parameters: {'n_estimators': 300, 'max_depth': 9, 'min_samples_split': 3}. Best is trial 14 with value: 0.8058252427184466.\n",
            "[I 2023-07-09 10:56:42,680] Trial 66 finished with value: 0.7961165048543689 and parameters: {'n_estimators': 200, 'max_depth': 7, 'min_samples_split': 2}. Best is trial 14 with value: 0.8058252427184466.\n",
            "[I 2023-07-09 10:56:43,352] Trial 67 finished with value: 0.7961165048543689 and parameters: {'n_estimators': 300, 'max_depth': 7, 'min_samples_split': 3}. Best is trial 14 with value: 0.8058252427184466.\n",
            "[I 2023-07-09 10:56:43,841] Trial 68 finished with value: 0.7864077669902912 and parameters: {'n_estimators': 200, 'max_depth': 9, 'min_samples_split': 2}. Best is trial 14 with value: 0.8058252427184466.\n",
            "[I 2023-07-09 10:56:44,768] Trial 69 finished with value: 0.7961165048543689 and parameters: {'n_estimators': 400, 'max_depth': 8, 'min_samples_split': 3}. Best is trial 14 with value: 0.8058252427184466.\n",
            "[I 2023-07-09 10:56:45,447] Trial 70 finished with value: 0.8058252427184466 and parameters: {'n_estimators': 300, 'max_depth': 7, 'min_samples_split': 2}. Best is trial 14 with value: 0.8058252427184466.\n",
            "[I 2023-07-09 10:56:46,137] Trial 71 finished with value: 0.8058252427184466 and parameters: {'n_estimators': 300, 'max_depth': 8, 'min_samples_split': 2}. Best is trial 14 with value: 0.8058252427184466.\n",
            "[I 2023-07-09 10:56:46,864] Trial 72 finished with value: 0.7961165048543689 and parameters: {'n_estimators': 300, 'max_depth': 10, 'min_samples_split': 2}. Best is trial 14 with value: 0.8058252427184466.\n",
            "[I 2023-07-09 10:56:47,568] Trial 73 finished with value: 0.8058252427184466 and parameters: {'n_estimators': 300, 'max_depth': 9, 'min_samples_split': 2}. Best is trial 14 with value: 0.8058252427184466.\n",
            "[I 2023-07-09 10:56:48,088] Trial 74 finished with value: 0.8058252427184466 and parameters: {'n_estimators': 200, 'max_depth': 6, 'min_samples_split': 3}. Best is trial 14 with value: 0.8058252427184466.\n",
            "[I 2023-07-09 10:56:48,867] Trial 75 finished with value: 0.8058252427184466 and parameters: {'n_estimators': 200, 'max_depth': 8, 'min_samples_split': 2}. Best is trial 14 with value: 0.8058252427184466.\n",
            "[I 2023-07-09 10:56:50,308] Trial 76 finished with value: 0.7961165048543689 and parameters: {'n_estimators': 400, 'max_depth': 7, 'min_samples_split': 3}. Best is trial 14 with value: 0.8058252427184466.\n",
            "[I 2023-07-09 10:56:51,365] Trial 77 finished with value: 0.7961165048543689 and parameters: {'n_estimators': 300, 'max_depth': 10, 'min_samples_split': 2}. Best is trial 14 with value: 0.8058252427184466.\n",
            "[I 2023-07-09 10:56:52,242] Trial 78 finished with value: 0.7961165048543689 and parameters: {'n_estimators': 400, 'max_depth': 5, 'min_samples_split': 3}. Best is trial 14 with value: 0.8058252427184466.\n",
            "[I 2023-07-09 10:56:52,994] Trial 79 finished with value: 0.7961165048543689 and parameters: {'n_estimators': 300, 'max_depth': 11, 'min_samples_split': 2}. Best is trial 14 with value: 0.8058252427184466.\n",
            "[I 2023-07-09 10:56:53,480] Trial 80 finished with value: 0.7961165048543689 and parameters: {'n_estimators': 200, 'max_depth': 8, 'min_samples_split': 4}. Best is trial 14 with value: 0.8058252427184466.\n",
            "[I 2023-07-09 10:56:54,212] Trial 81 finished with value: 0.8058252427184466 and parameters: {'n_estimators': 300, 'max_depth': 9, 'min_samples_split': 2}. Best is trial 14 with value: 0.8058252427184466.\n",
            "[I 2023-07-09 10:56:54,918] Trial 82 finished with value: 0.8058252427184466 and parameters: {'n_estimators': 300, 'max_depth': 8, 'min_samples_split': 2}. Best is trial 14 with value: 0.8058252427184466.\n",
            "[I 2023-07-09 10:56:55,821] Trial 83 finished with value: 0.7961165048543689 and parameters: {'n_estimators': 400, 'max_depth': 7, 'min_samples_split': 2}. Best is trial 14 with value: 0.8058252427184466.\n",
            "[I 2023-07-09 10:56:56,605] Trial 84 finished with value: 0.8058252427184466 and parameters: {'n_estimators': 300, 'max_depth': 8, 'min_samples_split': 3}. Best is trial 14 with value: 0.8058252427184466.\n",
            "[I 2023-07-09 10:56:58,028] Trial 85 finished with value: 0.7961165048543689 and parameters: {'n_estimators': 400, 'max_depth': 6, 'min_samples_split': 2}. Best is trial 14 with value: 0.8058252427184466.\n",
            "[I 2023-07-09 10:56:59,199] Trial 86 finished with value: 0.8058252427184466 and parameters: {'n_estimators': 300, 'max_depth': 9, 'min_samples_split': 2}. Best is trial 14 with value: 0.8058252427184466.\n",
            "[I 2023-07-09 10:56:59,594] Trial 87 finished with value: 0.7864077669902912 and parameters: {'n_estimators': 100, 'max_depth': 7, 'min_samples_split': 3}. Best is trial 14 with value: 0.8058252427184466.\n",
            "[I 2023-07-09 10:57:00,108] Trial 88 finished with value: 0.8058252427184466 and parameters: {'n_estimators': 200, 'max_depth': 8, 'min_samples_split': 2}. Best is trial 14 with value: 0.8058252427184466.\n",
            "[I 2023-07-09 10:57:00,787] Trial 89 finished with value: 0.8058252427184466 and parameters: {'n_estimators': 300, 'max_depth': 6, 'min_samples_split': 2}. Best is trial 14 with value: 0.8058252427184466.\n",
            "[I 2023-07-09 10:57:01,366] Trial 90 finished with value: 0.7864077669902912 and parameters: {'n_estimators': 200, 'max_depth': 9, 'min_samples_split': 3}. Best is trial 14 with value: 0.8058252427184466.\n",
            "[I 2023-07-09 10:57:02,445] Trial 91 finished with value: 0.8058252427184466 and parameters: {'n_estimators': 300, 'max_depth': 7, 'min_samples_split': 2}. Best is trial 14 with value: 0.8058252427184466.\n",
            "[I 2023-07-09 10:57:03,561] Trial 92 finished with value: 0.8058252427184466 and parameters: {'n_estimators': 300, 'max_depth': 7, 'min_samples_split': 2}. Best is trial 14 with value: 0.8058252427184466.\n",
            "[I 2023-07-09 10:57:06,105] Trial 93 finished with value: 0.7961165048543689 and parameters: {'n_estimators': 1000, 'max_depth': 8, 'min_samples_split': 2}. Best is trial 14 with value: 0.8058252427184466.\n",
            "[I 2023-07-09 10:57:08,008] Trial 94 finished with value: 0.7961165048543689 and parameters: {'n_estimators': 900, 'max_depth': 6, 'min_samples_split': 2}. Best is trial 14 with value: 0.8058252427184466.\n",
            "[I 2023-07-09 10:57:08,899] Trial 95 finished with value: 0.7961165048543689 and parameters: {'n_estimators': 400, 'max_depth': 7, 'min_samples_split': 7}. Best is trial 14 with value: 0.8058252427184466.\n",
            "[I 2023-07-09 10:57:09,636] Trial 96 finished with value: 0.7864077669902912 and parameters: {'n_estimators': 300, 'max_depth': 9, 'min_samples_split': 3}. Best is trial 14 with value: 0.8058252427184466.\n",
            "[I 2023-07-09 10:57:10,568] Trial 97 finished with value: 0.7961165048543689 and parameters: {'n_estimators': 400, 'max_depth': 8, 'min_samples_split': 2}. Best is trial 14 with value: 0.8058252427184466.\n",
            "[I 2023-07-09 10:57:11,042] Trial 98 finished with value: 0.7961165048543689 and parameters: {'n_estimators': 200, 'max_depth': 7, 'min_samples_split': 2}. Best is trial 14 with value: 0.8058252427184466.\n",
            "[I 2023-07-09 10:57:11,807] Trial 99 finished with value: 0.7864077669902912 and parameters: {'n_estimators': 300, 'max_depth': 10, 'min_samples_split': 3}. Best is trial 14 with value: 0.8058252427184466.\n"
          ]
        },
        {
          "output_type": "stream",
          "name": "stdout",
          "text": [
            "+----------------------+-----------------------------------------------------------------+\n",
            "| Metric               | Value                                                           |\n",
            "+======================+=================================================================+\n",
            "| Best Hyperparameters | {'n_estimators': 1000, 'max_depth': 7, 'min_samples_split': 10} |\n",
            "+----------------------+-----------------------------------------------------------------+\n",
            "| Best Accuracy        | 0.8058252427184466                                              |\n",
            "+----------------------+-----------------------------------------------------------------+\n",
            "| Precision            | 0.7926829268292683                                              |\n",
            "+----------------------+-----------------------------------------------------------------+\n",
            "| F1 Score             | 0.855263157894737                                               |\n",
            "+----------------------+-----------------------------------------------------------------+\n",
            "| Sensitivity          | 0.9285714285714286                                              |\n",
            "+----------------------+-----------------------------------------------------------------+\n",
            "| Specificity          | 0.48484848484848486                                             |\n",
            "+----------------------+-----------------------------------------------------------------+\n",
            "| AUC-ROC              | 0.7043290043290042                                              |\n",
            "+----------------------+-----------------------------------------------------------------+\n"
          ]
        }
      ],
      "source": [
        "# Defining the objective function to optimize\n",
        "def objective(trial):\n",
        "    # Define the hyperparameters to tune\n",
        "    n_estimators = trial.suggest_int('n_estimators', 100, 1000, step=100)\n",
        "    max_depth = trial.suggest_int('max_depth', 3, 20)\n",
        "    min_samples_split = trial.suggest_int('min_samples_split', 2, 10)\n",
        "\n",
        "    # Initializing the model with the hyperparameters\n",
        "    model = RandomForestClassifier(\n",
        "        n_estimators=n_estimators,\n",
        "        max_depth=max_depth,\n",
        "        min_samples_split=min_samples_split,\n",
        "        random_state=42\n",
        "    )\n",
        "\n",
        "    # Fitting the model on the training data\n",
        "    model.fit(train1_x, train1_y)\n",
        "\n",
        "    # Predicting on the test data\n",
        "    predict = model.predict(test1_x)\n",
        "\n",
        "    # Calculating and returning the accuracy score\n",
        "    accuracy = accuracy_score(test1_y, predict)\n",
        "    return accuracy\n",
        "\n",
        "# Running the optimization\n",
        "study = optuna.create_study(direction='maximize')\n",
        "study.optimize(objective, n_trials=100)\n",
        "\n",
        "# Let's print the best hyperparameters and their corresponding accuracy\n",
        "best_params1 = study.best_params\n",
        "best_accuracy1 = study.best_value\n",
        "\n",
        "# Accuracy\n",
        "accuracy5 = accuracy_score(test1_y, predict)\n",
        "\n",
        "# Precision\n",
        "precision5 = precision_score(test1_y, predict)\n",
        "\n",
        "# Recall\n",
        "recall5 = recall_score(test1_y, predict)\n",
        "\n",
        "# F1 Score\n",
        "f15 = f1_score(test1_y, predict)\n",
        "\n",
        "# Confusion Matrix\n",
        "conf_matrix = confusion_matrix(test1_y, predict)\n",
        "true_negative, false_positive, false_negative, true_positive = conf_matrix.ravel()\n",
        "\n",
        "# Sensitivity (True Positive Rate or Recall)\n",
        "sensitivity5 = true_positive / (true_positive + false_negative)\n",
        "\n",
        "# Specificity (True Negative Rate)\n",
        "specificity5 = true_negative / (true_negative + false_positive)\n",
        "\n",
        "# Area Under the ROC Curve (AUC-ROC)\n",
        "probabilities = model.predict_proba(test1_x)[:, 1]\n",
        "auc_roc5 = roc_auc_score(test1_y, probabilities)\n",
        "\n",
        "# Create the table\n",
        "\n",
        "table_data = [\n",
        "    [\"Best Hyperparameters\", best_params1],\n",
        "    [\"Best Accuracy\", best_accuracy1],\n",
        "    [\"Precision\", precision5],\n",
        "    [\"F1 Score\", f15],\n",
        "    [\"Sensitivity\", sensitivity5],\n",
        "    [\"Specificity\", specificity5],\n",
        "    [\"AUC-ROC\", auc_roc5]\n",
        "]\n",
        "\n",
        "\n",
        "# Print the table\n",
        "print(tabulate(table_data, headers=[\"Metric\", \"Value\"], tablefmt=\"grid\"))"
      ]
    },
    {
      "cell_type": "code",
      "execution_count": null,
      "metadata": {
        "colab": {
          "base_uri": "https://localhost:8080/"
        },
        "id": "ngF6qdCnVyy8",
        "outputId": "0fa24004-4e79-485a-f0b0-8fb0afb267b2"
      },
      "outputs": [
        {
          "output_type": "stream",
          "name": "stderr",
          "text": [
            "[I 2023-07-09 10:57:11,842] A new study created in memory with name: no-name-6067950d-90d5-4063-96bf-1dba21b7574e\n",
            "[I 2023-07-09 10:57:13,482] Trial 0 finished with value: 0.8252427184466019 and parameters: {'n_estimators': 600, 'max_depth': 9, 'min_samples_split': 5}. Best is trial 0 with value: 0.8252427184466019.\n",
            "[I 2023-07-09 10:57:13,719] Trial 1 finished with value: 0.7864077669902912 and parameters: {'n_estimators': 100, 'max_depth': 10, 'min_samples_split': 10}. Best is trial 0 with value: 0.8252427184466019.\n",
            "[I 2023-07-09 10:57:16,819] Trial 2 finished with value: 0.8252427184466019 and parameters: {'n_estimators': 800, 'max_depth': 10, 'min_samples_split': 4}. Best is trial 0 with value: 0.8252427184466019.\n",
            "[I 2023-07-09 10:57:20,664] Trial 3 finished with value: 0.8155339805825242 and parameters: {'n_estimators': 1000, 'max_depth': 9, 'min_samples_split': 5}. Best is trial 0 with value: 0.8252427184466019.\n",
            "[I 2023-07-09 10:57:22,299] Trial 4 finished with value: 0.8446601941747572 and parameters: {'n_estimators': 300, 'max_depth': 11, 'min_samples_split': 6}. Best is trial 4 with value: 0.8446601941747572.\n",
            "[I 2023-07-09 10:57:23,409] Trial 5 finished with value: 0.8252427184466019 and parameters: {'n_estimators': 200, 'max_depth': 10, 'min_samples_split': 4}. Best is trial 4 with value: 0.8446601941747572.\n",
            "[I 2023-07-09 10:57:27,760] Trial 6 finished with value: 0.7864077669902912 and parameters: {'n_estimators': 900, 'max_depth': 7, 'min_samples_split': 8}. Best is trial 4 with value: 0.8446601941747572.\n",
            "[I 2023-07-09 10:57:34,383] Trial 7 finished with value: 0.8543689320388349 and parameters: {'n_estimators': 1000, 'max_depth': 16, 'min_samples_split': 2}. Best is trial 7 with value: 0.8543689320388349.\n",
            "[I 2023-07-09 10:57:39,769] Trial 8 finished with value: 0.8543689320388349 and parameters: {'n_estimators': 900, 'max_depth': 21, 'min_samples_split': 4}. Best is trial 7 with value: 0.8543689320388349.\n",
            "[I 2023-07-09 10:57:46,562] Trial 9 finished with value: 0.8155339805825242 and parameters: {'n_estimators': 700, 'max_depth': 21, 'min_samples_split': 7}. Best is trial 7 with value: 0.8543689320388349.\n",
            "[I 2023-07-09 10:57:49,048] Trial 10 finished with value: 0.8543689320388349 and parameters: {'n_estimators': 400, 'max_depth': 16, 'min_samples_split': 2}. Best is trial 7 with value: 0.8543689320388349.\n",
            "[I 2023-07-09 10:57:54,075] Trial 11 finished with value: 0.8640776699029126 and parameters: {'n_estimators': 1000, 'max_depth': 24, 'min_samples_split': 2}. Best is trial 11 with value: 0.8640776699029126.\n",
            "[I 2023-07-09 10:57:58,012] Trial 12 finished with value: 0.8640776699029126 and parameters: {'n_estimators': 1000, 'max_depth': 25, 'min_samples_split': 2}. Best is trial 11 with value: 0.8640776699029126.\n",
            "[I 2023-07-09 10:57:59,819] Trial 13 finished with value: 0.8543689320388349 and parameters: {'n_estimators': 700, 'max_depth': 25, 'min_samples_split': 2}. Best is trial 11 with value: 0.8640776699029126.\n",
            "[I 2023-07-09 10:58:01,111] Trial 14 finished with value: 0.8543689320388349 and parameters: {'n_estimators': 500, 'max_depth': 25, 'min_samples_split': 3}. Best is trial 11 with value: 0.8640776699029126.\n",
            "[I 2023-07-09 10:58:03,644] Trial 15 finished with value: 0.8543689320388349 and parameters: {'n_estimators': 1000, 'max_depth': 21, 'min_samples_split': 3}. Best is trial 11 with value: 0.8640776699029126.\n",
            "[I 2023-07-09 10:58:05,181] Trial 16 finished with value: 0.7766990291262136 and parameters: {'n_estimators': 800, 'max_depth': 3, 'min_samples_split': 9}. Best is trial 11 with value: 0.8640776699029126.\n",
            "[I 2023-07-09 10:58:07,189] Trial 17 finished with value: 0.8543689320388349 and parameters: {'n_estimators': 800, 'max_depth': 23, 'min_samples_split': 6}. Best is trial 11 with value: 0.8640776699029126.\n",
            "[I 2023-07-09 10:58:09,127] Trial 18 finished with value: 0.8543689320388349 and parameters: {'n_estimators': 600, 'max_depth': 18, 'min_samples_split': 3}. Best is trial 11 with value: 0.8640776699029126.\n",
            "[I 2023-07-09 10:58:12,175] Trial 19 finished with value: 0.8543689320388349 and parameters: {'n_estimators': 900, 'max_depth': 19, 'min_samples_split': 2}. Best is trial 11 with value: 0.8640776699029126.\n",
            "[I 2023-07-09 10:58:13,969] Trial 20 finished with value: 0.8543689320388349 and parameters: {'n_estimators': 700, 'max_depth': 23, 'min_samples_split': 3}. Best is trial 11 with value: 0.8640776699029126.\n",
            "[I 2023-07-09 10:58:16,484] Trial 21 finished with value: 0.8543689320388349 and parameters: {'n_estimators': 1000, 'max_depth': 14, 'min_samples_split': 2}. Best is trial 11 with value: 0.8640776699029126.\n",
            "[I 2023-07-09 10:58:18,977] Trial 22 finished with value: 0.8543689320388349 and parameters: {'n_estimators': 1000, 'max_depth': 13, 'min_samples_split': 2}. Best is trial 11 with value: 0.8640776699029126.\n",
            "[I 2023-07-09 10:58:21,335] Trial 23 finished with value: 0.8543689320388349 and parameters: {'n_estimators': 900, 'max_depth': 18, 'min_samples_split': 3}. Best is trial 11 with value: 0.8640776699029126.\n",
            "[I 2023-07-09 10:58:24,954] Trial 24 finished with value: 0.8543689320388349 and parameters: {'n_estimators': 1000, 'max_depth': 24, 'min_samples_split': 4}. Best is trial 11 with value: 0.8640776699029126.\n",
            "[I 2023-07-09 10:58:26,968] Trial 25 finished with value: 0.8543689320388349 and parameters: {'n_estimators': 800, 'max_depth': 16, 'min_samples_split': 5}. Best is trial 11 with value: 0.8640776699029126.\n",
            "[I 2023-07-09 10:58:29,264] Trial 26 finished with value: 0.8640776699029126 and parameters: {'n_estimators': 900, 'max_depth': 20, 'min_samples_split': 2}. Best is trial 11 with value: 0.8640776699029126.\n",
            "[I 2023-07-09 10:58:31,552] Trial 27 finished with value: 0.8543689320388349 and parameters: {'n_estimators': 900, 'max_depth': 22, 'min_samples_split': 3}. Best is trial 11 with value: 0.8640776699029126.\n",
            "[I 2023-07-09 10:58:34,444] Trial 28 finished with value: 0.8349514563106796 and parameters: {'n_estimators': 900, 'max_depth': 19, 'min_samples_split': 7}. Best is trial 11 with value: 0.8640776699029126.\n",
            "[I 2023-07-09 10:58:39,097] Trial 29 finished with value: 0.8543689320388349 and parameters: {'n_estimators': 500, 'max_depth': 25, 'min_samples_split': 5}. Best is trial 11 with value: 0.8640776699029126.\n",
            "[I 2023-07-09 10:58:43,117] Trial 30 finished with value: 0.8543689320388349 and parameters: {'n_estimators': 700, 'max_depth': 23, 'min_samples_split': 4}. Best is trial 11 with value: 0.8640776699029126.\n",
            "[I 2023-07-09 10:58:46,906] Trial 31 finished with value: 0.8543689320388349 and parameters: {'n_estimators': 1000, 'max_depth': 16, 'min_samples_split': 2}. Best is trial 11 with value: 0.8640776699029126.\n",
            "[I 2023-07-09 10:58:50,429] Trial 32 finished with value: 0.8640776699029126 and parameters: {'n_estimators': 1000, 'max_depth': 20, 'min_samples_split': 2}. Best is trial 11 with value: 0.8640776699029126.\n",
            "[I 2023-07-09 10:58:52,977] Trial 33 finished with value: 0.8543689320388349 and parameters: {'n_estimators': 900, 'max_depth': 19, 'min_samples_split': 3}. Best is trial 11 with value: 0.8640776699029126.\n",
            "[I 2023-07-09 10:58:55,032] Trial 34 finished with value: 0.8543689320388349 and parameters: {'n_estimators': 800, 'max_depth': 22, 'min_samples_split': 2}. Best is trial 11 with value: 0.8640776699029126.\n",
            "[I 2023-07-09 10:58:57,804] Trial 35 finished with value: 0.8543689320388349 and parameters: {'n_estimators': 1000, 'max_depth': 20, 'min_samples_split': 3}. Best is trial 11 with value: 0.8640776699029126.\n",
            "[I 2023-07-09 10:58:58,095] Trial 36 finished with value: 0.8640776699029126 and parameters: {'n_estimators': 100, 'max_depth': 24, 'min_samples_split': 4}. Best is trial 11 with value: 0.8640776699029126.\n",
            "[I 2023-07-09 10:59:00,310] Trial 37 finished with value: 0.8058252427184466 and parameters: {'n_estimators': 900, 'max_depth': 22, 'min_samples_split': 10}. Best is trial 11 with value: 0.8640776699029126.\n",
            "[I 2023-07-09 10:59:03,796] Trial 38 finished with value: 0.8543689320388349 and parameters: {'n_estimators': 1000, 'max_depth': 24, 'min_samples_split': 5}. Best is trial 11 with value: 0.8640776699029126.\n",
            "[I 2023-07-09 10:59:06,033] Trial 39 finished with value: 0.8543689320388349 and parameters: {'n_estimators': 800, 'max_depth': 20, 'min_samples_split': 2}. Best is trial 11 with value: 0.8640776699029126.\n",
            "[I 2023-07-09 10:59:06,813] Trial 40 finished with value: 0.8543689320388349 and parameters: {'n_estimators': 300, 'max_depth': 17, 'min_samples_split': 4}. Best is trial 11 with value: 0.8640776699029126.\n",
            "[I 2023-07-09 10:59:07,096] Trial 41 finished with value: 0.8737864077669902 and parameters: {'n_estimators': 100, 'max_depth': 24, 'min_samples_split': 2}. Best is trial 41 with value: 0.8737864077669902.\n",
            "[I 2023-07-09 10:59:07,378] Trial 42 finished with value: 0.8737864077669902 and parameters: {'n_estimators': 100, 'max_depth': 25, 'min_samples_split': 2}. Best is trial 41 with value: 0.8737864077669902.\n",
            "[I 2023-07-09 10:59:07,661] Trial 43 finished with value: 0.8737864077669902 and parameters: {'n_estimators': 100, 'max_depth': 25, 'min_samples_split': 2}. Best is trial 41 with value: 0.8737864077669902.\n",
            "[I 2023-07-09 10:59:07,938] Trial 44 finished with value: 0.8640776699029126 and parameters: {'n_estimators': 100, 'max_depth': 25, 'min_samples_split': 3}. Best is trial 41 with value: 0.8737864077669902.\n",
            "[I 2023-07-09 10:59:08,484] Trial 45 finished with value: 0.8737864077669902 and parameters: {'n_estimators': 200, 'max_depth': 24, 'min_samples_split': 2}. Best is trial 41 with value: 0.8737864077669902.\n",
            "[I 2023-07-09 10:59:09,013] Trial 46 finished with value: 0.8543689320388349 and parameters: {'n_estimators': 200, 'max_depth': 23, 'min_samples_split': 3}. Best is trial 41 with value: 0.8737864077669902.\n",
            "[I 2023-07-09 10:59:09,478] Trial 47 finished with value: 0.7961165048543689 and parameters: {'n_estimators': 200, 'max_depth': 6, 'min_samples_split': 2}. Best is trial 41 with value: 0.8737864077669902.\n",
            "[I 2023-07-09 10:59:10,009] Trial 48 finished with value: 0.8737864077669902 and parameters: {'n_estimators': 200, 'max_depth': 24, 'min_samples_split': 2}. Best is trial 41 with value: 0.8737864077669902.\n",
            "[I 2023-07-09 10:59:10,552] Trial 49 finished with value: 0.8543689320388349 and parameters: {'n_estimators': 200, 'max_depth': 22, 'min_samples_split': 3}. Best is trial 41 with value: 0.8737864077669902.\n",
            "[I 2023-07-09 10:59:10,820] Trial 50 finished with value: 0.8446601941747572 and parameters: {'n_estimators': 100, 'max_depth': 24, 'min_samples_split': 8}. Best is trial 41 with value: 0.8737864077669902.\n",
            "[I 2023-07-09 10:59:11,611] Trial 51 finished with value: 0.8640776699029126 and parameters: {'n_estimators': 300, 'max_depth': 24, 'min_samples_split': 2}. Best is trial 41 with value: 0.8737864077669902.\n",
            "[I 2023-07-09 10:59:12,148] Trial 52 finished with value: 0.8737864077669902 and parameters: {'n_estimators': 200, 'max_depth': 25, 'min_samples_split': 2}. Best is trial 41 with value: 0.8737864077669902.\n",
            "[I 2023-07-09 10:59:12,702] Trial 53 finished with value: 0.8737864077669902 and parameters: {'n_estimators': 200, 'max_depth': 25, 'min_samples_split': 2}. Best is trial 41 with value: 0.8737864077669902.\n",
            "[I 2023-07-09 10:59:12,991] Trial 54 finished with value: 0.8640776699029126 and parameters: {'n_estimators': 100, 'max_depth': 23, 'min_samples_split': 3}. Best is trial 41 with value: 0.8737864077669902.\n",
            "[I 2023-07-09 10:59:13,801] Trial 55 finished with value: 0.8640776699029126 and parameters: {'n_estimators': 300, 'max_depth': 25, 'min_samples_split': 2}. Best is trial 41 with value: 0.8737864077669902.\n",
            "[I 2023-07-09 10:59:14,420] Trial 56 finished with value: 0.8543689320388349 and parameters: {'n_estimators': 200, 'max_depth': 21, 'min_samples_split': 6}. Best is trial 41 with value: 0.8737864077669902.\n",
            "[I 2023-07-09 10:59:14,853] Trial 57 finished with value: 0.8737864077669902 and parameters: {'n_estimators': 100, 'max_depth': 23, 'min_samples_split': 2}. Best is trial 41 with value: 0.8737864077669902.\n",
            "[I 2023-07-09 10:59:16,428] Trial 58 finished with value: 0.8349514563106796 and parameters: {'n_estimators': 400, 'max_depth': 12, 'min_samples_split': 3}. Best is trial 41 with value: 0.8737864077669902.\n",
            "[I 2023-07-09 10:59:16,888] Trial 59 finished with value: 0.8737864077669902 and parameters: {'n_estimators': 100, 'max_depth': 24, 'min_samples_split': 2}. Best is trial 41 with value: 0.8737864077669902.\n",
            "[I 2023-07-09 10:59:18,105] Trial 60 finished with value: 0.8543689320388349 and parameters: {'n_estimators': 400, 'max_depth': 22, 'min_samples_split': 3}. Best is trial 41 with value: 0.8737864077669902.\n",
            "[I 2023-07-09 10:59:18,642] Trial 61 finished with value: 0.8737864077669902 and parameters: {'n_estimators': 200, 'max_depth': 25, 'min_samples_split': 2}. Best is trial 41 with value: 0.8737864077669902.\n",
            "[I 2023-07-09 10:59:19,416] Trial 62 finished with value: 0.8640776699029126 and parameters: {'n_estimators': 300, 'max_depth': 25, 'min_samples_split': 2}. Best is trial 41 with value: 0.8737864077669902.\n",
            "[I 2023-07-09 10:59:19,956] Trial 63 finished with value: 0.8737864077669902 and parameters: {'n_estimators': 200, 'max_depth': 24, 'min_samples_split': 2}. Best is trial 41 with value: 0.8737864077669902.\n",
            "[I 2023-07-09 10:59:20,497] Trial 64 finished with value: 0.8543689320388349 and parameters: {'n_estimators': 200, 'max_depth': 25, 'min_samples_split': 3}. Best is trial 41 with value: 0.8737864077669902.\n",
            "[I 2023-07-09 10:59:20,804] Trial 65 finished with value: 0.8737864077669902 and parameters: {'n_estimators': 100, 'max_depth': 23, 'min_samples_split': 2}. Best is trial 41 with value: 0.8737864077669902.\n",
            "[I 2023-07-09 10:59:21,337] Trial 66 finished with value: 0.8737864077669902 and parameters: {'n_estimators': 200, 'max_depth': 25, 'min_samples_split': 2}. Best is trial 41 with value: 0.8737864077669902.\n",
            "[I 2023-07-09 10:59:22,115] Trial 67 finished with value: 0.8543689320388349 and parameters: {'n_estimators': 300, 'max_depth': 21, 'min_samples_split': 4}. Best is trial 41 with value: 0.8737864077669902.\n",
            "[I 2023-07-09 10:59:22,379] Trial 68 finished with value: 0.8155339805825242 and parameters: {'n_estimators': 100, 'max_depth': 8, 'min_samples_split': 3}. Best is trial 41 with value: 0.8737864077669902.\n",
            "[I 2023-07-09 10:59:22,679] Trial 69 finished with value: 0.8737864077669902 and parameters: {'n_estimators': 100, 'max_depth': 23, 'min_samples_split': 2}. Best is trial 41 with value: 0.8737864077669902.\n",
            "[I 2023-07-09 10:59:23,213] Trial 70 finished with value: 0.8737864077669902 and parameters: {'n_estimators': 200, 'max_depth': 24, 'min_samples_split': 2}. Best is trial 41 with value: 0.8737864077669902.\n",
            "[I 2023-07-09 10:59:23,504] Trial 71 finished with value: 0.8737864077669902 and parameters: {'n_estimators': 100, 'max_depth': 23, 'min_samples_split': 2}. Best is trial 41 with value: 0.8737864077669902.\n",
            "[I 2023-07-09 10:59:23,801] Trial 72 finished with value: 0.8737864077669902 and parameters: {'n_estimators': 100, 'max_depth': 25, 'min_samples_split': 2}. Best is trial 41 with value: 0.8737864077669902.\n",
            "[I 2023-07-09 10:59:24,341] Trial 73 finished with value: 0.8543689320388349 and parameters: {'n_estimators': 200, 'max_depth': 22, 'min_samples_split': 3}. Best is trial 41 with value: 0.8737864077669902.\n",
            "[I 2023-07-09 10:59:24,634] Trial 74 finished with value: 0.8737864077669902 and parameters: {'n_estimators': 100, 'max_depth': 23, 'min_samples_split': 2}. Best is trial 41 with value: 0.8737864077669902.\n",
            "[I 2023-07-09 10:59:25,425] Trial 75 finished with value: 0.8640776699029126 and parameters: {'n_estimators': 300, 'max_depth': 24, 'min_samples_split': 2}. Best is trial 41 with value: 0.8737864077669902.\n",
            "[I 2023-07-09 10:59:25,711] Trial 76 finished with value: 0.8543689320388349 and parameters: {'n_estimators': 100, 'max_depth': 24, 'min_samples_split': 7}. Best is trial 41 with value: 0.8737864077669902.\n",
            "[I 2023-07-09 10:59:26,245] Trial 77 finished with value: 0.8543689320388349 and parameters: {'n_estimators': 200, 'max_depth': 25, 'min_samples_split': 3}. Best is trial 41 with value: 0.8737864077669902.\n",
            "[I 2023-07-09 10:59:26,524] Trial 78 finished with value: 0.8737864077669902 and parameters: {'n_estimators': 100, 'max_depth': 22, 'min_samples_split': 2}. Best is trial 41 with value: 0.8737864077669902.\n",
            "[I 2023-07-09 10:59:27,070] Trial 79 finished with value: 0.8737864077669902 and parameters: {'n_estimators': 200, 'max_depth': 21, 'min_samples_split': 2}. Best is trial 41 with value: 0.8737864077669902.\n",
            "[I 2023-07-09 10:59:28,751] Trial 80 finished with value: 0.7669902912621359 and parameters: {'n_estimators': 600, 'max_depth': 3, 'min_samples_split': 3}. Best is trial 41 with value: 0.8737864077669902.\n",
            "[I 2023-07-09 10:59:29,222] Trial 81 finished with value: 0.8737864077669902 and parameters: {'n_estimators': 100, 'max_depth': 24, 'min_samples_split': 2}. Best is trial 41 with value: 0.8737864077669902.\n",
            "[I 2023-07-09 10:59:29,689] Trial 82 finished with value: 0.8737864077669902 and parameters: {'n_estimators': 100, 'max_depth': 24, 'min_samples_split': 2}. Best is trial 41 with value: 0.8737864077669902.\n",
            "[I 2023-07-09 10:59:30,496] Trial 83 finished with value: 0.8155339805825242 and parameters: {'n_estimators': 200, 'max_depth': 25, 'min_samples_split': 9}. Best is trial 41 with value: 0.8737864077669902.\n",
            "[I 2023-07-09 10:59:30,783] Trial 84 finished with value: 0.8737864077669902 and parameters: {'n_estimators': 100, 'max_depth': 23, 'min_samples_split': 2}. Best is trial 41 with value: 0.8737864077669902.\n",
            "[I 2023-07-09 10:59:31,089] Trial 85 finished with value: 0.8737864077669902 and parameters: {'n_estimators': 100, 'max_depth': 24, 'min_samples_split': 2}. Best is trial 41 with value: 0.8737864077669902.\n",
            "[I 2023-07-09 10:59:31,627] Trial 86 finished with value: 0.8737864077669902 and parameters: {'n_estimators': 200, 'max_depth': 23, 'min_samples_split': 2}. Best is trial 41 with value: 0.8737864077669902.\n",
            "[I 2023-07-09 10:59:33,286] Trial 87 finished with value: 0.8543689320388349 and parameters: {'n_estimators': 300, 'max_depth': 15, 'min_samples_split': 3}. Best is trial 41 with value: 0.8737864077669902.\n",
            "[I 2023-07-09 10:59:34,334] Trial 88 finished with value: 0.8640776699029126 and parameters: {'n_estimators': 400, 'max_depth': 22, 'min_samples_split': 2}. Best is trial 41 with value: 0.8737864077669902.\n",
            "[I 2023-07-09 10:59:34,628] Trial 89 finished with value: 0.8737864077669902 and parameters: {'n_estimators': 100, 'max_depth': 25, 'min_samples_split': 2}. Best is trial 41 with value: 0.8737864077669902.\n",
            "[I 2023-07-09 10:59:35,087] Trial 90 finished with value: 0.7766990291262136 and parameters: {'n_estimators': 200, 'max_depth': 5, 'min_samples_split': 3}. Best is trial 41 with value: 0.8737864077669902.\n",
            "[I 2023-07-09 10:59:35,642] Trial 91 finished with value: 0.8737864077669902 and parameters: {'n_estimators': 200, 'max_depth': 25, 'min_samples_split': 2}. Best is trial 41 with value: 0.8737864077669902.\n",
            "[I 2023-07-09 10:59:36,193] Trial 92 finished with value: 0.8737864077669902 and parameters: {'n_estimators': 200, 'max_depth': 25, 'min_samples_split': 2}. Best is trial 41 with value: 0.8737864077669902.\n",
            "[I 2023-07-09 10:59:36,480] Trial 93 finished with value: 0.8737864077669902 and parameters: {'n_estimators': 100, 'max_depth': 24, 'min_samples_split': 2}. Best is trial 41 with value: 0.8737864077669902.\n",
            "[I 2023-07-09 10:59:37,034] Trial 94 finished with value: 0.8737864077669902 and parameters: {'n_estimators': 200, 'max_depth': 24, 'min_samples_split': 2}. Best is trial 41 with value: 0.8737864077669902.\n",
            "[I 2023-07-09 10:59:37,317] Trial 95 finished with value: 0.8640776699029126 and parameters: {'n_estimators': 100, 'max_depth': 25, 'min_samples_split': 3}. Best is trial 41 with value: 0.8737864077669902.\n",
            "[I 2023-07-09 10:59:38,127] Trial 96 finished with value: 0.8640776699029126 and parameters: {'n_estimators': 300, 'max_depth': 23, 'min_samples_split': 2}. Best is trial 41 with value: 0.8737864077669902.\n",
            "[I 2023-07-09 10:59:38,666] Trial 97 finished with value: 0.8543689320388349 and parameters: {'n_estimators': 200, 'max_depth': 25, 'min_samples_split': 3}. Best is trial 41 with value: 0.8737864077669902.\n",
            "[I 2023-07-09 10:59:38,947] Trial 98 finished with value: 0.8737864077669902 and parameters: {'n_estimators': 100, 'max_depth': 24, 'min_samples_split': 2}. Best is trial 41 with value: 0.8737864077669902.\n",
            "[I 2023-07-09 10:59:39,465] Trial 99 finished with value: 0.8252427184466019 and parameters: {'n_estimators': 200, 'max_depth': 10, 'min_samples_split': 2}. Best is trial 41 with value: 0.8737864077669902.\n"
          ]
        },
        {
          "output_type": "stream",
          "name": "stdout",
          "text": [
            "+----------------------+----------------------------------------------------------------+\n",
            "| Metric               | Value                                                          |\n",
            "+======================+================================================================+\n",
            "| Best Hyperparameters | {'n_estimators': 100, 'max_depth': 24, 'min_samples_split': 2} |\n",
            "+----------------------+----------------------------------------------------------------+\n",
            "| Best Accuracy        | 0.8737864077669902                                             |\n",
            "+----------------------+----------------------------------------------------------------+\n",
            "| Precision            | 0.6463414634146342                                             |\n",
            "+----------------------+----------------------------------------------------------------+\n",
            "| F1 Score             | 0.7162162162162163                                             |\n",
            "+----------------------+----------------------------------------------------------------+\n",
            "| Sensitivity          | 0.803030303030303                                              |\n",
            "+----------------------+----------------------------------------------------------------+\n",
            "| Specificity          | 0.21621621621621623                                            |\n",
            "+----------------------+----------------------------------------------------------------+\n"
          ]
        }
      ],
      "source": [
        "# With important features accuracy inreased by almost 5% for RandomForestClassifier post hyperparameter tuning using Optuna.\n",
        "\n",
        "# Defining the objective function to optimize\n",
        "def objective(trial):\n",
        "    # Define the hyperparameters to tune\n",
        "    n_estimators = trial.suggest_int('n_estimators', 100, 1000, step=100)\n",
        "    max_depth = trial.suggest_int('max_depth', 3, 25)\n",
        "    min_samples_split = trial.suggest_int('min_samples_split', 2, 10)\n",
        "\n",
        "    # Initializing the model with the hyperparameters\n",
        "    model = RandomForestClassifier(\n",
        "        n_estimators=n_estimators,\n",
        "        max_depth=max_depth,\n",
        "        min_samples_split=min_samples_split,\n",
        "        random_state=42\n",
        "    )\n",
        "\n",
        "    # Fitting the model on the training data\n",
        "    model.fit(M_train, n_train)\n",
        "\n",
        "    # Predicting on the test data\n",
        "    predict = model.predict(M_test)\n",
        "\n",
        "    # Calculating and returning the accuracy score\n",
        "    accuracy = accuracy_score(n_test, predict)\n",
        "    return accuracy\n",
        "\n",
        "# Running the optimization\n",
        "study = optuna.create_study(direction='maximize')\n",
        "study.optimize(objective, n_trials=100)\n",
        "\n",
        "# Let's print the best hyperparameters and their corresponding accuracy\n",
        "best_params2 = study.best_params\n",
        "best_accuracy2 = study.best_value\n",
        "\n",
        "# Accuracy\n",
        "accuracy6 = accuracy_score(n_test, predict)\n",
        "\n",
        "# Precision\n",
        "precision6 = precision_score(n_test, predict)\n",
        "\n",
        "\n",
        "# F1 Score\n",
        "f16 = f1_score(n_test, predict)\n",
        "\n",
        "# Confusion Matrix\n",
        "conf_matrix = confusion_matrix(n_test, predict)\n",
        "true_negative, false_positive, false_negative, true_positive = conf_matrix.ravel()\n",
        "\n",
        "# Sensitivity (True Positive Rate or Recall)\n",
        "sensitivity6 = true_positive / (true_positive + false_negative)\n",
        "\n",
        "# Specificity (True Negative Rate)\n",
        "specificity6 = true_negative / (true_negative + false_positive)\n",
        "\n",
        "\n",
        "\n",
        "# Create the table\n",
        "\n",
        "table_data = [\n",
        "    [\"Best Hyperparameters\", best_params2],\n",
        "    [\"Best Accuracy\", best_accuracy2],\n",
        "    [\"Precision\", precision6],\n",
        "    [\"F1 Score\", f16],\n",
        "    [\"Sensitivity\", sensitivity6],\n",
        "    [\"Specificity\", specificity6],\n",
        "\n",
        "]\n",
        "\n",
        "\n",
        "# Print the table\n",
        "print(tabulate(table_data, headers=[\"Metric\", \"Value\"], tablefmt=\"grid\"))"
      ]
    },
    {
      "cell_type": "code",
      "execution_count": null,
      "metadata": {
        "colab": {
          "base_uri": "https://localhost:8080/"
        },
        "id": "NeEFRQdEVyy8",
        "outputId": "9f2703ad-da42-4b15-ba2c-2079f26bf03e"
      },
      "outputs": [
        {
          "output_type": "stream",
          "name": "stdout",
          "text": [
            "\n",
            "\n",
            "Accuracy Score on test data (Naive Bayes): \n",
            "\n",
            "\n",
            "0.6504854368932039\n"
          ]
        }
      ],
      "source": [
        "# Applying Naive Bayes.\n",
        "\n",
        "\n",
        "model_nb = GaussianNB()\n",
        "model_nb.fit(train1_x, train1_y)\n",
        "predict_nb = model_nb.predict(test1_x)\n",
        "accuracy7 = accuracy_score(test1_y, predict_nb)\n",
        "print('\\n\\nAccuracy Score on test data (Naive Bayes): \\n\\n')\n",
        "print(accuracy_score(test1_y, predict_nb))\n"
      ]
    },
    {
      "cell_type": "code",
      "execution_count": null,
      "metadata": {
        "colab": {
          "base_uri": "https://localhost:8080/"
        },
        "id": "qJn2AtPPVyy8",
        "outputId": "2890feed-26f0-427d-8219-1734b6d092f2"
      },
      "outputs": [
        {
          "output_type": "stream",
          "name": "stdout",
          "text": [
            "+-------------+----------+\n",
            "| Metric      |    Value |\n",
            "+=============+==========+\n",
            "| Accuracy    | 0.76699  |\n",
            "+-------------+----------+\n",
            "| Precision   | 0.762887 |\n",
            "+-------------+----------+\n",
            "| F1 Score    | 0.860465 |\n",
            "+-------------+----------+\n",
            "| Sensitivity | 0.986667 |\n",
            "+-------------+----------+\n",
            "| Specificity | 0.178571 |\n",
            "+-------------+----------+\n",
            "| AUC-ROC     | 0.675714 |\n",
            "+-------------+----------+\n"
          ]
        }
      ],
      "source": [
        "# With important features accuracy inreased  for Naive Bayes.\n",
        "M = df1[['EMI/NMI', 'sumofincome', 'EMI','credit_history', 'loanamount', 'dependents']]\n",
        "n = df1['loan_status']\n",
        "\n",
        "# Splitting the data into training and testing sets\n",
        "M_train, M_test, n_train, n_test = train_test_split(M, n, test_size=0.1, random_state=1000)\n",
        "\n",
        "# Creating a linear regression model\n",
        "model300 = GaussianNB()\n",
        "\n",
        "# Training the model\n",
        "model300.fit(M_train, n_train)\n",
        "\n",
        "# Predicting\n",
        "predict300=model300.predict(M_test)\n",
        "\n",
        "\n",
        "# Accuracy\n",
        "accuracy8 = accuracy_score(n_test, predict300)\n",
        "\n",
        "# Precision\n",
        "precision8 = precision_score(n_test, predict300)\n",
        "\n",
        "\n",
        "\n",
        "# F1 Score\n",
        "f18 = f1_score(n_test, predict300)\n",
        "\n",
        "# Confusion Matrix\n",
        "conf_matrix = confusion_matrix(n_test, predict300)\n",
        "true_negative, false_positive, false_negative, true_positive = conf_matrix.ravel()\n",
        "\n",
        "# Sensitivity (True Positive Rate or Recall)\n",
        "sensitivity8 = true_positive / (true_positive + false_negative)\n",
        "\n",
        "# Specificity (True Negative Rate)\n",
        "specificity8 = true_negative / (true_negative + false_positive)\n",
        "\n",
        "# Area Under the ROC Curve (AUC-ROC)\n",
        "probabilities = model300.predict_proba(M_test)[:, 1]\n",
        "auc_roc8 = roc_auc_score(n_test, probabilities)\n",
        "table_data = [\n",
        "    [\"Accuracy\", accuracy8],\n",
        "    [\"Precision\", precision8],\n",
        "    [\"F1 Score\", f18],\n",
        "    [\"Sensitivity\", sensitivity8],\n",
        "    [\"Specificity\", specificity8],\n",
        "    [\"AUC-ROC\", auc_roc8]\n",
        "]\n",
        "\n",
        "print(tabulate(table_data, headers=[\"Metric\", \"Value\"], tablefmt=\"grid\"))\n"
      ]
    },
    {
      "cell_type": "code",
      "execution_count": null,
      "metadata": {
        "colab": {
          "base_uri": "https://localhost:8080/"
        },
        "id": "C_gwYmMBVyy8",
        "outputId": "a4698cf3-bbed-40a1-e67c-04837377e847"
      },
      "outputs": [
        {
          "output_type": "stream",
          "name": "stdout",
          "text": [
            "Requirement already satisfied: prettytable in /usr/local/lib/python3.10/dist-packages (0.7.2)\n",
            "+-------+---------------------------------------+-------------+-------------+-------------+----------+-------------+\n",
            "| SL NO |               MODEL_NAME              | AccuracyAll | AccuracyImp | Sensitivity | F1 Score | Specificity |\n",
            "+-------+---------------------------------------+-------------+-------------+-------------+----------+-------------+\n",
            "|   1   |          Logistic Regression          |     0.79    |     0.83    |     1.0     |   0.9    |     0.39    |\n",
            "|   2   |        Random Forest Classifier       |     0.79    |     0.87    |     0.98    |   0.91   |     0.68    |\n",
            "|   2   | Random Forest Classifier using optuna |     0.81    |     0.87    |     0.8     |   0.72   |     0.22    |\n",
            "|   3   |              Naive Bayes              |     0.65    |     0.77    |     0.99    |   0.86   |     0.18    |\n",
            "+-------+---------------------------------------+-------------+-------------+-------------+----------+-------------+\n"
          ]
        }
      ],
      "source": [
        "! pip install prettytable\n",
        "from prettytable import PrettyTable\n",
        "\n",
        "# Define the rounded values\n",
        "accuracy1_rounded = round(accuracy1, 2)\n",
        "accuracy2_rounded = round(accuracy2, 2)\n",
        "sensitivity2_rounded = round(sensitivity2, 2)\n",
        "F12_rounded = round(f12, 2)\n",
        "specificity2_rounded = round(specificity2, 2)\n",
        "\n",
        "accuracy3_rounded = round(accuracy3, 2)\n",
        "accuracy4_rounded = round(accuracy4, 2)\n",
        "sensitivity4_rounded = round(sensitivity4, 2)\n",
        "F14_rounded = round(f14, 2)\n",
        "specificity4_rounded = round(specificity4, 2)\n",
        "\n",
        "best_accuracy1_rounded = round(best_accuracy1, 2)\n",
        "best_accuracy2_rounded = round(best_accuracy2, 2)\n",
        "sensitivity6_rounded = round(sensitivity6, 2)\n",
        "F16_rounded = round(f16, 2)\n",
        "specificity6_rounded = round(specificity6, 2)\n",
        "\n",
        "accuracy7_rounded = round(accuracy7, 2)\n",
        "accuracy8_rounded = round(accuracy8, 2)\n",
        "sensitivity8_rounded = round(sensitivity8, 2)\n",
        "F18_rounded = round(f18, 2)\n",
        "specificity8_rounded = round(specificity8, 2)\n",
        "\n",
        "# Create the table\n",
        "table = PrettyTable(['SL NO',\"MODEL_NAME\", \"AccuracyAll\",\"AccuracyImp\",'Sensitivity','F1 Score','Specificity'])\n",
        "table.add_row(['1','Logistic Regression', accuracy1_rounded, accuracy2_rounded, sensitivity2_rounded, F12_rounded, specificity2_rounded])\n",
        "table.add_row(['2','Random Forest Classifier', accuracy3_rounded, accuracy4_rounded, sensitivity4_rounded, F14_rounded, specificity4_rounded])\n",
        "table.add_row(['2','Random Forest Classifier using optuna', best_accuracy1_rounded, best_accuracy2_rounded, sensitivity6_rounded, F16_rounded, specificity6_rounded])\n",
        "table.add_row(['3','Naive Bayes', accuracy7_rounded, accuracy8_rounded, sensitivity8_rounded, F18_rounded, specificity8_rounded])\n",
        "\n",
        "# Print the table\n",
        "print(table)\n"
      ]
    },
    {
      "cell_type": "markdown",
      "metadata": {
        "id": "wVnNHWiqVyy8"
      },
      "source": [
        "Our analysis leads us to the conclusion that, without employing Optuna, the Random Forest classifier performs favorably by considering important features. It achieves high accuracy (0.87) and specificity (0.68), accurately identifying negative instances, which is critical for our analysis"
      ]
    }
  ],
  "metadata": {
    "kernelspec": {
      "display_name": "Python 3 (ipykernel)",
      "language": "python",
      "name": "python3"
    },
    "language_info": {
      "codemirror_mode": {
        "name": "ipython",
        "version": 3
      },
      "file_extension": ".py",
      "mimetype": "text/x-python",
      "name": "python",
      "nbconvert_exporter": "python",
      "pygments_lexer": "ipython3",
      "version": "3.9.7"
    },
    "colab": {
      "provenance": []
    }
  },
  "nbformat": 4,
  "nbformat_minor": 0
}